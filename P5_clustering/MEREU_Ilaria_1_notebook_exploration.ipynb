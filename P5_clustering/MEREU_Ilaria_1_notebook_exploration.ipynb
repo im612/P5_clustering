{
 "cells": [
  {
   "cell_type": "markdown",
   "id": "14KOdvQYcF8A",
   "metadata": {
    "id": "14KOdvQYcF8A",
    "pycharm": {
     "name": "#%% md\n"
    }
   },
   "source": []
  },
  {
   "cell_type": "code",
   "execution_count": 30,
   "id": "20728f86-142d-418e-9772-daaac3ca192d",
   "metadata": {
    "id": "20728f86-142d-418e-9772-daaac3ca192d",
    "pycharm": {
     "name": "#%%\n"
    }
   },
   "outputs": [],
   "source": [
    "#Inizializzazione\n",
    "import pandas as pd\n",
    "import numpy as np\n",
    "import datetime\n",
    "import commun"
   ]
  },
  {
   "cell_type": "markdown",
   "source": [
    "# 1.1. Définition de la fonction de nettoyage générique d'un DataFrame\n",
    "Élimine lignes et colonnes vides et dupliquées\n"
   ],
   "metadata": {
    "id": "SOeBAwxbVaFu",
    "pycharm": {
     "name": "#%% md\n"
    }
   },
   "id": "SOeBAwxbVaFu"
  },
  {
   "cell_type": "code",
   "execution_count": 31,
   "id": "98f736df-8fe6-4fac-b739-ddc9ffc8f50f",
   "metadata": {
    "pycharm": {
     "name": "#%%\n"
    },
    "id": "98f736df-8fe6-4fac-b739-ddc9ffc8f50f"
   },
   "outputs": [],
   "source": [
    "#1.1 Fonction de nettoyage des df\n",
    "\n",
    "def nettoyage(df_to_clean, label):\n",
    "    print(\"Nettoyage du jeu de données: \\\"%s\\\" \" % label)\n",
    "    llignes1, lcols1 = df_to_clean.shape\n",
    "    print(llignes1, lcols1)\n",
    "    df_to_clean_nac = df_to_clean.dropna(axis=1, how='all')\n",
    "    llignes2, lcols2 = df_to_clean_nac.shape\n",
    "    print(\"Après dropna, cols:\", llignes2, lcols2)\n",
    "    print(\"Colonnes de moins:\\n\", lcols1 - lcols2)\n",
    "\n",
    "    df_to_clean_nacl = df_to_clean_nac.dropna(axis=0, how='all')\n",
    "    llignes3, lcols3 = df_to_clean_nacl.shape\n",
    "    print(\"Après dropna, lignes:\", llignes3, lcols3)\n",
    "    print(\"Lignes de moins:\\n\", llignes2 - llignes3)\n",
    "\n",
    "    df_clean = df_to_clean_nacl.drop_duplicates()\n",
    "    llignes4, lcols4 = df_clean.shape\n",
    "    \n",
    "    pd.set_option('display.float_format', '{:.2f}'.format)\n",
    "    np.set_printoptions(precision=4)\n",
    "    dcount_x \\\n",
    "        = pd.DataFrame(df_clean.count()).reset_index().rename(\n",
    "        columns={'index': 'Indicator', 0: 'count'})\n",
    "    # print(dcount_x)\n",
    "    dcount_3 \\\n",
    "        = pd.Series(np.array(\n",
    "        df_clean.count().tolist())*100/llignes3).rename('percentage')\n",
    "    dcount_4 \\\n",
    "        = pd.Series(\n",
    "        llignes3-np.array(df_clean.count().tolist())).rename('vides')\n",
    "    df_count \\\n",
    "        = dcount_x.merge(dcount_3,left_index=True, right_index=True)\n",
    "    df_count \\\n",
    "        = df_count.merge(dcount_4, left_index=True, right_index=True)\n",
    "\n",
    "    print(df_count)\n",
    "\n",
    "    print(\"\\nRemove duplicates -> Lignes de moins:%i\\n\"\n",
    "          % (llignes2 - llignes4))\n",
    "    # df_clean.shape\n",
    "\n",
    "    print('Output: ', df_clean.shape)\n",
    "    print(\"\\n--------------------------------\\n\")\n",
    "\n",
    "    return df_clean\n"
   ]
  },
  {
   "cell_type": "markdown",
   "source": [
    "# 1.2 Définition de la fonction de fusion de plusieurs DataFrames"
   ],
   "metadata": {
    "id": "krWQzhgUbON5",
    "pycharm": {
     "name": "#%% md\n"
    }
   },
   "id": "krWQzhgUbON5"
  },
  {
   "cell_type": "code",
   "execution_count": 32,
   "id": "0abae29f-7fd4-448a-96b6-16db975890ee",
   "metadata": {
    "id": "0abae29f-7fd4-448a-96b6-16db975890ee",
    "pycharm": {
     "name": "#%%\n"
    }
   },
   "outputs": [],
   "source": [
    "def create_df_from_two_dfs_join(l_df, l_merge, how_instr):\n",
    "    n_joins = len(l_merge)\n",
    "    print(n_joins, 'mergers to do.\\n\\n')\n",
    "\n",
    "    for j in range(n_joins):\n",
    "        col_merge_on = l_merge[j][2]      \n",
    "        print('merger n.', j, '(%s)' % col_merge_on)\n",
    "\n",
    "        if j == 0:\n",
    "            ind_df1 = l_merge[j][0][0]\n",
    "            ind_df2 = l_merge[j][1][0]\n",
    "            \n",
    "            # df1 = l_df[ind_df1]\n",
    "            df1 = l_df[ind_df1][l_merge[j][0][1]]\n",
    "            df1 = df1.astype(str)\n",
    "            # https://stackoverflow.com/\n",
    "            # questions/64385747/valueerror-you-are-trying-to-merge-\n",
    "            # on-object-and-int64-columns-when-use-pandas\n",
    "            print('DF1:', len(df1.columns.tolist()))\n",
    "            print(len(l_merge[j][0][1]), df1.columns)\n",
    "            print('df1.shape before dropna on %s:'\n",
    "                  % col_merge_on, df1.shape )\n",
    "            df1 = df1.dropna(axis=0, subset=[col_merge_on])\n",
    "            print('df1.shape after dropna on %s:'\n",
    "                  % col_merge_on, df1.shape )\n",
    "            # df1 = df1.drop_duplicates(subset=col_merge_on)\n",
    "            df1 = df1.sort_values(by=col_merge_on, ascending=False)\n",
    "            display(df1.head(2))           \n",
    "            print('df1[col_merge_on].shape', df1[col_merge_on].shape)\n",
    "\n",
    "            df2 = l_df[ind_df2][l_merge[j][1][1]]\n",
    "            df2 = df2.astype(str)\n",
    "            print('DF2:', len(df2.columns.tolist()))\n",
    "            print(len(l_merge[j][1][1]), df2.columns)\n",
    "            print(df2.shape)\n",
    "            print('df2.shape before dropna on %s:'\n",
    "                  % col_merge_on, df2.shape)\n",
    "            df2 = df2.dropna(axis=0, subset=[col_merge_on])\n",
    "            print('df2.shape after dropna on %s:'\n",
    "                  % col_merge_on, df2.shape)\n",
    "\n",
    "            df2 = df2.sort_values(by=col_merge_on, ascending=False)\n",
    "            display(df2.head(2))\n",
    "            print('df2[col_merge_on].shape', df2[col_merge_on].shape)\n",
    "            \n",
    "            df1 = pd.merge(df1, df2, how=how_instr, on=col_merge_on)\n",
    "\n",
    "            print('Output of merger n.1', df1.shape)\n",
    "            print(len(df1.columns.tolist()), df1.columns)\n",
    "            display(df1.head(2))\n",
    "            \n",
    "            print('End of merger 1\\n')\n",
    "\n",
    "        else:\n",
    "            ind_df2 = l_merge[j][1][0]\n",
    "            df2 = l_df[ind_df2][l_merge[j][1][1]]\n",
    "            \n",
    "            df1 = df1.astype(str)\n",
    "            # https://stackoverflow.com/questions/64385747/\n",
    "            # valueerror-you-are-trying-to-merge-on-object\n",
    "            # -and-int64-columns-when-use-pandas\n",
    "            print('df1.shape before dropna on %s:'\n",
    "                  % col_merge_on, df1.shape)\n",
    "            df1 = df1.dropna(axis=0, subset=[col_merge_on])\n",
    "            print('df1.shape after dropna on %s:'\n",
    "                  % col_merge_on, df1.shape)\n",
    "            df1 = df1.sort_values(by=col_merge_on, ascending=False)          \n",
    "            print('DF1', df1[col_merge_on].shape, '(df1.head(2))')\n",
    "            display(df1.head(2))\n",
    "            \n",
    "            df2 = df2.astype(str)\n",
    "            \n",
    "            print('df2.shape before dropna on %s:'\n",
    "                  % col_merge_on, df2.shape)\n",
    "            df2 = df2.dropna(axis=0, subset=[col_merge_on])\n",
    "            print('df2.shape after dropna on %s:'\n",
    "                  % col_merge_on, df2.shape)\n",
    "\n",
    "            df2 = df2.sort_values(by=col_merge_on, ascending=False)\n",
    "            print('DF2', df2[col_merge_on].shape, '(df2.head(2))')\n",
    "            display(df2.head(2))\n",
    "            \n",
    "            df1 = pd.merge(df1, df2, how=how_instr, on=col_merge_on)\n",
    "\n",
    "            print('Output of merger n.', j, df1.shape)\n",
    "            print(len(df1.columns.tolist()), df1.columns)\n",
    "            display(df1.head(2))\n",
    "        \n",
    "    return df1\n"
   ]
  },
  {
   "cell_type": "markdown",
   "source": [
    "# 2.1 Importation et caracterisation des jeux de données"
   ],
   "metadata": {
    "id": "gWR7kZWMVfWi",
    "pycharm": {
     "name": "#%% md\n"
    }
   },
   "id": "gWR7kZWMVfWi"
  },
  {
   "cell_type": "code",
   "execution_count": 33,
   "id": "lw1kcUNwcp88",
   "metadata": {
    "colab": {
     "base_uri": "https://localhost:8080/"
    },
    "id": "lw1kcUNwcp88",
    "outputId": "c96f3062-8699-40c9-fdf9-8571e030a6ea",
    "pycharm": {
     "name": "#%%\n"
    }
   },
   "outputs": [
    {
     "name": "stdout",
     "output_type": "stream",
     "text": [
      "Nettoyage du jeu de données: \"0\" \n",
      "99441 5\n",
      "Après dropna, cols: 99441 5\n",
      "Colonnes de moins:\n",
      " 0\n",
      "Après dropna, lignes: 99441 5\n",
      "Lignes de moins:\n",
      " 0\n",
      "                  Indicator  count  percentage  vides\n",
      "0               customer_id  99441      100.00      0\n",
      "1        customer_unique_id  99441      100.00      0\n",
      "2  customer_zip_code_prefix  99441      100.00      0\n",
      "3             customer_city  99441      100.00      0\n",
      "4            customer_state  99441      100.00      0\n",
      "\n",
      "Remove duplicates -> Lignes de moins:0\n",
      "\n",
      "Output:  (99441, 5)\n",
      "\n",
      "--------------------------------\n",
      "\n",
      "Nettoyage du jeu de données: \"1\" \n",
      "1000163 5\n",
      "Après dropna, cols: 1000163 5\n",
      "Colonnes de moins:\n",
      " 0\n",
      "Après dropna, lignes: 1000163 5\n",
      "Lignes de moins:\n",
      " 0\n",
      "                     Indicator   count  percentage   vides\n",
      "0  geolocation_zip_code_prefix  738332       73.82  261831\n",
      "1              geolocation_lat  738332       73.82  261831\n",
      "2              geolocation_lng  738332       73.82  261831\n",
      "3             geolocation_city  738332       73.82  261831\n",
      "4            geolocation_state  738332       73.82  261831\n",
      "\n",
      "Remove duplicates -> Lignes de moins:261831\n",
      "\n",
      "Output:  (738332, 5)\n",
      "\n",
      "--------------------------------\n",
      "\n",
      "Nettoyage du jeu de données: \"2\" \n",
      "112650 7\n",
      "Après dropna, cols: 112650 7\n",
      "Colonnes de moins:\n",
      " 0\n",
      "Après dropna, lignes: 112650 7\n",
      "Lignes de moins:\n",
      " 0\n",
      "             Indicator   count  percentage  vides\n",
      "0             order_id  112650      100.00      0\n",
      "1        order_item_id  112650      100.00      0\n",
      "2           product_id  112650      100.00      0\n",
      "3            seller_id  112650      100.00      0\n",
      "4  shipping_limit_date  112650      100.00      0\n",
      "5                price  112650      100.00      0\n",
      "6        freight_value  112650      100.00      0\n",
      "\n",
      "Remove duplicates -> Lignes de moins:0\n",
      "\n",
      "Output:  (112650, 7)\n",
      "\n",
      "--------------------------------\n",
      "\n",
      "Nettoyage du jeu de données: \"3\" \n",
      "103886 5\n",
      "Après dropna, cols: 103886 5\n",
      "Colonnes de moins:\n",
      " 0\n",
      "Après dropna, lignes: 103886 5\n",
      "Lignes de moins:\n",
      " 0\n",
      "              Indicator   count  percentage  vides\n",
      "0              order_id  103886      100.00      0\n",
      "1    payment_sequential  103886      100.00      0\n",
      "2          payment_type  103886      100.00      0\n",
      "3  payment_installments  103886      100.00      0\n",
      "4         payment_value  103886      100.00      0\n",
      "\n",
      "Remove duplicates -> Lignes de moins:0\n",
      "\n",
      "Output:  (103886, 5)\n",
      "\n",
      "--------------------------------\n",
      "\n",
      "Nettoyage du jeu de données: \"4\" \n",
      "99224 7\n",
      "Après dropna, cols: 99224 7\n",
      "Colonnes de moins:\n",
      " 0\n",
      "Après dropna, lignes: 99224 7\n",
      "Lignes de moins:\n",
      " 0\n",
      "                 Indicator  count  percentage  vides\n",
      "0                review_id  99224      100.00      0\n",
      "1                 order_id  99224      100.00      0\n",
      "2             review_score  99224      100.00      0\n",
      "3     review_comment_title  11568       11.66  87656\n",
      "4   review_comment_message  40977       41.30  58247\n",
      "5     review_creation_date  99224      100.00      0\n",
      "6  review_answer_timestamp  99224      100.00      0\n",
      "\n",
      "Remove duplicates -> Lignes de moins:0\n",
      "\n",
      "Output:  (99224, 7)\n",
      "\n",
      "--------------------------------\n",
      "\n",
      "Nettoyage du jeu de données: \"5\" \n",
      "99441 8\n",
      "Après dropna, cols: 99441 8\n",
      "Colonnes de moins:\n",
      " 0\n",
      "Après dropna, lignes: 99441 8\n",
      "Lignes de moins:\n",
      " 0\n",
      "                       Indicator  count  percentage  vides\n",
      "0                       order_id  99441      100.00      0\n",
      "1                    customer_id  99441      100.00      0\n",
      "2                   order_status  99441      100.00      0\n",
      "3       order_purchase_timestamp  99441      100.00      0\n",
      "4              order_approved_at  99281       99.84    160\n",
      "5   order_delivered_carrier_date  97658       98.21   1783\n",
      "6  order_delivered_customer_date  96476       97.02   2965\n",
      "7  order_estimated_delivery_date  99441      100.00      0\n",
      "\n",
      "Remove duplicates -> Lignes de moins:0\n",
      "\n",
      "Output:  (99441, 8)\n",
      "\n",
      "--------------------------------\n",
      "\n",
      "Nettoyage du jeu de données: \"6\" \n",
      "32951 9\n",
      "Après dropna, cols: 32951 9\n",
      "Colonnes de moins:\n",
      " 0\n",
      "Après dropna, lignes: 32951 9\n",
      "Lignes de moins:\n",
      " 0\n",
      "                    Indicator  count  percentage  vides\n",
      "0                  product_id  32951      100.00      0\n",
      "1       product_category_name  32341       98.15    610\n",
      "2         product_name_lenght  32341       98.15    610\n",
      "3  product_description_lenght  32341       98.15    610\n",
      "4          product_photos_qty  32341       98.15    610\n",
      "5            product_weight_g  32949       99.99      2\n",
      "6           product_length_cm  32949       99.99      2\n",
      "7           product_height_cm  32949       99.99      2\n",
      "8            product_width_cm  32949       99.99      2\n",
      "\n",
      "Remove duplicates -> Lignes de moins:0\n",
      "\n",
      "Output:  (32951, 9)\n",
      "\n",
      "--------------------------------\n",
      "\n",
      "Nettoyage du jeu de données: \"7\" \n",
      "3095 4\n",
      "Après dropna, cols: 3095 4\n",
      "Colonnes de moins:\n",
      " 0\n",
      "Après dropna, lignes: 3095 4\n",
      "Lignes de moins:\n",
      " 0\n",
      "                Indicator  count  percentage  vides\n",
      "0               seller_id   3095      100.00      0\n",
      "1  seller_zip_code_prefix   3095      100.00      0\n",
      "2             seller_city   3095      100.00      0\n",
      "3            seller_state   3095      100.00      0\n",
      "\n",
      "Remove duplicates -> Lignes de moins:0\n",
      "\n",
      "Output:  (3095, 4)\n",
      "\n",
      "--------------------------------\n",
      "\n",
      "Nettoyage du jeu de données: \"8\" \n",
      "71 2\n",
      "Après dropna, cols: 71 2\n",
      "Colonnes de moins:\n",
      " 0\n",
      "Après dropna, lignes: 71 2\n",
      "Lignes de moins:\n",
      " 0\n",
      "                       Indicator  count  percentage  vides\n",
      "0          product_category_name     71      100.00      0\n",
      "1  product_category_name_english     71      100.00      0\n",
      "\n",
      "Remove duplicates -> Lignes de moins:0\n",
      "\n",
      "Output:  (71, 2)\n",
      "\n",
      "--------------------------------\n",
      "\n"
     ]
    }
   ],
   "source": [
    "l_fichiers = ['olist_customers_dataset', 'olist_geolocation_dataset',\n",
    "              'olist_order_items_dataset',\n",
    "              'olist_order_payments_dataset',\n",
    "              'olist_order_reviews_dataset', 'olist_orders_dataset',\n",
    "              'olist_products_dataset', 'olist_sellers_dataset',\n",
    "              'product_category_name_translation']\n",
    "l_df = []\n",
    "\n",
    "for i in l_fichiers:\n",
    "  df = pd.read_csv(\"data/%s.csv\" % i, sep= ',', low_memory=False )\n",
    "  df = nettoyage(df, str(l_fichiers.index(i)))\n",
    "  l_df.append(df)\n"
   ]
  },
  {
   "cell_type": "markdown",
   "source": [
    "# 2.2 Chiffres clé extraites des données brutes\n"
   ],
   "metadata": {
    "collapsed": false,
    "pycharm": {
     "name": "#%% md\n"
    }
   }
  },
  {
   "cell_type": "markdown",
   "source": [
    "## 2.2.1 Nombre de clients uniques d'après les données brutes\n"
   ],
   "metadata": {
    "collapsed": false,
    "pycharm": {
     "name": "#%% md\n"
    }
   }
  },
  {
   "cell_type": "code",
   "source": [
    "print('_________________________________\\n'\n",
    "      'Recherche de lignes vides dans le fichier brut')\n",
    "display(l_df[0][l_df[0].isnull().any(1)])\n",
    "print((l_df[0].shape))\n",
    "print((l_df[0].dropna().shape))\n",
    "print('Aucune ligne vide dans le fichier brut\\n '\n",
    "      '_________________________________\\n')\n",
    "\n",
    "print('_________________________________\\n'\n",
    "      'Recherche de lignes vides dans le fichier brut.'\n",
    "      'groupby(\\'customer_unique_id\\').count())')\n",
    "df1 = l_df[0].groupby('customer_unique_id').count()\n",
    "print(df1.shape, 'avant dropna')\n",
    "df1 = df1.dropna()\n",
    "print(df1.shape, 'après dropna')\n",
    "print('Aucune ligne vide dans le fichier dans le fichier '\n",
    "      'brut.groupby(\\'customer_unique_id\\').count()).\\n'\n",
    "      'C\\'est logique puisqu\\'il n\\'y en avait pas '\n",
    "      'dans le fichier de depart)'\n",
    "      '\\n _________________________________\\n'\n",
    "      'Le nombre de ligne se reduit à cause de groupby\\n'\n",
    "      'Le nombre de clients uniques est %s' % df1.shape[0])\n",
    "\n",
    "display(df1.sample(n=2))"
   ],
   "metadata": {
    "id": "y5Q8kgVUNOsH",
    "outputId": "2372d26b-8402-4e17-b68f-be1be652b03b",
    "colab": {
     "base_uri": "https://localhost:8080/",
     "height": 274
    },
    "pycharm": {
     "name": "#%%\n"
    }
   },
   "id": "y5Q8kgVUNOsH",
   "execution_count": 34,
   "outputs": [
    {
     "name": "stdout",
     "output_type": "stream",
     "text": [
      "_________________________________\n",
      "Recherche de lignes vides dans le fichier brut\n"
     ]
    },
    {
     "data": {
      "text/plain": "Empty DataFrame\nColumns: [customer_id, customer_unique_id, customer_zip_code_prefix, customer_city, customer_state]\nIndex: []",
      "text/html": "<div>\n<style scoped>\n    .dataframe tbody tr th:only-of-type {\n        vertical-align: middle;\n    }\n\n    .dataframe tbody tr th {\n        vertical-align: top;\n    }\n\n    .dataframe thead th {\n        text-align: right;\n    }\n</style>\n<table border=\"1\" class=\"dataframe\">\n  <thead>\n    <tr style=\"text-align: right;\">\n      <th></th>\n      <th>customer_id</th>\n      <th>customer_unique_id</th>\n      <th>customer_zip_code_prefix</th>\n      <th>customer_city</th>\n      <th>customer_state</th>\n    </tr>\n  </thead>\n  <tbody>\n  </tbody>\n</table>\n</div>"
     },
     "metadata": {},
     "output_type": "display_data"
    },
    {
     "name": "stdout",
     "output_type": "stream",
     "text": [
      "(99441, 5)\n",
      "(99441, 5)\n",
      "Aucune ligne vide dans le fichier brut\n",
      " _________________________________\n",
      "\n",
      "_________________________________\n",
      "Recherche de lignes vides dans le fichier brut.groupby('customer_unique_id').count())\n",
      "(96096, 4) avant dropna\n",
      "(96096, 4) après dropna\n",
      "Aucune ligne vide dans le fichier dans le fichier brut.groupby('customer_unique_id').count()).\n",
      "C'est logique puisqu'il n'y en avait pas dans le fichier de depart)\n",
      " _________________________________\n",
      "Le nombre de ligne se reduit à cause de groupby\n",
      "Le nombre de clients uniques est 96096\n"
     ]
    },
    {
     "data": {
      "text/plain": "                                  customer_id  customer_zip_code_prefix  \\\ncustomer_unique_id                                                        \n1e8b70cce882badaff158c24c2b9eb24            1                         1   \n95ccc510f68e05d7ecceb58a4f37558a            1                         1   \n\n                                  customer_city  customer_state  \ncustomer_unique_id                                               \n1e8b70cce882badaff158c24c2b9eb24              1               1  \n95ccc510f68e05d7ecceb58a4f37558a              1               1  ",
      "text/html": "<div>\n<style scoped>\n    .dataframe tbody tr th:only-of-type {\n        vertical-align: middle;\n    }\n\n    .dataframe tbody tr th {\n        vertical-align: top;\n    }\n\n    .dataframe thead th {\n        text-align: right;\n    }\n</style>\n<table border=\"1\" class=\"dataframe\">\n  <thead>\n    <tr style=\"text-align: right;\">\n      <th></th>\n      <th>customer_id</th>\n      <th>customer_zip_code_prefix</th>\n      <th>customer_city</th>\n      <th>customer_state</th>\n    </tr>\n    <tr>\n      <th>customer_unique_id</th>\n      <th></th>\n      <th></th>\n      <th></th>\n      <th></th>\n    </tr>\n  </thead>\n  <tbody>\n    <tr>\n      <th>1e8b70cce882badaff158c24c2b9eb24</th>\n      <td>1</td>\n      <td>1</td>\n      <td>1</td>\n      <td>1</td>\n    </tr>\n    <tr>\n      <th>95ccc510f68e05d7ecceb58a4f37558a</th>\n      <td>1</td>\n      <td>1</td>\n      <td>1</td>\n      <td>1</td>\n    </tr>\n  </tbody>\n</table>\n</div>"
     },
     "metadata": {},
     "output_type": "display_data"
    }
   ]
  },
  {
   "cell_type": "markdown",
   "source": [
    "______________________________________"
   ],
   "metadata": {
    "collapsed": false,
    "pycharm": {
     "name": "#%% md\n"
    }
   }
  },
  {
   "cell_type": "markdown",
   "source": [
    "## 2.2.2 Nombre de clients de retour (données brutes: 3%)"
   ],
   "metadata": {
    "collapsed": false,
    "pycharm": {
     "name": "#%% md\n"
    }
   }
  },
  {
   "cell_type": "markdown",
   "source": [
    "Données brutes"
   ],
   "metadata": {
    "collapsed": false,
    "pycharm": {
     "name": "#%% md\n"
    }
   }
  },
  {
   "cell_type": "code",
   "execution_count": 35,
   "outputs": [
    {
     "name": "stdout",
     "output_type": "stream",
     "text": [
      "96096 Index(['customer_id', 'customer_zip_code_prefix', 'customer_city',\n",
      "       'customer_state'],\n",
      "      dtype='object')\n"
     ]
    },
    {
     "data": {
      "text/plain": "                                  customer_id  customer_zip_code_prefix  \\\ncustomer_unique_id                                                        \nbce006e903be688f122a39f45b210090            2                         2   \n82fb46292a999e7db9e2391c407f76e4            2                         2   \n6f65f19c2dcfcab8b76b2fafb5b840e1            2                         2   \n54732c804725f94304b9f2d1107a3d6e            2                         2   \n87a7c3090f96d9da963125a0d7f8193a            2                         2   \n\n                                  customer_city  customer_state  \ncustomer_unique_id                                               \nbce006e903be688f122a39f45b210090              2               2  \n82fb46292a999e7db9e2391c407f76e4              2               2  \n6f65f19c2dcfcab8b76b2fafb5b840e1              2               2  \n54732c804725f94304b9f2d1107a3d6e              2               2  \n87a7c3090f96d9da963125a0d7f8193a              2               2  ",
      "text/html": "<div>\n<style scoped>\n    .dataframe tbody tr th:only-of-type {\n        vertical-align: middle;\n    }\n\n    .dataframe tbody tr th {\n        vertical-align: top;\n    }\n\n    .dataframe thead th {\n        text-align: right;\n    }\n</style>\n<table border=\"1\" class=\"dataframe\">\n  <thead>\n    <tr style=\"text-align: right;\">\n      <th></th>\n      <th>customer_id</th>\n      <th>customer_zip_code_prefix</th>\n      <th>customer_city</th>\n      <th>customer_state</th>\n    </tr>\n    <tr>\n      <th>customer_unique_id</th>\n      <th></th>\n      <th></th>\n      <th></th>\n      <th></th>\n    </tr>\n  </thead>\n  <tbody>\n    <tr>\n      <th>bce006e903be688f122a39f45b210090</th>\n      <td>2</td>\n      <td>2</td>\n      <td>2</td>\n      <td>2</td>\n    </tr>\n    <tr>\n      <th>82fb46292a999e7db9e2391c407f76e4</th>\n      <td>2</td>\n      <td>2</td>\n      <td>2</td>\n      <td>2</td>\n    </tr>\n    <tr>\n      <th>6f65f19c2dcfcab8b76b2fafb5b840e1</th>\n      <td>2</td>\n      <td>2</td>\n      <td>2</td>\n      <td>2</td>\n    </tr>\n    <tr>\n      <th>54732c804725f94304b9f2d1107a3d6e</th>\n      <td>2</td>\n      <td>2</td>\n      <td>2</td>\n      <td>2</td>\n    </tr>\n    <tr>\n      <th>87a7c3090f96d9da963125a0d7f8193a</th>\n      <td>2</td>\n      <td>2</td>\n      <td>2</td>\n      <td>2</td>\n    </tr>\n  </tbody>\n</table>\n</div>"
     },
     "metadata": {},
     "output_type": "display_data"
    },
    {
     "name": "stdout",
     "output_type": "stream",
     "text": [
      "totale_clienti_tornati 2997\n",
      "3.118756243756244\n",
      "Fraction des clients qui on acheté à nouveau: 3.1 %\n"
     ]
    }
   ],
   "source": [
    "df = l_df[0]\n",
    "df_gb = pd.DataFrame(df.groupby('customer_unique_id').count())\n",
    "\n",
    "clienti_tornati_grezzo \\\n",
    "    = pd.DataFrame(df_gb.loc[df_gb['customer_id']>1])\n",
    "totale_clienti_unici = df_gb.shape[0]\n",
    "print(totale_clienti_unici, df_gb.columns)\n",
    "\n",
    "clienti_tornati = clienti_tornati_grezzo\n",
    "display(clienti_tornati.sample(5))\n",
    "totale_clienti_tornati = clienti_tornati.shape[0]\n",
    "print('totale_clienti_tornati', totale_clienti_tornati)\n",
    "fraction = totale_clienti_tornati*100/totale_clienti_unici\n",
    "print(fraction)\n",
    "print('Fraction des clients qui on acheté à nouveau: %.1f'\n",
    "      % fraction, '%')\n"
   ],
   "metadata": {
    "collapsed": false,
    "pycharm": {
     "name": "#%%\n"
    }
   }
  },
  {
   "cell_type": "markdown",
   "source": [
    "# 3. Création du dataframe complet à traiter: df_all_start\n",
    "> Un df de commandes"
   ],
   "metadata": {
    "collapsed": false,
    "pycharm": {
     "name": "#%% md\n"
    }
   }
  },
  {
   "cell_type": "code",
   "execution_count": 36,
   "outputs": [
    {
     "name": "stdout",
     "output_type": "stream",
     "text": [
      "4 mergers to do.\n",
      "\n",
      "\n",
      "merger n. 0 (customer_id)\n",
      "DF1: 2\n",
      "2 Index(['customer_id', 'customer_unique_id'], dtype='object')\n",
      "df1.shape before dropna on customer_id: (99441, 2)\n",
      "df1.shape after dropna on customer_id: (99441, 2)\n"
     ]
    },
    {
     "data": {
      "text/plain": "                            customer_id                customer_unique_id\n95945  ffffe8b65bbe3087b653a978c870db99  736e6bfa0510aa5b878881a226a5fd89\n33870  ffffa3172527f765de70084a7e53aae8  48fd7dec70f2b104a1d5e8c5c639102b",
      "text/html": "<div>\n<style scoped>\n    .dataframe tbody tr th:only-of-type {\n        vertical-align: middle;\n    }\n\n    .dataframe tbody tr th {\n        vertical-align: top;\n    }\n\n    .dataframe thead th {\n        text-align: right;\n    }\n</style>\n<table border=\"1\" class=\"dataframe\">\n  <thead>\n    <tr style=\"text-align: right;\">\n      <th></th>\n      <th>customer_id</th>\n      <th>customer_unique_id</th>\n    </tr>\n  </thead>\n  <tbody>\n    <tr>\n      <th>95945</th>\n      <td>ffffe8b65bbe3087b653a978c870db99</td>\n      <td>736e6bfa0510aa5b878881a226a5fd89</td>\n    </tr>\n    <tr>\n      <th>33870</th>\n      <td>ffffa3172527f765de70084a7e53aae8</td>\n      <td>48fd7dec70f2b104a1d5e8c5c639102b</td>\n    </tr>\n  </tbody>\n</table>\n</div>"
     },
     "metadata": {},
     "output_type": "display_data"
    },
    {
     "name": "stdout",
     "output_type": "stream",
     "text": [
      "df1[col_merge_on].shape (99441,)\n",
      "DF2: 6\n",
      "6 Index(['customer_id', 'order_id', 'order_status', 'order_purchase_timestamp',\n",
      "       'order_delivered_carrier_date', 'order_estimated_delivery_date'],\n",
      "      dtype='object')\n",
      "(99441, 6)\n",
      "df2.shape before dropna on customer_id: (99441, 6)\n",
      "df2.shape after dropna on customer_id: (99441, 6)\n"
     ]
    },
    {
     "data": {
      "text/plain": "                            customer_id                          order_id  \\\n26445  ffffe8b65bbe3087b653a978c870db99  2e935fa1d39497aa0ec3f1107fbfb5b8   \n73902  ffffa3172527f765de70084a7e53aae8  d0e7be325a1c986babc4e1cdb91edc03   \n\n      order_status order_purchase_timestamp order_delivered_carrier_date  \\\n26445  unavailable      2017-09-29 14:07:03                          nan   \n73902    delivered      2017-09-02 11:53:32          2017-09-08 20:04:11   \n\n      order_estimated_delivery_date  \n26445           2017-10-24 00:00:00  \n73902           2017-09-26 00:00:00  ",
      "text/html": "<div>\n<style scoped>\n    .dataframe tbody tr th:only-of-type {\n        vertical-align: middle;\n    }\n\n    .dataframe tbody tr th {\n        vertical-align: top;\n    }\n\n    .dataframe thead th {\n        text-align: right;\n    }\n</style>\n<table border=\"1\" class=\"dataframe\">\n  <thead>\n    <tr style=\"text-align: right;\">\n      <th></th>\n      <th>customer_id</th>\n      <th>order_id</th>\n      <th>order_status</th>\n      <th>order_purchase_timestamp</th>\n      <th>order_delivered_carrier_date</th>\n      <th>order_estimated_delivery_date</th>\n    </tr>\n  </thead>\n  <tbody>\n    <tr>\n      <th>26445</th>\n      <td>ffffe8b65bbe3087b653a978c870db99</td>\n      <td>2e935fa1d39497aa0ec3f1107fbfb5b8</td>\n      <td>unavailable</td>\n      <td>2017-09-29 14:07:03</td>\n      <td>nan</td>\n      <td>2017-10-24 00:00:00</td>\n    </tr>\n    <tr>\n      <th>73902</th>\n      <td>ffffa3172527f765de70084a7e53aae8</td>\n      <td>d0e7be325a1c986babc4e1cdb91edc03</td>\n      <td>delivered</td>\n      <td>2017-09-02 11:53:32</td>\n      <td>2017-09-08 20:04:11</td>\n      <td>2017-09-26 00:00:00</td>\n    </tr>\n  </tbody>\n</table>\n</div>"
     },
     "metadata": {},
     "output_type": "display_data"
    },
    {
     "name": "stdout",
     "output_type": "stream",
     "text": [
      "df2[col_merge_on].shape (99441,)\n",
      "Output of merger n.1 (99441, 7)\n",
      "7 Index(['customer_id', 'customer_unique_id', 'order_id', 'order_status',\n",
      "       'order_purchase_timestamp', 'order_delivered_carrier_date',\n",
      "       'order_estimated_delivery_date'],\n",
      "      dtype='object')\n"
     ]
    },
    {
     "data": {
      "text/plain": "                        customer_id                customer_unique_id  \\\n0  ffffe8b65bbe3087b653a978c870db99  736e6bfa0510aa5b878881a226a5fd89   \n1  ffffa3172527f765de70084a7e53aae8  48fd7dec70f2b104a1d5e8c5c639102b   \n\n                           order_id order_status order_purchase_timestamp  \\\n0  2e935fa1d39497aa0ec3f1107fbfb5b8  unavailable      2017-09-29 14:07:03   \n1  d0e7be325a1c986babc4e1cdb91edc03    delivered      2017-09-02 11:53:32   \n\n  order_delivered_carrier_date order_estimated_delivery_date  \n0                          nan           2017-10-24 00:00:00  \n1          2017-09-08 20:04:11           2017-09-26 00:00:00  ",
      "text/html": "<div>\n<style scoped>\n    .dataframe tbody tr th:only-of-type {\n        vertical-align: middle;\n    }\n\n    .dataframe tbody tr th {\n        vertical-align: top;\n    }\n\n    .dataframe thead th {\n        text-align: right;\n    }\n</style>\n<table border=\"1\" class=\"dataframe\">\n  <thead>\n    <tr style=\"text-align: right;\">\n      <th></th>\n      <th>customer_id</th>\n      <th>customer_unique_id</th>\n      <th>order_id</th>\n      <th>order_status</th>\n      <th>order_purchase_timestamp</th>\n      <th>order_delivered_carrier_date</th>\n      <th>order_estimated_delivery_date</th>\n    </tr>\n  </thead>\n  <tbody>\n    <tr>\n      <th>0</th>\n      <td>ffffe8b65bbe3087b653a978c870db99</td>\n      <td>736e6bfa0510aa5b878881a226a5fd89</td>\n      <td>2e935fa1d39497aa0ec3f1107fbfb5b8</td>\n      <td>unavailable</td>\n      <td>2017-09-29 14:07:03</td>\n      <td>nan</td>\n      <td>2017-10-24 00:00:00</td>\n    </tr>\n    <tr>\n      <th>1</th>\n      <td>ffffa3172527f765de70084a7e53aae8</td>\n      <td>48fd7dec70f2b104a1d5e8c5c639102b</td>\n      <td>d0e7be325a1c986babc4e1cdb91edc03</td>\n      <td>delivered</td>\n      <td>2017-09-02 11:53:32</td>\n      <td>2017-09-08 20:04:11</td>\n      <td>2017-09-26 00:00:00</td>\n    </tr>\n  </tbody>\n</table>\n</div>"
     },
     "metadata": {},
     "output_type": "display_data"
    },
    {
     "name": "stdout",
     "output_type": "stream",
     "text": [
      "End of merger 1\n",
      "\n",
      "merger n. 1 (order_id)\n",
      "df1.shape before dropna on order_id: (99441, 7)\n",
      "df1.shape after dropna on order_id: (99441, 7)\n",
      "DF1 (99441,) (df1.head(2))\n"
     ]
    },
    {
     "data": {
      "text/plain": "                            customer_id                customer_unique_id  \\\n40883  96d649da0cc4ff33bb408b199d4c7dcf  cd76a00d8e3ca5e6ab9ed9ecb6667ac4   \n28579  b5e6afd5a41800fdf401e0272ca74655  eb803377c9315b564bdedad672039306   \n\n                               order_id order_status order_purchase_timestamp  \\\n40883  fffe41c64501cc87c801fd61db3f6244    delivered      2018-06-09 17:00:18   \n28579  fffe18544ffabc95dfada21779c9644f    delivered      2017-08-14 23:02:59   \n\n      order_delivered_carrier_date order_estimated_delivery_date  \n40883          2018-06-11 14:11:00           2018-06-28 00:00:00  \n28579          2017-08-15 19:02:53           2017-08-25 00:00:00  ",
      "text/html": "<div>\n<style scoped>\n    .dataframe tbody tr th:only-of-type {\n        vertical-align: middle;\n    }\n\n    .dataframe tbody tr th {\n        vertical-align: top;\n    }\n\n    .dataframe thead th {\n        text-align: right;\n    }\n</style>\n<table border=\"1\" class=\"dataframe\">\n  <thead>\n    <tr style=\"text-align: right;\">\n      <th></th>\n      <th>customer_id</th>\n      <th>customer_unique_id</th>\n      <th>order_id</th>\n      <th>order_status</th>\n      <th>order_purchase_timestamp</th>\n      <th>order_delivered_carrier_date</th>\n      <th>order_estimated_delivery_date</th>\n    </tr>\n  </thead>\n  <tbody>\n    <tr>\n      <th>40883</th>\n      <td>96d649da0cc4ff33bb408b199d4c7dcf</td>\n      <td>cd76a00d8e3ca5e6ab9ed9ecb6667ac4</td>\n      <td>fffe41c64501cc87c801fd61db3f6244</td>\n      <td>delivered</td>\n      <td>2018-06-09 17:00:18</td>\n      <td>2018-06-11 14:11:00</td>\n      <td>2018-06-28 00:00:00</td>\n    </tr>\n    <tr>\n      <th>28579</th>\n      <td>b5e6afd5a41800fdf401e0272ca74655</td>\n      <td>eb803377c9315b564bdedad672039306</td>\n      <td>fffe18544ffabc95dfada21779c9644f</td>\n      <td>delivered</td>\n      <td>2017-08-14 23:02:59</td>\n      <td>2017-08-15 19:02:53</td>\n      <td>2017-08-25 00:00:00</td>\n    </tr>\n  </tbody>\n</table>\n</div>"
     },
     "metadata": {},
     "output_type": "display_data"
    },
    {
     "name": "stdout",
     "output_type": "stream",
     "text": [
      "df2.shape before dropna on order_id: (112650, 5)\n",
      "df2.shape after dropna on order_id: (112650, 5)\n",
      "DF2 (112650,) (df2.head(2))\n"
     ]
    },
    {
     "data": {
      "text/plain": "                                order_id order_item_id  \\\n112649  fffe41c64501cc87c801fd61db3f6244             1   \n112648  fffe18544ffabc95dfada21779c9644f             1   \n\n                              product_id  price freight_value  \n112649  350688d9dc1e75ff97be326363655e01   43.0         12.79  \n112648  9c422a519119dcad7575db5af1ba540e  55.99          8.72  ",
      "text/html": "<div>\n<style scoped>\n    .dataframe tbody tr th:only-of-type {\n        vertical-align: middle;\n    }\n\n    .dataframe tbody tr th {\n        vertical-align: top;\n    }\n\n    .dataframe thead th {\n        text-align: right;\n    }\n</style>\n<table border=\"1\" class=\"dataframe\">\n  <thead>\n    <tr style=\"text-align: right;\">\n      <th></th>\n      <th>order_id</th>\n      <th>order_item_id</th>\n      <th>product_id</th>\n      <th>price</th>\n      <th>freight_value</th>\n    </tr>\n  </thead>\n  <tbody>\n    <tr>\n      <th>112649</th>\n      <td>fffe41c64501cc87c801fd61db3f6244</td>\n      <td>1</td>\n      <td>350688d9dc1e75ff97be326363655e01</td>\n      <td>43.0</td>\n      <td>12.79</td>\n    </tr>\n    <tr>\n      <th>112648</th>\n      <td>fffe18544ffabc95dfada21779c9644f</td>\n      <td>1</td>\n      <td>9c422a519119dcad7575db5af1ba540e</td>\n      <td>55.99</td>\n      <td>8.72</td>\n    </tr>\n  </tbody>\n</table>\n</div>"
     },
     "metadata": {},
     "output_type": "display_data"
    },
    {
     "name": "stdout",
     "output_type": "stream",
     "text": [
      "Output of merger n. 1 (113425, 11)\n",
      "11 Index(['customer_id', 'customer_unique_id', 'order_id', 'order_status',\n",
      "       'order_purchase_timestamp', 'order_delivered_carrier_date',\n",
      "       'order_estimated_delivery_date', 'order_item_id', 'product_id', 'price',\n",
      "       'freight_value'],\n",
      "      dtype='object')\n"
     ]
    },
    {
     "data": {
      "text/plain": "                        customer_id                customer_unique_id  \\\n0  96d649da0cc4ff33bb408b199d4c7dcf  cd76a00d8e3ca5e6ab9ed9ecb6667ac4   \n1  b5e6afd5a41800fdf401e0272ca74655  eb803377c9315b564bdedad672039306   \n\n                           order_id order_status order_purchase_timestamp  \\\n0  fffe41c64501cc87c801fd61db3f6244    delivered      2018-06-09 17:00:18   \n1  fffe18544ffabc95dfada21779c9644f    delivered      2017-08-14 23:02:59   \n\n  order_delivered_carrier_date order_estimated_delivery_date order_item_id  \\\n0          2018-06-11 14:11:00           2018-06-28 00:00:00             1   \n1          2017-08-15 19:02:53           2017-08-25 00:00:00             1   \n\n                         product_id  price freight_value  \n0  350688d9dc1e75ff97be326363655e01   43.0         12.79  \n1  9c422a519119dcad7575db5af1ba540e  55.99          8.72  ",
      "text/html": "<div>\n<style scoped>\n    .dataframe tbody tr th:only-of-type {\n        vertical-align: middle;\n    }\n\n    .dataframe tbody tr th {\n        vertical-align: top;\n    }\n\n    .dataframe thead th {\n        text-align: right;\n    }\n</style>\n<table border=\"1\" class=\"dataframe\">\n  <thead>\n    <tr style=\"text-align: right;\">\n      <th></th>\n      <th>customer_id</th>\n      <th>customer_unique_id</th>\n      <th>order_id</th>\n      <th>order_status</th>\n      <th>order_purchase_timestamp</th>\n      <th>order_delivered_carrier_date</th>\n      <th>order_estimated_delivery_date</th>\n      <th>order_item_id</th>\n      <th>product_id</th>\n      <th>price</th>\n      <th>freight_value</th>\n    </tr>\n  </thead>\n  <tbody>\n    <tr>\n      <th>0</th>\n      <td>96d649da0cc4ff33bb408b199d4c7dcf</td>\n      <td>cd76a00d8e3ca5e6ab9ed9ecb6667ac4</td>\n      <td>fffe41c64501cc87c801fd61db3f6244</td>\n      <td>delivered</td>\n      <td>2018-06-09 17:00:18</td>\n      <td>2018-06-11 14:11:00</td>\n      <td>2018-06-28 00:00:00</td>\n      <td>1</td>\n      <td>350688d9dc1e75ff97be326363655e01</td>\n      <td>43.0</td>\n      <td>12.79</td>\n    </tr>\n    <tr>\n      <th>1</th>\n      <td>b5e6afd5a41800fdf401e0272ca74655</td>\n      <td>eb803377c9315b564bdedad672039306</td>\n      <td>fffe18544ffabc95dfada21779c9644f</td>\n      <td>delivered</td>\n      <td>2017-08-14 23:02:59</td>\n      <td>2017-08-15 19:02:53</td>\n      <td>2017-08-25 00:00:00</td>\n      <td>1</td>\n      <td>9c422a519119dcad7575db5af1ba540e</td>\n      <td>55.99</td>\n      <td>8.72</td>\n    </tr>\n  </tbody>\n</table>\n</div>"
     },
     "metadata": {},
     "output_type": "display_data"
    },
    {
     "name": "stdout",
     "output_type": "stream",
     "text": [
      "merger n. 2 (order_id)\n",
      "df1.shape before dropna on order_id: (113425, 11)\n",
      "df1.shape after dropna on order_id: (113425, 11)\n",
      "DF1 (113425,) (df1.head(2))\n"
     ]
    },
    {
     "data": {
      "text/plain": "                        customer_id                customer_unique_id  \\\n0  96d649da0cc4ff33bb408b199d4c7dcf  cd76a00d8e3ca5e6ab9ed9ecb6667ac4   \n1  b5e6afd5a41800fdf401e0272ca74655  eb803377c9315b564bdedad672039306   \n\n                           order_id order_status order_purchase_timestamp  \\\n0  fffe41c64501cc87c801fd61db3f6244    delivered      2018-06-09 17:00:18   \n1  fffe18544ffabc95dfada21779c9644f    delivered      2017-08-14 23:02:59   \n\n  order_delivered_carrier_date order_estimated_delivery_date order_item_id  \\\n0          2018-06-11 14:11:00           2018-06-28 00:00:00             1   \n1          2017-08-15 19:02:53           2017-08-25 00:00:00             1   \n\n                         product_id  price freight_value  \n0  350688d9dc1e75ff97be326363655e01   43.0         12.79  \n1  9c422a519119dcad7575db5af1ba540e  55.99          8.72  ",
      "text/html": "<div>\n<style scoped>\n    .dataframe tbody tr th:only-of-type {\n        vertical-align: middle;\n    }\n\n    .dataframe tbody tr th {\n        vertical-align: top;\n    }\n\n    .dataframe thead th {\n        text-align: right;\n    }\n</style>\n<table border=\"1\" class=\"dataframe\">\n  <thead>\n    <tr style=\"text-align: right;\">\n      <th></th>\n      <th>customer_id</th>\n      <th>customer_unique_id</th>\n      <th>order_id</th>\n      <th>order_status</th>\n      <th>order_purchase_timestamp</th>\n      <th>order_delivered_carrier_date</th>\n      <th>order_estimated_delivery_date</th>\n      <th>order_item_id</th>\n      <th>product_id</th>\n      <th>price</th>\n      <th>freight_value</th>\n    </tr>\n  </thead>\n  <tbody>\n    <tr>\n      <th>0</th>\n      <td>96d649da0cc4ff33bb408b199d4c7dcf</td>\n      <td>cd76a00d8e3ca5e6ab9ed9ecb6667ac4</td>\n      <td>fffe41c64501cc87c801fd61db3f6244</td>\n      <td>delivered</td>\n      <td>2018-06-09 17:00:18</td>\n      <td>2018-06-11 14:11:00</td>\n      <td>2018-06-28 00:00:00</td>\n      <td>1</td>\n      <td>350688d9dc1e75ff97be326363655e01</td>\n      <td>43.0</td>\n      <td>12.79</td>\n    </tr>\n    <tr>\n      <th>1</th>\n      <td>b5e6afd5a41800fdf401e0272ca74655</td>\n      <td>eb803377c9315b564bdedad672039306</td>\n      <td>fffe18544ffabc95dfada21779c9644f</td>\n      <td>delivered</td>\n      <td>2017-08-14 23:02:59</td>\n      <td>2017-08-15 19:02:53</td>\n      <td>2017-08-25 00:00:00</td>\n      <td>1</td>\n      <td>9c422a519119dcad7575db5af1ba540e</td>\n      <td>55.99</td>\n      <td>8.72</td>\n    </tr>\n  </tbody>\n</table>\n</div>"
     },
     "metadata": {},
     "output_type": "display_data"
    },
    {
     "name": "stdout",
     "output_type": "stream",
     "text": [
      "df2.shape before dropna on order_id: (99224, 2)\n",
      "df2.shape after dropna on order_id: (99224, 2)\n",
      "DF2 (99224,) (df2.head(2))\n"
     ]
    },
    {
     "data": {
      "text/plain": "                               order_id review_score\n92457  fffe41c64501cc87c801fd61db3f6244            5\n50462  fffe18544ffabc95dfada21779c9644f            5",
      "text/html": "<div>\n<style scoped>\n    .dataframe tbody tr th:only-of-type {\n        vertical-align: middle;\n    }\n\n    .dataframe tbody tr th {\n        vertical-align: top;\n    }\n\n    .dataframe thead th {\n        text-align: right;\n    }\n</style>\n<table border=\"1\" class=\"dataframe\">\n  <thead>\n    <tr style=\"text-align: right;\">\n      <th></th>\n      <th>order_id</th>\n      <th>review_score</th>\n    </tr>\n  </thead>\n  <tbody>\n    <tr>\n      <th>92457</th>\n      <td>fffe41c64501cc87c801fd61db3f6244</td>\n      <td>5</td>\n    </tr>\n    <tr>\n      <th>50462</th>\n      <td>fffe18544ffabc95dfada21779c9644f</td>\n      <td>5</td>\n    </tr>\n  </tbody>\n</table>\n</div>"
     },
     "metadata": {},
     "output_type": "display_data"
    },
    {
     "name": "stdout",
     "output_type": "stream",
     "text": [
      "Output of merger n. 2 (114092, 12)\n",
      "12 Index(['customer_id', 'customer_unique_id', 'order_id', 'order_status',\n",
      "       'order_purchase_timestamp', 'order_delivered_carrier_date',\n",
      "       'order_estimated_delivery_date', 'order_item_id', 'product_id', 'price',\n",
      "       'freight_value', 'review_score'],\n",
      "      dtype='object')\n"
     ]
    },
    {
     "data": {
      "text/plain": "                        customer_id                customer_unique_id  \\\n0  96d649da0cc4ff33bb408b199d4c7dcf  cd76a00d8e3ca5e6ab9ed9ecb6667ac4   \n1  b5e6afd5a41800fdf401e0272ca74655  eb803377c9315b564bdedad672039306   \n\n                           order_id order_status order_purchase_timestamp  \\\n0  fffe41c64501cc87c801fd61db3f6244    delivered      2018-06-09 17:00:18   \n1  fffe18544ffabc95dfada21779c9644f    delivered      2017-08-14 23:02:59   \n\n  order_delivered_carrier_date order_estimated_delivery_date order_item_id  \\\n0          2018-06-11 14:11:00           2018-06-28 00:00:00             1   \n1          2017-08-15 19:02:53           2017-08-25 00:00:00             1   \n\n                         product_id  price freight_value review_score  \n0  350688d9dc1e75ff97be326363655e01   43.0         12.79            5  \n1  9c422a519119dcad7575db5af1ba540e  55.99          8.72            5  ",
      "text/html": "<div>\n<style scoped>\n    .dataframe tbody tr th:only-of-type {\n        vertical-align: middle;\n    }\n\n    .dataframe tbody tr th {\n        vertical-align: top;\n    }\n\n    .dataframe thead th {\n        text-align: right;\n    }\n</style>\n<table border=\"1\" class=\"dataframe\">\n  <thead>\n    <tr style=\"text-align: right;\">\n      <th></th>\n      <th>customer_id</th>\n      <th>customer_unique_id</th>\n      <th>order_id</th>\n      <th>order_status</th>\n      <th>order_purchase_timestamp</th>\n      <th>order_delivered_carrier_date</th>\n      <th>order_estimated_delivery_date</th>\n      <th>order_item_id</th>\n      <th>product_id</th>\n      <th>price</th>\n      <th>freight_value</th>\n      <th>review_score</th>\n    </tr>\n  </thead>\n  <tbody>\n    <tr>\n      <th>0</th>\n      <td>96d649da0cc4ff33bb408b199d4c7dcf</td>\n      <td>cd76a00d8e3ca5e6ab9ed9ecb6667ac4</td>\n      <td>fffe41c64501cc87c801fd61db3f6244</td>\n      <td>delivered</td>\n      <td>2018-06-09 17:00:18</td>\n      <td>2018-06-11 14:11:00</td>\n      <td>2018-06-28 00:00:00</td>\n      <td>1</td>\n      <td>350688d9dc1e75ff97be326363655e01</td>\n      <td>43.0</td>\n      <td>12.79</td>\n      <td>5</td>\n    </tr>\n    <tr>\n      <th>1</th>\n      <td>b5e6afd5a41800fdf401e0272ca74655</td>\n      <td>eb803377c9315b564bdedad672039306</td>\n      <td>fffe18544ffabc95dfada21779c9644f</td>\n      <td>delivered</td>\n      <td>2017-08-14 23:02:59</td>\n      <td>2017-08-15 19:02:53</td>\n      <td>2017-08-25 00:00:00</td>\n      <td>1</td>\n      <td>9c422a519119dcad7575db5af1ba540e</td>\n      <td>55.99</td>\n      <td>8.72</td>\n      <td>5</td>\n    </tr>\n  </tbody>\n</table>\n</div>"
     },
     "metadata": {},
     "output_type": "display_data"
    },
    {
     "name": "stdout",
     "output_type": "stream",
     "text": [
      "merger n. 3 (order_id)\n",
      "df1.shape before dropna on order_id: (114092, 12)\n",
      "df1.shape after dropna on order_id: (114092, 12)\n",
      "DF1 (114092,) (df1.head(2))\n"
     ]
    },
    {
     "data": {
      "text/plain": "                        customer_id                customer_unique_id  \\\n0  96d649da0cc4ff33bb408b199d4c7dcf  cd76a00d8e3ca5e6ab9ed9ecb6667ac4   \n1  b5e6afd5a41800fdf401e0272ca74655  eb803377c9315b564bdedad672039306   \n\n                           order_id order_status order_purchase_timestamp  \\\n0  fffe41c64501cc87c801fd61db3f6244    delivered      2018-06-09 17:00:18   \n1  fffe18544ffabc95dfada21779c9644f    delivered      2017-08-14 23:02:59   \n\n  order_delivered_carrier_date order_estimated_delivery_date order_item_id  \\\n0          2018-06-11 14:11:00           2018-06-28 00:00:00             1   \n1          2017-08-15 19:02:53           2017-08-25 00:00:00             1   \n\n                         product_id  price freight_value review_score  \n0  350688d9dc1e75ff97be326363655e01   43.0         12.79            5  \n1  9c422a519119dcad7575db5af1ba540e  55.99          8.72            5  ",
      "text/html": "<div>\n<style scoped>\n    .dataframe tbody tr th:only-of-type {\n        vertical-align: middle;\n    }\n\n    .dataframe tbody tr th {\n        vertical-align: top;\n    }\n\n    .dataframe thead th {\n        text-align: right;\n    }\n</style>\n<table border=\"1\" class=\"dataframe\">\n  <thead>\n    <tr style=\"text-align: right;\">\n      <th></th>\n      <th>customer_id</th>\n      <th>customer_unique_id</th>\n      <th>order_id</th>\n      <th>order_status</th>\n      <th>order_purchase_timestamp</th>\n      <th>order_delivered_carrier_date</th>\n      <th>order_estimated_delivery_date</th>\n      <th>order_item_id</th>\n      <th>product_id</th>\n      <th>price</th>\n      <th>freight_value</th>\n      <th>review_score</th>\n    </tr>\n  </thead>\n  <tbody>\n    <tr>\n      <th>0</th>\n      <td>96d649da0cc4ff33bb408b199d4c7dcf</td>\n      <td>cd76a00d8e3ca5e6ab9ed9ecb6667ac4</td>\n      <td>fffe41c64501cc87c801fd61db3f6244</td>\n      <td>delivered</td>\n      <td>2018-06-09 17:00:18</td>\n      <td>2018-06-11 14:11:00</td>\n      <td>2018-06-28 00:00:00</td>\n      <td>1</td>\n      <td>350688d9dc1e75ff97be326363655e01</td>\n      <td>43.0</td>\n      <td>12.79</td>\n      <td>5</td>\n    </tr>\n    <tr>\n      <th>1</th>\n      <td>b5e6afd5a41800fdf401e0272ca74655</td>\n      <td>eb803377c9315b564bdedad672039306</td>\n      <td>fffe18544ffabc95dfada21779c9644f</td>\n      <td>delivered</td>\n      <td>2017-08-14 23:02:59</td>\n      <td>2017-08-15 19:02:53</td>\n      <td>2017-08-25 00:00:00</td>\n      <td>1</td>\n      <td>9c422a519119dcad7575db5af1ba540e</td>\n      <td>55.99</td>\n      <td>8.72</td>\n      <td>5</td>\n    </tr>\n  </tbody>\n</table>\n</div>"
     },
     "metadata": {},
     "output_type": "display_data"
    },
    {
     "name": "stdout",
     "output_type": "stream",
     "text": [
      "df2.shape before dropna on order_id: (103886, 5)\n",
      "df2.shape after dropna on order_id: (103886, 5)\n",
      "DF2 (103886,) (df2.head(2))\n"
     ]
    },
    {
     "data": {
      "text/plain": "                               order_id payment_sequential payment_type  \\\n1235   fffe41c64501cc87c801fd61db3f6244                  1  credit_card   \n37089  fffe18544ffabc95dfada21779c9644f                  1  credit_card   \n\n      payment_installments payment_value  \n1235                     1         55.79  \n37089                    3         64.71  ",
      "text/html": "<div>\n<style scoped>\n    .dataframe tbody tr th:only-of-type {\n        vertical-align: middle;\n    }\n\n    .dataframe tbody tr th {\n        vertical-align: top;\n    }\n\n    .dataframe thead th {\n        text-align: right;\n    }\n</style>\n<table border=\"1\" class=\"dataframe\">\n  <thead>\n    <tr style=\"text-align: right;\">\n      <th></th>\n      <th>order_id</th>\n      <th>payment_sequential</th>\n      <th>payment_type</th>\n      <th>payment_installments</th>\n      <th>payment_value</th>\n    </tr>\n  </thead>\n  <tbody>\n    <tr>\n      <th>1235</th>\n      <td>fffe41c64501cc87c801fd61db3f6244</td>\n      <td>1</td>\n      <td>credit_card</td>\n      <td>1</td>\n      <td>55.79</td>\n    </tr>\n    <tr>\n      <th>37089</th>\n      <td>fffe18544ffabc95dfada21779c9644f</td>\n      <td>1</td>\n      <td>credit_card</td>\n      <td>3</td>\n      <td>64.71</td>\n    </tr>\n  </tbody>\n</table>\n</div>"
     },
     "metadata": {},
     "output_type": "display_data"
    },
    {
     "name": "stdout",
     "output_type": "stream",
     "text": [
      "Output of merger n. 3 (119143, 16)\n",
      "16 Index(['customer_id', 'customer_unique_id', 'order_id', 'order_status',\n",
      "       'order_purchase_timestamp', 'order_delivered_carrier_date',\n",
      "       'order_estimated_delivery_date', 'order_item_id', 'product_id', 'price',\n",
      "       'freight_value', 'review_score', 'payment_sequential', 'payment_type',\n",
      "       'payment_installments', 'payment_value'],\n",
      "      dtype='object')\n"
     ]
    },
    {
     "data": {
      "text/plain": "                        customer_id                customer_unique_id  \\\n0  96d649da0cc4ff33bb408b199d4c7dcf  cd76a00d8e3ca5e6ab9ed9ecb6667ac4   \n1  b5e6afd5a41800fdf401e0272ca74655  eb803377c9315b564bdedad672039306   \n\n                           order_id order_status order_purchase_timestamp  \\\n0  fffe41c64501cc87c801fd61db3f6244    delivered      2018-06-09 17:00:18   \n1  fffe18544ffabc95dfada21779c9644f    delivered      2017-08-14 23:02:59   \n\n  order_delivered_carrier_date order_estimated_delivery_date order_item_id  \\\n0          2018-06-11 14:11:00           2018-06-28 00:00:00             1   \n1          2017-08-15 19:02:53           2017-08-25 00:00:00             1   \n\n                         product_id  price freight_value review_score  \\\n0  350688d9dc1e75ff97be326363655e01   43.0         12.79            5   \n1  9c422a519119dcad7575db5af1ba540e  55.99          8.72            5   \n\n  payment_sequential payment_type payment_installments payment_value  \n0                  1  credit_card                    1         55.79  \n1                  1  credit_card                    3         64.71  ",
      "text/html": "<div>\n<style scoped>\n    .dataframe tbody tr th:only-of-type {\n        vertical-align: middle;\n    }\n\n    .dataframe tbody tr th {\n        vertical-align: top;\n    }\n\n    .dataframe thead th {\n        text-align: right;\n    }\n</style>\n<table border=\"1\" class=\"dataframe\">\n  <thead>\n    <tr style=\"text-align: right;\">\n      <th></th>\n      <th>customer_id</th>\n      <th>customer_unique_id</th>\n      <th>order_id</th>\n      <th>order_status</th>\n      <th>order_purchase_timestamp</th>\n      <th>order_delivered_carrier_date</th>\n      <th>order_estimated_delivery_date</th>\n      <th>order_item_id</th>\n      <th>product_id</th>\n      <th>price</th>\n      <th>freight_value</th>\n      <th>review_score</th>\n      <th>payment_sequential</th>\n      <th>payment_type</th>\n      <th>payment_installments</th>\n      <th>payment_value</th>\n    </tr>\n  </thead>\n  <tbody>\n    <tr>\n      <th>0</th>\n      <td>96d649da0cc4ff33bb408b199d4c7dcf</td>\n      <td>cd76a00d8e3ca5e6ab9ed9ecb6667ac4</td>\n      <td>fffe41c64501cc87c801fd61db3f6244</td>\n      <td>delivered</td>\n      <td>2018-06-09 17:00:18</td>\n      <td>2018-06-11 14:11:00</td>\n      <td>2018-06-28 00:00:00</td>\n      <td>1</td>\n      <td>350688d9dc1e75ff97be326363655e01</td>\n      <td>43.0</td>\n      <td>12.79</td>\n      <td>5</td>\n      <td>1</td>\n      <td>credit_card</td>\n      <td>1</td>\n      <td>55.79</td>\n    </tr>\n    <tr>\n      <th>1</th>\n      <td>b5e6afd5a41800fdf401e0272ca74655</td>\n      <td>eb803377c9315b564bdedad672039306</td>\n      <td>fffe18544ffabc95dfada21779c9644f</td>\n      <td>delivered</td>\n      <td>2017-08-14 23:02:59</td>\n      <td>2017-08-15 19:02:53</td>\n      <td>2017-08-25 00:00:00</td>\n      <td>1</td>\n      <td>9c422a519119dcad7575db5af1ba540e</td>\n      <td>55.99</td>\n      <td>8.72</td>\n      <td>5</td>\n      <td>1</td>\n      <td>credit_card</td>\n      <td>3</td>\n      <td>64.71</td>\n    </tr>\n  </tbody>\n</table>\n</div>"
     },
     "metadata": {},
     "output_type": "display_data"
    },
    {
     "name": "stdout",
     "output_type": "stream",
     "text": [
      "Nettoyage du jeu de données: \"all\" \n",
      "119143 16\n",
      "Après dropna, cols: 119143 16\n",
      "Colonnes de moins:\n",
      " 0\n",
      "Après dropna, lignes: 119143 16\n",
      "Lignes de moins:\n",
      " 0\n",
      "                        Indicator   count  percentage  vides\n",
      "0                     customer_id  118722       99.65    421\n",
      "1              customer_unique_id  118722       99.65    421\n",
      "2                        order_id  118722       99.65    421\n",
      "3                    order_status  118722       99.65    421\n",
      "4        order_purchase_timestamp  118722       99.65    421\n",
      "5    order_delivered_carrier_date  118722       99.65    421\n",
      "6   order_estimated_delivery_date  118722       99.65    421\n",
      "7                   order_item_id  118722       99.65    421\n",
      "8                      product_id  118722       99.65    421\n",
      "9                           price  118722       99.65    421\n",
      "10                  freight_value  118722       99.65    421\n",
      "11                   review_score  118722       99.65    421\n",
      "12             payment_sequential  118719       99.64    424\n",
      "13                   payment_type  118719       99.64    424\n",
      "14           payment_installments  118719       99.64    424\n",
      "15                  payment_value  118719       99.64    424\n",
      "\n",
      "Remove duplicates -> Lignes de moins:421\n",
      "\n",
      "Output:  (118722, 16)\n",
      "\n",
      "--------------------------------\n",
      "\n"
     ]
    }
   ],
   "source": [
    "l_merge = [[[0, ['customer_id', 'customer_unique_id']],\n",
    "            [5, ['customer_id', 'order_id', 'order_status',\n",
    "                 'order_purchase_timestamp',\n",
    "                 'order_delivered_carrier_date',\n",
    "                 'order_estimated_delivery_date']],\n",
    "            'customer_id'],\n",
    "           [[], [2, ['order_id', 'order_item_id',\n",
    "                     'product_id', 'price', 'freight_value' ]],\n",
    "            'order_id'],\n",
    "           [[], [4, ['order_id','review_score']], 'order_id'],\n",
    "           [[], [3, ['order_id', 'payment_sequential', 'payment_type',\n",
    "                     'payment_installments', 'payment_value']],\n",
    "            'order_id']]\n",
    "\n",
    "df_merge_1 = create_df_from_two_dfs_join(l_df, l_merge, 'left')\n",
    "df_all_start = nettoyage(df_merge_1, 'all')\n",
    "\n",
    "# Pour chaque ligne de la commande order_id,\n",
    "# on retient seulement la première ligne\n",
    "\n",
    "df_all_start['dup'] \\\n",
    "    = df_all_start.duplicated(subset='order_id', keep='first')\n",
    "# très important"
   ],
   "metadata": {
    "collapsed": false,
    "pycharm": {
     "name": "#%%\n"
    }
   }
  },
  {
   "cell_type": "markdown",
   "source": [
    "C'est-à-dire que 118719 achats de *produits* (les commandes peuvent inclure\n",
    "plus d'un produit et le meme produit achète plusieurs est toujours\n",
    "indiqué avec le meme product_id, qui se répètera) sont enregistrés.\n",
    "Il reste à trier les commandes non livrées.\n",
    "____________________________________"
   ],
   "metadata": {
    "collapsed": false,
    "pycharm": {
     "name": "#%% md\n"
    }
   }
  },
  {
   "cell_type": "markdown",
   "source": [
    "# 3.1 Nombre de clients uniques de df_all ()"
   ],
   "metadata": {
    "collapsed": false,
    "pycharm": {
     "name": "#%% md\n"
    }
   }
  },
  {
   "cell_type": "code",
   "execution_count": 37,
   "outputs": [
    {
     "name": "stdout",
     "output_type": "stream",
     "text": [
      "Le numéro de clients uniques est confirmé: 96096\n"
     ]
    }
   ],
   "source": [
    "print('Le numéro de clients uniques est confirmé: %s'\n",
    "      % df_all_start.groupby('customer_unique_id').count().shape[0])"
   ],
   "metadata": {
    "collapsed": false,
    "pycharm": {
     "name": "#%%\n"
    }
   }
  },
  {
   "cell_type": "markdown",
   "source": [
    "# 3.2 Traitement des dates sur df_all_start -> df_commandes_livrees"
   ],
   "metadata": {
    "collapsed": false,
    "pycharm": {
     "name": "#%% md\n"
    }
   }
  },
  {
   "cell_type": "code",
   "execution_count": 38,
   "outputs": [
    {
     "name": "stdout",
     "output_type": "stream",
     "text": [
      "Commandes non livrées: 2159\n",
      "Df des commandes livrées: (116563, 18)\n"
     ]
    },
    {
     "data": {
      "text/plain": "Index(['customer_id', 'customer_unique_id', 'order_id', 'order_status',\n       'order_purchase_timestamp', 'order_delivered_carrier_date',\n       'order_estimated_delivery_date', 'order_item_id', 'product_id', 'price',\n       'freight_value', 'review_score', 'payment_sequential', 'payment_type',\n       'payment_installments', 'payment_value', 'dup', 'livree'],\n      dtype='object')"
     },
     "execution_count": 38,
     "metadata": {},
     "output_type": "execute_result"
    }
   ],
   "source": [
    "def select_livraisons(df):\n",
    "    status_dict = {\n",
    "        'approved': 0,\n",
    "        'canceled': 0,\n",
    "        'created': 0,\n",
    "        'delivered': 1,\n",
    "        'invoiced': 0,\n",
    "        'processing': 0,\n",
    "        'shipped': 1,\n",
    "        'unavailable': 0\n",
    "}\n",
    "\n",
    "    df.groupby('order_status').count()\n",
    "    df.groupby('order_status').count().index\n",
    "\n",
    "    df['livree'] = df['order_status'].map(status_dict)\n",
    "\n",
    "    return df\n",
    "\n",
    "df_commandes_livrees = select_livraisons(df_all_start)\n",
    "\n",
    "print('Commandes non livrées:',\n",
    "      df_commandes_livrees.loc[\n",
    "          df_commandes_livrees['livree']==0].shape[0])\n",
    "df_commandes_livrees \\\n",
    "    = df_commandes_livrees.loc[df_commandes_livrees['livree']==1]\n",
    "print('Df des commandes livrées:', df_commandes_livrees.shape)\n",
    "df_commandes_livrees.columns\n"
   ],
   "metadata": {
    "collapsed": false,
    "pycharm": {
     "name": "#%%\n"
    }
   }
  },
  {
   "cell_type": "markdown",
   "source": [
    "***Dates limite***"
   ],
   "metadata": {
    "collapsed": false,
    "pycharm": {
     "name": "#%% md\n"
    }
   }
  },
  {
   "cell_type": "code",
   "execution_count": 39,
   "outputs": [
    {
     "name": "stderr",
     "output_type": "stream",
     "text": [
      "/var/folders/zv/tmk76ddj1sj2bmhyt0by55l40000gp/T/ipykernel_1083/1999822649.py:9: SettingWithCopyWarning: \n",
      "A value is trying to be set on a copy of a slice from a DataFrame.\n",
      "Try using .loc[row_indexer,col_indexer] = value instead\n",
      "\n",
      "See the caveats in the documentation: https://pandas.pydata.org/pandas-docs/stable/user_guide/indexing.html#returning-a-view-versus-a-copy\n",
      "  df[i] = pd.to_datetime(df[i])\n",
      "/var/folders/zv/tmk76ddj1sj2bmhyt0by55l40000gp/T/ipykernel_1083/1999822649.py:9: SettingWithCopyWarning: \n",
      "A value is trying to be set on a copy of a slice from a DataFrame.\n",
      "Try using .loc[row_indexer,col_indexer] = value instead\n",
      "\n",
      "See the caveats in the documentation: https://pandas.pydata.org/pandas-docs/stable/user_guide/indexing.html#returning-a-view-versus-a-copy\n",
      "  df[i] = pd.to_datetime(df[i])\n",
      "/var/folders/zv/tmk76ddj1sj2bmhyt0by55l40000gp/T/ipykernel_1083/1999822649.py:9: SettingWithCopyWarning: \n",
      "A value is trying to be set on a copy of a slice from a DataFrame.\n",
      "Try using .loc[row_indexer,col_indexer] = value instead\n",
      "\n",
      "See the caveats in the documentation: https://pandas.pydata.org/pandas-docs/stable/user_guide/indexing.html#returning-a-view-versus-a-copy\n",
      "  df[i] = pd.to_datetime(df[i])\n"
     ]
    },
    {
     "data": {
      "text/plain": "                            customer_id                customer_unique_id  \\\n86906  a35878bee339b45240b5a327d933509b  9726a24d281565192465aea2248a165c   \n\n                               order_id order_status order_purchase_timestamp  \\\n86906  4505acb3759da6b9c7d79a80d29ab3bb    delivered      2018-08-06 14:32:27   \n\n      order_delivered_carrier_date order_estimated_delivery_date  \\\n86906          2018-09-11 19:48:28                    2018-08-17   \n\n      order_item_id                        product_id  price freight_value  \\\n86906             1  0eb8e03d4ef83152c4642b606b5bbdec  29.99         12.51   \n\n      review_score payment_sequential payment_type payment_installments  \\\n86906            5                  1       boleto                    1   \n\n      payment_value    dup  livree  \n86906          42.5  False       1  ",
      "text/html": "<div>\n<style scoped>\n    .dataframe tbody tr th:only-of-type {\n        vertical-align: middle;\n    }\n\n    .dataframe tbody tr th {\n        vertical-align: top;\n    }\n\n    .dataframe thead th {\n        text-align: right;\n    }\n</style>\n<table border=\"1\" class=\"dataframe\">\n  <thead>\n    <tr style=\"text-align: right;\">\n      <th></th>\n      <th>customer_id</th>\n      <th>customer_unique_id</th>\n      <th>order_id</th>\n      <th>order_status</th>\n      <th>order_purchase_timestamp</th>\n      <th>order_delivered_carrier_date</th>\n      <th>order_estimated_delivery_date</th>\n      <th>order_item_id</th>\n      <th>product_id</th>\n      <th>price</th>\n      <th>freight_value</th>\n      <th>review_score</th>\n      <th>payment_sequential</th>\n      <th>payment_type</th>\n      <th>payment_installments</th>\n      <th>payment_value</th>\n      <th>dup</th>\n      <th>livree</th>\n    </tr>\n  </thead>\n  <tbody>\n    <tr>\n      <th>86906</th>\n      <td>a35878bee339b45240b5a327d933509b</td>\n      <td>9726a24d281565192465aea2248a165c</td>\n      <td>4505acb3759da6b9c7d79a80d29ab3bb</td>\n      <td>delivered</td>\n      <td>2018-08-06 14:32:27</td>\n      <td>2018-09-11 19:48:28</td>\n      <td>2018-08-17</td>\n      <td>1</td>\n      <td>0eb8e03d4ef83152c4642b606b5bbdec</td>\n      <td>29.99</td>\n      <td>12.51</td>\n      <td>5</td>\n      <td>1</td>\n      <td>boleto</td>\n      <td>1</td>\n      <td>42.5</td>\n      <td>False</td>\n      <td>1</td>\n    </tr>\n  </tbody>\n</table>\n</div>"
     },
     "metadata": {},
     "output_type": "display_data"
    },
    {
     "name": "stdout",
     "output_type": "stream",
     "text": [
      "2018-09-03 09:06:57\n",
      "3\n",
      "2016-09-04 21:15:19\n"
     ]
    },
    {
     "data": {
      "text/plain": "                             customer_id                customer_unique_id  \\\n79751   4b7decb9b58e2569548b8b4c8e20e8d7  ff22e30958c13ffe219db7d711e8f564   \n94189   898b7fee99c4e42170ab69ba59be0a8b  24ac2b4327e25baf39f2119e4228976a   \n117345  496630b6740bcca28fce9ba50d8a26ef  b701bebbdf478f5500348f03aff62121   \n108775  6e353700bc7bcdf6ebc15d6de16d7002  7febafa06d9d8f232a900a2937f04338   \n113984  e60df9449653a95af4549bbfcb18a6eb  5c58de6fb80e93396e2f35642666b693   \n\n                                order_id order_status  \\\n79751   54282e97f61c23b78330c15b154c867d      shipped   \n94189   35a972d7f8436f405b56e36add1a7140    delivered   \n117345  03ef5dedbe7492bdae72eec50764c43f    delivered   \n108775  168626408cb32af0ffaf76711caae1dc    delivered   \n113984  0b223d92c27432930dfe407c6aea3041    delivered   \n\n       order_purchase_timestamp order_delivered_carrier_date  \\\n79751       2018-09-03 09:06:57          2018-09-04 15:25:00   \n94189       2018-08-29 15:00:37          2018-08-29 16:57:00   \n117345      2018-08-29 14:52:00          2018-08-29 20:01:00   \n108775      2018-08-29 14:18:28          2018-08-29 18:51:00   \n113984      2018-08-29 14:18:23          2018-08-29 15:29:00   \n\n       order_estimated_delivery_date order_item_id  \\\n79751                     2018-09-06             1   \n94189                     2018-09-05             1   \n117345                    2018-09-03             1   \n108775                    2018-09-11             1   \n113984                    2018-09-04             1   \n\n                              product_id  price freight_value review_score  \\\n79751   b98992ea80b467987a7fbb88e7f2076a  145.0         21.46            1   \n94189   d04857e7b4b708ee8b8b9921163edba3  84.99          8.76            5   \n117345  c7f27c5bef2338541c772b5776403e6a   24.9          8.33            3   \n108775  bdcf6a834e8faa30dac3886c7a58e92e   45.9         15.39            5   \n113984  2b4472df15512a2825ae86fd9ae79335  209.0         46.48            5   \n\n       payment_sequential payment_type payment_installments payment_value  \\\n79751                   1      voucher                    1        166.46   \n94189                   1  credit_card                    1         93.75   \n117345                  1  credit_card                    1         33.23   \n108775                  1      voucher                    1         61.29   \n113984                  1  credit_card                    8        510.96   \n\n          dup  livree  \n79751   False       1  \n94189   False       1  \n117345  False       1  \n108775  False       1  \n113984   True       1  ",
      "text/html": "<div>\n<style scoped>\n    .dataframe tbody tr th:only-of-type {\n        vertical-align: middle;\n    }\n\n    .dataframe tbody tr th {\n        vertical-align: top;\n    }\n\n    .dataframe thead th {\n        text-align: right;\n    }\n</style>\n<table border=\"1\" class=\"dataframe\">\n  <thead>\n    <tr style=\"text-align: right;\">\n      <th></th>\n      <th>customer_id</th>\n      <th>customer_unique_id</th>\n      <th>order_id</th>\n      <th>order_status</th>\n      <th>order_purchase_timestamp</th>\n      <th>order_delivered_carrier_date</th>\n      <th>order_estimated_delivery_date</th>\n      <th>order_item_id</th>\n      <th>product_id</th>\n      <th>price</th>\n      <th>freight_value</th>\n      <th>review_score</th>\n      <th>payment_sequential</th>\n      <th>payment_type</th>\n      <th>payment_installments</th>\n      <th>payment_value</th>\n      <th>dup</th>\n      <th>livree</th>\n    </tr>\n  </thead>\n  <tbody>\n    <tr>\n      <th>79751</th>\n      <td>4b7decb9b58e2569548b8b4c8e20e8d7</td>\n      <td>ff22e30958c13ffe219db7d711e8f564</td>\n      <td>54282e97f61c23b78330c15b154c867d</td>\n      <td>shipped</td>\n      <td>2018-09-03 09:06:57</td>\n      <td>2018-09-04 15:25:00</td>\n      <td>2018-09-06</td>\n      <td>1</td>\n      <td>b98992ea80b467987a7fbb88e7f2076a</td>\n      <td>145.0</td>\n      <td>21.46</td>\n      <td>1</td>\n      <td>1</td>\n      <td>voucher</td>\n      <td>1</td>\n      <td>166.46</td>\n      <td>False</td>\n      <td>1</td>\n    </tr>\n    <tr>\n      <th>94189</th>\n      <td>898b7fee99c4e42170ab69ba59be0a8b</td>\n      <td>24ac2b4327e25baf39f2119e4228976a</td>\n      <td>35a972d7f8436f405b56e36add1a7140</td>\n      <td>delivered</td>\n      <td>2018-08-29 15:00:37</td>\n      <td>2018-08-29 16:57:00</td>\n      <td>2018-09-05</td>\n      <td>1</td>\n      <td>d04857e7b4b708ee8b8b9921163edba3</td>\n      <td>84.99</td>\n      <td>8.76</td>\n      <td>5</td>\n      <td>1</td>\n      <td>credit_card</td>\n      <td>1</td>\n      <td>93.75</td>\n      <td>False</td>\n      <td>1</td>\n    </tr>\n    <tr>\n      <th>117345</th>\n      <td>496630b6740bcca28fce9ba50d8a26ef</td>\n      <td>b701bebbdf478f5500348f03aff62121</td>\n      <td>03ef5dedbe7492bdae72eec50764c43f</td>\n      <td>delivered</td>\n      <td>2018-08-29 14:52:00</td>\n      <td>2018-08-29 20:01:00</td>\n      <td>2018-09-03</td>\n      <td>1</td>\n      <td>c7f27c5bef2338541c772b5776403e6a</td>\n      <td>24.9</td>\n      <td>8.33</td>\n      <td>3</td>\n      <td>1</td>\n      <td>credit_card</td>\n      <td>1</td>\n      <td>33.23</td>\n      <td>False</td>\n      <td>1</td>\n    </tr>\n    <tr>\n      <th>108775</th>\n      <td>6e353700bc7bcdf6ebc15d6de16d7002</td>\n      <td>7febafa06d9d8f232a900a2937f04338</td>\n      <td>168626408cb32af0ffaf76711caae1dc</td>\n      <td>delivered</td>\n      <td>2018-08-29 14:18:28</td>\n      <td>2018-08-29 18:51:00</td>\n      <td>2018-09-11</td>\n      <td>1</td>\n      <td>bdcf6a834e8faa30dac3886c7a58e92e</td>\n      <td>45.9</td>\n      <td>15.39</td>\n      <td>5</td>\n      <td>1</td>\n      <td>voucher</td>\n      <td>1</td>\n      <td>61.29</td>\n      <td>False</td>\n      <td>1</td>\n    </tr>\n    <tr>\n      <th>113984</th>\n      <td>e60df9449653a95af4549bbfcb18a6eb</td>\n      <td>5c58de6fb80e93396e2f35642666b693</td>\n      <td>0b223d92c27432930dfe407c6aea3041</td>\n      <td>delivered</td>\n      <td>2018-08-29 14:18:23</td>\n      <td>2018-08-29 15:29:00</td>\n      <td>2018-09-04</td>\n      <td>1</td>\n      <td>2b4472df15512a2825ae86fd9ae79335</td>\n      <td>209.0</td>\n      <td>46.48</td>\n      <td>5</td>\n      <td>1</td>\n      <td>credit_card</td>\n      <td>8</td>\n      <td>510.96</td>\n      <td>True</td>\n      <td>1</td>\n    </tr>\n  </tbody>\n</table>\n</div>"
     },
     "metadata": {},
     "output_type": "display_data"
    },
    {
     "data": {
      "text/plain": "                            customer_id                customer_unique_id  \\\n29849  86dc2ffce2dfff336de2f386a786e574  830d5b7aaa3b6f1e9ad63703bec97d23   \n29848  86dc2ffce2dfff336de2f386a786e574  830d5b7aaa3b6f1e9ad63703bec97d23   \n29847  86dc2ffce2dfff336de2f386a786e574  830d5b7aaa3b6f1e9ad63703bec97d23   \n97652  08c5351a6aca1c1589a38f244edeee9d  b7d76e111c89f7ebf14761390f0f7d17   \n97653  08c5351a6aca1c1589a38f244edeee9d  b7d76e111c89f7ebf14761390f0f7d17   \n\n                               order_id order_status order_purchase_timestamp  \\\n29849  bfbd0f9bdef84302105ad712db648a6c    delivered      2016-09-15 12:16:38   \n29848  bfbd0f9bdef84302105ad712db648a6c    delivered      2016-09-15 12:16:38   \n29847  bfbd0f9bdef84302105ad712db648a6c    delivered      2016-09-15 12:16:38   \n97652  2e7a8482f6fb09756ca50c10d7bfc047      shipped      2016-09-04 21:15:19   \n97653  2e7a8482f6fb09756ca50c10d7bfc047      shipped      2016-09-04 21:15:19   \n\n      order_delivered_carrier_date order_estimated_delivery_date  \\\n29849          2016-11-07 17:11:53                    2016-10-04   \n29848          2016-11-07 17:11:53                    2016-10-04   \n29847          2016-11-07 17:11:53                    2016-10-04   \n97652          2016-10-18 13:14:51                    2016-10-20   \n97653          2016-10-18 13:14:51                    2016-10-20   \n\n      order_item_id                        product_id  price freight_value  \\\n29849             1  5a6b04657a4c5ee34285d1e4619a96b4  44.99          2.83   \n29848             2  5a6b04657a4c5ee34285d1e4619a96b4  44.99          2.83   \n29847             3  5a6b04657a4c5ee34285d1e4619a96b4  44.99          2.83   \n97652             1  c1488892604e4ba5cff5b4eb4d595400  39.99         31.67   \n97653             2  f293394c72c9b5fafd7023301fc21fc2   32.9         31.67   \n\n      review_score payment_sequential payment_type payment_installments  \\\n29849            1                NaN          NaN                  NaN   \n29848            1                NaN          NaN                  NaN   \n29847            1                NaN          NaN                  NaN   \n97652            1                  1  credit_card                    1   \n97653            1                  1  credit_card                    1   \n\n      payment_value    dup  livree  \n29849           NaN   True       1  \n29848           NaN   True       1  \n29847           NaN  False       1  \n97652        136.23  False       1  \n97653        136.23   True       1  ",
      "text/html": "<div>\n<style scoped>\n    .dataframe tbody tr th:only-of-type {\n        vertical-align: middle;\n    }\n\n    .dataframe tbody tr th {\n        vertical-align: top;\n    }\n\n    .dataframe thead th {\n        text-align: right;\n    }\n</style>\n<table border=\"1\" class=\"dataframe\">\n  <thead>\n    <tr style=\"text-align: right;\">\n      <th></th>\n      <th>customer_id</th>\n      <th>customer_unique_id</th>\n      <th>order_id</th>\n      <th>order_status</th>\n      <th>order_purchase_timestamp</th>\n      <th>order_delivered_carrier_date</th>\n      <th>order_estimated_delivery_date</th>\n      <th>order_item_id</th>\n      <th>product_id</th>\n      <th>price</th>\n      <th>freight_value</th>\n      <th>review_score</th>\n      <th>payment_sequential</th>\n      <th>payment_type</th>\n      <th>payment_installments</th>\n      <th>payment_value</th>\n      <th>dup</th>\n      <th>livree</th>\n    </tr>\n  </thead>\n  <tbody>\n    <tr>\n      <th>29849</th>\n      <td>86dc2ffce2dfff336de2f386a786e574</td>\n      <td>830d5b7aaa3b6f1e9ad63703bec97d23</td>\n      <td>bfbd0f9bdef84302105ad712db648a6c</td>\n      <td>delivered</td>\n      <td>2016-09-15 12:16:38</td>\n      <td>2016-11-07 17:11:53</td>\n      <td>2016-10-04</td>\n      <td>1</td>\n      <td>5a6b04657a4c5ee34285d1e4619a96b4</td>\n      <td>44.99</td>\n      <td>2.83</td>\n      <td>1</td>\n      <td>NaN</td>\n      <td>NaN</td>\n      <td>NaN</td>\n      <td>NaN</td>\n      <td>True</td>\n      <td>1</td>\n    </tr>\n    <tr>\n      <th>29848</th>\n      <td>86dc2ffce2dfff336de2f386a786e574</td>\n      <td>830d5b7aaa3b6f1e9ad63703bec97d23</td>\n      <td>bfbd0f9bdef84302105ad712db648a6c</td>\n      <td>delivered</td>\n      <td>2016-09-15 12:16:38</td>\n      <td>2016-11-07 17:11:53</td>\n      <td>2016-10-04</td>\n      <td>2</td>\n      <td>5a6b04657a4c5ee34285d1e4619a96b4</td>\n      <td>44.99</td>\n      <td>2.83</td>\n      <td>1</td>\n      <td>NaN</td>\n      <td>NaN</td>\n      <td>NaN</td>\n      <td>NaN</td>\n      <td>True</td>\n      <td>1</td>\n    </tr>\n    <tr>\n      <th>29847</th>\n      <td>86dc2ffce2dfff336de2f386a786e574</td>\n      <td>830d5b7aaa3b6f1e9ad63703bec97d23</td>\n      <td>bfbd0f9bdef84302105ad712db648a6c</td>\n      <td>delivered</td>\n      <td>2016-09-15 12:16:38</td>\n      <td>2016-11-07 17:11:53</td>\n      <td>2016-10-04</td>\n      <td>3</td>\n      <td>5a6b04657a4c5ee34285d1e4619a96b4</td>\n      <td>44.99</td>\n      <td>2.83</td>\n      <td>1</td>\n      <td>NaN</td>\n      <td>NaN</td>\n      <td>NaN</td>\n      <td>NaN</td>\n      <td>False</td>\n      <td>1</td>\n    </tr>\n    <tr>\n      <th>97652</th>\n      <td>08c5351a6aca1c1589a38f244edeee9d</td>\n      <td>b7d76e111c89f7ebf14761390f0f7d17</td>\n      <td>2e7a8482f6fb09756ca50c10d7bfc047</td>\n      <td>shipped</td>\n      <td>2016-09-04 21:15:19</td>\n      <td>2016-10-18 13:14:51</td>\n      <td>2016-10-20</td>\n      <td>1</td>\n      <td>c1488892604e4ba5cff5b4eb4d595400</td>\n      <td>39.99</td>\n      <td>31.67</td>\n      <td>1</td>\n      <td>1</td>\n      <td>credit_card</td>\n      <td>1</td>\n      <td>136.23</td>\n      <td>False</td>\n      <td>1</td>\n    </tr>\n    <tr>\n      <th>97653</th>\n      <td>08c5351a6aca1c1589a38f244edeee9d</td>\n      <td>b7d76e111c89f7ebf14761390f0f7d17</td>\n      <td>2e7a8482f6fb09756ca50c10d7bfc047</td>\n      <td>shipped</td>\n      <td>2016-09-04 21:15:19</td>\n      <td>2016-10-18 13:14:51</td>\n      <td>2016-10-20</td>\n      <td>2</td>\n      <td>f293394c72c9b5fafd7023301fc21fc2</td>\n      <td>32.9</td>\n      <td>31.67</td>\n      <td>1</td>\n      <td>1</td>\n      <td>credit_card</td>\n      <td>1</td>\n      <td>136.23</td>\n      <td>True</td>\n      <td>1</td>\n    </tr>\n  </tbody>\n</table>\n</div>"
     },
     "metadata": {},
     "output_type": "display_data"
    },
    {
     "name": "stdout",
     "output_type": "stream",
     "text": [
      "Élimination commandes avec une attente negative entre achat et reception (erreurs de saisie)\n",
      "(116563, 23) ->\n",
      "(116372, 23)\n",
      "729 0\n"
     ]
    },
    {
     "data": {
      "text/plain": "                             customer_id                customer_unique_id  \\\n79751   4b7decb9b58e2569548b8b4c8e20e8d7  ff22e30958c13ffe219db7d711e8f564   \n94189   898b7fee99c4e42170ab69ba59be0a8b  24ac2b4327e25baf39f2119e4228976a   \n117345  496630b6740bcca28fce9ba50d8a26ef  b701bebbdf478f5500348f03aff62121   \n108775  6e353700bc7bcdf6ebc15d6de16d7002  7febafa06d9d8f232a900a2937f04338   \n113984  e60df9449653a95af4549bbfcb18a6eb  5c58de6fb80e93396e2f35642666b693   \n\n                                order_id order_status  \\\n79751   54282e97f61c23b78330c15b154c867d      shipped   \n94189   35a972d7f8436f405b56e36add1a7140    delivered   \n117345  03ef5dedbe7492bdae72eec50764c43f    delivered   \n108775  168626408cb32af0ffaf76711caae1dc    delivered   \n113984  0b223d92c27432930dfe407c6aea3041    delivered   \n\n       order_purchase_timestamp order_delivered_carrier_date  \\\n79751       2018-09-03 09:06:57          2018-09-04 15:25:00   \n94189       2018-08-29 15:00:37          2018-08-29 16:57:00   \n117345      2018-08-29 14:52:00          2018-08-29 20:01:00   \n108775      2018-08-29 14:18:28          2018-08-29 18:51:00   \n113984      2018-08-29 14:18:23          2018-08-29 15:29:00   \n\n       order_estimated_delivery_date order_item_id  \\\n79751                     2018-09-06             1   \n94189                     2018-09-05             1   \n117345                    2018-09-03             1   \n108775                    2018-09-11             1   \n113984                    2018-09-04             1   \n\n                              product_id  price  ... livree  \\\n79751   b98992ea80b467987a7fbb88e7f2076a  145.0  ...      1   \n94189   d04857e7b4b708ee8b8b9921163edba3  84.99  ...      1   \n117345  c7f27c5bef2338541c772b5776403e6a   24.9  ...      1   \n108775  bdcf6a834e8faa30dac3886c7a58e92e   45.9  ...      1   \n113984  2b4472df15512a2825ae86fd9ae79335  209.0  ...      1   \n\n       recency_order_purchase_timestamp recency_order_delivered_carrier_date  \\\n79751                                 0                                -1.00   \n94189                                 5                                 5.00   \n117345                                5                                 5.00   \n108775                                5                                 5.00   \n113984                                5                                 5.00   \n\n       recency_order_estimated_delivery_date         attente attente-jours  \\\n79751                                     -3 1 days 06:18:03          1.00   \n94189                                     -2 0 days 01:56:23          0.00   \n117345                                     0 0 days 05:09:00          0.00   \n108775                                    -8 0 days 04:32:32          0.00   \n113984                                    -1 0 days 01:10:37          0.00   \n\n        decalage-prevision  decalage-prevision-jours  rapidite_livraison  \\\n79751    -2 days +15:25:00                        -2                 101   \n94189    -7 days +16:57:00                        -7                 106   \n117345   -5 days +20:01:00                        -5                 104   \n108775  -13 days +18:51:00                       -13                 112   \n113984   -6 days +15:29:00                        -6                 105   \n\n        recency_crescent  \n79751                729  \n94189                724  \n117345               724  \n108775               724  \n113984               724  \n\n[5 rows x 27 columns]",
      "text/html": "<div>\n<style scoped>\n    .dataframe tbody tr th:only-of-type {\n        vertical-align: middle;\n    }\n\n    .dataframe tbody tr th {\n        vertical-align: top;\n    }\n\n    .dataframe thead th {\n        text-align: right;\n    }\n</style>\n<table border=\"1\" class=\"dataframe\">\n  <thead>\n    <tr style=\"text-align: right;\">\n      <th></th>\n      <th>customer_id</th>\n      <th>customer_unique_id</th>\n      <th>order_id</th>\n      <th>order_status</th>\n      <th>order_purchase_timestamp</th>\n      <th>order_delivered_carrier_date</th>\n      <th>order_estimated_delivery_date</th>\n      <th>order_item_id</th>\n      <th>product_id</th>\n      <th>price</th>\n      <th>...</th>\n      <th>livree</th>\n      <th>recency_order_purchase_timestamp</th>\n      <th>recency_order_delivered_carrier_date</th>\n      <th>recency_order_estimated_delivery_date</th>\n      <th>attente</th>\n      <th>attente-jours</th>\n      <th>decalage-prevision</th>\n      <th>decalage-prevision-jours</th>\n      <th>rapidite_livraison</th>\n      <th>recency_crescent</th>\n    </tr>\n  </thead>\n  <tbody>\n    <tr>\n      <th>79751</th>\n      <td>4b7decb9b58e2569548b8b4c8e20e8d7</td>\n      <td>ff22e30958c13ffe219db7d711e8f564</td>\n      <td>54282e97f61c23b78330c15b154c867d</td>\n      <td>shipped</td>\n      <td>2018-09-03 09:06:57</td>\n      <td>2018-09-04 15:25:00</td>\n      <td>2018-09-06</td>\n      <td>1</td>\n      <td>b98992ea80b467987a7fbb88e7f2076a</td>\n      <td>145.0</td>\n      <td>...</td>\n      <td>1</td>\n      <td>0</td>\n      <td>-1.00</td>\n      <td>-3</td>\n      <td>1 days 06:18:03</td>\n      <td>1.00</td>\n      <td>-2 days +15:25:00</td>\n      <td>-2</td>\n      <td>101</td>\n      <td>729</td>\n    </tr>\n    <tr>\n      <th>94189</th>\n      <td>898b7fee99c4e42170ab69ba59be0a8b</td>\n      <td>24ac2b4327e25baf39f2119e4228976a</td>\n      <td>35a972d7f8436f405b56e36add1a7140</td>\n      <td>delivered</td>\n      <td>2018-08-29 15:00:37</td>\n      <td>2018-08-29 16:57:00</td>\n      <td>2018-09-05</td>\n      <td>1</td>\n      <td>d04857e7b4b708ee8b8b9921163edba3</td>\n      <td>84.99</td>\n      <td>...</td>\n      <td>1</td>\n      <td>5</td>\n      <td>5.00</td>\n      <td>-2</td>\n      <td>0 days 01:56:23</td>\n      <td>0.00</td>\n      <td>-7 days +16:57:00</td>\n      <td>-7</td>\n      <td>106</td>\n      <td>724</td>\n    </tr>\n    <tr>\n      <th>117345</th>\n      <td>496630b6740bcca28fce9ba50d8a26ef</td>\n      <td>b701bebbdf478f5500348f03aff62121</td>\n      <td>03ef5dedbe7492bdae72eec50764c43f</td>\n      <td>delivered</td>\n      <td>2018-08-29 14:52:00</td>\n      <td>2018-08-29 20:01:00</td>\n      <td>2018-09-03</td>\n      <td>1</td>\n      <td>c7f27c5bef2338541c772b5776403e6a</td>\n      <td>24.9</td>\n      <td>...</td>\n      <td>1</td>\n      <td>5</td>\n      <td>5.00</td>\n      <td>0</td>\n      <td>0 days 05:09:00</td>\n      <td>0.00</td>\n      <td>-5 days +20:01:00</td>\n      <td>-5</td>\n      <td>104</td>\n      <td>724</td>\n    </tr>\n    <tr>\n      <th>108775</th>\n      <td>6e353700bc7bcdf6ebc15d6de16d7002</td>\n      <td>7febafa06d9d8f232a900a2937f04338</td>\n      <td>168626408cb32af0ffaf76711caae1dc</td>\n      <td>delivered</td>\n      <td>2018-08-29 14:18:28</td>\n      <td>2018-08-29 18:51:00</td>\n      <td>2018-09-11</td>\n      <td>1</td>\n      <td>bdcf6a834e8faa30dac3886c7a58e92e</td>\n      <td>45.9</td>\n      <td>...</td>\n      <td>1</td>\n      <td>5</td>\n      <td>5.00</td>\n      <td>-8</td>\n      <td>0 days 04:32:32</td>\n      <td>0.00</td>\n      <td>-13 days +18:51:00</td>\n      <td>-13</td>\n      <td>112</td>\n      <td>724</td>\n    </tr>\n    <tr>\n      <th>113984</th>\n      <td>e60df9449653a95af4549bbfcb18a6eb</td>\n      <td>5c58de6fb80e93396e2f35642666b693</td>\n      <td>0b223d92c27432930dfe407c6aea3041</td>\n      <td>delivered</td>\n      <td>2018-08-29 14:18:23</td>\n      <td>2018-08-29 15:29:00</td>\n      <td>2018-09-04</td>\n      <td>1</td>\n      <td>2b4472df15512a2825ae86fd9ae79335</td>\n      <td>209.0</td>\n      <td>...</td>\n      <td>1</td>\n      <td>5</td>\n      <td>5.00</td>\n      <td>-1</td>\n      <td>0 days 01:10:37</td>\n      <td>0.00</td>\n      <td>-6 days +15:29:00</td>\n      <td>-6</td>\n      <td>105</td>\n      <td>724</td>\n    </tr>\n  </tbody>\n</table>\n<p>5 rows × 27 columns</p>\n</div>"
     },
     "metadata": {},
     "output_type": "display_data"
    },
    {
     "data": {
      "text/plain": "                            customer_id                customer_unique_id  \\\n29849  86dc2ffce2dfff336de2f386a786e574  830d5b7aaa3b6f1e9ad63703bec97d23   \n29848  86dc2ffce2dfff336de2f386a786e574  830d5b7aaa3b6f1e9ad63703bec97d23   \n29847  86dc2ffce2dfff336de2f386a786e574  830d5b7aaa3b6f1e9ad63703bec97d23   \n97652  08c5351a6aca1c1589a38f244edeee9d  b7d76e111c89f7ebf14761390f0f7d17   \n97653  08c5351a6aca1c1589a38f244edeee9d  b7d76e111c89f7ebf14761390f0f7d17   \n\n                               order_id order_status order_purchase_timestamp  \\\n29849  bfbd0f9bdef84302105ad712db648a6c    delivered      2016-09-15 12:16:38   \n29848  bfbd0f9bdef84302105ad712db648a6c    delivered      2016-09-15 12:16:38   \n29847  bfbd0f9bdef84302105ad712db648a6c    delivered      2016-09-15 12:16:38   \n97652  2e7a8482f6fb09756ca50c10d7bfc047      shipped      2016-09-04 21:15:19   \n97653  2e7a8482f6fb09756ca50c10d7bfc047      shipped      2016-09-04 21:15:19   \n\n      order_delivered_carrier_date order_estimated_delivery_date  \\\n29849          2016-11-07 17:11:53                    2016-10-04   \n29848          2016-11-07 17:11:53                    2016-10-04   \n29847          2016-11-07 17:11:53                    2016-10-04   \n97652          2016-10-18 13:14:51                    2016-10-20   \n97653          2016-10-18 13:14:51                    2016-10-20   \n\n      order_item_id                        product_id  price  ... livree  \\\n29849             1  5a6b04657a4c5ee34285d1e4619a96b4  44.99  ...      1   \n29848             2  5a6b04657a4c5ee34285d1e4619a96b4  44.99  ...      1   \n29847             3  5a6b04657a4c5ee34285d1e4619a96b4  44.99  ...      1   \n97652             1  c1488892604e4ba5cff5b4eb4d595400  39.99  ...      1   \n97653             2  f293394c72c9b5fafd7023301fc21fc2   32.9  ...      1   \n\n      recency_order_purchase_timestamp recency_order_delivered_carrier_date  \\\n29849                              718                               665.00   \n29848                              718                               665.00   \n29847                              718                               665.00   \n97652                              729                               685.00   \n97653                              729                               685.00   \n\n      recency_order_estimated_delivery_date          attente attente-jours  \\\n29849                                   699 53 days 04:55:15         53.00   \n29848                                   699 53 days 04:55:15         53.00   \n29847                                   699 53 days 04:55:15         53.00   \n97652                                   683 43 days 15:59:32         43.00   \n97653                                   683 43 days 15:59:32         43.00   \n\n       decalage-prevision  decalage-prevision-jours  rapidite_livraison  \\\n29849    34 days 17:11:53                        34                  65   \n29848    34 days 17:11:53                        34                  65   \n29847    34 days 17:11:53                        34                  65   \n97652   -2 days +13:14:51                        -2                 101   \n97653   -2 days +13:14:51                        -2                 101   \n\n       recency_crescent  \n29849                11  \n29848                11  \n29847                11  \n97652                 0  \n97653                 0  \n\n[5 rows x 27 columns]",
      "text/html": "<div>\n<style scoped>\n    .dataframe tbody tr th:only-of-type {\n        vertical-align: middle;\n    }\n\n    .dataframe tbody tr th {\n        vertical-align: top;\n    }\n\n    .dataframe thead th {\n        text-align: right;\n    }\n</style>\n<table border=\"1\" class=\"dataframe\">\n  <thead>\n    <tr style=\"text-align: right;\">\n      <th></th>\n      <th>customer_id</th>\n      <th>customer_unique_id</th>\n      <th>order_id</th>\n      <th>order_status</th>\n      <th>order_purchase_timestamp</th>\n      <th>order_delivered_carrier_date</th>\n      <th>order_estimated_delivery_date</th>\n      <th>order_item_id</th>\n      <th>product_id</th>\n      <th>price</th>\n      <th>...</th>\n      <th>livree</th>\n      <th>recency_order_purchase_timestamp</th>\n      <th>recency_order_delivered_carrier_date</th>\n      <th>recency_order_estimated_delivery_date</th>\n      <th>attente</th>\n      <th>attente-jours</th>\n      <th>decalage-prevision</th>\n      <th>decalage-prevision-jours</th>\n      <th>rapidite_livraison</th>\n      <th>recency_crescent</th>\n    </tr>\n  </thead>\n  <tbody>\n    <tr>\n      <th>29849</th>\n      <td>86dc2ffce2dfff336de2f386a786e574</td>\n      <td>830d5b7aaa3b6f1e9ad63703bec97d23</td>\n      <td>bfbd0f9bdef84302105ad712db648a6c</td>\n      <td>delivered</td>\n      <td>2016-09-15 12:16:38</td>\n      <td>2016-11-07 17:11:53</td>\n      <td>2016-10-04</td>\n      <td>1</td>\n      <td>5a6b04657a4c5ee34285d1e4619a96b4</td>\n      <td>44.99</td>\n      <td>...</td>\n      <td>1</td>\n      <td>718</td>\n      <td>665.00</td>\n      <td>699</td>\n      <td>53 days 04:55:15</td>\n      <td>53.00</td>\n      <td>34 days 17:11:53</td>\n      <td>34</td>\n      <td>65</td>\n      <td>11</td>\n    </tr>\n    <tr>\n      <th>29848</th>\n      <td>86dc2ffce2dfff336de2f386a786e574</td>\n      <td>830d5b7aaa3b6f1e9ad63703bec97d23</td>\n      <td>bfbd0f9bdef84302105ad712db648a6c</td>\n      <td>delivered</td>\n      <td>2016-09-15 12:16:38</td>\n      <td>2016-11-07 17:11:53</td>\n      <td>2016-10-04</td>\n      <td>2</td>\n      <td>5a6b04657a4c5ee34285d1e4619a96b4</td>\n      <td>44.99</td>\n      <td>...</td>\n      <td>1</td>\n      <td>718</td>\n      <td>665.00</td>\n      <td>699</td>\n      <td>53 days 04:55:15</td>\n      <td>53.00</td>\n      <td>34 days 17:11:53</td>\n      <td>34</td>\n      <td>65</td>\n      <td>11</td>\n    </tr>\n    <tr>\n      <th>29847</th>\n      <td>86dc2ffce2dfff336de2f386a786e574</td>\n      <td>830d5b7aaa3b6f1e9ad63703bec97d23</td>\n      <td>bfbd0f9bdef84302105ad712db648a6c</td>\n      <td>delivered</td>\n      <td>2016-09-15 12:16:38</td>\n      <td>2016-11-07 17:11:53</td>\n      <td>2016-10-04</td>\n      <td>3</td>\n      <td>5a6b04657a4c5ee34285d1e4619a96b4</td>\n      <td>44.99</td>\n      <td>...</td>\n      <td>1</td>\n      <td>718</td>\n      <td>665.00</td>\n      <td>699</td>\n      <td>53 days 04:55:15</td>\n      <td>53.00</td>\n      <td>34 days 17:11:53</td>\n      <td>34</td>\n      <td>65</td>\n      <td>11</td>\n    </tr>\n    <tr>\n      <th>97652</th>\n      <td>08c5351a6aca1c1589a38f244edeee9d</td>\n      <td>b7d76e111c89f7ebf14761390f0f7d17</td>\n      <td>2e7a8482f6fb09756ca50c10d7bfc047</td>\n      <td>shipped</td>\n      <td>2016-09-04 21:15:19</td>\n      <td>2016-10-18 13:14:51</td>\n      <td>2016-10-20</td>\n      <td>1</td>\n      <td>c1488892604e4ba5cff5b4eb4d595400</td>\n      <td>39.99</td>\n      <td>...</td>\n      <td>1</td>\n      <td>729</td>\n      <td>685.00</td>\n      <td>683</td>\n      <td>43 days 15:59:32</td>\n      <td>43.00</td>\n      <td>-2 days +13:14:51</td>\n      <td>-2</td>\n      <td>101</td>\n      <td>0</td>\n    </tr>\n    <tr>\n      <th>97653</th>\n      <td>08c5351a6aca1c1589a38f244edeee9d</td>\n      <td>b7d76e111c89f7ebf14761390f0f7d17</td>\n      <td>2e7a8482f6fb09756ca50c10d7bfc047</td>\n      <td>shipped</td>\n      <td>2016-09-04 21:15:19</td>\n      <td>2016-10-18 13:14:51</td>\n      <td>2016-10-20</td>\n      <td>2</td>\n      <td>f293394c72c9b5fafd7023301fc21fc2</td>\n      <td>32.9</td>\n      <td>...</td>\n      <td>1</td>\n      <td>729</td>\n      <td>685.00</td>\n      <td>683</td>\n      <td>43 days 15:59:32</td>\n      <td>43.00</td>\n      <td>-2 days +13:14:51</td>\n      <td>-2</td>\n      <td>101</td>\n      <td>0</td>\n    </tr>\n  </tbody>\n</table>\n<p>5 rows × 27 columns</p>\n</div>"
     },
     "metadata": {},
     "output_type": "display_data"
    },
    {
     "data": {
      "text/plain": "Index(['customer_id', 'customer_unique_id', 'order_id', 'order_status',\n       'order_purchase_timestamp', 'order_delivered_carrier_date',\n       'order_estimated_delivery_date', 'order_item_id', 'product_id', 'price',\n       'freight_value', 'review_score', 'payment_sequential', 'payment_type',\n       'payment_installments', 'payment_value', 'dup', 'livree',\n       'recency_order_purchase_timestamp',\n       'recency_order_delivered_carrier_date',\n       'recency_order_estimated_delivery_date', 'attente', 'attente-jours',\n       'decalage-prevision', 'decalage-prevision-jours', 'rapidite_livraison',\n       'recency_crescent'],\n      dtype='object')"
     },
     "execution_count": 39,
     "metadata": {},
     "output_type": "execute_result"
    }
   ],
   "source": [
    "df = df_commandes_livrees\n",
    "\n",
    "debut_2017 = \"2016-12-31 23:59:59\"\n",
    "\n",
    "#Régularisation du format de la date\n",
    "\n",
    "for i in ['order_purchase_timestamp', 'order_delivered_carrier_date',\n",
    "          'order_estimated_delivery_date']:\n",
    "        df[i] = pd.to_datetime(df[i])\n",
    "        # https://paritoshsharmaghimire.medium.com/\n",
    "        # datetime-in-pandas-read-csv-everything-you-have-to-know-8245bd048fa\n",
    "\n",
    "df = df.sort_values(by='order_purchase_timestamp', ascending=False)\n",
    "\n",
    "least_recent_date = df['order_purchase_timestamp'].min()\n",
    "most_recent_date = df['order_purchase_timestamp'].max()\n",
    "\n",
    "display(df.loc[df['order_delivered_carrier_date']\n",
    "               ==df['order_delivered_carrier_date'].max()])\n",
    "print(most_recent_date)\n",
    "print(most_recent_date.day)\n",
    "\n",
    "print(least_recent_date)\n",
    "\n",
    "aujourdhui = datetime.datetime.strptime(\"2018-09-04 23:59:00\",\n",
    "                                        \"%Y-%m-%d %H:%M:%S\")\n",
    "\n",
    "display(df.head(5), df.tail(5))\n",
    "\n",
    "now_ts = datetime.datetime.strptime(\"2018-09-03 23:59:00\",\n",
    "                                    \"%Y-%m-%d %H:%M:%S\")\n",
    "# fin du jour de la derniere commande livrée\n",
    "\n",
    "for i in ['order_purchase_timestamp', 'order_delivered_carrier_date',\n",
    "          'order_estimated_delivery_date']:\n",
    "        str_recency = 'recency_%s' % i\n",
    "        df[str_recency] = (now_ts-df[i]).dt.components['days']\n",
    "\n",
    "df = df.sort_values(by='order_purchase_timestamp', ascending=False)\n",
    "\n",
    "df['attente'] = df['order_delivered_carrier_date']\\\n",
    "                -df['order_purchase_timestamp']\n",
    "df['attente-jours'] = df['attente'].dt.components['days']\n",
    "\n",
    "# Élimination commandes avec une attente negative entre\n",
    "# achat et reception (erreurs de saisie)\n",
    "print('Élimination commandes avec une attente negative '\n",
    "      'entre achat et reception (erreurs de saisie)\\n%s ->'\n",
    "      % str(df.shape))\n",
    "df = df.loc[df['attente-jours']>=0] #\n",
    "print(df.shape)\n",
    "\n",
    "df['decalage-prevision'] = df['order_delivered_carrier_date']\\\n",
    "                           -df['order_estimated_delivery_date']\n",
    "df['decalage-prevision-jours'] \\\n",
    "    = df['decalage-prevision'].dt.components['days']\n",
    "\n",
    "# Mesure croissante de la rapidité de la livraison par rapport à la prévision\n",
    "df['rapidite_livraison'] = df['decalage-prevision-jours'] * (-1) + 99\n",
    "\n",
    "print(df['recency_order_purchase_timestamp'].max(),\n",
    "      df['recency_order_purchase_timestamp'].min())\n",
    "\n",
    "df['recency_crescent'] = df['recency_order_purchase_timestamp']*(-1)\\\n",
    "                         +df['recency_order_purchase_timestamp'].max()\n",
    "\n",
    "display(df.head(5), df.tail(5))\n",
    "\n",
    "df_commandes_livrees = df\n",
    "df_commandes_livrees.columns\n"
   ],
   "metadata": {
    "collapsed": false,
    "pycharm": {
     "name": "#%%\n"
    }
   }
  },
  {
   "cell_type": "markdown",
   "source": [
    "> Les commandes sont maintenant rangées en ordre chronologique, du plus récent au plus ancien.\n",
    "On peut eliminer les order_id dupliqués en étant sur.e.s que les commandes retenues seront les plus récentes."
   ],
   "metadata": {
    "collapsed": false,
    "pycharm": {
     "name": "#%% md\n"
    }
   }
  },
  {
   "cell_type": "markdown",
   "source": [
    "# 3.3 df_commandes_livrees -> df_clients\n"
   ],
   "metadata": {
    "collapsed": false,
    "pycharm": {
     "name": "#%% md\n"
    }
   }
  },
  {
   "cell_type": "code",
   "execution_count": 40,
   "outputs": [
    {
     "name": "stdout",
     "output_type": "stream",
     "text": [
      "27\n"
     ]
    },
    {
     "data": {
      "text/plain": "'df_clients.shape'"
     },
     "metadata": {},
     "output_type": "display_data"
    },
    {
     "data": {
      "text/plain": "(97417, 27)"
     },
     "metadata": {},
     "output_type": "display_data"
    },
    {
     "name": "stderr",
     "output_type": "stream",
     "text": [
      "/var/folders/zv/tmk76ddj1sj2bmhyt0by55l40000gp/T/ipykernel_1083/1243763359.py:14: SettingWithCopyWarning: \n",
      "A value is trying to be set on a copy of a slice from a DataFrame.\n",
      "Try using .loc[row_indexer,col_indexer] = value instead\n",
      "\n",
      "See the caveats in the documentation: https://pandas.pydata.org/pandas-docs/stable/user_guide/indexing.html#returning-a-view-versus-a-copy\n",
      "  df_clients['payment_value'] = df_clients['payment_value'].astype(float)\n"
     ]
    },
    {
     "data": {
      "text/plain": "<bound method NDFrame.head of                      customer_unique_id  payment_value\n0      0000366f3b9a7992bf8c76cfdf3221e2         141.90\n1      0000b849f77a49e4a4ce2b2a4ca5be3f          27.19\n2      0000f46a3911fa3c0805444483337064          86.22\n3      0000f6ccb0745a6a4b88665a16c9f078          43.62\n4      0004aac84e0df4da2b147fca70cf8255         196.89\n...                                 ...            ...\n94229  fffcf5a5ff07b0908bd4e2dbc735a684        2067.42\n94230  fffea47cd6d3cc0a88bd621562a9d061          84.58\n94231  ffff371b4d645b6ecea244b27531430a         112.46\n94232  ffff5962728ec6157033ef9805bacc48         133.69\n94233  ffffd2657e2aad2907e67c3e9daecbeb          71.56\n\n[94234 rows x 2 columns]>"
     },
     "metadata": {},
     "output_type": "display_data"
    },
    {
     "data": {
      "text/plain": "(94234, 2)"
     },
     "metadata": {},
     "output_type": "display_data"
    }
   ],
   "source": [
    "# En éliminant les order_id dupliqués de df_all,\n",
    "# on s'approche au df complet des clients uniques.\n",
    "# Les lignes avec le meme order_id peuvent se répeter dans\n",
    "# le cas où plusieurs solutions de paiement aient été choisies.\n",
    "# Toutefois l'élimination des order_id dupliqués conserve l'information\n",
    "# sur le montant total de la commande qui apparait\n",
    "# sur chaque ligne. Il est donc correct de supprimer les order_id dupliqués\n",
    "# afin de ne pas additionner des montants qui se répètent.\n",
    "\n",
    "df_clients = df_commandes_livrees.drop_duplicates(subset='order_id')\n",
    "\n",
    "print(len(df_clients.columns))\n",
    "display('df_clients.shape', df_clients.shape)\n",
    "df_clients['payment_value'] = df_clients['payment_value'].astype(float)\n",
    "# Très important\n",
    "\n",
    "df_clients_sum = df_clients[\n",
    "    ['customer_unique_id','payment_value']]\\\n",
    "    .groupby('customer_unique_id').sum()\n",
    "df_clients_sum \\\n",
    "    = df_clients_sum.reset_index().rename(\n",
    "    columns={'index': 'customer_unique_id'})\n",
    "\n",
    "display(df_clients_sum.head)\n",
    "display(df_clients_sum.shape)\n"
   ],
   "metadata": {
    "collapsed": false,
    "pycharm": {
     "name": "#%%\n"
    }
   }
  },
  {
   "cell_type": "code",
   "execution_count": 41,
   "outputs": [
    {
     "name": "stdout",
     "output_type": "stream",
     "text": [
      "1 mergers to do.\n",
      "\n",
      "\n",
      "merger n. 0 (customer_unique_id)\n",
      "DF1: 18\n",
      "18 Index(['customer_id', 'customer_unique_id', 'order_status', 'order_id',\n",
      "       'order_purchase_timestamp', 'order_delivered_carrier_date',\n",
      "       'order_estimated_delivery_date', 'review_score', 'livree',\n",
      "       'recency_order_purchase_timestamp',\n",
      "       'recency_order_delivered_carrier_date',\n",
      "       'recency_order_estimated_delivery_date', 'attente', 'attente-jours',\n",
      "       'decalage-prevision', 'decalage-prevision-jours', 'rapidite_livraison',\n",
      "       'recency_crescent'],\n",
      "      dtype='object')\n",
      "df1.shape before dropna on customer_unique_id: (97417, 18)\n",
      "df1.shape after dropna on customer_unique_id: (97417, 18)\n"
     ]
    },
    {
     "data": {
      "text/plain": "                            customer_id                customer_unique_id  \\\n3966   70bc4d9cf2bbeea3f7b09798370f5884  ffffd2657e2aad2907e67c3e9daecbeb   \n50097  832a3b0254347d409512ae92eaf154a6  ffff5962728ec6157033ef9805bacc48   \n\n      order_status                          order_id order_purchase_timestamp  \\\n3966     delivered  f79a35da168301ae56922475da21117b      2017-05-02 20:18:45   \n50097    delivered  94d3ee0bc2a0af9d4fa47a4d63616e8d      2018-05-02 15:17:41   \n\n      order_delivered_carrier_date order_estimated_delivery_date review_score  \\\n3966           2017-05-04 12:05:22           2017-05-26 00:00:00            5   \n50097          2018-05-03 16:45:00           2018-05-28 00:00:00            5   \n\n      livree recency_order_purchase_timestamp  \\\n3966       1                              489   \n50097      1                              124   \n\n      recency_order_delivered_carrier_date  \\\n3966                                 487.0   \n50097                                123.0   \n\n      recency_order_estimated_delivery_date          attente attente-jours  \\\n3966                                    465  1 days 15:46:37           1.0   \n50097                                    98  1 days 01:27:19           1.0   \n\n       decalage-prevision decalage-prevision-jours rapidite_livraison  \\\n3966   -22 days +12:05:22                      -22                121   \n50097  -25 days +16:45:00                      -25                124   \n\n      recency_crescent  \n3966               240  \n50097              605  ",
      "text/html": "<div>\n<style scoped>\n    .dataframe tbody tr th:only-of-type {\n        vertical-align: middle;\n    }\n\n    .dataframe tbody tr th {\n        vertical-align: top;\n    }\n\n    .dataframe thead th {\n        text-align: right;\n    }\n</style>\n<table border=\"1\" class=\"dataframe\">\n  <thead>\n    <tr style=\"text-align: right;\">\n      <th></th>\n      <th>customer_id</th>\n      <th>customer_unique_id</th>\n      <th>order_status</th>\n      <th>order_id</th>\n      <th>order_purchase_timestamp</th>\n      <th>order_delivered_carrier_date</th>\n      <th>order_estimated_delivery_date</th>\n      <th>review_score</th>\n      <th>livree</th>\n      <th>recency_order_purchase_timestamp</th>\n      <th>recency_order_delivered_carrier_date</th>\n      <th>recency_order_estimated_delivery_date</th>\n      <th>attente</th>\n      <th>attente-jours</th>\n      <th>decalage-prevision</th>\n      <th>decalage-prevision-jours</th>\n      <th>rapidite_livraison</th>\n      <th>recency_crescent</th>\n    </tr>\n  </thead>\n  <tbody>\n    <tr>\n      <th>3966</th>\n      <td>70bc4d9cf2bbeea3f7b09798370f5884</td>\n      <td>ffffd2657e2aad2907e67c3e9daecbeb</td>\n      <td>delivered</td>\n      <td>f79a35da168301ae56922475da21117b</td>\n      <td>2017-05-02 20:18:45</td>\n      <td>2017-05-04 12:05:22</td>\n      <td>2017-05-26 00:00:00</td>\n      <td>5</td>\n      <td>1</td>\n      <td>489</td>\n      <td>487.0</td>\n      <td>465</td>\n      <td>1 days 15:46:37</td>\n      <td>1.0</td>\n      <td>-22 days +12:05:22</td>\n      <td>-22</td>\n      <td>121</td>\n      <td>240</td>\n    </tr>\n    <tr>\n      <th>50097</th>\n      <td>832a3b0254347d409512ae92eaf154a6</td>\n      <td>ffff5962728ec6157033ef9805bacc48</td>\n      <td>delivered</td>\n      <td>94d3ee0bc2a0af9d4fa47a4d63616e8d</td>\n      <td>2018-05-02 15:17:41</td>\n      <td>2018-05-03 16:45:00</td>\n      <td>2018-05-28 00:00:00</td>\n      <td>5</td>\n      <td>1</td>\n      <td>124</td>\n      <td>123.0</td>\n      <td>98</td>\n      <td>1 days 01:27:19</td>\n      <td>1.0</td>\n      <td>-25 days +16:45:00</td>\n      <td>-25</td>\n      <td>124</td>\n      <td>605</td>\n    </tr>\n  </tbody>\n</table>\n</div>"
     },
     "metadata": {},
     "output_type": "display_data"
    },
    {
     "name": "stdout",
     "output_type": "stream",
     "text": [
      "df1[col_merge_on].shape (97417,)\n",
      "DF2: 2\n",
      "2 Index(['customer_unique_id', 'payment_value'], dtype='object')\n",
      "(94234, 2)\n",
      "df2.shape before dropna on customer_unique_id: (94234, 2)\n",
      "df2.shape after dropna on customer_unique_id: (94234, 2)\n"
     ]
    },
    {
     "data": {
      "text/plain": "                     customer_unique_id payment_value\n94233  ffffd2657e2aad2907e67c3e9daecbeb         71.56\n94232  ffff5962728ec6157033ef9805bacc48        133.69",
      "text/html": "<div>\n<style scoped>\n    .dataframe tbody tr th:only-of-type {\n        vertical-align: middle;\n    }\n\n    .dataframe tbody tr th {\n        vertical-align: top;\n    }\n\n    .dataframe thead th {\n        text-align: right;\n    }\n</style>\n<table border=\"1\" class=\"dataframe\">\n  <thead>\n    <tr style=\"text-align: right;\">\n      <th></th>\n      <th>customer_unique_id</th>\n      <th>payment_value</th>\n    </tr>\n  </thead>\n  <tbody>\n    <tr>\n      <th>94233</th>\n      <td>ffffd2657e2aad2907e67c3e9daecbeb</td>\n      <td>71.56</td>\n    </tr>\n    <tr>\n      <th>94232</th>\n      <td>ffff5962728ec6157033ef9805bacc48</td>\n      <td>133.69</td>\n    </tr>\n  </tbody>\n</table>\n</div>"
     },
     "metadata": {},
     "output_type": "display_data"
    },
    {
     "name": "stdout",
     "output_type": "stream",
     "text": [
      "df2[col_merge_on].shape (94234,)\n",
      "Output of merger n.1 (97417, 19)\n",
      "19 Index(['customer_id', 'customer_unique_id', 'order_status', 'order_id',\n",
      "       'order_purchase_timestamp', 'order_delivered_carrier_date',\n",
      "       'order_estimated_delivery_date', 'review_score', 'livree',\n",
      "       'recency_order_purchase_timestamp',\n",
      "       'recency_order_delivered_carrier_date',\n",
      "       'recency_order_estimated_delivery_date', 'attente', 'attente-jours',\n",
      "       'decalage-prevision', 'decalage-prevision-jours', 'rapidite_livraison',\n",
      "       'recency_crescent', 'payment_value'],\n",
      "      dtype='object')\n"
     ]
    },
    {
     "data": {
      "text/plain": "                        customer_id                customer_unique_id  \\\n0  70bc4d9cf2bbeea3f7b09798370f5884  ffffd2657e2aad2907e67c3e9daecbeb   \n1  832a3b0254347d409512ae92eaf154a6  ffff5962728ec6157033ef9805bacc48   \n\n  order_status                          order_id order_purchase_timestamp  \\\n0    delivered  f79a35da168301ae56922475da21117b      2017-05-02 20:18:45   \n1    delivered  94d3ee0bc2a0af9d4fa47a4d63616e8d      2018-05-02 15:17:41   \n\n  order_delivered_carrier_date order_estimated_delivery_date review_score  \\\n0          2017-05-04 12:05:22           2017-05-26 00:00:00            5   \n1          2018-05-03 16:45:00           2018-05-28 00:00:00            5   \n\n  livree recency_order_purchase_timestamp  \\\n0      1                              489   \n1      1                              124   \n\n  recency_order_delivered_carrier_date recency_order_estimated_delivery_date  \\\n0                                487.0                                   465   \n1                                123.0                                    98   \n\n           attente attente-jours  decalage-prevision decalage-prevision-jours  \\\n0  1 days 15:46:37           1.0  -22 days +12:05:22                      -22   \n1  1 days 01:27:19           1.0  -25 days +16:45:00                      -25   \n\n  rapidite_livraison recency_crescent payment_value  \n0                121              240         71.56  \n1                124              605        133.69  ",
      "text/html": "<div>\n<style scoped>\n    .dataframe tbody tr th:only-of-type {\n        vertical-align: middle;\n    }\n\n    .dataframe tbody tr th {\n        vertical-align: top;\n    }\n\n    .dataframe thead th {\n        text-align: right;\n    }\n</style>\n<table border=\"1\" class=\"dataframe\">\n  <thead>\n    <tr style=\"text-align: right;\">\n      <th></th>\n      <th>customer_id</th>\n      <th>customer_unique_id</th>\n      <th>order_status</th>\n      <th>order_id</th>\n      <th>order_purchase_timestamp</th>\n      <th>order_delivered_carrier_date</th>\n      <th>order_estimated_delivery_date</th>\n      <th>review_score</th>\n      <th>livree</th>\n      <th>recency_order_purchase_timestamp</th>\n      <th>recency_order_delivered_carrier_date</th>\n      <th>recency_order_estimated_delivery_date</th>\n      <th>attente</th>\n      <th>attente-jours</th>\n      <th>decalage-prevision</th>\n      <th>decalage-prevision-jours</th>\n      <th>rapidite_livraison</th>\n      <th>recency_crescent</th>\n      <th>payment_value</th>\n    </tr>\n  </thead>\n  <tbody>\n    <tr>\n      <th>0</th>\n      <td>70bc4d9cf2bbeea3f7b09798370f5884</td>\n      <td>ffffd2657e2aad2907e67c3e9daecbeb</td>\n      <td>delivered</td>\n      <td>f79a35da168301ae56922475da21117b</td>\n      <td>2017-05-02 20:18:45</td>\n      <td>2017-05-04 12:05:22</td>\n      <td>2017-05-26 00:00:00</td>\n      <td>5</td>\n      <td>1</td>\n      <td>489</td>\n      <td>487.0</td>\n      <td>465</td>\n      <td>1 days 15:46:37</td>\n      <td>1.0</td>\n      <td>-22 days +12:05:22</td>\n      <td>-22</td>\n      <td>121</td>\n      <td>240</td>\n      <td>71.56</td>\n    </tr>\n    <tr>\n      <th>1</th>\n      <td>832a3b0254347d409512ae92eaf154a6</td>\n      <td>ffff5962728ec6157033ef9805bacc48</td>\n      <td>delivered</td>\n      <td>94d3ee0bc2a0af9d4fa47a4d63616e8d</td>\n      <td>2018-05-02 15:17:41</td>\n      <td>2018-05-03 16:45:00</td>\n      <td>2018-05-28 00:00:00</td>\n      <td>5</td>\n      <td>1</td>\n      <td>124</td>\n      <td>123.0</td>\n      <td>98</td>\n      <td>1 days 01:27:19</td>\n      <td>1.0</td>\n      <td>-25 days +16:45:00</td>\n      <td>-25</td>\n      <td>124</td>\n      <td>605</td>\n      <td>133.69</td>\n    </tr>\n  </tbody>\n</table>\n</div>"
     },
     "metadata": {},
     "output_type": "display_data"
    },
    {
     "name": "stdout",
     "output_type": "stream",
     "text": [
      "End of merger 1\n",
      "\n",
      "df_clients_new.head()\n"
     ]
    },
    {
     "data": {
      "text/plain": "                        customer_id                customer_unique_id  \\\n0  70bc4d9cf2bbeea3f7b09798370f5884  ffffd2657e2aad2907e67c3e9daecbeb   \n1  832a3b0254347d409512ae92eaf154a6  ffff5962728ec6157033ef9805bacc48   \n2  27f584b0f1dc4e610065c240f68b6be0  ffff371b4d645b6ecea244b27531430a   \n3  0ecf8e0a08148af0bf313184f167670a  fffea47cd6d3cc0a88bd621562a9d061   \n4  74be082247cd677a147d83ee670e9d53  fffcf5a5ff07b0908bd4e2dbc735a684   \n\n  order_status                          order_id order_purchase_timestamp  \\\n0    delivered  f79a35da168301ae56922475da21117b      2017-05-02 20:18:45   \n1    delivered  94d3ee0bc2a0af9d4fa47a4d63616e8d      2018-05-02 15:17:41   \n2    delivered  fdc45e6c7555e6cb3cc0daca2557dbe1      2017-02-07 15:49:16   \n3    delivered  c71b9252fd7b3b263aaa4cb09319a323      2017-12-10 20:07:56   \n4    delivered  725cf8e9c24e679a8a5a32cb92c9ce1e      2017-06-08 21:00:36   \n\n  order_delivered_carrier_date order_estimated_delivery_date review_score  \\\n0          2017-05-04 12:05:22           2017-05-26 00:00:00            5   \n1          2018-05-03 16:45:00           2018-05-28 00:00:00            5   \n2          2017-02-08 10:04:37           2017-03-24 00:00:00            5   \n3          2017-12-21 16:27:01           2018-01-12 00:00:00            4   \n4          2017-06-23 13:03:27           2017-08-02 00:00:00            5   \n\n  livree recency_order_purchase_timestamp  \\\n0      1                              489   \n1      1                              124   \n2      1                              573   \n3      1                              267   \n4      1                              452   \n\n  recency_order_delivered_carrier_date recency_order_estimated_delivery_date  \\\n0                                487.0                                   465   \n1                                123.0                                    98   \n2                                572.0                                   528   \n3                                256.0                                   234   \n4                                437.0                                   397   \n\n            attente attente-jours  decalage-prevision  \\\n0   1 days 15:46:37           1.0  -22 days +12:05:22   \n1   1 days 01:27:19           1.0  -25 days +16:45:00   \n2   0 days 18:15:21           0.0  -44 days +10:04:37   \n3  10 days 20:19:05          10.0  -22 days +16:27:01   \n4  14 days 16:02:51          14.0  -40 days +13:03:27   \n\n  decalage-prevision-jours rapidite_livraison recency_crescent payment_value  \n0                      -22                121              240         71.56  \n1                      -25                124              605        133.69  \n2                      -44                143              156        112.46  \n3                      -22                121              462         84.58  \n4                      -40                139              277       2067.42  ",
      "text/html": "<div>\n<style scoped>\n    .dataframe tbody tr th:only-of-type {\n        vertical-align: middle;\n    }\n\n    .dataframe tbody tr th {\n        vertical-align: top;\n    }\n\n    .dataframe thead th {\n        text-align: right;\n    }\n</style>\n<table border=\"1\" class=\"dataframe\">\n  <thead>\n    <tr style=\"text-align: right;\">\n      <th></th>\n      <th>customer_id</th>\n      <th>customer_unique_id</th>\n      <th>order_status</th>\n      <th>order_id</th>\n      <th>order_purchase_timestamp</th>\n      <th>order_delivered_carrier_date</th>\n      <th>order_estimated_delivery_date</th>\n      <th>review_score</th>\n      <th>livree</th>\n      <th>recency_order_purchase_timestamp</th>\n      <th>recency_order_delivered_carrier_date</th>\n      <th>recency_order_estimated_delivery_date</th>\n      <th>attente</th>\n      <th>attente-jours</th>\n      <th>decalage-prevision</th>\n      <th>decalage-prevision-jours</th>\n      <th>rapidite_livraison</th>\n      <th>recency_crescent</th>\n      <th>payment_value</th>\n    </tr>\n  </thead>\n  <tbody>\n    <tr>\n      <th>0</th>\n      <td>70bc4d9cf2bbeea3f7b09798370f5884</td>\n      <td>ffffd2657e2aad2907e67c3e9daecbeb</td>\n      <td>delivered</td>\n      <td>f79a35da168301ae56922475da21117b</td>\n      <td>2017-05-02 20:18:45</td>\n      <td>2017-05-04 12:05:22</td>\n      <td>2017-05-26 00:00:00</td>\n      <td>5</td>\n      <td>1</td>\n      <td>489</td>\n      <td>487.0</td>\n      <td>465</td>\n      <td>1 days 15:46:37</td>\n      <td>1.0</td>\n      <td>-22 days +12:05:22</td>\n      <td>-22</td>\n      <td>121</td>\n      <td>240</td>\n      <td>71.56</td>\n    </tr>\n    <tr>\n      <th>1</th>\n      <td>832a3b0254347d409512ae92eaf154a6</td>\n      <td>ffff5962728ec6157033ef9805bacc48</td>\n      <td>delivered</td>\n      <td>94d3ee0bc2a0af9d4fa47a4d63616e8d</td>\n      <td>2018-05-02 15:17:41</td>\n      <td>2018-05-03 16:45:00</td>\n      <td>2018-05-28 00:00:00</td>\n      <td>5</td>\n      <td>1</td>\n      <td>124</td>\n      <td>123.0</td>\n      <td>98</td>\n      <td>1 days 01:27:19</td>\n      <td>1.0</td>\n      <td>-25 days +16:45:00</td>\n      <td>-25</td>\n      <td>124</td>\n      <td>605</td>\n      <td>133.69</td>\n    </tr>\n    <tr>\n      <th>2</th>\n      <td>27f584b0f1dc4e610065c240f68b6be0</td>\n      <td>ffff371b4d645b6ecea244b27531430a</td>\n      <td>delivered</td>\n      <td>fdc45e6c7555e6cb3cc0daca2557dbe1</td>\n      <td>2017-02-07 15:49:16</td>\n      <td>2017-02-08 10:04:37</td>\n      <td>2017-03-24 00:00:00</td>\n      <td>5</td>\n      <td>1</td>\n      <td>573</td>\n      <td>572.0</td>\n      <td>528</td>\n      <td>0 days 18:15:21</td>\n      <td>0.0</td>\n      <td>-44 days +10:04:37</td>\n      <td>-44</td>\n      <td>143</td>\n      <td>156</td>\n      <td>112.46</td>\n    </tr>\n    <tr>\n      <th>3</th>\n      <td>0ecf8e0a08148af0bf313184f167670a</td>\n      <td>fffea47cd6d3cc0a88bd621562a9d061</td>\n      <td>delivered</td>\n      <td>c71b9252fd7b3b263aaa4cb09319a323</td>\n      <td>2017-12-10 20:07:56</td>\n      <td>2017-12-21 16:27:01</td>\n      <td>2018-01-12 00:00:00</td>\n      <td>4</td>\n      <td>1</td>\n      <td>267</td>\n      <td>256.0</td>\n      <td>234</td>\n      <td>10 days 20:19:05</td>\n      <td>10.0</td>\n      <td>-22 days +16:27:01</td>\n      <td>-22</td>\n      <td>121</td>\n      <td>462</td>\n      <td>84.58</td>\n    </tr>\n    <tr>\n      <th>4</th>\n      <td>74be082247cd677a147d83ee670e9d53</td>\n      <td>fffcf5a5ff07b0908bd4e2dbc735a684</td>\n      <td>delivered</td>\n      <td>725cf8e9c24e679a8a5a32cb92c9ce1e</td>\n      <td>2017-06-08 21:00:36</td>\n      <td>2017-06-23 13:03:27</td>\n      <td>2017-08-02 00:00:00</td>\n      <td>5</td>\n      <td>1</td>\n      <td>452</td>\n      <td>437.0</td>\n      <td>397</td>\n      <td>14 days 16:02:51</td>\n      <td>14.0</td>\n      <td>-40 days +13:03:27</td>\n      <td>-40</td>\n      <td>139</td>\n      <td>277</td>\n      <td>2067.42</td>\n    </tr>\n  </tbody>\n</table>\n</div>"
     },
     "metadata": {},
     "output_type": "display_data"
    },
    {
     "data": {
      "text/plain": "'df_clients_new.shape'"
     },
     "metadata": {},
     "output_type": "display_data"
    },
    {
     "data": {
      "text/plain": "(97417, 19)"
     },
     "metadata": {},
     "output_type": "display_data"
    },
    {
     "name": "stdout",
     "output_type": "stream",
     "text": [
      "df_clients_new2.head()\n"
     ]
    },
    {
     "data": {
      "text/plain": "                        customer_id                customer_unique_id  \\\n0  70bc4d9cf2bbeea3f7b09798370f5884  ffffd2657e2aad2907e67c3e9daecbeb   \n1  832a3b0254347d409512ae92eaf154a6  ffff5962728ec6157033ef9805bacc48   \n2  27f584b0f1dc4e610065c240f68b6be0  ffff371b4d645b6ecea244b27531430a   \n3  0ecf8e0a08148af0bf313184f167670a  fffea47cd6d3cc0a88bd621562a9d061   \n4  74be082247cd677a147d83ee670e9d53  fffcf5a5ff07b0908bd4e2dbc735a684   \n\n  order_status                          order_id order_purchase_timestamp  \\\n0    delivered  f79a35da168301ae56922475da21117b      2017-05-02 20:18:45   \n1    delivered  94d3ee0bc2a0af9d4fa47a4d63616e8d      2018-05-02 15:17:41   \n2    delivered  fdc45e6c7555e6cb3cc0daca2557dbe1      2017-02-07 15:49:16   \n3    delivered  c71b9252fd7b3b263aaa4cb09319a323      2017-12-10 20:07:56   \n4    delivered  725cf8e9c24e679a8a5a32cb92c9ce1e      2017-06-08 21:00:36   \n\n  order_delivered_carrier_date order_estimated_delivery_date review_score  \\\n0          2017-05-04 12:05:22           2017-05-26 00:00:00            5   \n1          2018-05-03 16:45:00           2018-05-28 00:00:00            5   \n2          2017-02-08 10:04:37           2017-03-24 00:00:00            5   \n3          2017-12-21 16:27:01           2018-01-12 00:00:00            4   \n4          2017-06-23 13:03:27           2017-08-02 00:00:00            5   \n\n  livree recency_order_purchase_timestamp  \\\n0      1                              489   \n1      1                              124   \n2      1                              573   \n3      1                              267   \n4      1                              452   \n\n  recency_order_delivered_carrier_date recency_order_estimated_delivery_date  \\\n0                                487.0                                   465   \n1                                123.0                                    98   \n2                                572.0                                   528   \n3                                256.0                                   234   \n4                                437.0                                   397   \n\n            attente attente-jours  decalage-prevision  \\\n0   1 days 15:46:37           1.0  -22 days +12:05:22   \n1   1 days 01:27:19           1.0  -25 days +16:45:00   \n2   0 days 18:15:21           0.0  -44 days +10:04:37   \n3  10 days 20:19:05          10.0  -22 days +16:27:01   \n4  14 days 16:02:51          14.0  -40 days +13:03:27   \n\n  decalage-prevision-jours rapidite_livraison recency_crescent payment_value  \n0                      -22                121              240         71.56  \n1                      -25                124              605        133.69  \n2                      -44                143              156        112.46  \n3                      -22                121              462         84.58  \n4                      -40                139              277       2067.42  ",
      "text/html": "<div>\n<style scoped>\n    .dataframe tbody tr th:only-of-type {\n        vertical-align: middle;\n    }\n\n    .dataframe tbody tr th {\n        vertical-align: top;\n    }\n\n    .dataframe thead th {\n        text-align: right;\n    }\n</style>\n<table border=\"1\" class=\"dataframe\">\n  <thead>\n    <tr style=\"text-align: right;\">\n      <th></th>\n      <th>customer_id</th>\n      <th>customer_unique_id</th>\n      <th>order_status</th>\n      <th>order_id</th>\n      <th>order_purchase_timestamp</th>\n      <th>order_delivered_carrier_date</th>\n      <th>order_estimated_delivery_date</th>\n      <th>review_score</th>\n      <th>livree</th>\n      <th>recency_order_purchase_timestamp</th>\n      <th>recency_order_delivered_carrier_date</th>\n      <th>recency_order_estimated_delivery_date</th>\n      <th>attente</th>\n      <th>attente-jours</th>\n      <th>decalage-prevision</th>\n      <th>decalage-prevision-jours</th>\n      <th>rapidite_livraison</th>\n      <th>recency_crescent</th>\n      <th>payment_value</th>\n    </tr>\n  </thead>\n  <tbody>\n    <tr>\n      <th>0</th>\n      <td>70bc4d9cf2bbeea3f7b09798370f5884</td>\n      <td>ffffd2657e2aad2907e67c3e9daecbeb</td>\n      <td>delivered</td>\n      <td>f79a35da168301ae56922475da21117b</td>\n      <td>2017-05-02 20:18:45</td>\n      <td>2017-05-04 12:05:22</td>\n      <td>2017-05-26 00:00:00</td>\n      <td>5</td>\n      <td>1</td>\n      <td>489</td>\n      <td>487.0</td>\n      <td>465</td>\n      <td>1 days 15:46:37</td>\n      <td>1.0</td>\n      <td>-22 days +12:05:22</td>\n      <td>-22</td>\n      <td>121</td>\n      <td>240</td>\n      <td>71.56</td>\n    </tr>\n    <tr>\n      <th>1</th>\n      <td>832a3b0254347d409512ae92eaf154a6</td>\n      <td>ffff5962728ec6157033ef9805bacc48</td>\n      <td>delivered</td>\n      <td>94d3ee0bc2a0af9d4fa47a4d63616e8d</td>\n      <td>2018-05-02 15:17:41</td>\n      <td>2018-05-03 16:45:00</td>\n      <td>2018-05-28 00:00:00</td>\n      <td>5</td>\n      <td>1</td>\n      <td>124</td>\n      <td>123.0</td>\n      <td>98</td>\n      <td>1 days 01:27:19</td>\n      <td>1.0</td>\n      <td>-25 days +16:45:00</td>\n      <td>-25</td>\n      <td>124</td>\n      <td>605</td>\n      <td>133.69</td>\n    </tr>\n    <tr>\n      <th>2</th>\n      <td>27f584b0f1dc4e610065c240f68b6be0</td>\n      <td>ffff371b4d645b6ecea244b27531430a</td>\n      <td>delivered</td>\n      <td>fdc45e6c7555e6cb3cc0daca2557dbe1</td>\n      <td>2017-02-07 15:49:16</td>\n      <td>2017-02-08 10:04:37</td>\n      <td>2017-03-24 00:00:00</td>\n      <td>5</td>\n      <td>1</td>\n      <td>573</td>\n      <td>572.0</td>\n      <td>528</td>\n      <td>0 days 18:15:21</td>\n      <td>0.0</td>\n      <td>-44 days +10:04:37</td>\n      <td>-44</td>\n      <td>143</td>\n      <td>156</td>\n      <td>112.46</td>\n    </tr>\n    <tr>\n      <th>3</th>\n      <td>0ecf8e0a08148af0bf313184f167670a</td>\n      <td>fffea47cd6d3cc0a88bd621562a9d061</td>\n      <td>delivered</td>\n      <td>c71b9252fd7b3b263aaa4cb09319a323</td>\n      <td>2017-12-10 20:07:56</td>\n      <td>2017-12-21 16:27:01</td>\n      <td>2018-01-12 00:00:00</td>\n      <td>4</td>\n      <td>1</td>\n      <td>267</td>\n      <td>256.0</td>\n      <td>234</td>\n      <td>10 days 20:19:05</td>\n      <td>10.0</td>\n      <td>-22 days +16:27:01</td>\n      <td>-22</td>\n      <td>121</td>\n      <td>462</td>\n      <td>84.58</td>\n    </tr>\n    <tr>\n      <th>4</th>\n      <td>74be082247cd677a147d83ee670e9d53</td>\n      <td>fffcf5a5ff07b0908bd4e2dbc735a684</td>\n      <td>delivered</td>\n      <td>725cf8e9c24e679a8a5a32cb92c9ce1e</td>\n      <td>2017-06-08 21:00:36</td>\n      <td>2017-06-23 13:03:27</td>\n      <td>2017-08-02 00:00:00</td>\n      <td>5</td>\n      <td>1</td>\n      <td>452</td>\n      <td>437.0</td>\n      <td>397</td>\n      <td>14 days 16:02:51</td>\n      <td>14.0</td>\n      <td>-40 days +13:03:27</td>\n      <td>-40</td>\n      <td>139</td>\n      <td>277</td>\n      <td>2067.42</td>\n    </tr>\n  </tbody>\n</table>\n</div>"
     },
     "metadata": {},
     "output_type": "display_data"
    },
    {
     "data": {
      "text/plain": "'df_clients_new2.shape'"
     },
     "metadata": {},
     "output_type": "display_data"
    },
    {
     "data": {
      "text/plain": "(94234, 19)"
     },
     "metadata": {},
     "output_type": "display_data"
    }
   ],
   "source": [
    "l_df_all = [df_clients, df_clients_sum]\n",
    "\n",
    "l_merge = [[[0, ['customer_id', 'customer_unique_id', 'order_status',\n",
    "                 'order_id', 'order_purchase_timestamp',\n",
    "                 'order_delivered_carrier_date',\n",
    "                 'order_estimated_delivery_date', 'review_score',\n",
    "                 'livree', 'recency_order_purchase_timestamp',\n",
    "                 'recency_order_delivered_carrier_date',\n",
    "                 'recency_order_estimated_delivery_date', 'attente',\n",
    "                 'attente-jours', 'decalage-prevision',\n",
    "                 'decalage-prevision-jours', 'rapidite_livraison',\n",
    "                 'recency_crescent']], # dernier df commandes avec\n",
    "                                       # les commandes ordonnées\n",
    "                                       # par date de livraison\n",
    "                                       # et la date de la dernière\n",
    "                                       # commande par client\n",
    "            [1, ['customer_unique_id', 'payment_value']],\n",
    "            'customer_unique_id']]\n",
    "\n",
    "df_clients_new = create_df_from_two_dfs_join(l_df_all, l_merge, 'left')\n",
    "\n",
    "print('df_clients_new.head()')\n",
    "display(df_clients_new.head())\n",
    "display('df_clients_new.shape', df_clients_new.shape)\n",
    "\n",
    "df_clients_new2 = \\\n",
    "    df_clients_new.drop_duplicates(subset='customer_unique_id')\n",
    "\n",
    "print('df_clients_new2.head()')\n",
    "display(df_clients_new2.head())\n",
    "display('df_clients_new2.shape', df_clients_new2.shape)"
   ],
   "metadata": {
    "collapsed": false,
    "pycharm": {
     "name": "#%%\n"
    }
   }
  },
  {
   "cell_type": "markdown",
   "source": [
    "# 4. Chiffres clé sur le df des clients des commandes livrées"
   ],
   "metadata": {
    "collapsed": false,
    "pycharm": {
     "name": "#%% md\n"
    }
   }
  },
  {
   "cell_type": "markdown",
   "source": [
    "## 4.1 Chiffre d'affaire des commandes livrées\n",
    "> Les doublons sur les paiements des ordres sont maintenant éliminés et on peut calculer le chiffre d\\'affaire relatif aux commandes livrées."
   ],
   "metadata": {
    "collapsed": false,
    "pycharm": {
     "name": "#%% md\n"
    }
   }
  },
  {
   "cell_type": "code",
   "execution_count": 42,
   "outputs": [
    {
     "name": "stdout",
     "output_type": "stream",
     "text": [
      "CA commandes livrées: 15316365.56\n"
     ]
    }
   ],
   "source": [
    "chiffre_d_affaires = df_clients_new2['payment_value'].astype(float).sum()\n",
    "print('CA commandes livrées:', chiffre_d_affaires)"
   ],
   "metadata": {
    "collapsed": false,
    "pycharm": {
     "name": "#%%\n"
    }
   }
  },
  {
   "cell_type": "markdown",
   "source": [
    "## 4.2 Clients de retour sur les commandes livrées\n",
    "### 4.2.1 Nombre et fraction sur le total"
   ],
   "metadata": {
    "collapsed": false,
    "pycharm": {
     "name": "#%% md\n"
    }
   }
  },
  {
   "cell_type": "code",
   "execution_count": 43,
   "outputs": [
    {
     "name": "stdout",
     "output_type": "stream",
     "text": [
      "19\n"
     ]
    },
    {
     "data": {
      "text/plain": "                 customer_unique_id  customer_id  order_status  order_id  \\\n0  0000366f3b9a7992bf8c76cfdf3221e2            1             1         1   \n1  0000b849f77a49e4a4ce2b2a4ca5be3f            1             1         1   \n\n   order_purchase_timestamp  order_delivered_carrier_date  \\\n0                         1                             1   \n1                         1                             1   \n\n   order_estimated_delivery_date  review_score  livree  \\\n0                              1             1       1   \n1                              1             1       1   \n\n   recency_order_purchase_timestamp  recency_order_delivered_carrier_date  \\\n0                                 1                                     1   \n1                                 1                                     1   \n\n   recency_order_estimated_delivery_date  attente  attente-jours  \\\n0                                      1        1              1   \n1                                      1        1              1   \n\n   decalage-prevision  decalage-prevision-jours  rapidite_livraison  \\\n0                   1                         1                   1   \n1                   1                         1                   1   \n\n   recency_crescent  payment_value  \n0                 1              1  \n1                 1              1  ",
      "text/html": "<div>\n<style scoped>\n    .dataframe tbody tr th:only-of-type {\n        vertical-align: middle;\n    }\n\n    .dataframe tbody tr th {\n        vertical-align: top;\n    }\n\n    .dataframe thead th {\n        text-align: right;\n    }\n</style>\n<table border=\"1\" class=\"dataframe\">\n  <thead>\n    <tr style=\"text-align: right;\">\n      <th></th>\n      <th>customer_unique_id</th>\n      <th>customer_id</th>\n      <th>order_status</th>\n      <th>order_id</th>\n      <th>order_purchase_timestamp</th>\n      <th>order_delivered_carrier_date</th>\n      <th>order_estimated_delivery_date</th>\n      <th>review_score</th>\n      <th>livree</th>\n      <th>recency_order_purchase_timestamp</th>\n      <th>recency_order_delivered_carrier_date</th>\n      <th>recency_order_estimated_delivery_date</th>\n      <th>attente</th>\n      <th>attente-jours</th>\n      <th>decalage-prevision</th>\n      <th>decalage-prevision-jours</th>\n      <th>rapidite_livraison</th>\n      <th>recency_crescent</th>\n      <th>payment_value</th>\n    </tr>\n  </thead>\n  <tbody>\n    <tr>\n      <th>0</th>\n      <td>0000366f3b9a7992bf8c76cfdf3221e2</td>\n      <td>1</td>\n      <td>1</td>\n      <td>1</td>\n      <td>1</td>\n      <td>1</td>\n      <td>1</td>\n      <td>1</td>\n      <td>1</td>\n      <td>1</td>\n      <td>1</td>\n      <td>1</td>\n      <td>1</td>\n      <td>1</td>\n      <td>1</td>\n      <td>1</td>\n      <td>1</td>\n      <td>1</td>\n      <td>1</td>\n    </tr>\n    <tr>\n      <th>1</th>\n      <td>0000b849f77a49e4a4ce2b2a4ca5be3f</td>\n      <td>1</td>\n      <td>1</td>\n      <td>1</td>\n      <td>1</td>\n      <td>1</td>\n      <td>1</td>\n      <td>1</td>\n      <td>1</td>\n      <td>1</td>\n      <td>1</td>\n      <td>1</td>\n      <td>1</td>\n      <td>1</td>\n      <td>1</td>\n      <td>1</td>\n      <td>1</td>\n      <td>1</td>\n      <td>1</td>\n    </tr>\n  </tbody>\n</table>\n</div>"
     },
     "metadata": {},
     "output_type": "display_data"
    }
   ],
   "source": [
    "df_clients = df_clients_new\n",
    "df_clients_count = pd.DataFrame\\\n",
    "    (df_clients.groupby('customer_unique_id').count())\n",
    "df_clients_count = df_clients_count.reset_index().\\\n",
    "    rename(columns={'index': 'customer_unique_id'})\n",
    "print(len(df_clients_count.columns))\n",
    "display(df_clients_count.head(2))"
   ],
   "metadata": {
    "collapsed": false,
    "pycharm": {
     "name": "#%%\n"
    }
   }
  },
  {
   "cell_type": "code",
   "execution_count": 44,
   "outputs": [
    {
     "name": "stdout",
     "output_type": "stream",
     "text": [
      "totale_clienti_unici 94234 Index(['customer_unique_id', 'customer_id', 'order_status', 'order_id',\n",
      "       'order_purchase_timestamp', 'order_delivered_carrier_date',\n",
      "       'order_estimated_delivery_date', 'review_score', 'livree',\n",
      "       'recency_order_purchase_timestamp',\n",
      "       'recency_order_delivered_carrier_date',\n",
      "       'recency_order_estimated_delivery_date', 'attente', 'attente-jours',\n",
      "       'decalage-prevision', 'decalage-prevision-jours', 'rapidite_livraison',\n",
      "       'recency_crescent', 'payment_value'],\n",
      "      dtype='object')\n",
      "clienti tornati\n"
     ]
    },
    {
     "data": {
      "text/plain": "                   customer_unique_id  customer_id  order_status  order_id  \\\n106  004288347e5e88a27ded2bb23747066c            2             2         2   \n123  004b45ec5c64187465168251cd1c9c2f            2             2         2   \n\n     order_purchase_timestamp  order_delivered_carrier_date  \\\n106                         2                             2   \n123                         2                             2   \n\n     order_estimated_delivery_date  review_score  livree  \\\n106                              2             2       2   \n123                              2             2       2   \n\n     recency_order_purchase_timestamp  recency_order_delivered_carrier_date  \\\n106                                 2                                     2   \n123                                 2                                     2   \n\n     recency_order_estimated_delivery_date  attente  attente-jours  \\\n106                                      2        2              2   \n123                                      2        2              2   \n\n     decalage-prevision  decalage-prevision-jours  rapidite_livraison  \\\n106                   2                         2                   2   \n123                   2                         2                   2   \n\n     recency_crescent  payment_value  \n106                 2              2  \n123                 2              2  ",
      "text/html": "<div>\n<style scoped>\n    .dataframe tbody tr th:only-of-type {\n        vertical-align: middle;\n    }\n\n    .dataframe tbody tr th {\n        vertical-align: top;\n    }\n\n    .dataframe thead th {\n        text-align: right;\n    }\n</style>\n<table border=\"1\" class=\"dataframe\">\n  <thead>\n    <tr style=\"text-align: right;\">\n      <th></th>\n      <th>customer_unique_id</th>\n      <th>customer_id</th>\n      <th>order_status</th>\n      <th>order_id</th>\n      <th>order_purchase_timestamp</th>\n      <th>order_delivered_carrier_date</th>\n      <th>order_estimated_delivery_date</th>\n      <th>review_score</th>\n      <th>livree</th>\n      <th>recency_order_purchase_timestamp</th>\n      <th>recency_order_delivered_carrier_date</th>\n      <th>recency_order_estimated_delivery_date</th>\n      <th>attente</th>\n      <th>attente-jours</th>\n      <th>decalage-prevision</th>\n      <th>decalage-prevision-jours</th>\n      <th>rapidite_livraison</th>\n      <th>recency_crescent</th>\n      <th>payment_value</th>\n    </tr>\n  </thead>\n  <tbody>\n    <tr>\n      <th>106</th>\n      <td>004288347e5e88a27ded2bb23747066c</td>\n      <td>2</td>\n      <td>2</td>\n      <td>2</td>\n      <td>2</td>\n      <td>2</td>\n      <td>2</td>\n      <td>2</td>\n      <td>2</td>\n      <td>2</td>\n      <td>2</td>\n      <td>2</td>\n      <td>2</td>\n      <td>2</td>\n      <td>2</td>\n      <td>2</td>\n      <td>2</td>\n      <td>2</td>\n      <td>2</td>\n    </tr>\n    <tr>\n      <th>123</th>\n      <td>004b45ec5c64187465168251cd1c9c2f</td>\n      <td>2</td>\n      <td>2</td>\n      <td>2</td>\n      <td>2</td>\n      <td>2</td>\n      <td>2</td>\n      <td>2</td>\n      <td>2</td>\n      <td>2</td>\n      <td>2</td>\n      <td>2</td>\n      <td>2</td>\n      <td>2</td>\n      <td>2</td>\n      <td>2</td>\n      <td>2</td>\n      <td>2</td>\n      <td>2</td>\n    </tr>\n  </tbody>\n</table>\n</div>"
     },
     "metadata": {},
     "output_type": "display_data"
    },
    {
     "data": {
      "text/plain": "                     customer_unique_id  customer_id  order_status  order_id  \\\n94077  ff922bdd6bafcdf99cb90d7f39cea5b3            3             3         3   \n94189  ffe254cc039740e17dd15a5305035928            2             2         2   \n\n       order_purchase_timestamp  order_delivered_carrier_date  \\\n94077                         3                             3   \n94189                         2                             2   \n\n       order_estimated_delivery_date  review_score  livree  \\\n94077                              3             3       3   \n94189                              2             2       2   \n\n       recency_order_purchase_timestamp  recency_order_delivered_carrier_date  \\\n94077                                 3                                     3   \n94189                                 2                                     2   \n\n       recency_order_estimated_delivery_date  attente  attente-jours  \\\n94077                                      3        3              3   \n94189                                      2        2              2   \n\n       decalage-prevision  decalage-prevision-jours  rapidite_livraison  \\\n94077                   3                         3                   3   \n94189                   2                         2                   2   \n\n       recency_crescent  payment_value  \n94077                 3              3  \n94189                 2              2  ",
      "text/html": "<div>\n<style scoped>\n    .dataframe tbody tr th:only-of-type {\n        vertical-align: middle;\n    }\n\n    .dataframe tbody tr th {\n        vertical-align: top;\n    }\n\n    .dataframe thead th {\n        text-align: right;\n    }\n</style>\n<table border=\"1\" class=\"dataframe\">\n  <thead>\n    <tr style=\"text-align: right;\">\n      <th></th>\n      <th>customer_unique_id</th>\n      <th>customer_id</th>\n      <th>order_status</th>\n      <th>order_id</th>\n      <th>order_purchase_timestamp</th>\n      <th>order_delivered_carrier_date</th>\n      <th>order_estimated_delivery_date</th>\n      <th>review_score</th>\n      <th>livree</th>\n      <th>recency_order_purchase_timestamp</th>\n      <th>recency_order_delivered_carrier_date</th>\n      <th>recency_order_estimated_delivery_date</th>\n      <th>attente</th>\n      <th>attente-jours</th>\n      <th>decalage-prevision</th>\n      <th>decalage-prevision-jours</th>\n      <th>rapidite_livraison</th>\n      <th>recency_crescent</th>\n      <th>payment_value</th>\n    </tr>\n  </thead>\n  <tbody>\n    <tr>\n      <th>94077</th>\n      <td>ff922bdd6bafcdf99cb90d7f39cea5b3</td>\n      <td>3</td>\n      <td>3</td>\n      <td>3</td>\n      <td>3</td>\n      <td>3</td>\n      <td>3</td>\n      <td>3</td>\n      <td>3</td>\n      <td>3</td>\n      <td>3</td>\n      <td>3</td>\n      <td>3</td>\n      <td>3</td>\n      <td>3</td>\n      <td>3</td>\n      <td>3</td>\n      <td>3</td>\n      <td>3</td>\n    </tr>\n    <tr>\n      <th>94189</th>\n      <td>ffe254cc039740e17dd15a5305035928</td>\n      <td>2</td>\n      <td>2</td>\n      <td>2</td>\n      <td>2</td>\n      <td>2</td>\n      <td>2</td>\n      <td>2</td>\n      <td>2</td>\n      <td>2</td>\n      <td>2</td>\n      <td>2</td>\n      <td>2</td>\n      <td>2</td>\n      <td>2</td>\n      <td>2</td>\n      <td>2</td>\n      <td>2</td>\n      <td>2</td>\n    </tr>\n  </tbody>\n</table>\n</div>"
     },
     "metadata": {},
     "output_type": "display_data"
    },
    {
     "name": "stdout",
     "output_type": "stream",
     "text": [
      "totale_clienti_tornati_count 2859\n",
      "3.0339367956363943\n",
      "Fraction des clients qui on acheté à nouveau: 3.0 %\n"
     ]
    }
   ],
   "source": [
    "# C.A. clients qui retournent\n",
    "\n",
    "totale_clienti_unici = df_clients_count.shape[0]\n",
    "print('totale_clienti_unici', totale_clienti_unici,\n",
    "      df_clients_count.columns)\n",
    "\n",
    "print('clienti tornati')\n",
    "clienti_tornati_count = pd.DataFrame\\\n",
    "    (df_clients_count.loc[df_clients_count['customer_id']>1])\n",
    "\n",
    "display(clienti_tornati_count.head(2))\n",
    "display(clienti_tornati_count.tail(2))\n",
    "\n",
    "totale_clienti_tornati_count = clienti_tornati_count.shape[0]\n",
    "print('totale_clienti_tornati_count', totale_clienti_tornati_count)\n",
    "fraction = totale_clienti_tornati_count*100/totale_clienti_unici\n",
    "print(fraction)\n",
    "print('Fraction des clients qui on acheté à nouveau: %.1f'\n",
    "      % fraction, '%')"
   ],
   "metadata": {
    "collapsed": false,
    "pycharm": {
     "name": "#%%\n"
    }
   }
  },
  {
   "cell_type": "markdown",
   "source": [
    "### 4.2.1 Chiffre d'affaire rattaché aux clients de retour"
   ],
   "metadata": {
    "collapsed": false,
    "pycharm": {
     "name": "#%% md\n"
    }
   }
  },
  {
   "cell_type": "code",
   "execution_count": 45,
   "outputs": [
    {
     "data": {
      "text/plain": "                     customer_unique_id  customer_id  order_status  order_id  \\\n16621  2d0aa39055b967248bf551e220b55f59            2             2         2   \n78666  d5419994a02a55d4b7cd00e77fabdbae            2             2         2   \n1103   02fbe4db886eb98774c8ba300d39fa79            2             2         2   \n\n       order_purchase_timestamp  order_delivered_carrier_date  \\\n16621                         2                             2   \n78666                         2                             2   \n1103                          2                             2   \n\n       order_estimated_delivery_date  review_score  livree  \\\n16621                              2             2       2   \n78666                              2             2       2   \n1103                               2             2       2   \n\n       recency_order_purchase_timestamp  recency_order_delivered_carrier_date  \\\n16621                                 2                                     2   \n78666                                 2                                     2   \n1103                                  2                                     2   \n\n       recency_order_estimated_delivery_date  attente  attente-jours  \\\n16621                                      2        2              2   \n78666                                      2        2              2   \n1103                                       2        2              2   \n\n       decalage-prevision  decalage-prevision-jours  rapidite_livraison  \\\n16621                   2                         2                   2   \n78666                   2                         2                   2   \n1103                    2                         2                   2   \n\n       recency_crescent  payment_value  \n16621                 2              2  \n78666                 2              2  \n1103                  2              2  ",
      "text/html": "<div>\n<style scoped>\n    .dataframe tbody tr th:only-of-type {\n        vertical-align: middle;\n    }\n\n    .dataframe tbody tr th {\n        vertical-align: top;\n    }\n\n    .dataframe thead th {\n        text-align: right;\n    }\n</style>\n<table border=\"1\" class=\"dataframe\">\n  <thead>\n    <tr style=\"text-align: right;\">\n      <th></th>\n      <th>customer_unique_id</th>\n      <th>customer_id</th>\n      <th>order_status</th>\n      <th>order_id</th>\n      <th>order_purchase_timestamp</th>\n      <th>order_delivered_carrier_date</th>\n      <th>order_estimated_delivery_date</th>\n      <th>review_score</th>\n      <th>livree</th>\n      <th>recency_order_purchase_timestamp</th>\n      <th>recency_order_delivered_carrier_date</th>\n      <th>recency_order_estimated_delivery_date</th>\n      <th>attente</th>\n      <th>attente-jours</th>\n      <th>decalage-prevision</th>\n      <th>decalage-prevision-jours</th>\n      <th>rapidite_livraison</th>\n      <th>recency_crescent</th>\n      <th>payment_value</th>\n    </tr>\n  </thead>\n  <tbody>\n    <tr>\n      <th>16621</th>\n      <td>2d0aa39055b967248bf551e220b55f59</td>\n      <td>2</td>\n      <td>2</td>\n      <td>2</td>\n      <td>2</td>\n      <td>2</td>\n      <td>2</td>\n      <td>2</td>\n      <td>2</td>\n      <td>2</td>\n      <td>2</td>\n      <td>2</td>\n      <td>2</td>\n      <td>2</td>\n      <td>2</td>\n      <td>2</td>\n      <td>2</td>\n      <td>2</td>\n      <td>2</td>\n    </tr>\n    <tr>\n      <th>78666</th>\n      <td>d5419994a02a55d4b7cd00e77fabdbae</td>\n      <td>2</td>\n      <td>2</td>\n      <td>2</td>\n      <td>2</td>\n      <td>2</td>\n      <td>2</td>\n      <td>2</td>\n      <td>2</td>\n      <td>2</td>\n      <td>2</td>\n      <td>2</td>\n      <td>2</td>\n      <td>2</td>\n      <td>2</td>\n      <td>2</td>\n      <td>2</td>\n      <td>2</td>\n      <td>2</td>\n    </tr>\n    <tr>\n      <th>1103</th>\n      <td>02fbe4db886eb98774c8ba300d39fa79</td>\n      <td>2</td>\n      <td>2</td>\n      <td>2</td>\n      <td>2</td>\n      <td>2</td>\n      <td>2</td>\n      <td>2</td>\n      <td>2</td>\n      <td>2</td>\n      <td>2</td>\n      <td>2</td>\n      <td>2</td>\n      <td>2</td>\n      <td>2</td>\n      <td>2</td>\n      <td>2</td>\n      <td>2</td>\n      <td>2</td>\n    </tr>\n  </tbody>\n</table>\n</div>"
     },
     "metadata": {},
     "output_type": "display_data"
    },
    {
     "name": "stdout",
     "output_type": "stream",
     "text": [
      "1 mergers to do.\n",
      "\n",
      "\n",
      "merger n. 0 (customer_unique_id)\n",
      "DF1: 1\n",
      "1 Index(['customer_unique_id'], dtype='object')\n",
      "df1.shape before dropna on customer_unique_id: (2859, 1)\n",
      "df1.shape after dropna on customer_unique_id: (2859, 1)\n"
     ]
    },
    {
     "data": {
      "text/plain": "                     customer_unique_id\n94189  ffe254cc039740e17dd15a5305035928\n94077  ff922bdd6bafcdf99cb90d7f39cea5b3",
      "text/html": "<div>\n<style scoped>\n    .dataframe tbody tr th:only-of-type {\n        vertical-align: middle;\n    }\n\n    .dataframe tbody tr th {\n        vertical-align: top;\n    }\n\n    .dataframe thead th {\n        text-align: right;\n    }\n</style>\n<table border=\"1\" class=\"dataframe\">\n  <thead>\n    <tr style=\"text-align: right;\">\n      <th></th>\n      <th>customer_unique_id</th>\n    </tr>\n  </thead>\n  <tbody>\n    <tr>\n      <th>94189</th>\n      <td>ffe254cc039740e17dd15a5305035928</td>\n    </tr>\n    <tr>\n      <th>94077</th>\n      <td>ff922bdd6bafcdf99cb90d7f39cea5b3</td>\n    </tr>\n  </tbody>\n</table>\n</div>"
     },
     "metadata": {},
     "output_type": "display_data"
    },
    {
     "name": "stdout",
     "output_type": "stream",
     "text": [
      "df1[col_merge_on].shape (2859,)\n",
      "DF2: 3\n",
      "3 Index(['customer_unique_id', 'order_id', 'payment_value'], dtype='object')\n",
      "(94234, 3)\n",
      "df2.shape before dropna on customer_unique_id: (94234, 3)\n",
      "df2.shape after dropna on customer_unique_id: (94234, 3)\n"
     ]
    },
    {
     "data": {
      "text/plain": "                 customer_unique_id                          order_id  \\\n0  ffffd2657e2aad2907e67c3e9daecbeb  f79a35da168301ae56922475da21117b   \n1  ffff5962728ec6157033ef9805bacc48  94d3ee0bc2a0af9d4fa47a4d63616e8d   \n\n  payment_value  \n0         71.56  \n1        133.69  ",
      "text/html": "<div>\n<style scoped>\n    .dataframe tbody tr th:only-of-type {\n        vertical-align: middle;\n    }\n\n    .dataframe tbody tr th {\n        vertical-align: top;\n    }\n\n    .dataframe thead th {\n        text-align: right;\n    }\n</style>\n<table border=\"1\" class=\"dataframe\">\n  <thead>\n    <tr style=\"text-align: right;\">\n      <th></th>\n      <th>customer_unique_id</th>\n      <th>order_id</th>\n      <th>payment_value</th>\n    </tr>\n  </thead>\n  <tbody>\n    <tr>\n      <th>0</th>\n      <td>ffffd2657e2aad2907e67c3e9daecbeb</td>\n      <td>f79a35da168301ae56922475da21117b</td>\n      <td>71.56</td>\n    </tr>\n    <tr>\n      <th>1</th>\n      <td>ffff5962728ec6157033ef9805bacc48</td>\n      <td>94d3ee0bc2a0af9d4fa47a4d63616e8d</td>\n      <td>133.69</td>\n    </tr>\n  </tbody>\n</table>\n</div>"
     },
     "metadata": {},
     "output_type": "display_data"
    },
    {
     "name": "stdout",
     "output_type": "stream",
     "text": [
      "df2[col_merge_on].shape (94234,)\n",
      "Output of merger n.1 (2859, 3)\n",
      "3 Index(['customer_unique_id', 'order_id', 'payment_value'], dtype='object')\n"
     ]
    },
    {
     "data": {
      "text/plain": "                 customer_unique_id                          order_id  \\\n0  ffe254cc039740e17dd15a5305035928  ebe76afae9242fc70b0b807b78f17adb   \n1  ff922bdd6bafcdf99cb90d7f39cea5b3  5f79e2da24a52e76bc22897df03a7901   \n\n  payment_value  \n0         80.12  \n1         139.6  ",
      "text/html": "<div>\n<style scoped>\n    .dataframe tbody tr th:only-of-type {\n        vertical-align: middle;\n    }\n\n    .dataframe tbody tr th {\n        vertical-align: top;\n    }\n\n    .dataframe thead th {\n        text-align: right;\n    }\n</style>\n<table border=\"1\" class=\"dataframe\">\n  <thead>\n    <tr style=\"text-align: right;\">\n      <th></th>\n      <th>customer_unique_id</th>\n      <th>order_id</th>\n      <th>payment_value</th>\n    </tr>\n  </thead>\n  <tbody>\n    <tr>\n      <th>0</th>\n      <td>ffe254cc039740e17dd15a5305035928</td>\n      <td>ebe76afae9242fc70b0b807b78f17adb</td>\n      <td>80.12</td>\n    </tr>\n    <tr>\n      <th>1</th>\n      <td>ff922bdd6bafcdf99cb90d7f39cea5b3</td>\n      <td>5f79e2da24a52e76bc22897df03a7901</td>\n      <td>139.6</td>\n    </tr>\n  </tbody>\n</table>\n</div>"
     },
     "metadata": {},
     "output_type": "display_data"
    },
    {
     "name": "stdout",
     "output_type": "stream",
     "text": [
      "End of merger 1\n",
      "\n",
      "Nettoyage du jeu de données: \"df_ca_ritorno\" \n",
      "2859 3\n",
      "Après dropna, cols: 2859 3\n",
      "Colonnes de moins:\n",
      " 0\n",
      "Après dropna, lignes: 2859 3\n",
      "Lignes de moins:\n",
      " 0\n",
      "            Indicator  count  percentage  vides\n",
      "0  customer_unique_id   2859      100.00      0\n",
      "1            order_id   2859      100.00      0\n",
      "2       payment_value   2859      100.00      0\n",
      "\n",
      "Remove duplicates -> Lignes de moins:0\n",
      "\n",
      "Output:  (2859, 3)\n",
      "\n",
      "--------------------------------\n",
      "\n"
     ]
    },
    {
     "data": {
      "text/plain": "(2859, 3)"
     },
     "metadata": {},
     "output_type": "display_data"
    },
    {
     "data": {
      "text/plain": "(2859, 4)"
     },
     "metadata": {},
     "output_type": "display_data"
    },
    {
     "name": "stdout",
     "output_type": "stream",
     "text": [
      "2859\n",
      "2859\n"
     ]
    },
    {
     "data": {
      "text/plain": "                 customer_unique_id  payment_value\n0  004288347e5e88a27ded2bb23747066c         354.37\n1  004b45ec5c64187465168251cd1c9c2f         147.72",
      "text/html": "<div>\n<style scoped>\n    .dataframe tbody tr th:only-of-type {\n        vertical-align: middle;\n    }\n\n    .dataframe tbody tr th {\n        vertical-align: top;\n    }\n\n    .dataframe thead th {\n        text-align: right;\n    }\n</style>\n<table border=\"1\" class=\"dataframe\">\n  <thead>\n    <tr style=\"text-align: right;\">\n      <th></th>\n      <th>customer_unique_id</th>\n      <th>payment_value</th>\n    </tr>\n  </thead>\n  <tbody>\n    <tr>\n      <th>0</th>\n      <td>004288347e5e88a27ded2bb23747066c</td>\n      <td>354.37</td>\n    </tr>\n    <tr>\n      <th>1</th>\n      <td>004b45ec5c64187465168251cd1c9c2f</td>\n      <td>147.72</td>\n    </tr>\n  </tbody>\n</table>\n</div>"
     },
     "metadata": {},
     "output_type": "display_data"
    },
    {
     "data": {
      "text/plain": "                    customer_unique_id  payment_value\n2857  ff922bdd6bafcdf99cb90d7f39cea5b3         139.60\n2858  ffe254cc039740e17dd15a5305035928          80.12",
      "text/html": "<div>\n<style scoped>\n    .dataframe tbody tr th:only-of-type {\n        vertical-align: middle;\n    }\n\n    .dataframe tbody tr th {\n        vertical-align: top;\n    }\n\n    .dataframe thead th {\n        text-align: right;\n    }\n</style>\n<table border=\"1\" class=\"dataframe\">\n  <thead>\n    <tr style=\"text-align: right;\">\n      <th></th>\n      <th>customer_unique_id</th>\n      <th>payment_value</th>\n    </tr>\n  </thead>\n  <tbody>\n    <tr>\n      <th>2857</th>\n      <td>ff922bdd6bafcdf99cb90d7f39cea5b3</td>\n      <td>139.60</td>\n    </tr>\n    <tr>\n      <th>2858</th>\n      <td>ffe254cc039740e17dd15a5305035928</td>\n      <td>80.12</td>\n    </tr>\n  </tbody>\n</table>\n</div>"
     },
     "metadata": {},
     "output_type": "display_data"
    },
    {
     "data": {
      "text/plain": "(2859, 2)"
     },
     "metadata": {},
     "output_type": "display_data"
    },
    {
     "name": "stdout",
     "output_type": "stream",
     "text": [
      "ca_clienti_tornati 864141.99\n",
      "5.641951980153704\n",
      "Fraction du chiffre d'affaires relatif aux clients qui ont acheté à nouveau: 5.6 %\n"
     ]
    }
   ],
   "source": [
    "# À lancer juste après la case précédente\n",
    "\n",
    "clienti_tornati_count_l = clienti_tornati_count.index.to_list()\n",
    "\n",
    "display(clienti_tornati_count.sample(3))\n",
    "\n",
    "l_df = [clienti_tornati_count, df_clients_new2]\n",
    "l_merge = [[[0, ['customer_unique_id']],\n",
    "            [1, ['customer_unique_id', 'order_id', 'payment_value']],\n",
    "            'customer_unique_id']]\n",
    "\n",
    "df_ca_ritorno = create_df_from_two_dfs_join(l_df, l_merge, 'left')\n",
    "\n",
    "df_ca_ritorno = nettoyage(df_ca_ritorno, 'df_ca_ritorno')\n",
    "\n",
    "display(df_ca_ritorno.shape)\n",
    "df_ca_ritorno[['customer_unique_id','order_id_x']] \\\n",
    "    = df_ca_ritorno[['customer_unique_id','order_id']].astype(str)\n",
    "df_ca_ritorno = df_ca_ritorno.drop_duplicates(subset='order_id')\n",
    "display(df_ca_ritorno.shape)\n",
    "\n",
    "df_ca_ritorno['payment_value'] \\\n",
    "    = df_ca_ritorno['payment_value'].astype(float)\n",
    "df_ca_ritorno2 = df_ca_ritorno.groupby('customer_unique_id').sum()\n",
    "df_ca_ritorno2 = df_ca_ritorno2.reset_index()\\\n",
    "    .rename(columns={'index': 'customer_unique_id'})\n",
    "\n",
    "df_ca_ritorno2_l = df_ca_ritorno2['customer_unique_id'].to_list()\n",
    "\n",
    "print(len(clienti_tornati_count_l))\n",
    "print(len(df_ca_ritorno2_l))\n",
    "display(df_ca_ritorno2.head(2))\n",
    "display(df_ca_ritorno2.tail(2))\n",
    "display(df_ca_ritorno2.shape)\n",
    "\n",
    "ca_clienti_tornati_count = df_ca_ritorno2['payment_value'].sum()\n",
    "print('ca_clienti_tornati', ca_clienti_tornati_count)\n",
    "\n",
    "fraction = ca_clienti_tornati_count*100/chiffre_d_affaires\n",
    "print(fraction)\n",
    "print('Fraction du chiffre d\\'affaires relatif '\n",
    "      'aux clients qui ont acheté à nouveau: %.1f' % fraction, '%')"
   ],
   "metadata": {
    "collapsed": false,
    "pycharm": {
     "name": "#%%\n"
    }
   }
  },
  {
   "cell_type": "code",
   "execution_count": 46,
   "outputs": [
    {
     "data": {
      "text/plain": "          customer_unique_id  customer_id  order_status  \\\norder_id                                                  \n1                      91375        91375         91375   \n2                       2627         2627          2627   \n3                        185          185           185   \n4                         28           28            28   \n5                          9            9             9   \n\n          order_purchase_timestamp  order_delivered_carrier_date  \\\norder_id                                                           \n1                            91375                         91375   \n2                             2627                          2627   \n3                              185                           185   \n4                               28                            28   \n5                                9                             9   \n\n          order_estimated_delivery_date  review_score  livree  \\\norder_id                                                        \n1                                 91375         91375   91375   \n2                                  2627          2627    2627   \n3                                   185           185     185   \n4                                    28            28      28   \n5                                     9             9       9   \n\n          recency_order_purchase_timestamp  \\\norder_id                                     \n1                                    91375   \n2                                     2627   \n3                                      185   \n4                                       28   \n5                                        9   \n\n          recency_order_delivered_carrier_date  \\\norder_id                                         \n1                                        91375   \n2                                         2627   \n3                                          185   \n4                                           28   \n5                                            9   \n\n          recency_order_estimated_delivery_date  attente  attente-jours  \\\norder_id                                                                  \n1                                         91375    91375          91375   \n2                                          2627     2627           2627   \n3                                           185      185            185   \n4                                            28       28             28   \n5                                             9        9              9   \n\n          decalage-prevision  decalage-prevision-jours  rapidite_livraison  \\\norder_id                                                                     \n1                      91375                     91375               91375   \n2                       2627                      2627                2627   \n3                        185                       185                 185   \n4                         28                        28                  28   \n5                          9                         9                   9   \n\n          recency_crescent  payment_value  \norder_id                                   \n1                    91375          91375  \n2                     2627           2627  \n3                      185            185  \n4                       28             28  \n5                        9              9  ",
      "text/html": "<div>\n<style scoped>\n    .dataframe tbody tr th:only-of-type {\n        vertical-align: middle;\n    }\n\n    .dataframe tbody tr th {\n        vertical-align: top;\n    }\n\n    .dataframe thead th {\n        text-align: right;\n    }\n</style>\n<table border=\"1\" class=\"dataframe\">\n  <thead>\n    <tr style=\"text-align: right;\">\n      <th></th>\n      <th>customer_unique_id</th>\n      <th>customer_id</th>\n      <th>order_status</th>\n      <th>order_purchase_timestamp</th>\n      <th>order_delivered_carrier_date</th>\n      <th>order_estimated_delivery_date</th>\n      <th>review_score</th>\n      <th>livree</th>\n      <th>recency_order_purchase_timestamp</th>\n      <th>recency_order_delivered_carrier_date</th>\n      <th>recency_order_estimated_delivery_date</th>\n      <th>attente</th>\n      <th>attente-jours</th>\n      <th>decalage-prevision</th>\n      <th>decalage-prevision-jours</th>\n      <th>rapidite_livraison</th>\n      <th>recency_crescent</th>\n      <th>payment_value</th>\n    </tr>\n    <tr>\n      <th>order_id</th>\n      <th></th>\n      <th></th>\n      <th></th>\n      <th></th>\n      <th></th>\n      <th></th>\n      <th></th>\n      <th></th>\n      <th></th>\n      <th></th>\n      <th></th>\n      <th></th>\n      <th></th>\n      <th></th>\n      <th></th>\n      <th></th>\n      <th></th>\n      <th></th>\n    </tr>\n  </thead>\n  <tbody>\n    <tr>\n      <th>1</th>\n      <td>91375</td>\n      <td>91375</td>\n      <td>91375</td>\n      <td>91375</td>\n      <td>91375</td>\n      <td>91375</td>\n      <td>91375</td>\n      <td>91375</td>\n      <td>91375</td>\n      <td>91375</td>\n      <td>91375</td>\n      <td>91375</td>\n      <td>91375</td>\n      <td>91375</td>\n      <td>91375</td>\n      <td>91375</td>\n      <td>91375</td>\n      <td>91375</td>\n    </tr>\n    <tr>\n      <th>2</th>\n      <td>2627</td>\n      <td>2627</td>\n      <td>2627</td>\n      <td>2627</td>\n      <td>2627</td>\n      <td>2627</td>\n      <td>2627</td>\n      <td>2627</td>\n      <td>2627</td>\n      <td>2627</td>\n      <td>2627</td>\n      <td>2627</td>\n      <td>2627</td>\n      <td>2627</td>\n      <td>2627</td>\n      <td>2627</td>\n      <td>2627</td>\n      <td>2627</td>\n    </tr>\n    <tr>\n      <th>3</th>\n      <td>185</td>\n      <td>185</td>\n      <td>185</td>\n      <td>185</td>\n      <td>185</td>\n      <td>185</td>\n      <td>185</td>\n      <td>185</td>\n      <td>185</td>\n      <td>185</td>\n      <td>185</td>\n      <td>185</td>\n      <td>185</td>\n      <td>185</td>\n      <td>185</td>\n      <td>185</td>\n      <td>185</td>\n      <td>185</td>\n    </tr>\n    <tr>\n      <th>4</th>\n      <td>28</td>\n      <td>28</td>\n      <td>28</td>\n      <td>28</td>\n      <td>28</td>\n      <td>28</td>\n      <td>28</td>\n      <td>28</td>\n      <td>28</td>\n      <td>28</td>\n      <td>28</td>\n      <td>28</td>\n      <td>28</td>\n      <td>28</td>\n      <td>28</td>\n      <td>28</td>\n      <td>28</td>\n      <td>28</td>\n    </tr>\n    <tr>\n      <th>5</th>\n      <td>9</td>\n      <td>9</td>\n      <td>9</td>\n      <td>9</td>\n      <td>9</td>\n      <td>9</td>\n      <td>9</td>\n      <td>9</td>\n      <td>9</td>\n      <td>9</td>\n      <td>9</td>\n      <td>9</td>\n      <td>9</td>\n      <td>9</td>\n      <td>9</td>\n      <td>9</td>\n      <td>9</td>\n      <td>9</td>\n    </tr>\n  </tbody>\n</table>\n</div>"
     },
     "metadata": {},
     "output_type": "display_data"
    }
   ],
   "source": [
    "# Vérification que le df contient des commandes de un ou plusieurs objects\n",
    "display(df_clients_count.groupby('order_id').count().head())\n"
   ],
   "metadata": {
    "collapsed": false,
    "pycharm": {
     "name": "#%%\n"
    }
   }
  },
  {
   "cell_type": "markdown",
   "source": [
    "# 5. Outliers\n",
    "Si on fixe un seuil pour les paiements par client, les clients outliers sont:"
   ],
   "metadata": {
    "collapsed": false,
    "pycharm": {
     "name": "#%% md\n"
    }
   }
  },
  {
   "cell_type": "code",
   "execution_count": 47,
   "outputs": [
    {
     "name": "stdout",
     "output_type": "stream",
     "text": [
      "seuil: 10000 réais ~ 1950.0 euros \t ->  outliers: 1 soit 13664 BRL ( 0.1 % du CA )\n",
      "seuil: 8000 réais ~ 1560.0 euros \t ->  outliers: 1 soit 13664 BRL ( 0.1 % du CA )\n",
      "seuil: 6000 réais ~ 1170.0 euros \t ->  outliers: 8 soit 62741 BRL ( 0.4 % du CA )\n",
      "seuil: 4000 réais ~ 780.0 euros \t ->  outliers: 20 soit 116168 BRL ( 0.8 % du CA )\n",
      "seuil: 3000 réais ~ 585.0 euros \t ->  outliers: 52 soit 221666 BRL ( 1.4 % du CA )\n"
     ]
    }
   ],
   "source": [
    "df = df_clients\n",
    "\n",
    "for i in (10000, 8000, 6000, 4000, 3000):\n",
    "    df_outliers = pd.DataFrame\\\n",
    "        (df.loc[df['payment_value'].astype(float)>float(i)])\n",
    "    ca_seuil = df_outliers['payment_value'].astype(float).sum()\n",
    "    print('seuil:', i, 'réais ~', i*0.195, 'euros \\t ->  outliers:',\n",
    "          df_outliers.shape[0], 'soit', int(ca_seuil), 'BRL (',\n",
    "          np.around(ca_seuil*100/chiffre_d_affaires, decimals=1),\n",
    "          '% du CA )')"
   ],
   "metadata": {
    "collapsed": false,
    "pycharm": {
     "name": "#%%\n"
    }
   }
  },
  {
   "cell_type": "markdown",
   "source": [
    "# 6. Exportation"
   ],
   "metadata": {
    "collapsed": false,
    "pycharm": {
     "name": "#%% md\n"
    }
   }
  },
  {
   "cell_type": "code",
   "execution_count": 48,
   "outputs": [
    {
     "name": "stdout",
     "output_type": "stream",
     "text": [
      "1 mergers to do.\n",
      "\n",
      "\n",
      "merger n. 0 (customer_unique_id)\n",
      "DF1: 18\n",
      "18 Index(['customer_id', 'customer_unique_id', 'order_status',\n",
      "       'order_purchase_timestamp', 'order_delivered_carrier_date',\n",
      "       'order_estimated_delivery_date', 'review_score', 'livree',\n",
      "       'recency_order_purchase_timestamp',\n",
      "       'recency_order_delivered_carrier_date',\n",
      "       'recency_order_estimated_delivery_date', 'attente', 'attente-jours',\n",
      "       'decalage-prevision', 'decalage-prevision-jours', 'rapidite_livraison',\n",
      "       'recency_crescent', 'payment_value'],\n",
      "      dtype='object')\n",
      "df1.shape before dropna on customer_unique_id: (94234, 18)\n",
      "df1.shape after dropna on customer_unique_id: (94234, 18)\n"
     ]
    },
    {
     "data": {
      "text/plain": "                        customer_id                customer_unique_id  \\\n0  70bc4d9cf2bbeea3f7b09798370f5884  ffffd2657e2aad2907e67c3e9daecbeb   \n1  832a3b0254347d409512ae92eaf154a6  ffff5962728ec6157033ef9805bacc48   \n\n  order_status order_purchase_timestamp order_delivered_carrier_date  \\\n0    delivered      2017-05-02 20:18:45          2017-05-04 12:05:22   \n1    delivered      2018-05-02 15:17:41          2018-05-03 16:45:00   \n\n  order_estimated_delivery_date review_score livree  \\\n0           2017-05-26 00:00:00            5      1   \n1           2018-05-28 00:00:00            5      1   \n\n  recency_order_purchase_timestamp recency_order_delivered_carrier_date  \\\n0                              489                                487.0   \n1                              124                                123.0   \n\n  recency_order_estimated_delivery_date          attente attente-jours  \\\n0                                   465  1 days 15:46:37           1.0   \n1                                    98  1 days 01:27:19           1.0   \n\n   decalage-prevision decalage-prevision-jours rapidite_livraison  \\\n0  -22 days +12:05:22                      -22                121   \n1  -25 days +16:45:00                      -25                124   \n\n  recency_crescent payment_value  \n0              240         71.56  \n1              605        133.69  ",
      "text/html": "<div>\n<style scoped>\n    .dataframe tbody tr th:only-of-type {\n        vertical-align: middle;\n    }\n\n    .dataframe tbody tr th {\n        vertical-align: top;\n    }\n\n    .dataframe thead th {\n        text-align: right;\n    }\n</style>\n<table border=\"1\" class=\"dataframe\">\n  <thead>\n    <tr style=\"text-align: right;\">\n      <th></th>\n      <th>customer_id</th>\n      <th>customer_unique_id</th>\n      <th>order_status</th>\n      <th>order_purchase_timestamp</th>\n      <th>order_delivered_carrier_date</th>\n      <th>order_estimated_delivery_date</th>\n      <th>review_score</th>\n      <th>livree</th>\n      <th>recency_order_purchase_timestamp</th>\n      <th>recency_order_delivered_carrier_date</th>\n      <th>recency_order_estimated_delivery_date</th>\n      <th>attente</th>\n      <th>attente-jours</th>\n      <th>decalage-prevision</th>\n      <th>decalage-prevision-jours</th>\n      <th>rapidite_livraison</th>\n      <th>recency_crescent</th>\n      <th>payment_value</th>\n    </tr>\n  </thead>\n  <tbody>\n    <tr>\n      <th>0</th>\n      <td>70bc4d9cf2bbeea3f7b09798370f5884</td>\n      <td>ffffd2657e2aad2907e67c3e9daecbeb</td>\n      <td>delivered</td>\n      <td>2017-05-02 20:18:45</td>\n      <td>2017-05-04 12:05:22</td>\n      <td>2017-05-26 00:00:00</td>\n      <td>5</td>\n      <td>1</td>\n      <td>489</td>\n      <td>487.0</td>\n      <td>465</td>\n      <td>1 days 15:46:37</td>\n      <td>1.0</td>\n      <td>-22 days +12:05:22</td>\n      <td>-22</td>\n      <td>121</td>\n      <td>240</td>\n      <td>71.56</td>\n    </tr>\n    <tr>\n      <th>1</th>\n      <td>832a3b0254347d409512ae92eaf154a6</td>\n      <td>ffff5962728ec6157033ef9805bacc48</td>\n      <td>delivered</td>\n      <td>2018-05-02 15:17:41</td>\n      <td>2018-05-03 16:45:00</td>\n      <td>2018-05-28 00:00:00</td>\n      <td>5</td>\n      <td>1</td>\n      <td>124</td>\n      <td>123.0</td>\n      <td>98</td>\n      <td>1 days 01:27:19</td>\n      <td>1.0</td>\n      <td>-25 days +16:45:00</td>\n      <td>-25</td>\n      <td>124</td>\n      <td>605</td>\n      <td>133.69</td>\n    </tr>\n  </tbody>\n</table>\n</div>"
     },
     "metadata": {},
     "output_type": "display_data"
    },
    {
     "name": "stdout",
     "output_type": "stream",
     "text": [
      "df1[col_merge_on].shape (94234,)\n",
      "DF2: 2\n",
      "2 Index(['customer_unique_id', 'order_id'], dtype='object')\n",
      "(94234, 2)\n",
      "df2.shape before dropna on customer_unique_id: (94234, 2)\n",
      "df2.shape after dropna on customer_unique_id: (94234, 2)\n"
     ]
    },
    {
     "data": {
      "text/plain": "                     customer_unique_id order_id\n94233  ffffd2657e2aad2907e67c3e9daecbeb        1\n94232  ffff5962728ec6157033ef9805bacc48        1",
      "text/html": "<div>\n<style scoped>\n    .dataframe tbody tr th:only-of-type {\n        vertical-align: middle;\n    }\n\n    .dataframe tbody tr th {\n        vertical-align: top;\n    }\n\n    .dataframe thead th {\n        text-align: right;\n    }\n</style>\n<table border=\"1\" class=\"dataframe\">\n  <thead>\n    <tr style=\"text-align: right;\">\n      <th></th>\n      <th>customer_unique_id</th>\n      <th>order_id</th>\n    </tr>\n  </thead>\n  <tbody>\n    <tr>\n      <th>94233</th>\n      <td>ffffd2657e2aad2907e67c3e9daecbeb</td>\n      <td>1</td>\n    </tr>\n    <tr>\n      <th>94232</th>\n      <td>ffff5962728ec6157033ef9805bacc48</td>\n      <td>1</td>\n    </tr>\n  </tbody>\n</table>\n</div>"
     },
     "metadata": {},
     "output_type": "display_data"
    },
    {
     "name": "stdout",
     "output_type": "stream",
     "text": [
      "df2[col_merge_on].shape (94234,)\n",
      "Output of merger n.1 (94234, 19)\n",
      "19 Index(['customer_id', 'customer_unique_id', 'order_status',\n",
      "       'order_purchase_timestamp', 'order_delivered_carrier_date',\n",
      "       'order_estimated_delivery_date', 'review_score', 'livree',\n",
      "       'recency_order_purchase_timestamp',\n",
      "       'recency_order_delivered_carrier_date',\n",
      "       'recency_order_estimated_delivery_date', 'attente', 'attente-jours',\n",
      "       'decalage-prevision', 'decalage-prevision-jours', 'rapidite_livraison',\n",
      "       'recency_crescent', 'payment_value', 'order_id'],\n",
      "      dtype='object')\n"
     ]
    },
    {
     "data": {
      "text/plain": "                        customer_id                customer_unique_id  \\\n0  70bc4d9cf2bbeea3f7b09798370f5884  ffffd2657e2aad2907e67c3e9daecbeb   \n1  832a3b0254347d409512ae92eaf154a6  ffff5962728ec6157033ef9805bacc48   \n\n  order_status order_purchase_timestamp order_delivered_carrier_date  \\\n0    delivered      2017-05-02 20:18:45          2017-05-04 12:05:22   \n1    delivered      2018-05-02 15:17:41          2018-05-03 16:45:00   \n\n  order_estimated_delivery_date review_score livree  \\\n0           2017-05-26 00:00:00            5      1   \n1           2018-05-28 00:00:00            5      1   \n\n  recency_order_purchase_timestamp recency_order_delivered_carrier_date  \\\n0                              489                                487.0   \n1                              124                                123.0   \n\n  recency_order_estimated_delivery_date          attente attente-jours  \\\n0                                   465  1 days 15:46:37           1.0   \n1                                    98  1 days 01:27:19           1.0   \n\n   decalage-prevision decalage-prevision-jours rapidite_livraison  \\\n0  -22 days +12:05:22                      -22                121   \n1  -25 days +16:45:00                      -25                124   \n\n  recency_crescent payment_value order_id  \n0              240         71.56        1  \n1              605        133.69        1  ",
      "text/html": "<div>\n<style scoped>\n    .dataframe tbody tr th:only-of-type {\n        vertical-align: middle;\n    }\n\n    .dataframe tbody tr th {\n        vertical-align: top;\n    }\n\n    .dataframe thead th {\n        text-align: right;\n    }\n</style>\n<table border=\"1\" class=\"dataframe\">\n  <thead>\n    <tr style=\"text-align: right;\">\n      <th></th>\n      <th>customer_id</th>\n      <th>customer_unique_id</th>\n      <th>order_status</th>\n      <th>order_purchase_timestamp</th>\n      <th>order_delivered_carrier_date</th>\n      <th>order_estimated_delivery_date</th>\n      <th>review_score</th>\n      <th>livree</th>\n      <th>recency_order_purchase_timestamp</th>\n      <th>recency_order_delivered_carrier_date</th>\n      <th>recency_order_estimated_delivery_date</th>\n      <th>attente</th>\n      <th>attente-jours</th>\n      <th>decalage-prevision</th>\n      <th>decalage-prevision-jours</th>\n      <th>rapidite_livraison</th>\n      <th>recency_crescent</th>\n      <th>payment_value</th>\n      <th>order_id</th>\n    </tr>\n  </thead>\n  <tbody>\n    <tr>\n      <th>0</th>\n      <td>70bc4d9cf2bbeea3f7b09798370f5884</td>\n      <td>ffffd2657e2aad2907e67c3e9daecbeb</td>\n      <td>delivered</td>\n      <td>2017-05-02 20:18:45</td>\n      <td>2017-05-04 12:05:22</td>\n      <td>2017-05-26 00:00:00</td>\n      <td>5</td>\n      <td>1</td>\n      <td>489</td>\n      <td>487.0</td>\n      <td>465</td>\n      <td>1 days 15:46:37</td>\n      <td>1.0</td>\n      <td>-22 days +12:05:22</td>\n      <td>-22</td>\n      <td>121</td>\n      <td>240</td>\n      <td>71.56</td>\n      <td>1</td>\n    </tr>\n    <tr>\n      <th>1</th>\n      <td>832a3b0254347d409512ae92eaf154a6</td>\n      <td>ffff5962728ec6157033ef9805bacc48</td>\n      <td>delivered</td>\n      <td>2018-05-02 15:17:41</td>\n      <td>2018-05-03 16:45:00</td>\n      <td>2018-05-28 00:00:00</td>\n      <td>5</td>\n      <td>1</td>\n      <td>124</td>\n      <td>123.0</td>\n      <td>98</td>\n      <td>1 days 01:27:19</td>\n      <td>1.0</td>\n      <td>-25 days +16:45:00</td>\n      <td>-25</td>\n      <td>124</td>\n      <td>605</td>\n      <td>133.69</td>\n      <td>1</td>\n    </tr>\n  </tbody>\n</table>\n</div>"
     },
     "metadata": {},
     "output_type": "display_data"
    },
    {
     "name": "stdout",
     "output_type": "stream",
     "text": [
      "End of merger 1\n",
      "\n"
     ]
    },
    {
     "data": {
      "text/plain": "'head'"
     },
     "metadata": {},
     "output_type": "display_data"
    },
    {
     "data": {
      "text/plain": "                        customer_id                customer_unique_id  \\\n0  70bc4d9cf2bbeea3f7b09798370f5884  ffffd2657e2aad2907e67c3e9daecbeb   \n1  832a3b0254347d409512ae92eaf154a6  ffff5962728ec6157033ef9805bacc48   \n2  27f584b0f1dc4e610065c240f68b6be0  ffff371b4d645b6ecea244b27531430a   \n3  0ecf8e0a08148af0bf313184f167670a  fffea47cd6d3cc0a88bd621562a9d061   \n4  74be082247cd677a147d83ee670e9d53  fffcf5a5ff07b0908bd4e2dbc735a684   \n\n  order_status order_purchase_timestamp order_delivered_carrier_date  \\\n0    delivered      2017-05-02 20:18:45          2017-05-04 12:05:22   \n1    delivered      2018-05-02 15:17:41          2018-05-03 16:45:00   \n2    delivered      2017-02-07 15:49:16          2017-02-08 10:04:37   \n3    delivered      2017-12-10 20:07:56          2017-12-21 16:27:01   \n4    delivered      2017-06-08 21:00:36          2017-06-23 13:03:27   \n\n  order_estimated_delivery_date review_score livree  \\\n0           2017-05-26 00:00:00            5      1   \n1           2018-05-28 00:00:00            5      1   \n2           2017-03-24 00:00:00            5      1   \n3           2018-01-12 00:00:00            4      1   \n4           2017-08-02 00:00:00            5      1   \n\n  recency_order_purchase_timestamp recency_order_delivered_carrier_date  \\\n0                              489                                487.0   \n1                              124                                123.0   \n2                              573                                572.0   \n3                              267                                256.0   \n4                              452                                437.0   \n\n  recency_order_estimated_delivery_date           attente attente-jours  \\\n0                                   465   1 days 15:46:37           1.0   \n1                                    98   1 days 01:27:19           1.0   \n2                                   528   0 days 18:15:21           0.0   \n3                                   234  10 days 20:19:05          10.0   \n4                                   397  14 days 16:02:51          14.0   \n\n   decalage-prevision decalage-prevision-jours rapidite_livraison  \\\n0  -22 days +12:05:22                      -22                121   \n1  -25 days +16:45:00                      -25                124   \n2  -44 days +10:04:37                      -44                143   \n3  -22 days +16:27:01                      -22                121   \n4  -40 days +13:03:27                      -40                139   \n\n  recency_crescent payment_value orders  \n0              240         71.56      1  \n1              605        133.69      1  \n2              156        112.46      1  \n3              462         84.58      1  \n4              277       2067.42      1  ",
      "text/html": "<div>\n<style scoped>\n    .dataframe tbody tr th:only-of-type {\n        vertical-align: middle;\n    }\n\n    .dataframe tbody tr th {\n        vertical-align: top;\n    }\n\n    .dataframe thead th {\n        text-align: right;\n    }\n</style>\n<table border=\"1\" class=\"dataframe\">\n  <thead>\n    <tr style=\"text-align: right;\">\n      <th></th>\n      <th>customer_id</th>\n      <th>customer_unique_id</th>\n      <th>order_status</th>\n      <th>order_purchase_timestamp</th>\n      <th>order_delivered_carrier_date</th>\n      <th>order_estimated_delivery_date</th>\n      <th>review_score</th>\n      <th>livree</th>\n      <th>recency_order_purchase_timestamp</th>\n      <th>recency_order_delivered_carrier_date</th>\n      <th>recency_order_estimated_delivery_date</th>\n      <th>attente</th>\n      <th>attente-jours</th>\n      <th>decalage-prevision</th>\n      <th>decalage-prevision-jours</th>\n      <th>rapidite_livraison</th>\n      <th>recency_crescent</th>\n      <th>payment_value</th>\n      <th>orders</th>\n    </tr>\n  </thead>\n  <tbody>\n    <tr>\n      <th>0</th>\n      <td>70bc4d9cf2bbeea3f7b09798370f5884</td>\n      <td>ffffd2657e2aad2907e67c3e9daecbeb</td>\n      <td>delivered</td>\n      <td>2017-05-02 20:18:45</td>\n      <td>2017-05-04 12:05:22</td>\n      <td>2017-05-26 00:00:00</td>\n      <td>5</td>\n      <td>1</td>\n      <td>489</td>\n      <td>487.0</td>\n      <td>465</td>\n      <td>1 days 15:46:37</td>\n      <td>1.0</td>\n      <td>-22 days +12:05:22</td>\n      <td>-22</td>\n      <td>121</td>\n      <td>240</td>\n      <td>71.56</td>\n      <td>1</td>\n    </tr>\n    <tr>\n      <th>1</th>\n      <td>832a3b0254347d409512ae92eaf154a6</td>\n      <td>ffff5962728ec6157033ef9805bacc48</td>\n      <td>delivered</td>\n      <td>2018-05-02 15:17:41</td>\n      <td>2018-05-03 16:45:00</td>\n      <td>2018-05-28 00:00:00</td>\n      <td>5</td>\n      <td>1</td>\n      <td>124</td>\n      <td>123.0</td>\n      <td>98</td>\n      <td>1 days 01:27:19</td>\n      <td>1.0</td>\n      <td>-25 days +16:45:00</td>\n      <td>-25</td>\n      <td>124</td>\n      <td>605</td>\n      <td>133.69</td>\n      <td>1</td>\n    </tr>\n    <tr>\n      <th>2</th>\n      <td>27f584b0f1dc4e610065c240f68b6be0</td>\n      <td>ffff371b4d645b6ecea244b27531430a</td>\n      <td>delivered</td>\n      <td>2017-02-07 15:49:16</td>\n      <td>2017-02-08 10:04:37</td>\n      <td>2017-03-24 00:00:00</td>\n      <td>5</td>\n      <td>1</td>\n      <td>573</td>\n      <td>572.0</td>\n      <td>528</td>\n      <td>0 days 18:15:21</td>\n      <td>0.0</td>\n      <td>-44 days +10:04:37</td>\n      <td>-44</td>\n      <td>143</td>\n      <td>156</td>\n      <td>112.46</td>\n      <td>1</td>\n    </tr>\n    <tr>\n      <th>3</th>\n      <td>0ecf8e0a08148af0bf313184f167670a</td>\n      <td>fffea47cd6d3cc0a88bd621562a9d061</td>\n      <td>delivered</td>\n      <td>2017-12-10 20:07:56</td>\n      <td>2017-12-21 16:27:01</td>\n      <td>2018-01-12 00:00:00</td>\n      <td>4</td>\n      <td>1</td>\n      <td>267</td>\n      <td>256.0</td>\n      <td>234</td>\n      <td>10 days 20:19:05</td>\n      <td>10.0</td>\n      <td>-22 days +16:27:01</td>\n      <td>-22</td>\n      <td>121</td>\n      <td>462</td>\n      <td>84.58</td>\n      <td>1</td>\n    </tr>\n    <tr>\n      <th>4</th>\n      <td>74be082247cd677a147d83ee670e9d53</td>\n      <td>fffcf5a5ff07b0908bd4e2dbc735a684</td>\n      <td>delivered</td>\n      <td>2017-06-08 21:00:36</td>\n      <td>2017-06-23 13:03:27</td>\n      <td>2017-08-02 00:00:00</td>\n      <td>5</td>\n      <td>1</td>\n      <td>452</td>\n      <td>437.0</td>\n      <td>397</td>\n      <td>14 days 16:02:51</td>\n      <td>14.0</td>\n      <td>-40 days +13:03:27</td>\n      <td>-40</td>\n      <td>139</td>\n      <td>277</td>\n      <td>2067.42</td>\n      <td>1</td>\n    </tr>\n  </tbody>\n</table>\n</div>"
     },
     "metadata": {},
     "output_type": "display_data"
    },
    {
     "data": {
      "text/plain": "'tail'"
     },
     "metadata": {},
     "output_type": "display_data"
    },
    {
     "data": {
      "text/plain": "                            customer_id                customer_unique_id  \\\n94229  47227568b10f5f58a524a75507e6992c  0004aac84e0df4da2b147fca70cf8255   \n94230  914991f0c02ef0843c0e7010c819d642  0000f6ccb0745a6a4b88665a16c9f078   \n94231  9b3932a6253894a02c1df9d19004239f  0000f46a3911fa3c0805444483337064   \n94232  4cb282e167ae9234755102258dd52ee8  0000b849f77a49e4a4ce2b2a4ca5be3f   \n94233  fadbb3709178fc513abc1b2670aa1ad2  0000366f3b9a7992bf8c76cfdf3221e2   \n\n      order_status order_purchase_timestamp order_delivered_carrier_date  \\\n94229    delivered      2017-11-14 19:45:42          2017-11-16 19:52:10   \n94230    delivered      2017-10-12 20:29:41          2017-10-13 20:08:19   \n94231    delivered      2017-03-10 21:05:03          2017-03-13 12:58:30   \n94232    delivered      2018-05-07 11:11:27          2018-05-09 12:18:00   \n94233    delivered      2018-05-10 10:56:27          2018-05-12 08:18:00   \n\n      order_estimated_delivery_date review_score livree  \\\n94229           2017-12-05 00:00:00            5      1   \n94230           2017-11-13 00:00:00            4      1   \n94231           2017-04-07 00:00:00            3      1   \n94232           2018-05-15 00:00:00            4      1   \n94233           2018-05-21 00:00:00            5      1   \n\n      recency_order_purchase_timestamp recency_order_delivered_carrier_date  \\\n94229                              293                                291.0   \n94230                              326                                325.0   \n94231                              542                                539.0   \n94232                              119                                117.0   \n94233                              116                                114.0   \n\n      recency_order_estimated_delivery_date          attente attente-jours  \\\n94229                                   272  2 days 00:06:28           2.0   \n94230                                   294  0 days 23:38:38           0.0   \n94231                                   514  2 days 15:53:27           2.0   \n94232                                   111  2 days 01:06:33           2.0   \n94233                                   105  1 days 21:21:33           1.0   \n\n       decalage-prevision decalage-prevision-jours rapidite_livraison  \\\n94229  -19 days +19:52:10                      -19                118   \n94230  -31 days +20:08:19                      -31                130   \n94231  -25 days +12:58:30                      -25                124   \n94232   -6 days +12:18:00                       -6                105   \n94233   -9 days +08:18:00                       -9                108   \n\n      recency_crescent payment_value orders  \n94229              436        196.89      1  \n94230              403         43.62      1  \n94231              187         86.22      1  \n94232              610         27.19      1  \n94233              613         141.9      1  ",
      "text/html": "<div>\n<style scoped>\n    .dataframe tbody tr th:only-of-type {\n        vertical-align: middle;\n    }\n\n    .dataframe tbody tr th {\n        vertical-align: top;\n    }\n\n    .dataframe thead th {\n        text-align: right;\n    }\n</style>\n<table border=\"1\" class=\"dataframe\">\n  <thead>\n    <tr style=\"text-align: right;\">\n      <th></th>\n      <th>customer_id</th>\n      <th>customer_unique_id</th>\n      <th>order_status</th>\n      <th>order_purchase_timestamp</th>\n      <th>order_delivered_carrier_date</th>\n      <th>order_estimated_delivery_date</th>\n      <th>review_score</th>\n      <th>livree</th>\n      <th>recency_order_purchase_timestamp</th>\n      <th>recency_order_delivered_carrier_date</th>\n      <th>recency_order_estimated_delivery_date</th>\n      <th>attente</th>\n      <th>attente-jours</th>\n      <th>decalage-prevision</th>\n      <th>decalage-prevision-jours</th>\n      <th>rapidite_livraison</th>\n      <th>recency_crescent</th>\n      <th>payment_value</th>\n      <th>orders</th>\n    </tr>\n  </thead>\n  <tbody>\n    <tr>\n      <th>94229</th>\n      <td>47227568b10f5f58a524a75507e6992c</td>\n      <td>0004aac84e0df4da2b147fca70cf8255</td>\n      <td>delivered</td>\n      <td>2017-11-14 19:45:42</td>\n      <td>2017-11-16 19:52:10</td>\n      <td>2017-12-05 00:00:00</td>\n      <td>5</td>\n      <td>1</td>\n      <td>293</td>\n      <td>291.0</td>\n      <td>272</td>\n      <td>2 days 00:06:28</td>\n      <td>2.0</td>\n      <td>-19 days +19:52:10</td>\n      <td>-19</td>\n      <td>118</td>\n      <td>436</td>\n      <td>196.89</td>\n      <td>1</td>\n    </tr>\n    <tr>\n      <th>94230</th>\n      <td>914991f0c02ef0843c0e7010c819d642</td>\n      <td>0000f6ccb0745a6a4b88665a16c9f078</td>\n      <td>delivered</td>\n      <td>2017-10-12 20:29:41</td>\n      <td>2017-10-13 20:08:19</td>\n      <td>2017-11-13 00:00:00</td>\n      <td>4</td>\n      <td>1</td>\n      <td>326</td>\n      <td>325.0</td>\n      <td>294</td>\n      <td>0 days 23:38:38</td>\n      <td>0.0</td>\n      <td>-31 days +20:08:19</td>\n      <td>-31</td>\n      <td>130</td>\n      <td>403</td>\n      <td>43.62</td>\n      <td>1</td>\n    </tr>\n    <tr>\n      <th>94231</th>\n      <td>9b3932a6253894a02c1df9d19004239f</td>\n      <td>0000f46a3911fa3c0805444483337064</td>\n      <td>delivered</td>\n      <td>2017-03-10 21:05:03</td>\n      <td>2017-03-13 12:58:30</td>\n      <td>2017-04-07 00:00:00</td>\n      <td>3</td>\n      <td>1</td>\n      <td>542</td>\n      <td>539.0</td>\n      <td>514</td>\n      <td>2 days 15:53:27</td>\n      <td>2.0</td>\n      <td>-25 days +12:58:30</td>\n      <td>-25</td>\n      <td>124</td>\n      <td>187</td>\n      <td>86.22</td>\n      <td>1</td>\n    </tr>\n    <tr>\n      <th>94232</th>\n      <td>4cb282e167ae9234755102258dd52ee8</td>\n      <td>0000b849f77a49e4a4ce2b2a4ca5be3f</td>\n      <td>delivered</td>\n      <td>2018-05-07 11:11:27</td>\n      <td>2018-05-09 12:18:00</td>\n      <td>2018-05-15 00:00:00</td>\n      <td>4</td>\n      <td>1</td>\n      <td>119</td>\n      <td>117.0</td>\n      <td>111</td>\n      <td>2 days 01:06:33</td>\n      <td>2.0</td>\n      <td>-6 days +12:18:00</td>\n      <td>-6</td>\n      <td>105</td>\n      <td>610</td>\n      <td>27.19</td>\n      <td>1</td>\n    </tr>\n    <tr>\n      <th>94233</th>\n      <td>fadbb3709178fc513abc1b2670aa1ad2</td>\n      <td>0000366f3b9a7992bf8c76cfdf3221e2</td>\n      <td>delivered</td>\n      <td>2018-05-10 10:56:27</td>\n      <td>2018-05-12 08:18:00</td>\n      <td>2018-05-21 00:00:00</td>\n      <td>5</td>\n      <td>1</td>\n      <td>116</td>\n      <td>114.0</td>\n      <td>105</td>\n      <td>1 days 21:21:33</td>\n      <td>1.0</td>\n      <td>-9 days +08:18:00</td>\n      <td>-9</td>\n      <td>108</td>\n      <td>613</td>\n      <td>141.9</td>\n      <td>1</td>\n    </tr>\n  </tbody>\n</table>\n</div>"
     },
     "metadata": {},
     "output_type": "display_data"
    },
    {
     "data": {
      "text/plain": "Index(['customer_id', 'customer_unique_id', 'order_status',\n       'order_purchase_timestamp', 'order_delivered_carrier_date',\n       'order_estimated_delivery_date', 'review_score', 'livree',\n       'recency_order_purchase_timestamp',\n       'recency_order_delivered_carrier_date',\n       'recency_order_estimated_delivery_date', 'attente', 'attente-jours',\n       'decalage-prevision', 'decalage-prevision-jours', 'rapidite_livraison',\n       'recency_crescent', 'payment_value', 'orders'],\n      dtype='object')"
     },
     "metadata": {},
     "output_type": "display_data"
    },
    {
     "data": {
      "text/plain": "(94234, 19)"
     },
     "metadata": {},
     "output_type": "display_data"
    }
   ],
   "source": [
    "l_df_all = [df_clients_new2, df_clients_count]\n",
    "# for i in l_df_all:\n",
    "#     # print(str(i))\n",
    "#     display(i.columns, i.head(1))\n",
    "\n",
    "l_merge = [[[0, ['customer_id', 'customer_unique_id', 'order_status',\n",
    "       'order_purchase_timestamp', 'order_delivered_carrier_date',\n",
    "       'order_estimated_delivery_date', 'review_score',\n",
    "       'livree', 'recency_order_purchase_timestamp',\n",
    "       'recency_order_delivered_carrier_date',\n",
    "       'recency_order_estimated_delivery_date', 'attente',\n",
    "       'attente-jours', 'decalage-prevision',\n",
    "       'decalage-prevision-jours', 'rapidite_livraison',\n",
    "       'recency_crescent', 'payment_value']],\n",
    "       [1, ['customer_unique_id', 'order_id'], 'customer_unique_id'],\n",
    "            'customer_unique_id']]\n",
    "\n",
    "df_all2 = create_df_from_two_dfs_join(l_df_all, l_merge, 'left')\n",
    "df_all2 = df_all2.rename(columns={'order_id': 'orders'})\n",
    "\n",
    "display('head', df_all2.head(), 'tail', df_all2.tail())\n",
    "\n",
    "display(df_all2.columns)\n",
    "display(df_all2.shape)\n"
   ],
   "metadata": {
    "collapsed": false,
    "pycharm": {
     "name": "#%%\n"
    }
   }
  },
  {
   "cell_type": "markdown",
   "source": [
    "***Controle des valeurs maximales***"
   ],
   "metadata": {
    "collapsed": false,
    "pycharm": {
     "name": "#%% md\n"
    }
   }
  },
  {
   "cell_type": "code",
   "execution_count": 49,
   "outputs": [
    {
     "name": "stdout",
     "output_type": "stream",
     "text": [
      "13664.08\n",
      "2960.05\n"
     ]
    }
   ],
   "source": [
    "df = df_all2\n",
    "df['payment_value'] = df['payment_value'].astype(float)\n",
    "print(df['payment_value'].astype(float).max())\n",
    "\n",
    "df_s_outliers_3000 = df.loc[df['payment_value'].astype(float)<3000]\n",
    "df_s_outliers_3000_only\\\n",
    "    = df.loc[df['payment_value'].astype(float)>=3000]\n",
    "print(df_s_outliers_3000['payment_value'].max())\n"
   ],
   "metadata": {
    "collapsed": false,
    "pycharm": {
     "name": "#%%\n"
    }
   }
  },
  {
   "cell_type": "markdown",
   "source": [
    "***EXPORT***"
   ],
   "metadata": {
    "collapsed": false,
    "pycharm": {
     "name": "#%% md\n"
    }
   }
  },
  {
   "cell_type": "code",
   "execution_count": 50,
   "outputs": [],
   "source": [
    "l_write_csv = [[df_s_outliers_3000_only,\n",
    "                \"data/df_olist_clean_outliers_3000_only.csv\"]]\n",
    "# , [df_s_outliers_6000, \"data/df_olist_clean_seuil_tot_6000_new.csv\"]]\n",
    "\n",
    "for go_for in range(len(l_write_csv)):\n",
    "    df = l_write_csv[go_for][0]\n",
    "    csv_name = l_write_csv[go_for][1]\n",
    "\n",
    "    # print(df, csv_name)\n",
    "    df.to_csv(csv_name, sep=',')\n"
   ],
   "metadata": {
    "collapsed": false,
    "pycharm": {
     "name": "#%%\n"
    }
   }
  }
 ],
 "metadata": {
  "colab": {
   "name": "P5_01_nettoyage_et_preparation_df-verifie-15pourcent-numeri-ok.ipynb",
   "provenance": [],
   "collapsed_sections": [],
   "toc_visible": true
  },
  "kernelspec": {
   "display_name": "Python 3 (ipykernel)",
   "language": "python",
   "name": "python3"
  },
  "language_info": {
   "codemirror_mode": {
    "name": "ipython",
    "version": 3
   },
   "file_extension": ".py",
   "mimetype": "text/x-python",
   "name": "python",
   "nbconvert_exporter": "python",
   "pygments_lexer": "ipython3",
   "version": "3.9.7"
  }
 },
 "nbformat": 4,
 "nbformat_minor": 5
}