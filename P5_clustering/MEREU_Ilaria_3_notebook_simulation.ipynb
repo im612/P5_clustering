{
 "cells": [
  {
   "cell_type": "markdown",
   "id": "14KOdvQYcF8A",
   "metadata": {
    "id": "14KOdvQYcF8A",
    "pycharm": {
     "name": "#%% md\n"
    }
   },
   "source": [
    "# Aller à la section 2 pour le calcul"
   ]
  },
  {
   "cell_type": "code",
   "execution_count": 207,
   "outputs": [],
   "source": [
    "#Inizializzazione\n",
    "import pandas as pd\n",
    "import numpy as np\n",
    "import datetime\n",
    "import matplotlib.pyplot as plt\n",
    "from sklearn.cluster import KMeans\n",
    "import commun\n",
    "\n",
    "from sklearn import preprocessing\n",
    "from sklearn.metrics.cluster import adjusted_rand_score\n",
    "from sklearn.preprocessing import StandardScaler"
   ],
   "metadata": {
    "collapsed": false,
    "pycharm": {
     "name": "#%%\n"
    }
   }
  },
  {
   "cell_type": "markdown",
   "source": [
    "# 1.1. Définition de la fonction de nettoyage générique d'un DataFrame\n",
    "Élimine lignes et colonnes vides et dupliquées\n"
   ],
   "metadata": {
    "collapsed": false,
    "pycharm": {
     "name": "#%% md\n"
    }
   }
  },
  {
   "cell_type": "code",
   "execution_count": 208,
   "outputs": [],
   "source": [
    "#1.1 Fonction de nettoyage des df\n",
    "\n",
    "def nettoyage(df_to_clean, label):\n",
    "    print(\"Nettoyage du jeu de données: \\\"%s\\\" \" % label)\n",
    "    llignes1, lcols1 = df_to_clean.shape\n",
    "    print(llignes1, lcols1)\n",
    "    df_to_clean_nac = df_to_clean.dropna(axis=1, how='all')\n",
    "    llignes2, lcols2 = df_to_clean_nac.shape\n",
    "    print(\"Après dropna, cols:\", llignes2, lcols2)\n",
    "    print(\"Colonnes de moins:\\n\", lcols1 - lcols2)\n",
    "\n",
    "    df_to_clean_nacl = df_to_clean_nac.dropna(axis=0, how='all')\n",
    "    llignes3, lcols3 = df_to_clean_nacl.shape\n",
    "    print(\"Après dropna, lignes:\", llignes3, lcols3)\n",
    "    print(\"Lignes de moins:\\n\", llignes2 - llignes3)\n",
    "\n",
    "    df_clean = df_to_clean_nacl.drop_duplicates()\n",
    "    llignes4, lcols4 = df_clean.shape\n",
    "\n",
    "    pd.set_option('display.float_format', '{:.2f}'.format)\n",
    "    np.set_printoptions(precision=4)\n",
    "    dcount_x \\\n",
    "        = pd.DataFrame(\n",
    "        df_clean.count()).reset_index().rename(\n",
    "        columns={'index': 'Indicator', 0: 'count'})\n",
    "    # print(dcount_x)\n",
    "    dcount_3 \\\n",
    "        = pd.Series(\n",
    "        np.array(\n",
    "            df_clean.count().tolist())*100/llignes3).rename('percentage')\n",
    "    dcount_4 \\\n",
    "        = pd.Series(\n",
    "        llignes3-np.array(df_clean.count().tolist())).rename('vides')\n",
    "    df_count = dcount_x.merge(dcount_3,left_index=True, right_index=True)\n",
    "    df_count = df_count.merge(dcount_4, left_index=True, right_index=True)\n",
    "\n",
    "    print(df_count)\n",
    "\n",
    "    print(\"\\nRemove duplicates -> Lignes de moins:%i\\n\"\n",
    "          % (llignes2 - llignes4))\n",
    "    # df_clean.shape\n",
    "\n",
    "    print('Output: ', df_clean.shape)\n",
    "    print(\"\\n--------------------------------\\n\")\n",
    "\n",
    "    return df_clean\n"
   ],
   "metadata": {
    "collapsed": false,
    "pycharm": {
     "name": "#%%\n"
    }
   }
  },
  {
   "cell_type": "markdown",
   "source": [
    "# 1.2 Définition de la fonction de fusion de plusieurs DataFrames"
   ],
   "metadata": {
    "collapsed": false,
    "pycharm": {
     "name": "#%% md\n"
    }
   }
  },
  {
   "cell_type": "code",
   "execution_count": 209,
   "outputs": [],
   "source": [
    "def create_df_from_two_dfs_join(l_df, l_merge, how_instr):\n",
    "    n_joins = len(l_merge)\n",
    "    print(n_joins, 'mergers to do.\\n\\n')\n",
    "\n",
    "    for j in range(n_joins):\n",
    "        col_merge_on = l_merge[j][2]\n",
    "        print('merger n.', j, '(%s)' % col_merge_on)\n",
    "\n",
    "        if j == 0:\n",
    "            ind_df1 = l_merge[j][0][0]\n",
    "            ind_df2 = l_merge[j][1][0]\n",
    "\n",
    "            # df1 = l_df[ind_df1]\n",
    "            df1 = l_df[ind_df1][l_merge[j][0][1]]\n",
    "            df1 = df1.astype(str)\n",
    "            # https://stackoverflow.com/\n",
    "            # questions/64385747/valueerror-you-are-trying-to-merge-\n",
    "            # on-object-and-int64-columns-when-use-pandas\n",
    "            print('DF1:', len(df1.columns.tolist()))\n",
    "            print(len(l_merge[j][0][1]), df1.columns)\n",
    "            print('df1.shape before dropna on %s:'\n",
    "                  % col_merge_on, df1.shape )\n",
    "            df1 = df1.dropna(axis=0, subset=[col_merge_on])\n",
    "            print('df1.shape after dropna on %s:'\n",
    "                  % col_merge_on, df1.shape )\n",
    "            # df1 = df1.drop_duplicates(subset=col_merge_on)\n",
    "            df1 = df1.sort_values(by=col_merge_on, ascending=False)\n",
    "            display(df1.head(2))\n",
    "            print('df1[col_merge_on].shape', df1[col_merge_on].shape)\n",
    "\n",
    "            # df2 = l_df[ind_df2]\n",
    "            df2 = l_df[ind_df2][l_merge[j][1][1]]\n",
    "            df2 = df2.astype(str)\n",
    "            print('DF2:', len(df2.columns.tolist()))\n",
    "            print(len(l_merge[j][1][1]), df2.columns)\n",
    "            print(df2.shape)\n",
    "            print('df2.shape before dropna on %s:'\n",
    "                  % col_merge_on, df2.shape)\n",
    "            df2 = df2.dropna(axis=0, subset=[col_merge_on])\n",
    "            print('df2.shape after dropna on %s:'\n",
    "                  % col_merge_on, df2.shape)\n",
    "\n",
    "            # df2 = df2.drop_duplicates(subset=col_merge_on)\n",
    "            df2 = df2.sort_values(by=col_merge_on, ascending=False)\n",
    "            display(df2.head(2))\n",
    "            print('df2[col_merge_on].shape', df2[col_merge_on].shape)\n",
    "\n",
    "            df1 = pd.merge(df1, df2, how=how_instr, on=col_merge_on)\n",
    "\n",
    "            print('Output of merger n.1', df1.shape)\n",
    "            print(len(df1.columns.tolist()), df1.columns)\n",
    "            display(df1.head(2))\n",
    "\n",
    "            print('End of merger 1\\n')\n",
    "\n",
    "        else:\n",
    "            ind_df2 = l_merge[j][1][0]\n",
    "            df2 = l_df[ind_df2][l_merge[j][1][1]]\n",
    "\n",
    "            df1 = df1.astype(str)\n",
    "            # https://stackoverflow.com/questions/64385747/\n",
    "            # valueerror-you-are-trying-to-merge-on-object\n",
    "            # -and-int64-columns-when-use-pandas\n",
    "            print('df1.shape before dropna on %s:'\n",
    "                  % col_merge_on, df1.shape)\n",
    "            df1 = df1.dropna(axis=0, subset=[col_merge_on])\n",
    "            print('df1.shape after dropna on %s:'\n",
    "                  % col_merge_on, df1.shape)\n",
    "            df1 = df1.sort_values(by=col_merge_on, ascending=False)\n",
    "            print('DF1', df1[col_merge_on].shape, '(df1.head(2))')\n",
    "            display(df1.head(2))\n",
    "\n",
    "            df2 = df2.astype(str)\n",
    "\n",
    "            print('df2.shape before dropna on %s:'\n",
    "                  % col_merge_on, df2.shape)\n",
    "            df2 = df2.dropna(axis=0, subset=[col_merge_on])\n",
    "            print('df2.shape after dropna on %s:'\n",
    "                  % col_merge_on, df2.shape)\n",
    "\n",
    "            df2 = df2.sort_values(by=col_merge_on, ascending=False)\n",
    "            print('DF2', df2[col_merge_on].shape, '(df2.head(2))')\n",
    "            display(df2.head(2))\n",
    "\n",
    "            df1 = pd.merge(df1, df2, how=how_instr, on=col_merge_on)\n",
    "\n",
    "            print('Output of merger n.', j, df1.shape)\n",
    "            print(len(df1.columns.tolist()), df1.columns)\n",
    "            display(df1.head(2))\n",
    "\n",
    "    return df1\n"
   ],
   "metadata": {
    "collapsed": false,
    "pycharm": {
     "name": "#%%\n"
    }
   }
  },
  {
   "cell_type": "markdown",
   "source": [
    "# 1.3 Importation et caracterisation des jeux de données"
   ],
   "metadata": {
    "collapsed": false,
    "pycharm": {
     "name": "#%% md\n"
    }
   }
  },
  {
   "cell_type": "code",
   "execution_count": 210,
   "outputs": [
    {
     "name": "stdout",
     "output_type": "stream",
     "text": [
      "Nettoyage du jeu de données: \"0\" \n",
      "99441 5\n",
      "Après dropna, cols: 99441 5\n",
      "Colonnes de moins:\n",
      " 0\n",
      "Après dropna, lignes: 99441 5\n",
      "Lignes de moins:\n",
      " 0\n",
      "                  Indicator  count  percentage  vides\n",
      "0               customer_id  99441      100.00      0\n",
      "1        customer_unique_id  99441      100.00      0\n",
      "2  customer_zip_code_prefix  99441      100.00      0\n",
      "3             customer_city  99441      100.00      0\n",
      "4            customer_state  99441      100.00      0\n",
      "\n",
      "Remove duplicates -> Lignes de moins:0\n",
      "\n",
      "Output:  (99441, 5)\n",
      "\n",
      "--------------------------------\n",
      "\n",
      "Nettoyage du jeu de données: \"1\" \n",
      "1000163 5\n",
      "Après dropna, cols: 1000163 5\n",
      "Colonnes de moins:\n",
      " 0\n",
      "Après dropna, lignes: 1000163 5\n",
      "Lignes de moins:\n",
      " 0\n",
      "                     Indicator   count  percentage   vides\n",
      "0  geolocation_zip_code_prefix  738332       73.82  261831\n",
      "1              geolocation_lat  738332       73.82  261831\n",
      "2              geolocation_lng  738332       73.82  261831\n",
      "3             geolocation_city  738332       73.82  261831\n",
      "4            geolocation_state  738332       73.82  261831\n",
      "\n",
      "Remove duplicates -> Lignes de moins:261831\n",
      "\n",
      "Output:  (738332, 5)\n",
      "\n",
      "--------------------------------\n",
      "\n",
      "Nettoyage du jeu de données: \"2\" \n",
      "112650 7\n",
      "Après dropna, cols: 112650 7\n",
      "Colonnes de moins:\n",
      " 0\n",
      "Après dropna, lignes: 112650 7\n",
      "Lignes de moins:\n",
      " 0\n",
      "             Indicator   count  percentage  vides\n",
      "0             order_id  112650      100.00      0\n",
      "1        order_item_id  112650      100.00      0\n",
      "2           product_id  112650      100.00      0\n",
      "3            seller_id  112650      100.00      0\n",
      "4  shipping_limit_date  112650      100.00      0\n",
      "5                price  112650      100.00      0\n",
      "6        freight_value  112650      100.00      0\n",
      "\n",
      "Remove duplicates -> Lignes de moins:0\n",
      "\n",
      "Output:  (112650, 7)\n",
      "\n",
      "--------------------------------\n",
      "\n",
      "Nettoyage du jeu de données: \"3\" \n",
      "103886 5\n",
      "Après dropna, cols: 103886 5\n",
      "Colonnes de moins:\n",
      " 0\n",
      "Après dropna, lignes: 103886 5\n",
      "Lignes de moins:\n",
      " 0\n",
      "              Indicator   count  percentage  vides\n",
      "0              order_id  103886      100.00      0\n",
      "1    payment_sequential  103886      100.00      0\n",
      "2          payment_type  103886      100.00      0\n",
      "3  payment_installments  103886      100.00      0\n",
      "4         payment_value  103886      100.00      0\n",
      "\n",
      "Remove duplicates -> Lignes de moins:0\n",
      "\n",
      "Output:  (103886, 5)\n",
      "\n",
      "--------------------------------\n",
      "\n",
      "Nettoyage du jeu de données: \"4\" \n",
      "99224 7\n",
      "Après dropna, cols: 99224 7\n",
      "Colonnes de moins:\n",
      " 0\n",
      "Après dropna, lignes: 99224 7\n",
      "Lignes de moins:\n",
      " 0\n",
      "                 Indicator  count  percentage  vides\n",
      "0                review_id  99224      100.00      0\n",
      "1                 order_id  99224      100.00      0\n",
      "2             review_score  99224      100.00      0\n",
      "3     review_comment_title  11568       11.66  87656\n",
      "4   review_comment_message  40977       41.30  58247\n",
      "5     review_creation_date  99224      100.00      0\n",
      "6  review_answer_timestamp  99224      100.00      0\n",
      "\n",
      "Remove duplicates -> Lignes de moins:0\n",
      "\n",
      "Output:  (99224, 7)\n",
      "\n",
      "--------------------------------\n",
      "\n",
      "Nettoyage du jeu de données: \"5\" \n",
      "99441 8\n",
      "Après dropna, cols: 99441 8\n",
      "Colonnes de moins:\n",
      " 0\n",
      "Après dropna, lignes: 99441 8\n",
      "Lignes de moins:\n",
      " 0\n",
      "                       Indicator  count  percentage  vides\n",
      "0                       order_id  99441      100.00      0\n",
      "1                    customer_id  99441      100.00      0\n",
      "2                   order_status  99441      100.00      0\n",
      "3       order_purchase_timestamp  99441      100.00      0\n",
      "4              order_approved_at  99281       99.84    160\n",
      "5   order_delivered_carrier_date  97658       98.21   1783\n",
      "6  order_delivered_customer_date  96476       97.02   2965\n",
      "7  order_estimated_delivery_date  99441      100.00      0\n",
      "\n",
      "Remove duplicates -> Lignes de moins:0\n",
      "\n",
      "Output:  (99441, 8)\n",
      "\n",
      "--------------------------------\n",
      "\n",
      "Nettoyage du jeu de données: \"6\" \n",
      "32951 9\n",
      "Après dropna, cols: 32951 9\n",
      "Colonnes de moins:\n",
      " 0\n",
      "Après dropna, lignes: 32951 9\n",
      "Lignes de moins:\n",
      " 0\n",
      "                    Indicator  count  percentage  vides\n",
      "0                  product_id  32951      100.00      0\n",
      "1       product_category_name  32341       98.15    610\n",
      "2         product_name_lenght  32341       98.15    610\n",
      "3  product_description_lenght  32341       98.15    610\n",
      "4          product_photos_qty  32341       98.15    610\n",
      "5            product_weight_g  32949       99.99      2\n",
      "6           product_length_cm  32949       99.99      2\n",
      "7           product_height_cm  32949       99.99      2\n",
      "8            product_width_cm  32949       99.99      2\n",
      "\n",
      "Remove duplicates -> Lignes de moins:0\n",
      "\n",
      "Output:  (32951, 9)\n",
      "\n",
      "--------------------------------\n",
      "\n",
      "Nettoyage du jeu de données: \"7\" \n",
      "3095 4\n",
      "Après dropna, cols: 3095 4\n",
      "Colonnes de moins:\n",
      " 0\n",
      "Après dropna, lignes: 3095 4\n",
      "Lignes de moins:\n",
      " 0\n",
      "                Indicator  count  percentage  vides\n",
      "0               seller_id   3095      100.00      0\n",
      "1  seller_zip_code_prefix   3095      100.00      0\n",
      "2             seller_city   3095      100.00      0\n",
      "3            seller_state   3095      100.00      0\n",
      "\n",
      "Remove duplicates -> Lignes de moins:0\n",
      "\n",
      "Output:  (3095, 4)\n",
      "\n",
      "--------------------------------\n",
      "\n",
      "Nettoyage du jeu de données: \"8\" \n",
      "71 2\n",
      "Après dropna, cols: 71 2\n",
      "Colonnes de moins:\n",
      " 0\n",
      "Après dropna, lignes: 71 2\n",
      "Lignes de moins:\n",
      " 0\n",
      "                       Indicator  count  percentage  vides\n",
      "0          product_category_name     71      100.00      0\n",
      "1  product_category_name_english     71      100.00      0\n",
      "\n",
      "Remove duplicates -> Lignes de moins:0\n",
      "\n",
      "Output:  (71, 2)\n",
      "\n",
      "--------------------------------\n",
      "\n"
     ]
    }
   ],
   "source": [
    "l_fichiers = ['olist_customers_dataset', 'olist_geolocation_dataset',\n",
    "              'olist_order_items_dataset',\n",
    "              'olist_order_payments_dataset',\n",
    "              'olist_order_reviews_dataset', 'olist_orders_dataset',\n",
    "              'olist_products_dataset', 'olist_sellers_dataset',\n",
    "              'product_category_name_translation']\n",
    "l_df = []\n",
    "\n",
    "for i in l_fichiers:\n",
    "  df = pd.read_csv(\"data/%s.csv\" % i, sep= ',', low_memory=False )\n",
    "  df = nettoyage(df, str(l_fichiers.index(i)))\n",
    "  l_df.append(df)\n"
   ],
   "metadata": {
    "collapsed": false,
    "pycharm": {
     "name": "#%%\n"
    }
   }
  },
  {
   "cell_type": "markdown",
   "source": [
    "# 3. Création du dataframe complet à traiter: df_all_start\n",
    "> Un df de commandes"
   ],
   "metadata": {
    "collapsed": false,
    "pycharm": {
     "name": "#%% md\n"
    }
   }
  },
  {
   "cell_type": "code",
   "execution_count": 211,
   "outputs": [
    {
     "name": "stdout",
     "output_type": "stream",
     "text": [
      "4 mergers to do.\n",
      "\n",
      "\n",
      "merger n. 0 (customer_id)\n",
      "DF1: 2\n",
      "2 Index(['customer_id', 'customer_unique_id'], dtype='object')\n",
      "df1.shape before dropna on customer_id: (99441, 2)\n",
      "df1.shape after dropna on customer_id: (99441, 2)\n"
     ]
    },
    {
     "data": {
      "text/plain": "                            customer_id                customer_unique_id\n95945  ffffe8b65bbe3087b653a978c870db99  736e6bfa0510aa5b878881a226a5fd89\n33870  ffffa3172527f765de70084a7e53aae8  48fd7dec70f2b104a1d5e8c5c639102b",
      "text/html": "<div>\n<style scoped>\n    .dataframe tbody tr th:only-of-type {\n        vertical-align: middle;\n    }\n\n    .dataframe tbody tr th {\n        vertical-align: top;\n    }\n\n    .dataframe thead th {\n        text-align: right;\n    }\n</style>\n<table border=\"1\" class=\"dataframe\">\n  <thead>\n    <tr style=\"text-align: right;\">\n      <th></th>\n      <th>customer_id</th>\n      <th>customer_unique_id</th>\n    </tr>\n  </thead>\n  <tbody>\n    <tr>\n      <th>95945</th>\n      <td>ffffe8b65bbe3087b653a978c870db99</td>\n      <td>736e6bfa0510aa5b878881a226a5fd89</td>\n    </tr>\n    <tr>\n      <th>33870</th>\n      <td>ffffa3172527f765de70084a7e53aae8</td>\n      <td>48fd7dec70f2b104a1d5e8c5c639102b</td>\n    </tr>\n  </tbody>\n</table>\n</div>"
     },
     "metadata": {},
     "output_type": "display_data"
    },
    {
     "name": "stdout",
     "output_type": "stream",
     "text": [
      "df1[col_merge_on].shape (99441,)\n",
      "DF2: 6\n",
      "6 Index(['customer_id', 'order_id', 'order_status', 'order_purchase_timestamp',\n",
      "       'order_delivered_carrier_date', 'order_estimated_delivery_date'],\n",
      "      dtype='object')\n",
      "(99441, 6)\n",
      "df2.shape before dropna on customer_id: (99441, 6)\n",
      "df2.shape after dropna on customer_id: (99441, 6)\n"
     ]
    },
    {
     "data": {
      "text/plain": "                            customer_id                          order_id  \\\n26445  ffffe8b65bbe3087b653a978c870db99  2e935fa1d39497aa0ec3f1107fbfb5b8   \n73902  ffffa3172527f765de70084a7e53aae8  d0e7be325a1c986babc4e1cdb91edc03   \n\n      order_status order_purchase_timestamp order_delivered_carrier_date  \\\n26445  unavailable      2017-09-29 14:07:03                          nan   \n73902    delivered      2017-09-02 11:53:32          2017-09-08 20:04:11   \n\n      order_estimated_delivery_date  \n26445           2017-10-24 00:00:00  \n73902           2017-09-26 00:00:00  ",
      "text/html": "<div>\n<style scoped>\n    .dataframe tbody tr th:only-of-type {\n        vertical-align: middle;\n    }\n\n    .dataframe tbody tr th {\n        vertical-align: top;\n    }\n\n    .dataframe thead th {\n        text-align: right;\n    }\n</style>\n<table border=\"1\" class=\"dataframe\">\n  <thead>\n    <tr style=\"text-align: right;\">\n      <th></th>\n      <th>customer_id</th>\n      <th>order_id</th>\n      <th>order_status</th>\n      <th>order_purchase_timestamp</th>\n      <th>order_delivered_carrier_date</th>\n      <th>order_estimated_delivery_date</th>\n    </tr>\n  </thead>\n  <tbody>\n    <tr>\n      <th>26445</th>\n      <td>ffffe8b65bbe3087b653a978c870db99</td>\n      <td>2e935fa1d39497aa0ec3f1107fbfb5b8</td>\n      <td>unavailable</td>\n      <td>2017-09-29 14:07:03</td>\n      <td>nan</td>\n      <td>2017-10-24 00:00:00</td>\n    </tr>\n    <tr>\n      <th>73902</th>\n      <td>ffffa3172527f765de70084a7e53aae8</td>\n      <td>d0e7be325a1c986babc4e1cdb91edc03</td>\n      <td>delivered</td>\n      <td>2017-09-02 11:53:32</td>\n      <td>2017-09-08 20:04:11</td>\n      <td>2017-09-26 00:00:00</td>\n    </tr>\n  </tbody>\n</table>\n</div>"
     },
     "metadata": {},
     "output_type": "display_data"
    },
    {
     "name": "stdout",
     "output_type": "stream",
     "text": [
      "df2[col_merge_on].shape (99441,)\n",
      "Output of merger n.1 (99441, 7)\n",
      "7 Index(['customer_id', 'customer_unique_id', 'order_id', 'order_status',\n",
      "       'order_purchase_timestamp', 'order_delivered_carrier_date',\n",
      "       'order_estimated_delivery_date'],\n",
      "      dtype='object')\n"
     ]
    },
    {
     "data": {
      "text/plain": "                        customer_id                customer_unique_id  \\\n0  ffffe8b65bbe3087b653a978c870db99  736e6bfa0510aa5b878881a226a5fd89   \n1  ffffa3172527f765de70084a7e53aae8  48fd7dec70f2b104a1d5e8c5c639102b   \n\n                           order_id order_status order_purchase_timestamp  \\\n0  2e935fa1d39497aa0ec3f1107fbfb5b8  unavailable      2017-09-29 14:07:03   \n1  d0e7be325a1c986babc4e1cdb91edc03    delivered      2017-09-02 11:53:32   \n\n  order_delivered_carrier_date order_estimated_delivery_date  \n0                          nan           2017-10-24 00:00:00  \n1          2017-09-08 20:04:11           2017-09-26 00:00:00  ",
      "text/html": "<div>\n<style scoped>\n    .dataframe tbody tr th:only-of-type {\n        vertical-align: middle;\n    }\n\n    .dataframe tbody tr th {\n        vertical-align: top;\n    }\n\n    .dataframe thead th {\n        text-align: right;\n    }\n</style>\n<table border=\"1\" class=\"dataframe\">\n  <thead>\n    <tr style=\"text-align: right;\">\n      <th></th>\n      <th>customer_id</th>\n      <th>customer_unique_id</th>\n      <th>order_id</th>\n      <th>order_status</th>\n      <th>order_purchase_timestamp</th>\n      <th>order_delivered_carrier_date</th>\n      <th>order_estimated_delivery_date</th>\n    </tr>\n  </thead>\n  <tbody>\n    <tr>\n      <th>0</th>\n      <td>ffffe8b65bbe3087b653a978c870db99</td>\n      <td>736e6bfa0510aa5b878881a226a5fd89</td>\n      <td>2e935fa1d39497aa0ec3f1107fbfb5b8</td>\n      <td>unavailable</td>\n      <td>2017-09-29 14:07:03</td>\n      <td>nan</td>\n      <td>2017-10-24 00:00:00</td>\n    </tr>\n    <tr>\n      <th>1</th>\n      <td>ffffa3172527f765de70084a7e53aae8</td>\n      <td>48fd7dec70f2b104a1d5e8c5c639102b</td>\n      <td>d0e7be325a1c986babc4e1cdb91edc03</td>\n      <td>delivered</td>\n      <td>2017-09-02 11:53:32</td>\n      <td>2017-09-08 20:04:11</td>\n      <td>2017-09-26 00:00:00</td>\n    </tr>\n  </tbody>\n</table>\n</div>"
     },
     "metadata": {},
     "output_type": "display_data"
    },
    {
     "name": "stdout",
     "output_type": "stream",
     "text": [
      "End of merger 1\n",
      "\n",
      "merger n. 1 (order_id)\n",
      "df1.shape before dropna on order_id: (99441, 7)\n",
      "df1.shape after dropna on order_id: (99441, 7)\n",
      "DF1 (99441,) (df1.head(2))\n"
     ]
    },
    {
     "data": {
      "text/plain": "                            customer_id                customer_unique_id  \\\n40883  96d649da0cc4ff33bb408b199d4c7dcf  cd76a00d8e3ca5e6ab9ed9ecb6667ac4   \n28579  b5e6afd5a41800fdf401e0272ca74655  eb803377c9315b564bdedad672039306   \n\n                               order_id order_status order_purchase_timestamp  \\\n40883  fffe41c64501cc87c801fd61db3f6244    delivered      2018-06-09 17:00:18   \n28579  fffe18544ffabc95dfada21779c9644f    delivered      2017-08-14 23:02:59   \n\n      order_delivered_carrier_date order_estimated_delivery_date  \n40883          2018-06-11 14:11:00           2018-06-28 00:00:00  \n28579          2017-08-15 19:02:53           2017-08-25 00:00:00  ",
      "text/html": "<div>\n<style scoped>\n    .dataframe tbody tr th:only-of-type {\n        vertical-align: middle;\n    }\n\n    .dataframe tbody tr th {\n        vertical-align: top;\n    }\n\n    .dataframe thead th {\n        text-align: right;\n    }\n</style>\n<table border=\"1\" class=\"dataframe\">\n  <thead>\n    <tr style=\"text-align: right;\">\n      <th></th>\n      <th>customer_id</th>\n      <th>customer_unique_id</th>\n      <th>order_id</th>\n      <th>order_status</th>\n      <th>order_purchase_timestamp</th>\n      <th>order_delivered_carrier_date</th>\n      <th>order_estimated_delivery_date</th>\n    </tr>\n  </thead>\n  <tbody>\n    <tr>\n      <th>40883</th>\n      <td>96d649da0cc4ff33bb408b199d4c7dcf</td>\n      <td>cd76a00d8e3ca5e6ab9ed9ecb6667ac4</td>\n      <td>fffe41c64501cc87c801fd61db3f6244</td>\n      <td>delivered</td>\n      <td>2018-06-09 17:00:18</td>\n      <td>2018-06-11 14:11:00</td>\n      <td>2018-06-28 00:00:00</td>\n    </tr>\n    <tr>\n      <th>28579</th>\n      <td>b5e6afd5a41800fdf401e0272ca74655</td>\n      <td>eb803377c9315b564bdedad672039306</td>\n      <td>fffe18544ffabc95dfada21779c9644f</td>\n      <td>delivered</td>\n      <td>2017-08-14 23:02:59</td>\n      <td>2017-08-15 19:02:53</td>\n      <td>2017-08-25 00:00:00</td>\n    </tr>\n  </tbody>\n</table>\n</div>"
     },
     "metadata": {},
     "output_type": "display_data"
    },
    {
     "name": "stdout",
     "output_type": "stream",
     "text": [
      "df2.shape before dropna on order_id: (112650, 5)\n",
      "df2.shape after dropna on order_id: (112650, 5)\n",
      "DF2 (112650,) (df2.head(2))\n"
     ]
    },
    {
     "data": {
      "text/plain": "                                order_id order_item_id  \\\n112649  fffe41c64501cc87c801fd61db3f6244             1   \n112648  fffe18544ffabc95dfada21779c9644f             1   \n\n                              product_id  price freight_value  \n112649  350688d9dc1e75ff97be326363655e01   43.0         12.79  \n112648  9c422a519119dcad7575db5af1ba540e  55.99          8.72  ",
      "text/html": "<div>\n<style scoped>\n    .dataframe tbody tr th:only-of-type {\n        vertical-align: middle;\n    }\n\n    .dataframe tbody tr th {\n        vertical-align: top;\n    }\n\n    .dataframe thead th {\n        text-align: right;\n    }\n</style>\n<table border=\"1\" class=\"dataframe\">\n  <thead>\n    <tr style=\"text-align: right;\">\n      <th></th>\n      <th>order_id</th>\n      <th>order_item_id</th>\n      <th>product_id</th>\n      <th>price</th>\n      <th>freight_value</th>\n    </tr>\n  </thead>\n  <tbody>\n    <tr>\n      <th>112649</th>\n      <td>fffe41c64501cc87c801fd61db3f6244</td>\n      <td>1</td>\n      <td>350688d9dc1e75ff97be326363655e01</td>\n      <td>43.0</td>\n      <td>12.79</td>\n    </tr>\n    <tr>\n      <th>112648</th>\n      <td>fffe18544ffabc95dfada21779c9644f</td>\n      <td>1</td>\n      <td>9c422a519119dcad7575db5af1ba540e</td>\n      <td>55.99</td>\n      <td>8.72</td>\n    </tr>\n  </tbody>\n</table>\n</div>"
     },
     "metadata": {},
     "output_type": "display_data"
    },
    {
     "name": "stdout",
     "output_type": "stream",
     "text": [
      "Output of merger n. 1 (113425, 11)\n",
      "11 Index(['customer_id', 'customer_unique_id', 'order_id', 'order_status',\n",
      "       'order_purchase_timestamp', 'order_delivered_carrier_date',\n",
      "       'order_estimated_delivery_date', 'order_item_id', 'product_id', 'price',\n",
      "       'freight_value'],\n",
      "      dtype='object')\n"
     ]
    },
    {
     "data": {
      "text/plain": "                        customer_id                customer_unique_id  \\\n0  96d649da0cc4ff33bb408b199d4c7dcf  cd76a00d8e3ca5e6ab9ed9ecb6667ac4   \n1  b5e6afd5a41800fdf401e0272ca74655  eb803377c9315b564bdedad672039306   \n\n                           order_id order_status order_purchase_timestamp  \\\n0  fffe41c64501cc87c801fd61db3f6244    delivered      2018-06-09 17:00:18   \n1  fffe18544ffabc95dfada21779c9644f    delivered      2017-08-14 23:02:59   \n\n  order_delivered_carrier_date order_estimated_delivery_date order_item_id  \\\n0          2018-06-11 14:11:00           2018-06-28 00:00:00             1   \n1          2017-08-15 19:02:53           2017-08-25 00:00:00             1   \n\n                         product_id  price freight_value  \n0  350688d9dc1e75ff97be326363655e01   43.0         12.79  \n1  9c422a519119dcad7575db5af1ba540e  55.99          8.72  ",
      "text/html": "<div>\n<style scoped>\n    .dataframe tbody tr th:only-of-type {\n        vertical-align: middle;\n    }\n\n    .dataframe tbody tr th {\n        vertical-align: top;\n    }\n\n    .dataframe thead th {\n        text-align: right;\n    }\n</style>\n<table border=\"1\" class=\"dataframe\">\n  <thead>\n    <tr style=\"text-align: right;\">\n      <th></th>\n      <th>customer_id</th>\n      <th>customer_unique_id</th>\n      <th>order_id</th>\n      <th>order_status</th>\n      <th>order_purchase_timestamp</th>\n      <th>order_delivered_carrier_date</th>\n      <th>order_estimated_delivery_date</th>\n      <th>order_item_id</th>\n      <th>product_id</th>\n      <th>price</th>\n      <th>freight_value</th>\n    </tr>\n  </thead>\n  <tbody>\n    <tr>\n      <th>0</th>\n      <td>96d649da0cc4ff33bb408b199d4c7dcf</td>\n      <td>cd76a00d8e3ca5e6ab9ed9ecb6667ac4</td>\n      <td>fffe41c64501cc87c801fd61db3f6244</td>\n      <td>delivered</td>\n      <td>2018-06-09 17:00:18</td>\n      <td>2018-06-11 14:11:00</td>\n      <td>2018-06-28 00:00:00</td>\n      <td>1</td>\n      <td>350688d9dc1e75ff97be326363655e01</td>\n      <td>43.0</td>\n      <td>12.79</td>\n    </tr>\n    <tr>\n      <th>1</th>\n      <td>b5e6afd5a41800fdf401e0272ca74655</td>\n      <td>eb803377c9315b564bdedad672039306</td>\n      <td>fffe18544ffabc95dfada21779c9644f</td>\n      <td>delivered</td>\n      <td>2017-08-14 23:02:59</td>\n      <td>2017-08-15 19:02:53</td>\n      <td>2017-08-25 00:00:00</td>\n      <td>1</td>\n      <td>9c422a519119dcad7575db5af1ba540e</td>\n      <td>55.99</td>\n      <td>8.72</td>\n    </tr>\n  </tbody>\n</table>\n</div>"
     },
     "metadata": {},
     "output_type": "display_data"
    },
    {
     "name": "stdout",
     "output_type": "stream",
     "text": [
      "merger n. 2 (order_id)\n",
      "df1.shape before dropna on order_id: (113425, 11)\n",
      "df1.shape after dropna on order_id: (113425, 11)\n",
      "DF1 (113425,) (df1.head(2))\n"
     ]
    },
    {
     "data": {
      "text/plain": "                        customer_id                customer_unique_id  \\\n0  96d649da0cc4ff33bb408b199d4c7dcf  cd76a00d8e3ca5e6ab9ed9ecb6667ac4   \n1  b5e6afd5a41800fdf401e0272ca74655  eb803377c9315b564bdedad672039306   \n\n                           order_id order_status order_purchase_timestamp  \\\n0  fffe41c64501cc87c801fd61db3f6244    delivered      2018-06-09 17:00:18   \n1  fffe18544ffabc95dfada21779c9644f    delivered      2017-08-14 23:02:59   \n\n  order_delivered_carrier_date order_estimated_delivery_date order_item_id  \\\n0          2018-06-11 14:11:00           2018-06-28 00:00:00             1   \n1          2017-08-15 19:02:53           2017-08-25 00:00:00             1   \n\n                         product_id  price freight_value  \n0  350688d9dc1e75ff97be326363655e01   43.0         12.79  \n1  9c422a519119dcad7575db5af1ba540e  55.99          8.72  ",
      "text/html": "<div>\n<style scoped>\n    .dataframe tbody tr th:only-of-type {\n        vertical-align: middle;\n    }\n\n    .dataframe tbody tr th {\n        vertical-align: top;\n    }\n\n    .dataframe thead th {\n        text-align: right;\n    }\n</style>\n<table border=\"1\" class=\"dataframe\">\n  <thead>\n    <tr style=\"text-align: right;\">\n      <th></th>\n      <th>customer_id</th>\n      <th>customer_unique_id</th>\n      <th>order_id</th>\n      <th>order_status</th>\n      <th>order_purchase_timestamp</th>\n      <th>order_delivered_carrier_date</th>\n      <th>order_estimated_delivery_date</th>\n      <th>order_item_id</th>\n      <th>product_id</th>\n      <th>price</th>\n      <th>freight_value</th>\n    </tr>\n  </thead>\n  <tbody>\n    <tr>\n      <th>0</th>\n      <td>96d649da0cc4ff33bb408b199d4c7dcf</td>\n      <td>cd76a00d8e3ca5e6ab9ed9ecb6667ac4</td>\n      <td>fffe41c64501cc87c801fd61db3f6244</td>\n      <td>delivered</td>\n      <td>2018-06-09 17:00:18</td>\n      <td>2018-06-11 14:11:00</td>\n      <td>2018-06-28 00:00:00</td>\n      <td>1</td>\n      <td>350688d9dc1e75ff97be326363655e01</td>\n      <td>43.0</td>\n      <td>12.79</td>\n    </tr>\n    <tr>\n      <th>1</th>\n      <td>b5e6afd5a41800fdf401e0272ca74655</td>\n      <td>eb803377c9315b564bdedad672039306</td>\n      <td>fffe18544ffabc95dfada21779c9644f</td>\n      <td>delivered</td>\n      <td>2017-08-14 23:02:59</td>\n      <td>2017-08-15 19:02:53</td>\n      <td>2017-08-25 00:00:00</td>\n      <td>1</td>\n      <td>9c422a519119dcad7575db5af1ba540e</td>\n      <td>55.99</td>\n      <td>8.72</td>\n    </tr>\n  </tbody>\n</table>\n</div>"
     },
     "metadata": {},
     "output_type": "display_data"
    },
    {
     "name": "stdout",
     "output_type": "stream",
     "text": [
      "df2.shape before dropna on order_id: (99224, 2)\n",
      "df2.shape after dropna on order_id: (99224, 2)\n",
      "DF2 (99224,) (df2.head(2))\n"
     ]
    },
    {
     "data": {
      "text/plain": "                               order_id review_score\n92457  fffe41c64501cc87c801fd61db3f6244            5\n50462  fffe18544ffabc95dfada21779c9644f            5",
      "text/html": "<div>\n<style scoped>\n    .dataframe tbody tr th:only-of-type {\n        vertical-align: middle;\n    }\n\n    .dataframe tbody tr th {\n        vertical-align: top;\n    }\n\n    .dataframe thead th {\n        text-align: right;\n    }\n</style>\n<table border=\"1\" class=\"dataframe\">\n  <thead>\n    <tr style=\"text-align: right;\">\n      <th></th>\n      <th>order_id</th>\n      <th>review_score</th>\n    </tr>\n  </thead>\n  <tbody>\n    <tr>\n      <th>92457</th>\n      <td>fffe41c64501cc87c801fd61db3f6244</td>\n      <td>5</td>\n    </tr>\n    <tr>\n      <th>50462</th>\n      <td>fffe18544ffabc95dfada21779c9644f</td>\n      <td>5</td>\n    </tr>\n  </tbody>\n</table>\n</div>"
     },
     "metadata": {},
     "output_type": "display_data"
    },
    {
     "name": "stdout",
     "output_type": "stream",
     "text": [
      "Output of merger n. 2 (114092, 12)\n",
      "12 Index(['customer_id', 'customer_unique_id', 'order_id', 'order_status',\n",
      "       'order_purchase_timestamp', 'order_delivered_carrier_date',\n",
      "       'order_estimated_delivery_date', 'order_item_id', 'product_id', 'price',\n",
      "       'freight_value', 'review_score'],\n",
      "      dtype='object')\n"
     ]
    },
    {
     "data": {
      "text/plain": "                        customer_id                customer_unique_id  \\\n0  96d649da0cc4ff33bb408b199d4c7dcf  cd76a00d8e3ca5e6ab9ed9ecb6667ac4   \n1  b5e6afd5a41800fdf401e0272ca74655  eb803377c9315b564bdedad672039306   \n\n                           order_id order_status order_purchase_timestamp  \\\n0  fffe41c64501cc87c801fd61db3f6244    delivered      2018-06-09 17:00:18   \n1  fffe18544ffabc95dfada21779c9644f    delivered      2017-08-14 23:02:59   \n\n  order_delivered_carrier_date order_estimated_delivery_date order_item_id  \\\n0          2018-06-11 14:11:00           2018-06-28 00:00:00             1   \n1          2017-08-15 19:02:53           2017-08-25 00:00:00             1   \n\n                         product_id  price freight_value review_score  \n0  350688d9dc1e75ff97be326363655e01   43.0         12.79            5  \n1  9c422a519119dcad7575db5af1ba540e  55.99          8.72            5  ",
      "text/html": "<div>\n<style scoped>\n    .dataframe tbody tr th:only-of-type {\n        vertical-align: middle;\n    }\n\n    .dataframe tbody tr th {\n        vertical-align: top;\n    }\n\n    .dataframe thead th {\n        text-align: right;\n    }\n</style>\n<table border=\"1\" class=\"dataframe\">\n  <thead>\n    <tr style=\"text-align: right;\">\n      <th></th>\n      <th>customer_id</th>\n      <th>customer_unique_id</th>\n      <th>order_id</th>\n      <th>order_status</th>\n      <th>order_purchase_timestamp</th>\n      <th>order_delivered_carrier_date</th>\n      <th>order_estimated_delivery_date</th>\n      <th>order_item_id</th>\n      <th>product_id</th>\n      <th>price</th>\n      <th>freight_value</th>\n      <th>review_score</th>\n    </tr>\n  </thead>\n  <tbody>\n    <tr>\n      <th>0</th>\n      <td>96d649da0cc4ff33bb408b199d4c7dcf</td>\n      <td>cd76a00d8e3ca5e6ab9ed9ecb6667ac4</td>\n      <td>fffe41c64501cc87c801fd61db3f6244</td>\n      <td>delivered</td>\n      <td>2018-06-09 17:00:18</td>\n      <td>2018-06-11 14:11:00</td>\n      <td>2018-06-28 00:00:00</td>\n      <td>1</td>\n      <td>350688d9dc1e75ff97be326363655e01</td>\n      <td>43.0</td>\n      <td>12.79</td>\n      <td>5</td>\n    </tr>\n    <tr>\n      <th>1</th>\n      <td>b5e6afd5a41800fdf401e0272ca74655</td>\n      <td>eb803377c9315b564bdedad672039306</td>\n      <td>fffe18544ffabc95dfada21779c9644f</td>\n      <td>delivered</td>\n      <td>2017-08-14 23:02:59</td>\n      <td>2017-08-15 19:02:53</td>\n      <td>2017-08-25 00:00:00</td>\n      <td>1</td>\n      <td>9c422a519119dcad7575db5af1ba540e</td>\n      <td>55.99</td>\n      <td>8.72</td>\n      <td>5</td>\n    </tr>\n  </tbody>\n</table>\n</div>"
     },
     "metadata": {},
     "output_type": "display_data"
    },
    {
     "name": "stdout",
     "output_type": "stream",
     "text": [
      "merger n. 3 (order_id)\n",
      "df1.shape before dropna on order_id: (114092, 12)\n",
      "df1.shape after dropna on order_id: (114092, 12)\n",
      "DF1 (114092,) (df1.head(2))\n"
     ]
    },
    {
     "data": {
      "text/plain": "                        customer_id                customer_unique_id  \\\n0  96d649da0cc4ff33bb408b199d4c7dcf  cd76a00d8e3ca5e6ab9ed9ecb6667ac4   \n1  b5e6afd5a41800fdf401e0272ca74655  eb803377c9315b564bdedad672039306   \n\n                           order_id order_status order_purchase_timestamp  \\\n0  fffe41c64501cc87c801fd61db3f6244    delivered      2018-06-09 17:00:18   \n1  fffe18544ffabc95dfada21779c9644f    delivered      2017-08-14 23:02:59   \n\n  order_delivered_carrier_date order_estimated_delivery_date order_item_id  \\\n0          2018-06-11 14:11:00           2018-06-28 00:00:00             1   \n1          2017-08-15 19:02:53           2017-08-25 00:00:00             1   \n\n                         product_id  price freight_value review_score  \n0  350688d9dc1e75ff97be326363655e01   43.0         12.79            5  \n1  9c422a519119dcad7575db5af1ba540e  55.99          8.72            5  ",
      "text/html": "<div>\n<style scoped>\n    .dataframe tbody tr th:only-of-type {\n        vertical-align: middle;\n    }\n\n    .dataframe tbody tr th {\n        vertical-align: top;\n    }\n\n    .dataframe thead th {\n        text-align: right;\n    }\n</style>\n<table border=\"1\" class=\"dataframe\">\n  <thead>\n    <tr style=\"text-align: right;\">\n      <th></th>\n      <th>customer_id</th>\n      <th>customer_unique_id</th>\n      <th>order_id</th>\n      <th>order_status</th>\n      <th>order_purchase_timestamp</th>\n      <th>order_delivered_carrier_date</th>\n      <th>order_estimated_delivery_date</th>\n      <th>order_item_id</th>\n      <th>product_id</th>\n      <th>price</th>\n      <th>freight_value</th>\n      <th>review_score</th>\n    </tr>\n  </thead>\n  <tbody>\n    <tr>\n      <th>0</th>\n      <td>96d649da0cc4ff33bb408b199d4c7dcf</td>\n      <td>cd76a00d8e3ca5e6ab9ed9ecb6667ac4</td>\n      <td>fffe41c64501cc87c801fd61db3f6244</td>\n      <td>delivered</td>\n      <td>2018-06-09 17:00:18</td>\n      <td>2018-06-11 14:11:00</td>\n      <td>2018-06-28 00:00:00</td>\n      <td>1</td>\n      <td>350688d9dc1e75ff97be326363655e01</td>\n      <td>43.0</td>\n      <td>12.79</td>\n      <td>5</td>\n    </tr>\n    <tr>\n      <th>1</th>\n      <td>b5e6afd5a41800fdf401e0272ca74655</td>\n      <td>eb803377c9315b564bdedad672039306</td>\n      <td>fffe18544ffabc95dfada21779c9644f</td>\n      <td>delivered</td>\n      <td>2017-08-14 23:02:59</td>\n      <td>2017-08-15 19:02:53</td>\n      <td>2017-08-25 00:00:00</td>\n      <td>1</td>\n      <td>9c422a519119dcad7575db5af1ba540e</td>\n      <td>55.99</td>\n      <td>8.72</td>\n      <td>5</td>\n    </tr>\n  </tbody>\n</table>\n</div>"
     },
     "metadata": {},
     "output_type": "display_data"
    },
    {
     "name": "stdout",
     "output_type": "stream",
     "text": [
      "df2.shape before dropna on order_id: (103886, 5)\n",
      "df2.shape after dropna on order_id: (103886, 5)\n",
      "DF2 (103886,) (df2.head(2))\n"
     ]
    },
    {
     "data": {
      "text/plain": "                               order_id payment_sequential payment_type  \\\n1235   fffe41c64501cc87c801fd61db3f6244                  1  credit_card   \n37089  fffe18544ffabc95dfada21779c9644f                  1  credit_card   \n\n      payment_installments payment_value  \n1235                     1         55.79  \n37089                    3         64.71  ",
      "text/html": "<div>\n<style scoped>\n    .dataframe tbody tr th:only-of-type {\n        vertical-align: middle;\n    }\n\n    .dataframe tbody tr th {\n        vertical-align: top;\n    }\n\n    .dataframe thead th {\n        text-align: right;\n    }\n</style>\n<table border=\"1\" class=\"dataframe\">\n  <thead>\n    <tr style=\"text-align: right;\">\n      <th></th>\n      <th>order_id</th>\n      <th>payment_sequential</th>\n      <th>payment_type</th>\n      <th>payment_installments</th>\n      <th>payment_value</th>\n    </tr>\n  </thead>\n  <tbody>\n    <tr>\n      <th>1235</th>\n      <td>fffe41c64501cc87c801fd61db3f6244</td>\n      <td>1</td>\n      <td>credit_card</td>\n      <td>1</td>\n      <td>55.79</td>\n    </tr>\n    <tr>\n      <th>37089</th>\n      <td>fffe18544ffabc95dfada21779c9644f</td>\n      <td>1</td>\n      <td>credit_card</td>\n      <td>3</td>\n      <td>64.71</td>\n    </tr>\n  </tbody>\n</table>\n</div>"
     },
     "metadata": {},
     "output_type": "display_data"
    },
    {
     "name": "stdout",
     "output_type": "stream",
     "text": [
      "Output of merger n. 3 (119143, 16)\n",
      "16 Index(['customer_id', 'customer_unique_id', 'order_id', 'order_status',\n",
      "       'order_purchase_timestamp', 'order_delivered_carrier_date',\n",
      "       'order_estimated_delivery_date', 'order_item_id', 'product_id', 'price',\n",
      "       'freight_value', 'review_score', 'payment_sequential', 'payment_type',\n",
      "       'payment_installments', 'payment_value'],\n",
      "      dtype='object')\n"
     ]
    },
    {
     "data": {
      "text/plain": "                        customer_id                customer_unique_id  \\\n0  96d649da0cc4ff33bb408b199d4c7dcf  cd76a00d8e3ca5e6ab9ed9ecb6667ac4   \n1  b5e6afd5a41800fdf401e0272ca74655  eb803377c9315b564bdedad672039306   \n\n                           order_id order_status order_purchase_timestamp  \\\n0  fffe41c64501cc87c801fd61db3f6244    delivered      2018-06-09 17:00:18   \n1  fffe18544ffabc95dfada21779c9644f    delivered      2017-08-14 23:02:59   \n\n  order_delivered_carrier_date order_estimated_delivery_date order_item_id  \\\n0          2018-06-11 14:11:00           2018-06-28 00:00:00             1   \n1          2017-08-15 19:02:53           2017-08-25 00:00:00             1   \n\n                         product_id  price freight_value review_score  \\\n0  350688d9dc1e75ff97be326363655e01   43.0         12.79            5   \n1  9c422a519119dcad7575db5af1ba540e  55.99          8.72            5   \n\n  payment_sequential payment_type payment_installments payment_value  \n0                  1  credit_card                    1         55.79  \n1                  1  credit_card                    3         64.71  ",
      "text/html": "<div>\n<style scoped>\n    .dataframe tbody tr th:only-of-type {\n        vertical-align: middle;\n    }\n\n    .dataframe tbody tr th {\n        vertical-align: top;\n    }\n\n    .dataframe thead th {\n        text-align: right;\n    }\n</style>\n<table border=\"1\" class=\"dataframe\">\n  <thead>\n    <tr style=\"text-align: right;\">\n      <th></th>\n      <th>customer_id</th>\n      <th>customer_unique_id</th>\n      <th>order_id</th>\n      <th>order_status</th>\n      <th>order_purchase_timestamp</th>\n      <th>order_delivered_carrier_date</th>\n      <th>order_estimated_delivery_date</th>\n      <th>order_item_id</th>\n      <th>product_id</th>\n      <th>price</th>\n      <th>freight_value</th>\n      <th>review_score</th>\n      <th>payment_sequential</th>\n      <th>payment_type</th>\n      <th>payment_installments</th>\n      <th>payment_value</th>\n    </tr>\n  </thead>\n  <tbody>\n    <tr>\n      <th>0</th>\n      <td>96d649da0cc4ff33bb408b199d4c7dcf</td>\n      <td>cd76a00d8e3ca5e6ab9ed9ecb6667ac4</td>\n      <td>fffe41c64501cc87c801fd61db3f6244</td>\n      <td>delivered</td>\n      <td>2018-06-09 17:00:18</td>\n      <td>2018-06-11 14:11:00</td>\n      <td>2018-06-28 00:00:00</td>\n      <td>1</td>\n      <td>350688d9dc1e75ff97be326363655e01</td>\n      <td>43.0</td>\n      <td>12.79</td>\n      <td>5</td>\n      <td>1</td>\n      <td>credit_card</td>\n      <td>1</td>\n      <td>55.79</td>\n    </tr>\n    <tr>\n      <th>1</th>\n      <td>b5e6afd5a41800fdf401e0272ca74655</td>\n      <td>eb803377c9315b564bdedad672039306</td>\n      <td>fffe18544ffabc95dfada21779c9644f</td>\n      <td>delivered</td>\n      <td>2017-08-14 23:02:59</td>\n      <td>2017-08-15 19:02:53</td>\n      <td>2017-08-25 00:00:00</td>\n      <td>1</td>\n      <td>9c422a519119dcad7575db5af1ba540e</td>\n      <td>55.99</td>\n      <td>8.72</td>\n      <td>5</td>\n      <td>1</td>\n      <td>credit_card</td>\n      <td>3</td>\n      <td>64.71</td>\n    </tr>\n  </tbody>\n</table>\n</div>"
     },
     "metadata": {},
     "output_type": "display_data"
    },
    {
     "name": "stdout",
     "output_type": "stream",
     "text": [
      "Nettoyage du jeu de données: \"all\" \n",
      "119143 16\n",
      "Après dropna, cols: 119143 16\n",
      "Colonnes de moins:\n",
      " 0\n",
      "Après dropna, lignes: 119143 16\n",
      "Lignes de moins:\n",
      " 0\n",
      "                        Indicator   count  percentage  vides\n",
      "0                     customer_id  118722       99.65    421\n",
      "1              customer_unique_id  118722       99.65    421\n",
      "2                        order_id  118722       99.65    421\n",
      "3                    order_status  118722       99.65    421\n",
      "4        order_purchase_timestamp  118722       99.65    421\n",
      "5    order_delivered_carrier_date  118722       99.65    421\n",
      "6   order_estimated_delivery_date  118722       99.65    421\n",
      "7                   order_item_id  118722       99.65    421\n",
      "8                      product_id  118722       99.65    421\n",
      "9                           price  118722       99.65    421\n",
      "10                  freight_value  118722       99.65    421\n",
      "11                   review_score  118722       99.65    421\n",
      "12             payment_sequential  118719       99.64    424\n",
      "13                   payment_type  118719       99.64    424\n",
      "14           payment_installments  118719       99.64    424\n",
      "15                  payment_value  118719       99.64    424\n",
      "\n",
      "Remove duplicates -> Lignes de moins:421\n",
      "\n",
      "Output:  (118722, 16)\n",
      "\n",
      "--------------------------------\n",
      "\n"
     ]
    }
   ],
   "source": [
    "l_merge = [[[0, ['customer_id', 'customer_unique_id']],\n",
    "            [5, ['customer_id', 'order_id', 'order_status',\n",
    "                 'order_purchase_timestamp',\n",
    "                 'order_delivered_carrier_date',\n",
    "                 'order_estimated_delivery_date']],\n",
    "            'customer_id'],\n",
    "           [[], [2, ['order_id', 'order_item_id',\n",
    "                     'product_id', 'price', 'freight_value' ]],\n",
    "            'order_id'],\n",
    "           [[], [4, ['order_id','review_score']], 'order_id'],\n",
    "           [[], [3, ['order_id', 'payment_sequential', 'payment_type',\n",
    "                     'payment_installments', 'payment_value']],\n",
    "            'order_id']]\n",
    "\n",
    "df_merge_1 = create_df_from_two_dfs_join(l_df, l_merge, 'left')\n",
    "df_all_start = nettoyage(df_merge_1, 'all')\n",
    "\n",
    "# Pour chaque ligne de la commande order_id,\n",
    "# on retient seulement la première ligne\n",
    "\n",
    "df_all_start['dup'] = df_all_start.duplicated(subset='order_id',\n",
    "                                              keep='first')\n",
    "# importantissimo per evitare ripetizioni"
   ],
   "metadata": {
    "collapsed": false,
    "pycharm": {
     "name": "#%%\n"
    }
   }
  },
  {
   "cell_type": "markdown",
   "source": [
    "C'est-à-dire que 118719 achats de *produits* (les commandes peuvent inclure\n",
    "plus d'un produit et le meme produit achète plusieurs est toujours\n",
    "indiqué avec le meme product_id, qui se répètera) sont enregistrés.\n",
    "Il reste à trier les commandes non livrées.\n",
    "____________________________________"
   ],
   "metadata": {
    "collapsed": false,
    "pycharm": {
     "name": "#%% md\n"
    }
   }
  },
  {
   "cell_type": "markdown",
   "source": [
    "# 3.1 Nombre de clients uniques de df_all ()"
   ],
   "metadata": {
    "collapsed": false,
    "pycharm": {
     "name": "#%% md\n"
    }
   }
  },
  {
   "cell_type": "code",
   "execution_count": 212,
   "outputs": [
    {
     "name": "stdout",
     "output_type": "stream",
     "text": [
      "Le numéro de clients uniques est confirmé: 96096\n"
     ]
    }
   ],
   "source": [
    "print('Le numéro de clients uniques est confirmé: %s'\n",
    "      % df_all_start.groupby('customer_unique_id').count().shape[0])"
   ],
   "metadata": {
    "collapsed": false,
    "pycharm": {
     "name": "#%%\n"
    }
   }
  },
  {
   "cell_type": "markdown",
   "source": [
    "# 3.2 Traitement des dates sur df_all_start -> df_commandes_livrees"
   ],
   "metadata": {
    "collapsed": false,
    "pycharm": {
     "name": "#%% md\n"
    }
   }
  },
  {
   "cell_type": "code",
   "execution_count": 213,
   "outputs": [
    {
     "name": "stdout",
     "output_type": "stream",
     "text": [
      "Commandes non livrées: 2159\n",
      "Df des commandes livrées: (116563, 18)\n"
     ]
    },
    {
     "data": {
      "text/plain": "Index(['customer_id', 'customer_unique_id', 'order_id', 'order_status',\n       'order_purchase_timestamp', 'order_delivered_carrier_date',\n       'order_estimated_delivery_date', 'order_item_id', 'product_id', 'price',\n       'freight_value', 'review_score', 'payment_sequential', 'payment_type',\n       'payment_installments', 'payment_value', 'dup', 'livree'],\n      dtype='object')"
     },
     "execution_count": 213,
     "metadata": {},
     "output_type": "execute_result"
    }
   ],
   "source": [
    "def select_livraisons(df):\n",
    "    status_dict = {\n",
    "        'approved': 0,\n",
    "        'canceled': 0,\n",
    "        'created': 0,\n",
    "        'delivered': 1,\n",
    "        'invoiced': 0,\n",
    "        'processing': 0,\n",
    "        'shipped': 1,\n",
    "        'unavailable': 0\n",
    "}\n",
    "\n",
    "    df.groupby('order_status').count()\n",
    "    df.groupby('order_status').count().index\n",
    "\n",
    "    df['livree'] = df['order_status'].map(status_dict)\n",
    "\n",
    "    return df\n",
    "\n",
    "df_commandes_livrees = select_livraisons(df_all_start)\n",
    "# print(df_commandes_livrees_c2['payment_value'].astype(float).sum())\n",
    "print('Commandes non livrées:',\n",
    "      df_commandes_livrees.loc[df_commandes_livrees['livree']\n",
    "                               ==0].shape[0])\n",
    "df_commandes_livrees \\\n",
    "    = df_commandes_livrees.loc[df_commandes_livrees['livree']==1]\n",
    "print('Df des commandes livrées:', df_commandes_livrees.shape)\n",
    "df_commandes_livrees.columns\n"
   ],
   "metadata": {
    "collapsed": false,
    "pycharm": {
     "name": "#%%\n"
    }
   }
  },
  {
   "cell_type": "markdown",
   "source": [
    "***Dates limite***"
   ],
   "metadata": {
    "collapsed": false,
    "pycharm": {
     "name": "#%% md\n"
    }
   }
  },
  {
   "cell_type": "code",
   "execution_count": 214,
   "outputs": [
    {
     "name": "stderr",
     "output_type": "stream",
     "text": [
      "/var/folders/zv/tmk76ddj1sj2bmhyt0by55l40000gp/T/ipykernel_2278/3068366352.py:9: SettingWithCopyWarning: \n",
      "A value is trying to be set on a copy of a slice from a DataFrame.\n",
      "Try using .loc[row_indexer,col_indexer] = value instead\n",
      "\n",
      "See the caveats in the documentation: https://pandas.pydata.org/pandas-docs/stable/user_guide/indexing.html#returning-a-view-versus-a-copy\n",
      "  df[i] = pd.to_datetime(df[i])\n",
      "/var/folders/zv/tmk76ddj1sj2bmhyt0by55l40000gp/T/ipykernel_2278/3068366352.py:9: SettingWithCopyWarning: \n",
      "A value is trying to be set on a copy of a slice from a DataFrame.\n",
      "Try using .loc[row_indexer,col_indexer] = value instead\n",
      "\n",
      "See the caveats in the documentation: https://pandas.pydata.org/pandas-docs/stable/user_guide/indexing.html#returning-a-view-versus-a-copy\n",
      "  df[i] = pd.to_datetime(df[i])\n",
      "/var/folders/zv/tmk76ddj1sj2bmhyt0by55l40000gp/T/ipykernel_2278/3068366352.py:9: SettingWithCopyWarning: \n",
      "A value is trying to be set on a copy of a slice from a DataFrame.\n",
      "Try using .loc[row_indexer,col_indexer] = value instead\n",
      "\n",
      "See the caveats in the documentation: https://pandas.pydata.org/pandas-docs/stable/user_guide/indexing.html#returning-a-view-versus-a-copy\n",
      "  df[i] = pd.to_datetime(df[i])\n"
     ]
    },
    {
     "data": {
      "text/plain": "                            customer_id                customer_unique_id  \\\n86906  a35878bee339b45240b5a327d933509b  9726a24d281565192465aea2248a165c   \n\n                               order_id order_status order_purchase_timestamp  \\\n86906  4505acb3759da6b9c7d79a80d29ab3bb    delivered      2018-08-06 14:32:27   \n\n      order_delivered_carrier_date order_estimated_delivery_date  \\\n86906          2018-09-11 19:48:28                    2018-08-17   \n\n      order_item_id                        product_id  price freight_value  \\\n86906             1  0eb8e03d4ef83152c4642b606b5bbdec  29.99         12.51   \n\n      review_score payment_sequential payment_type payment_installments  \\\n86906            5                  1       boleto                    1   \n\n      payment_value    dup  livree  \n86906          42.5  False       1  ",
      "text/html": "<div>\n<style scoped>\n    .dataframe tbody tr th:only-of-type {\n        vertical-align: middle;\n    }\n\n    .dataframe tbody tr th {\n        vertical-align: top;\n    }\n\n    .dataframe thead th {\n        text-align: right;\n    }\n</style>\n<table border=\"1\" class=\"dataframe\">\n  <thead>\n    <tr style=\"text-align: right;\">\n      <th></th>\n      <th>customer_id</th>\n      <th>customer_unique_id</th>\n      <th>order_id</th>\n      <th>order_status</th>\n      <th>order_purchase_timestamp</th>\n      <th>order_delivered_carrier_date</th>\n      <th>order_estimated_delivery_date</th>\n      <th>order_item_id</th>\n      <th>product_id</th>\n      <th>price</th>\n      <th>freight_value</th>\n      <th>review_score</th>\n      <th>payment_sequential</th>\n      <th>payment_type</th>\n      <th>payment_installments</th>\n      <th>payment_value</th>\n      <th>dup</th>\n      <th>livree</th>\n    </tr>\n  </thead>\n  <tbody>\n    <tr>\n      <th>86906</th>\n      <td>a35878bee339b45240b5a327d933509b</td>\n      <td>9726a24d281565192465aea2248a165c</td>\n      <td>4505acb3759da6b9c7d79a80d29ab3bb</td>\n      <td>delivered</td>\n      <td>2018-08-06 14:32:27</td>\n      <td>2018-09-11 19:48:28</td>\n      <td>2018-08-17</td>\n      <td>1</td>\n      <td>0eb8e03d4ef83152c4642b606b5bbdec</td>\n      <td>29.99</td>\n      <td>12.51</td>\n      <td>5</td>\n      <td>1</td>\n      <td>boleto</td>\n      <td>1</td>\n      <td>42.5</td>\n      <td>False</td>\n      <td>1</td>\n    </tr>\n  </tbody>\n</table>\n</div>"
     },
     "metadata": {},
     "output_type": "display_data"
    },
    {
     "name": "stdout",
     "output_type": "stream",
     "text": [
      "2018-09-03 09:06:57\n",
      "3\n",
      "2016-09-04 21:15:19\n"
     ]
    },
    {
     "data": {
      "text/plain": "                             customer_id                customer_unique_id  \\\n79751   4b7decb9b58e2569548b8b4c8e20e8d7  ff22e30958c13ffe219db7d711e8f564   \n94189   898b7fee99c4e42170ab69ba59be0a8b  24ac2b4327e25baf39f2119e4228976a   \n117345  496630b6740bcca28fce9ba50d8a26ef  b701bebbdf478f5500348f03aff62121   \n108775  6e353700bc7bcdf6ebc15d6de16d7002  7febafa06d9d8f232a900a2937f04338   \n113984  e60df9449653a95af4549bbfcb18a6eb  5c58de6fb80e93396e2f35642666b693   \n\n                                order_id order_status  \\\n79751   54282e97f61c23b78330c15b154c867d      shipped   \n94189   35a972d7f8436f405b56e36add1a7140    delivered   \n117345  03ef5dedbe7492bdae72eec50764c43f    delivered   \n108775  168626408cb32af0ffaf76711caae1dc    delivered   \n113984  0b223d92c27432930dfe407c6aea3041    delivered   \n\n       order_purchase_timestamp order_delivered_carrier_date  \\\n79751       2018-09-03 09:06:57          2018-09-04 15:25:00   \n94189       2018-08-29 15:00:37          2018-08-29 16:57:00   \n117345      2018-08-29 14:52:00          2018-08-29 20:01:00   \n108775      2018-08-29 14:18:28          2018-08-29 18:51:00   \n113984      2018-08-29 14:18:23          2018-08-29 15:29:00   \n\n       order_estimated_delivery_date order_item_id  \\\n79751                     2018-09-06             1   \n94189                     2018-09-05             1   \n117345                    2018-09-03             1   \n108775                    2018-09-11             1   \n113984                    2018-09-04             1   \n\n                              product_id  price freight_value review_score  \\\n79751   b98992ea80b467987a7fbb88e7f2076a  145.0         21.46            1   \n94189   d04857e7b4b708ee8b8b9921163edba3  84.99          8.76            5   \n117345  c7f27c5bef2338541c772b5776403e6a   24.9          8.33            3   \n108775  bdcf6a834e8faa30dac3886c7a58e92e   45.9         15.39            5   \n113984  2b4472df15512a2825ae86fd9ae79335  209.0         46.48            5   \n\n       payment_sequential payment_type payment_installments payment_value  \\\n79751                   1      voucher                    1        166.46   \n94189                   1  credit_card                    1         93.75   \n117345                  1  credit_card                    1         33.23   \n108775                  1      voucher                    1         61.29   \n113984                  1  credit_card                    8        510.96   \n\n          dup  livree  \n79751   False       1  \n94189   False       1  \n117345  False       1  \n108775  False       1  \n113984   True       1  ",
      "text/html": "<div>\n<style scoped>\n    .dataframe tbody tr th:only-of-type {\n        vertical-align: middle;\n    }\n\n    .dataframe tbody tr th {\n        vertical-align: top;\n    }\n\n    .dataframe thead th {\n        text-align: right;\n    }\n</style>\n<table border=\"1\" class=\"dataframe\">\n  <thead>\n    <tr style=\"text-align: right;\">\n      <th></th>\n      <th>customer_id</th>\n      <th>customer_unique_id</th>\n      <th>order_id</th>\n      <th>order_status</th>\n      <th>order_purchase_timestamp</th>\n      <th>order_delivered_carrier_date</th>\n      <th>order_estimated_delivery_date</th>\n      <th>order_item_id</th>\n      <th>product_id</th>\n      <th>price</th>\n      <th>freight_value</th>\n      <th>review_score</th>\n      <th>payment_sequential</th>\n      <th>payment_type</th>\n      <th>payment_installments</th>\n      <th>payment_value</th>\n      <th>dup</th>\n      <th>livree</th>\n    </tr>\n  </thead>\n  <tbody>\n    <tr>\n      <th>79751</th>\n      <td>4b7decb9b58e2569548b8b4c8e20e8d7</td>\n      <td>ff22e30958c13ffe219db7d711e8f564</td>\n      <td>54282e97f61c23b78330c15b154c867d</td>\n      <td>shipped</td>\n      <td>2018-09-03 09:06:57</td>\n      <td>2018-09-04 15:25:00</td>\n      <td>2018-09-06</td>\n      <td>1</td>\n      <td>b98992ea80b467987a7fbb88e7f2076a</td>\n      <td>145.0</td>\n      <td>21.46</td>\n      <td>1</td>\n      <td>1</td>\n      <td>voucher</td>\n      <td>1</td>\n      <td>166.46</td>\n      <td>False</td>\n      <td>1</td>\n    </tr>\n    <tr>\n      <th>94189</th>\n      <td>898b7fee99c4e42170ab69ba59be0a8b</td>\n      <td>24ac2b4327e25baf39f2119e4228976a</td>\n      <td>35a972d7f8436f405b56e36add1a7140</td>\n      <td>delivered</td>\n      <td>2018-08-29 15:00:37</td>\n      <td>2018-08-29 16:57:00</td>\n      <td>2018-09-05</td>\n      <td>1</td>\n      <td>d04857e7b4b708ee8b8b9921163edba3</td>\n      <td>84.99</td>\n      <td>8.76</td>\n      <td>5</td>\n      <td>1</td>\n      <td>credit_card</td>\n      <td>1</td>\n      <td>93.75</td>\n      <td>False</td>\n      <td>1</td>\n    </tr>\n    <tr>\n      <th>117345</th>\n      <td>496630b6740bcca28fce9ba50d8a26ef</td>\n      <td>b701bebbdf478f5500348f03aff62121</td>\n      <td>03ef5dedbe7492bdae72eec50764c43f</td>\n      <td>delivered</td>\n      <td>2018-08-29 14:52:00</td>\n      <td>2018-08-29 20:01:00</td>\n      <td>2018-09-03</td>\n      <td>1</td>\n      <td>c7f27c5bef2338541c772b5776403e6a</td>\n      <td>24.9</td>\n      <td>8.33</td>\n      <td>3</td>\n      <td>1</td>\n      <td>credit_card</td>\n      <td>1</td>\n      <td>33.23</td>\n      <td>False</td>\n      <td>1</td>\n    </tr>\n    <tr>\n      <th>108775</th>\n      <td>6e353700bc7bcdf6ebc15d6de16d7002</td>\n      <td>7febafa06d9d8f232a900a2937f04338</td>\n      <td>168626408cb32af0ffaf76711caae1dc</td>\n      <td>delivered</td>\n      <td>2018-08-29 14:18:28</td>\n      <td>2018-08-29 18:51:00</td>\n      <td>2018-09-11</td>\n      <td>1</td>\n      <td>bdcf6a834e8faa30dac3886c7a58e92e</td>\n      <td>45.9</td>\n      <td>15.39</td>\n      <td>5</td>\n      <td>1</td>\n      <td>voucher</td>\n      <td>1</td>\n      <td>61.29</td>\n      <td>False</td>\n      <td>1</td>\n    </tr>\n    <tr>\n      <th>113984</th>\n      <td>e60df9449653a95af4549bbfcb18a6eb</td>\n      <td>5c58de6fb80e93396e2f35642666b693</td>\n      <td>0b223d92c27432930dfe407c6aea3041</td>\n      <td>delivered</td>\n      <td>2018-08-29 14:18:23</td>\n      <td>2018-08-29 15:29:00</td>\n      <td>2018-09-04</td>\n      <td>1</td>\n      <td>2b4472df15512a2825ae86fd9ae79335</td>\n      <td>209.0</td>\n      <td>46.48</td>\n      <td>5</td>\n      <td>1</td>\n      <td>credit_card</td>\n      <td>8</td>\n      <td>510.96</td>\n      <td>True</td>\n      <td>1</td>\n    </tr>\n  </tbody>\n</table>\n</div>"
     },
     "metadata": {},
     "output_type": "display_data"
    },
    {
     "data": {
      "text/plain": "                            customer_id                customer_unique_id  \\\n29849  86dc2ffce2dfff336de2f386a786e574  830d5b7aaa3b6f1e9ad63703bec97d23   \n29848  86dc2ffce2dfff336de2f386a786e574  830d5b7aaa3b6f1e9ad63703bec97d23   \n29847  86dc2ffce2dfff336de2f386a786e574  830d5b7aaa3b6f1e9ad63703bec97d23   \n97652  08c5351a6aca1c1589a38f244edeee9d  b7d76e111c89f7ebf14761390f0f7d17   \n97653  08c5351a6aca1c1589a38f244edeee9d  b7d76e111c89f7ebf14761390f0f7d17   \n\n                               order_id order_status order_purchase_timestamp  \\\n29849  bfbd0f9bdef84302105ad712db648a6c    delivered      2016-09-15 12:16:38   \n29848  bfbd0f9bdef84302105ad712db648a6c    delivered      2016-09-15 12:16:38   \n29847  bfbd0f9bdef84302105ad712db648a6c    delivered      2016-09-15 12:16:38   \n97652  2e7a8482f6fb09756ca50c10d7bfc047      shipped      2016-09-04 21:15:19   \n97653  2e7a8482f6fb09756ca50c10d7bfc047      shipped      2016-09-04 21:15:19   \n\n      order_delivered_carrier_date order_estimated_delivery_date  \\\n29849          2016-11-07 17:11:53                    2016-10-04   \n29848          2016-11-07 17:11:53                    2016-10-04   \n29847          2016-11-07 17:11:53                    2016-10-04   \n97652          2016-10-18 13:14:51                    2016-10-20   \n97653          2016-10-18 13:14:51                    2016-10-20   \n\n      order_item_id                        product_id  price freight_value  \\\n29849             1  5a6b04657a4c5ee34285d1e4619a96b4  44.99          2.83   \n29848             2  5a6b04657a4c5ee34285d1e4619a96b4  44.99          2.83   \n29847             3  5a6b04657a4c5ee34285d1e4619a96b4  44.99          2.83   \n97652             1  c1488892604e4ba5cff5b4eb4d595400  39.99         31.67   \n97653             2  f293394c72c9b5fafd7023301fc21fc2   32.9         31.67   \n\n      review_score payment_sequential payment_type payment_installments  \\\n29849            1                NaN          NaN                  NaN   \n29848            1                NaN          NaN                  NaN   \n29847            1                NaN          NaN                  NaN   \n97652            1                  1  credit_card                    1   \n97653            1                  1  credit_card                    1   \n\n      payment_value    dup  livree  \n29849           NaN   True       1  \n29848           NaN   True       1  \n29847           NaN  False       1  \n97652        136.23  False       1  \n97653        136.23   True       1  ",
      "text/html": "<div>\n<style scoped>\n    .dataframe tbody tr th:only-of-type {\n        vertical-align: middle;\n    }\n\n    .dataframe tbody tr th {\n        vertical-align: top;\n    }\n\n    .dataframe thead th {\n        text-align: right;\n    }\n</style>\n<table border=\"1\" class=\"dataframe\">\n  <thead>\n    <tr style=\"text-align: right;\">\n      <th></th>\n      <th>customer_id</th>\n      <th>customer_unique_id</th>\n      <th>order_id</th>\n      <th>order_status</th>\n      <th>order_purchase_timestamp</th>\n      <th>order_delivered_carrier_date</th>\n      <th>order_estimated_delivery_date</th>\n      <th>order_item_id</th>\n      <th>product_id</th>\n      <th>price</th>\n      <th>freight_value</th>\n      <th>review_score</th>\n      <th>payment_sequential</th>\n      <th>payment_type</th>\n      <th>payment_installments</th>\n      <th>payment_value</th>\n      <th>dup</th>\n      <th>livree</th>\n    </tr>\n  </thead>\n  <tbody>\n    <tr>\n      <th>29849</th>\n      <td>86dc2ffce2dfff336de2f386a786e574</td>\n      <td>830d5b7aaa3b6f1e9ad63703bec97d23</td>\n      <td>bfbd0f9bdef84302105ad712db648a6c</td>\n      <td>delivered</td>\n      <td>2016-09-15 12:16:38</td>\n      <td>2016-11-07 17:11:53</td>\n      <td>2016-10-04</td>\n      <td>1</td>\n      <td>5a6b04657a4c5ee34285d1e4619a96b4</td>\n      <td>44.99</td>\n      <td>2.83</td>\n      <td>1</td>\n      <td>NaN</td>\n      <td>NaN</td>\n      <td>NaN</td>\n      <td>NaN</td>\n      <td>True</td>\n      <td>1</td>\n    </tr>\n    <tr>\n      <th>29848</th>\n      <td>86dc2ffce2dfff336de2f386a786e574</td>\n      <td>830d5b7aaa3b6f1e9ad63703bec97d23</td>\n      <td>bfbd0f9bdef84302105ad712db648a6c</td>\n      <td>delivered</td>\n      <td>2016-09-15 12:16:38</td>\n      <td>2016-11-07 17:11:53</td>\n      <td>2016-10-04</td>\n      <td>2</td>\n      <td>5a6b04657a4c5ee34285d1e4619a96b4</td>\n      <td>44.99</td>\n      <td>2.83</td>\n      <td>1</td>\n      <td>NaN</td>\n      <td>NaN</td>\n      <td>NaN</td>\n      <td>NaN</td>\n      <td>True</td>\n      <td>1</td>\n    </tr>\n    <tr>\n      <th>29847</th>\n      <td>86dc2ffce2dfff336de2f386a786e574</td>\n      <td>830d5b7aaa3b6f1e9ad63703bec97d23</td>\n      <td>bfbd0f9bdef84302105ad712db648a6c</td>\n      <td>delivered</td>\n      <td>2016-09-15 12:16:38</td>\n      <td>2016-11-07 17:11:53</td>\n      <td>2016-10-04</td>\n      <td>3</td>\n      <td>5a6b04657a4c5ee34285d1e4619a96b4</td>\n      <td>44.99</td>\n      <td>2.83</td>\n      <td>1</td>\n      <td>NaN</td>\n      <td>NaN</td>\n      <td>NaN</td>\n      <td>NaN</td>\n      <td>False</td>\n      <td>1</td>\n    </tr>\n    <tr>\n      <th>97652</th>\n      <td>08c5351a6aca1c1589a38f244edeee9d</td>\n      <td>b7d76e111c89f7ebf14761390f0f7d17</td>\n      <td>2e7a8482f6fb09756ca50c10d7bfc047</td>\n      <td>shipped</td>\n      <td>2016-09-04 21:15:19</td>\n      <td>2016-10-18 13:14:51</td>\n      <td>2016-10-20</td>\n      <td>1</td>\n      <td>c1488892604e4ba5cff5b4eb4d595400</td>\n      <td>39.99</td>\n      <td>31.67</td>\n      <td>1</td>\n      <td>1</td>\n      <td>credit_card</td>\n      <td>1</td>\n      <td>136.23</td>\n      <td>False</td>\n      <td>1</td>\n    </tr>\n    <tr>\n      <th>97653</th>\n      <td>08c5351a6aca1c1589a38f244edeee9d</td>\n      <td>b7d76e111c89f7ebf14761390f0f7d17</td>\n      <td>2e7a8482f6fb09756ca50c10d7bfc047</td>\n      <td>shipped</td>\n      <td>2016-09-04 21:15:19</td>\n      <td>2016-10-18 13:14:51</td>\n      <td>2016-10-20</td>\n      <td>2</td>\n      <td>f293394c72c9b5fafd7023301fc21fc2</td>\n      <td>32.9</td>\n      <td>31.67</td>\n      <td>1</td>\n      <td>1</td>\n      <td>credit_card</td>\n      <td>1</td>\n      <td>136.23</td>\n      <td>True</td>\n      <td>1</td>\n    </tr>\n  </tbody>\n</table>\n</div>"
     },
     "metadata": {},
     "output_type": "display_data"
    },
    {
     "name": "stdout",
     "output_type": "stream",
     "text": [
      "Élimination commandes avec une attente negative entre achat et reception (erreurs de saisie)\n",
      "(116563, 23) ->\n",
      "(116372, 23)\n",
      "729 0\n"
     ]
    },
    {
     "data": {
      "text/plain": "                             customer_id                customer_unique_id  \\\n79751   4b7decb9b58e2569548b8b4c8e20e8d7  ff22e30958c13ffe219db7d711e8f564   \n94189   898b7fee99c4e42170ab69ba59be0a8b  24ac2b4327e25baf39f2119e4228976a   \n117345  496630b6740bcca28fce9ba50d8a26ef  b701bebbdf478f5500348f03aff62121   \n108775  6e353700bc7bcdf6ebc15d6de16d7002  7febafa06d9d8f232a900a2937f04338   \n113984  e60df9449653a95af4549bbfcb18a6eb  5c58de6fb80e93396e2f35642666b693   \n\n                                order_id order_status  \\\n79751   54282e97f61c23b78330c15b154c867d      shipped   \n94189   35a972d7f8436f405b56e36add1a7140    delivered   \n117345  03ef5dedbe7492bdae72eec50764c43f    delivered   \n108775  168626408cb32af0ffaf76711caae1dc    delivered   \n113984  0b223d92c27432930dfe407c6aea3041    delivered   \n\n       order_purchase_timestamp order_delivered_carrier_date  \\\n79751       2018-09-03 09:06:57          2018-09-04 15:25:00   \n94189       2018-08-29 15:00:37          2018-08-29 16:57:00   \n117345      2018-08-29 14:52:00          2018-08-29 20:01:00   \n108775      2018-08-29 14:18:28          2018-08-29 18:51:00   \n113984      2018-08-29 14:18:23          2018-08-29 15:29:00   \n\n       order_estimated_delivery_date order_item_id  \\\n79751                     2018-09-06             1   \n94189                     2018-09-05             1   \n117345                    2018-09-03             1   \n108775                    2018-09-11             1   \n113984                    2018-09-04             1   \n\n                              product_id  price  ... livree  \\\n79751   b98992ea80b467987a7fbb88e7f2076a  145.0  ...      1   \n94189   d04857e7b4b708ee8b8b9921163edba3  84.99  ...      1   \n117345  c7f27c5bef2338541c772b5776403e6a   24.9  ...      1   \n108775  bdcf6a834e8faa30dac3886c7a58e92e   45.9  ...      1   \n113984  2b4472df15512a2825ae86fd9ae79335  209.0  ...      1   \n\n       recency_order_purchase_timestamp recency_order_delivered_carrier_date  \\\n79751                                 0                                -1.00   \n94189                                 5                                 5.00   \n117345                                5                                 5.00   \n108775                                5                                 5.00   \n113984                                5                                 5.00   \n\n       recency_order_estimated_delivery_date         attente attente-jours  \\\n79751                                     -3 1 days 06:18:03          1.00   \n94189                                     -2 0 days 01:56:23          0.00   \n117345                                     0 0 days 05:09:00          0.00   \n108775                                    -8 0 days 04:32:32          0.00   \n113984                                    -1 0 days 01:10:37          0.00   \n\n        decalage-prevision  decalage-prevision-jours  rapidite_livraison  \\\n79751    -2 days +15:25:00                        -2                 101   \n94189    -7 days +16:57:00                        -7                 106   \n117345   -5 days +20:01:00                        -5                 104   \n108775  -13 days +18:51:00                       -13                 112   \n113984   -6 days +15:29:00                        -6                 105   \n\n        recency_crescent  \n79751                729  \n94189                724  \n117345               724  \n108775               724  \n113984               724  \n\n[5 rows x 27 columns]",
      "text/html": "<div>\n<style scoped>\n    .dataframe tbody tr th:only-of-type {\n        vertical-align: middle;\n    }\n\n    .dataframe tbody tr th {\n        vertical-align: top;\n    }\n\n    .dataframe thead th {\n        text-align: right;\n    }\n</style>\n<table border=\"1\" class=\"dataframe\">\n  <thead>\n    <tr style=\"text-align: right;\">\n      <th></th>\n      <th>customer_id</th>\n      <th>customer_unique_id</th>\n      <th>order_id</th>\n      <th>order_status</th>\n      <th>order_purchase_timestamp</th>\n      <th>order_delivered_carrier_date</th>\n      <th>order_estimated_delivery_date</th>\n      <th>order_item_id</th>\n      <th>product_id</th>\n      <th>price</th>\n      <th>...</th>\n      <th>livree</th>\n      <th>recency_order_purchase_timestamp</th>\n      <th>recency_order_delivered_carrier_date</th>\n      <th>recency_order_estimated_delivery_date</th>\n      <th>attente</th>\n      <th>attente-jours</th>\n      <th>decalage-prevision</th>\n      <th>decalage-prevision-jours</th>\n      <th>rapidite_livraison</th>\n      <th>recency_crescent</th>\n    </tr>\n  </thead>\n  <tbody>\n    <tr>\n      <th>79751</th>\n      <td>4b7decb9b58e2569548b8b4c8e20e8d7</td>\n      <td>ff22e30958c13ffe219db7d711e8f564</td>\n      <td>54282e97f61c23b78330c15b154c867d</td>\n      <td>shipped</td>\n      <td>2018-09-03 09:06:57</td>\n      <td>2018-09-04 15:25:00</td>\n      <td>2018-09-06</td>\n      <td>1</td>\n      <td>b98992ea80b467987a7fbb88e7f2076a</td>\n      <td>145.0</td>\n      <td>...</td>\n      <td>1</td>\n      <td>0</td>\n      <td>-1.00</td>\n      <td>-3</td>\n      <td>1 days 06:18:03</td>\n      <td>1.00</td>\n      <td>-2 days +15:25:00</td>\n      <td>-2</td>\n      <td>101</td>\n      <td>729</td>\n    </tr>\n    <tr>\n      <th>94189</th>\n      <td>898b7fee99c4e42170ab69ba59be0a8b</td>\n      <td>24ac2b4327e25baf39f2119e4228976a</td>\n      <td>35a972d7f8436f405b56e36add1a7140</td>\n      <td>delivered</td>\n      <td>2018-08-29 15:00:37</td>\n      <td>2018-08-29 16:57:00</td>\n      <td>2018-09-05</td>\n      <td>1</td>\n      <td>d04857e7b4b708ee8b8b9921163edba3</td>\n      <td>84.99</td>\n      <td>...</td>\n      <td>1</td>\n      <td>5</td>\n      <td>5.00</td>\n      <td>-2</td>\n      <td>0 days 01:56:23</td>\n      <td>0.00</td>\n      <td>-7 days +16:57:00</td>\n      <td>-7</td>\n      <td>106</td>\n      <td>724</td>\n    </tr>\n    <tr>\n      <th>117345</th>\n      <td>496630b6740bcca28fce9ba50d8a26ef</td>\n      <td>b701bebbdf478f5500348f03aff62121</td>\n      <td>03ef5dedbe7492bdae72eec50764c43f</td>\n      <td>delivered</td>\n      <td>2018-08-29 14:52:00</td>\n      <td>2018-08-29 20:01:00</td>\n      <td>2018-09-03</td>\n      <td>1</td>\n      <td>c7f27c5bef2338541c772b5776403e6a</td>\n      <td>24.9</td>\n      <td>...</td>\n      <td>1</td>\n      <td>5</td>\n      <td>5.00</td>\n      <td>0</td>\n      <td>0 days 05:09:00</td>\n      <td>0.00</td>\n      <td>-5 days +20:01:00</td>\n      <td>-5</td>\n      <td>104</td>\n      <td>724</td>\n    </tr>\n    <tr>\n      <th>108775</th>\n      <td>6e353700bc7bcdf6ebc15d6de16d7002</td>\n      <td>7febafa06d9d8f232a900a2937f04338</td>\n      <td>168626408cb32af0ffaf76711caae1dc</td>\n      <td>delivered</td>\n      <td>2018-08-29 14:18:28</td>\n      <td>2018-08-29 18:51:00</td>\n      <td>2018-09-11</td>\n      <td>1</td>\n      <td>bdcf6a834e8faa30dac3886c7a58e92e</td>\n      <td>45.9</td>\n      <td>...</td>\n      <td>1</td>\n      <td>5</td>\n      <td>5.00</td>\n      <td>-8</td>\n      <td>0 days 04:32:32</td>\n      <td>0.00</td>\n      <td>-13 days +18:51:00</td>\n      <td>-13</td>\n      <td>112</td>\n      <td>724</td>\n    </tr>\n    <tr>\n      <th>113984</th>\n      <td>e60df9449653a95af4549bbfcb18a6eb</td>\n      <td>5c58de6fb80e93396e2f35642666b693</td>\n      <td>0b223d92c27432930dfe407c6aea3041</td>\n      <td>delivered</td>\n      <td>2018-08-29 14:18:23</td>\n      <td>2018-08-29 15:29:00</td>\n      <td>2018-09-04</td>\n      <td>1</td>\n      <td>2b4472df15512a2825ae86fd9ae79335</td>\n      <td>209.0</td>\n      <td>...</td>\n      <td>1</td>\n      <td>5</td>\n      <td>5.00</td>\n      <td>-1</td>\n      <td>0 days 01:10:37</td>\n      <td>0.00</td>\n      <td>-6 days +15:29:00</td>\n      <td>-6</td>\n      <td>105</td>\n      <td>724</td>\n    </tr>\n  </tbody>\n</table>\n<p>5 rows × 27 columns</p>\n</div>"
     },
     "metadata": {},
     "output_type": "display_data"
    },
    {
     "data": {
      "text/plain": "                            customer_id                customer_unique_id  \\\n29849  86dc2ffce2dfff336de2f386a786e574  830d5b7aaa3b6f1e9ad63703bec97d23   \n29848  86dc2ffce2dfff336de2f386a786e574  830d5b7aaa3b6f1e9ad63703bec97d23   \n29847  86dc2ffce2dfff336de2f386a786e574  830d5b7aaa3b6f1e9ad63703bec97d23   \n97652  08c5351a6aca1c1589a38f244edeee9d  b7d76e111c89f7ebf14761390f0f7d17   \n97653  08c5351a6aca1c1589a38f244edeee9d  b7d76e111c89f7ebf14761390f0f7d17   \n\n                               order_id order_status order_purchase_timestamp  \\\n29849  bfbd0f9bdef84302105ad712db648a6c    delivered      2016-09-15 12:16:38   \n29848  bfbd0f9bdef84302105ad712db648a6c    delivered      2016-09-15 12:16:38   \n29847  bfbd0f9bdef84302105ad712db648a6c    delivered      2016-09-15 12:16:38   \n97652  2e7a8482f6fb09756ca50c10d7bfc047      shipped      2016-09-04 21:15:19   \n97653  2e7a8482f6fb09756ca50c10d7bfc047      shipped      2016-09-04 21:15:19   \n\n      order_delivered_carrier_date order_estimated_delivery_date  \\\n29849          2016-11-07 17:11:53                    2016-10-04   \n29848          2016-11-07 17:11:53                    2016-10-04   \n29847          2016-11-07 17:11:53                    2016-10-04   \n97652          2016-10-18 13:14:51                    2016-10-20   \n97653          2016-10-18 13:14:51                    2016-10-20   \n\n      order_item_id                        product_id  price  ... livree  \\\n29849             1  5a6b04657a4c5ee34285d1e4619a96b4  44.99  ...      1   \n29848             2  5a6b04657a4c5ee34285d1e4619a96b4  44.99  ...      1   \n29847             3  5a6b04657a4c5ee34285d1e4619a96b4  44.99  ...      1   \n97652             1  c1488892604e4ba5cff5b4eb4d595400  39.99  ...      1   \n97653             2  f293394c72c9b5fafd7023301fc21fc2   32.9  ...      1   \n\n      recency_order_purchase_timestamp recency_order_delivered_carrier_date  \\\n29849                              718                               665.00   \n29848                              718                               665.00   \n29847                              718                               665.00   \n97652                              729                               685.00   \n97653                              729                               685.00   \n\n      recency_order_estimated_delivery_date          attente attente-jours  \\\n29849                                   699 53 days 04:55:15         53.00   \n29848                                   699 53 days 04:55:15         53.00   \n29847                                   699 53 days 04:55:15         53.00   \n97652                                   683 43 days 15:59:32         43.00   \n97653                                   683 43 days 15:59:32         43.00   \n\n       decalage-prevision  decalage-prevision-jours  rapidite_livraison  \\\n29849    34 days 17:11:53                        34                  65   \n29848    34 days 17:11:53                        34                  65   \n29847    34 days 17:11:53                        34                  65   \n97652   -2 days +13:14:51                        -2                 101   \n97653   -2 days +13:14:51                        -2                 101   \n\n       recency_crescent  \n29849                11  \n29848                11  \n29847                11  \n97652                 0  \n97653                 0  \n\n[5 rows x 27 columns]",
      "text/html": "<div>\n<style scoped>\n    .dataframe tbody tr th:only-of-type {\n        vertical-align: middle;\n    }\n\n    .dataframe tbody tr th {\n        vertical-align: top;\n    }\n\n    .dataframe thead th {\n        text-align: right;\n    }\n</style>\n<table border=\"1\" class=\"dataframe\">\n  <thead>\n    <tr style=\"text-align: right;\">\n      <th></th>\n      <th>customer_id</th>\n      <th>customer_unique_id</th>\n      <th>order_id</th>\n      <th>order_status</th>\n      <th>order_purchase_timestamp</th>\n      <th>order_delivered_carrier_date</th>\n      <th>order_estimated_delivery_date</th>\n      <th>order_item_id</th>\n      <th>product_id</th>\n      <th>price</th>\n      <th>...</th>\n      <th>livree</th>\n      <th>recency_order_purchase_timestamp</th>\n      <th>recency_order_delivered_carrier_date</th>\n      <th>recency_order_estimated_delivery_date</th>\n      <th>attente</th>\n      <th>attente-jours</th>\n      <th>decalage-prevision</th>\n      <th>decalage-prevision-jours</th>\n      <th>rapidite_livraison</th>\n      <th>recency_crescent</th>\n    </tr>\n  </thead>\n  <tbody>\n    <tr>\n      <th>29849</th>\n      <td>86dc2ffce2dfff336de2f386a786e574</td>\n      <td>830d5b7aaa3b6f1e9ad63703bec97d23</td>\n      <td>bfbd0f9bdef84302105ad712db648a6c</td>\n      <td>delivered</td>\n      <td>2016-09-15 12:16:38</td>\n      <td>2016-11-07 17:11:53</td>\n      <td>2016-10-04</td>\n      <td>1</td>\n      <td>5a6b04657a4c5ee34285d1e4619a96b4</td>\n      <td>44.99</td>\n      <td>...</td>\n      <td>1</td>\n      <td>718</td>\n      <td>665.00</td>\n      <td>699</td>\n      <td>53 days 04:55:15</td>\n      <td>53.00</td>\n      <td>34 days 17:11:53</td>\n      <td>34</td>\n      <td>65</td>\n      <td>11</td>\n    </tr>\n    <tr>\n      <th>29848</th>\n      <td>86dc2ffce2dfff336de2f386a786e574</td>\n      <td>830d5b7aaa3b6f1e9ad63703bec97d23</td>\n      <td>bfbd0f9bdef84302105ad712db648a6c</td>\n      <td>delivered</td>\n      <td>2016-09-15 12:16:38</td>\n      <td>2016-11-07 17:11:53</td>\n      <td>2016-10-04</td>\n      <td>2</td>\n      <td>5a6b04657a4c5ee34285d1e4619a96b4</td>\n      <td>44.99</td>\n      <td>...</td>\n      <td>1</td>\n      <td>718</td>\n      <td>665.00</td>\n      <td>699</td>\n      <td>53 days 04:55:15</td>\n      <td>53.00</td>\n      <td>34 days 17:11:53</td>\n      <td>34</td>\n      <td>65</td>\n      <td>11</td>\n    </tr>\n    <tr>\n      <th>29847</th>\n      <td>86dc2ffce2dfff336de2f386a786e574</td>\n      <td>830d5b7aaa3b6f1e9ad63703bec97d23</td>\n      <td>bfbd0f9bdef84302105ad712db648a6c</td>\n      <td>delivered</td>\n      <td>2016-09-15 12:16:38</td>\n      <td>2016-11-07 17:11:53</td>\n      <td>2016-10-04</td>\n      <td>3</td>\n      <td>5a6b04657a4c5ee34285d1e4619a96b4</td>\n      <td>44.99</td>\n      <td>...</td>\n      <td>1</td>\n      <td>718</td>\n      <td>665.00</td>\n      <td>699</td>\n      <td>53 days 04:55:15</td>\n      <td>53.00</td>\n      <td>34 days 17:11:53</td>\n      <td>34</td>\n      <td>65</td>\n      <td>11</td>\n    </tr>\n    <tr>\n      <th>97652</th>\n      <td>08c5351a6aca1c1589a38f244edeee9d</td>\n      <td>b7d76e111c89f7ebf14761390f0f7d17</td>\n      <td>2e7a8482f6fb09756ca50c10d7bfc047</td>\n      <td>shipped</td>\n      <td>2016-09-04 21:15:19</td>\n      <td>2016-10-18 13:14:51</td>\n      <td>2016-10-20</td>\n      <td>1</td>\n      <td>c1488892604e4ba5cff5b4eb4d595400</td>\n      <td>39.99</td>\n      <td>...</td>\n      <td>1</td>\n      <td>729</td>\n      <td>685.00</td>\n      <td>683</td>\n      <td>43 days 15:59:32</td>\n      <td>43.00</td>\n      <td>-2 days +13:14:51</td>\n      <td>-2</td>\n      <td>101</td>\n      <td>0</td>\n    </tr>\n    <tr>\n      <th>97653</th>\n      <td>08c5351a6aca1c1589a38f244edeee9d</td>\n      <td>b7d76e111c89f7ebf14761390f0f7d17</td>\n      <td>2e7a8482f6fb09756ca50c10d7bfc047</td>\n      <td>shipped</td>\n      <td>2016-09-04 21:15:19</td>\n      <td>2016-10-18 13:14:51</td>\n      <td>2016-10-20</td>\n      <td>2</td>\n      <td>f293394c72c9b5fafd7023301fc21fc2</td>\n      <td>32.9</td>\n      <td>...</td>\n      <td>1</td>\n      <td>729</td>\n      <td>685.00</td>\n      <td>683</td>\n      <td>43 days 15:59:32</td>\n      <td>43.00</td>\n      <td>-2 days +13:14:51</td>\n      <td>-2</td>\n      <td>101</td>\n      <td>0</td>\n    </tr>\n  </tbody>\n</table>\n<p>5 rows × 27 columns</p>\n</div>"
     },
     "metadata": {},
     "output_type": "display_data"
    },
    {
     "data": {
      "text/plain": "Index(['customer_id', 'customer_unique_id', 'order_id', 'order_status',\n       'order_purchase_timestamp', 'order_delivered_carrier_date',\n       'order_estimated_delivery_date', 'order_item_id', 'product_id', 'price',\n       'freight_value', 'review_score', 'payment_sequential', 'payment_type',\n       'payment_installments', 'payment_value', 'dup', 'livree',\n       'recency_order_purchase_timestamp',\n       'recency_order_delivered_carrier_date',\n       'recency_order_estimated_delivery_date', 'attente', 'attente-jours',\n       'decalage-prevision', 'decalage-prevision-jours', 'rapidite_livraison',\n       'recency_crescent'],\n      dtype='object')"
     },
     "execution_count": 214,
     "metadata": {},
     "output_type": "execute_result"
    }
   ],
   "source": [
    "df = df_commandes_livrees\n",
    "\n",
    "debut_2017 = \"2016-12-31 23:59:59\"\n",
    "\n",
    "#Régularisation du format de la date\n",
    "\n",
    "for i in ['order_purchase_timestamp', 'order_delivered_carrier_date',\n",
    "          'order_estimated_delivery_date']:\n",
    "        df[i] = pd.to_datetime(df[i])\n",
    "        # https://paritoshsharmaghimire.medium.com/\n",
    "        # datetime-in-pandas-read-csv-everything-you-have-to-know-8245bd048fa\n",
    "\n",
    "#Sélection de la période d'interet\n",
    "# df = df.loc[df['order_purchase_timestamp']>debut_2017]\n",
    "\n",
    "df = df.sort_values(by='order_purchase_timestamp', ascending=False)\n",
    "\n",
    "least_recent_date = df['order_purchase_timestamp'].min()\n",
    "# most_recent_date = df['order_delivered_carrier_date'].max()\n",
    "most_recent_date = df['order_purchase_timestamp'].max()\n",
    "\n",
    "display(df.loc[df['order_delivered_carrier_date']\n",
    "               ==df['order_delivered_carrier_date'].max()])\n",
    "print(most_recent_date)\n",
    "print(most_recent_date.day)\n",
    "\n",
    "print(least_recent_date)\n",
    "\n",
    "aujourdhui = datetime.datetime.strptime(\"2018-09-04 23:59:00\",\n",
    "                                        \"%Y-%m-%d %H:%M:%S\")\n",
    "\n",
    "# print(df['order_delivered_carrier_date'].timedelta.max)\n",
    "\n",
    "display(df.head(5), df.tail(5))\n",
    "\n",
    "now_ts = datetime.datetime.strptime(\"2018-09-03 23:59:00\",\n",
    "                                    \"%Y-%m-%d %H:%M:%S\")\n",
    "# fin du jour de la derniere commande livrée\n",
    "\n",
    "for i in ['order_purchase_timestamp', 'order_delivered_carrier_date',\n",
    "          'order_estimated_delivery_date']:\n",
    "        str_recency = 'recency_%s' % i\n",
    "        df[str_recency] = (now_ts-df[i]).dt.components['days']\n",
    "\n",
    "df = df.sort_values(by='order_purchase_timestamp', ascending=False)\n",
    "\n",
    "df['attente'] = df['order_delivered_carrier_date']\\\n",
    "                -df['order_purchase_timestamp']\n",
    "df['attente-jours'] = df['attente'].dt.components['days']\n",
    "\n",
    "# Élimination commandes avec une attente negative entre\n",
    "# achat et reception (erreurs de saisie)\n",
    "print('Élimination commandes avec une attente negative '\n",
    "      'entre achat et reception (erreurs de saisie)\\n%s ->'\n",
    "      % str(df.shape))\n",
    "df = df.loc[df['attente-jours']>=0] #\n",
    "print(df.shape)\n",
    "\n",
    "df['decalage-prevision'] = df['order_delivered_carrier_date']\\\n",
    "                           -df['order_estimated_delivery_date']\n",
    "df['decalage-prevision-jours'] \\\n",
    "    = df['decalage-prevision'].dt.components['days']\n",
    "\n",
    "#mesure croissante de la rapidite de la livraison par rapport à la prévision\n",
    "df['rapidite_livraison'] \\\n",
    "    = df['decalage-prevision-jours'] * (-1) + 99\n",
    "\n",
    "#mesure croissante de la rapidite de la livraison par rapport à la prévision\n",
    "print(df['recency_order_purchase_timestamp'].max(),\n",
    "      df['recency_order_purchase_timestamp'].min())\n",
    "\n",
    "df['recency_crescent'] = df['recency_order_purchase_timestamp']*(-1)\\\n",
    "                         +df['recency_order_purchase_timestamp'].max()\n",
    "\n",
    "display(df.head(5), df.tail(5))\n",
    "\n",
    "df_commandes_livrees = df\n",
    "df_commandes_livrees.columns\n",
    "\n",
    "#prima data d'acquisto 2016-09-04 21:15:19\n",
    "#ultima data d'arrivo 2018-09-04 15:25:00\n",
    "# 2018-09-11 23:59:00\n"
   ],
   "metadata": {
    "collapsed": false,
    "pycharm": {
     "name": "#%%\n"
    }
   }
  },
  {
   "cell_type": "markdown",
   "source": [
    "> Les commandes sont maintenant rangées en ordre chronologique, du plus récent au plus ancien.\n",
    "On peut eliminer les order_id dupliqués en étant sur.e.s que les commandes retenues seront les plus récentes."
   ],
   "metadata": {
    "collapsed": false,
    "pycharm": {
     "name": "#%% md\n"
    }
   }
  },
  {
   "cell_type": "markdown",
   "source": [
    "# 3.3 df_commandes_livrees -> df_clients\n"
   ],
   "metadata": {
    "collapsed": false,
    "pycharm": {
     "name": "#%% md\n"
    }
   }
  },
  {
   "cell_type": "code",
   "execution_count": 215,
   "outputs": [
    {
     "name": "stdout",
     "output_type": "stream",
     "text": [
      "27\n"
     ]
    },
    {
     "data": {
      "text/plain": "'df_clients.shape'"
     },
     "metadata": {},
     "output_type": "display_data"
    },
    {
     "data": {
      "text/plain": "(97417, 27)"
     },
     "metadata": {},
     "output_type": "display_data"
    },
    {
     "name": "stderr",
     "output_type": "stream",
     "text": [
      "/var/folders/zv/tmk76ddj1sj2bmhyt0by55l40000gp/T/ipykernel_2278/3239251951.py:22: SettingWithCopyWarning: \n",
      "A value is trying to be set on a copy of a slice from a DataFrame.\n",
      "Try using .loc[row_indexer,col_indexer] = value instead\n",
      "\n",
      "See the caveats in the documentation: https://pandas.pydata.org/pandas-docs/stable/user_guide/indexing.html#returning-a-view-versus-a-copy\n",
      "  df_clients['payment_value'] \\\n"
     ]
    },
    {
     "data": {
      "text/plain": "<bound method NDFrame.head of                      customer_unique_id  payment_value\n0      0000366f3b9a7992bf8c76cfdf3221e2         141.90\n1      0000b849f77a49e4a4ce2b2a4ca5be3f          27.19\n2      0000f46a3911fa3c0805444483337064          86.22\n3      0000f6ccb0745a6a4b88665a16c9f078          43.62\n4      0004aac84e0df4da2b147fca70cf8255         196.89\n...                                 ...            ...\n94229  fffcf5a5ff07b0908bd4e2dbc735a684        2067.42\n94230  fffea47cd6d3cc0a88bd621562a9d061          84.58\n94231  ffff371b4d645b6ecea244b27531430a         112.46\n94232  ffff5962728ec6157033ef9805bacc48         133.69\n94233  ffffd2657e2aad2907e67c3e9daecbeb          71.56\n\n[94234 rows x 2 columns]>"
     },
     "metadata": {},
     "output_type": "display_data"
    },
    {
     "data": {
      "text/plain": "(94234, 2)"
     },
     "metadata": {},
     "output_type": "display_data"
    }
   ],
   "source": [
    "# En éliminant les order_id dupliqués de df_all,\n",
    "# on s'approche au df complet des clients uniques.\n",
    "# Les lignes avec le meme order_id peuvent se répeter dans\n",
    "# le cas où plusieurs solutions de paiement aient été choisies.\n",
    "# Toutefois l'élimination des order_id dupliqués conserve l'information\n",
    "# sur le montant total de la commande qui apparait\n",
    "# sur chaque ligne. Il est donc correct de supprimer les order_id dupliqués\n",
    "# afin de ne pas additionner des montants qui se répètent.\n",
    "\n",
    "df_clients_new = df_commandes_livrees.drop_duplicates(subset='order_id')\n",
    "\n",
    "df_clients = df_clients_new\n",
    "df_clients_count \\\n",
    "    = pd.DataFrame(df_clients.groupby('customer_unique_id').count())\n",
    "df_clients_count \\\n",
    "    = df_clients_count.reset_index().rename(\n",
    "    columns={'index': 'customer_unique_id'})\n",
    "\n",
    "print(len(df_clients.columns))\n",
    "display('df_clients.shape', df_clients.shape)\n",
    "#df_clients non è univoco su client_unique_id\n",
    "df_clients['payment_value'] \\\n",
    "    = df_clients['payment_value'].astype(float) #Importantissimo!!!!!!\n",
    "df_clients_sum \\\n",
    "    = df_clients[['customer_unique_id', 'payment_value']].groupby(\n",
    "    'customer_unique_id').sum()\n",
    "df_clients_sum \\\n",
    "    = df_clients_sum.reset_index().rename(\n",
    "    columns={'index': 'customer_unique_id'})\n",
    "\n",
    "display(df_clients_sum.head)\n",
    "display(df_clients_sum.shape)\n"
   ],
   "metadata": {
    "collapsed": false,
    "pycharm": {
     "name": "#%%\n"
    }
   }
  },
  {
   "cell_type": "code",
   "execution_count": 216,
   "outputs": [
    {
     "name": "stdout",
     "output_type": "stream",
     "text": [
      "1 mergers to do.\n",
      "\n",
      "\n",
      "merger n. 0 (customer_unique_id)\n",
      "DF1: 18\n",
      "18 Index(['customer_id', 'customer_unique_id', 'order_status', 'order_id',\n",
      "       'order_purchase_timestamp', 'order_delivered_carrier_date',\n",
      "       'order_estimated_delivery_date', 'review_score', 'livree',\n",
      "       'recency_order_purchase_timestamp',\n",
      "       'recency_order_delivered_carrier_date',\n",
      "       'recency_order_estimated_delivery_date', 'attente', 'attente-jours',\n",
      "       'decalage-prevision', 'decalage-prevision-jours', 'rapidite_livraison',\n",
      "       'recency_crescent'],\n",
      "      dtype='object')\n",
      "df1.shape before dropna on customer_unique_id: (97417, 18)\n",
      "df1.shape after dropna on customer_unique_id: (97417, 18)\n"
     ]
    },
    {
     "data": {
      "text/plain": "                            customer_id                customer_unique_id  \\\n3966   70bc4d9cf2bbeea3f7b09798370f5884  ffffd2657e2aad2907e67c3e9daecbeb   \n50097  832a3b0254347d409512ae92eaf154a6  ffff5962728ec6157033ef9805bacc48   \n\n      order_status                          order_id order_purchase_timestamp  \\\n3966     delivered  f79a35da168301ae56922475da21117b      2017-05-02 20:18:45   \n50097    delivered  94d3ee0bc2a0af9d4fa47a4d63616e8d      2018-05-02 15:17:41   \n\n      order_delivered_carrier_date order_estimated_delivery_date review_score  \\\n3966           2017-05-04 12:05:22           2017-05-26 00:00:00            5   \n50097          2018-05-03 16:45:00           2018-05-28 00:00:00            5   \n\n      livree recency_order_purchase_timestamp  \\\n3966       1                              489   \n50097      1                              124   \n\n      recency_order_delivered_carrier_date  \\\n3966                                 487.0   \n50097                                123.0   \n\n      recency_order_estimated_delivery_date          attente attente-jours  \\\n3966                                    465  1 days 15:46:37           1.0   \n50097                                    98  1 days 01:27:19           1.0   \n\n       decalage-prevision decalage-prevision-jours rapidite_livraison  \\\n3966   -22 days +12:05:22                      -22                121   \n50097  -25 days +16:45:00                      -25                124   \n\n      recency_crescent  \n3966               240  \n50097              605  ",
      "text/html": "<div>\n<style scoped>\n    .dataframe tbody tr th:only-of-type {\n        vertical-align: middle;\n    }\n\n    .dataframe tbody tr th {\n        vertical-align: top;\n    }\n\n    .dataframe thead th {\n        text-align: right;\n    }\n</style>\n<table border=\"1\" class=\"dataframe\">\n  <thead>\n    <tr style=\"text-align: right;\">\n      <th></th>\n      <th>customer_id</th>\n      <th>customer_unique_id</th>\n      <th>order_status</th>\n      <th>order_id</th>\n      <th>order_purchase_timestamp</th>\n      <th>order_delivered_carrier_date</th>\n      <th>order_estimated_delivery_date</th>\n      <th>review_score</th>\n      <th>livree</th>\n      <th>recency_order_purchase_timestamp</th>\n      <th>recency_order_delivered_carrier_date</th>\n      <th>recency_order_estimated_delivery_date</th>\n      <th>attente</th>\n      <th>attente-jours</th>\n      <th>decalage-prevision</th>\n      <th>decalage-prevision-jours</th>\n      <th>rapidite_livraison</th>\n      <th>recency_crescent</th>\n    </tr>\n  </thead>\n  <tbody>\n    <tr>\n      <th>3966</th>\n      <td>70bc4d9cf2bbeea3f7b09798370f5884</td>\n      <td>ffffd2657e2aad2907e67c3e9daecbeb</td>\n      <td>delivered</td>\n      <td>f79a35da168301ae56922475da21117b</td>\n      <td>2017-05-02 20:18:45</td>\n      <td>2017-05-04 12:05:22</td>\n      <td>2017-05-26 00:00:00</td>\n      <td>5</td>\n      <td>1</td>\n      <td>489</td>\n      <td>487.0</td>\n      <td>465</td>\n      <td>1 days 15:46:37</td>\n      <td>1.0</td>\n      <td>-22 days +12:05:22</td>\n      <td>-22</td>\n      <td>121</td>\n      <td>240</td>\n    </tr>\n    <tr>\n      <th>50097</th>\n      <td>832a3b0254347d409512ae92eaf154a6</td>\n      <td>ffff5962728ec6157033ef9805bacc48</td>\n      <td>delivered</td>\n      <td>94d3ee0bc2a0af9d4fa47a4d63616e8d</td>\n      <td>2018-05-02 15:17:41</td>\n      <td>2018-05-03 16:45:00</td>\n      <td>2018-05-28 00:00:00</td>\n      <td>5</td>\n      <td>1</td>\n      <td>124</td>\n      <td>123.0</td>\n      <td>98</td>\n      <td>1 days 01:27:19</td>\n      <td>1.0</td>\n      <td>-25 days +16:45:00</td>\n      <td>-25</td>\n      <td>124</td>\n      <td>605</td>\n    </tr>\n  </tbody>\n</table>\n</div>"
     },
     "metadata": {},
     "output_type": "display_data"
    },
    {
     "name": "stdout",
     "output_type": "stream",
     "text": [
      "df1[col_merge_on].shape (97417,)\n",
      "DF2: 2\n",
      "2 Index(['customer_unique_id', 'payment_value'], dtype='object')\n",
      "(94234, 2)\n",
      "df2.shape before dropna on customer_unique_id: (94234, 2)\n",
      "df2.shape after dropna on customer_unique_id: (94234, 2)\n"
     ]
    },
    {
     "data": {
      "text/plain": "                     customer_unique_id payment_value\n94233  ffffd2657e2aad2907e67c3e9daecbeb         71.56\n94232  ffff5962728ec6157033ef9805bacc48        133.69",
      "text/html": "<div>\n<style scoped>\n    .dataframe tbody tr th:only-of-type {\n        vertical-align: middle;\n    }\n\n    .dataframe tbody tr th {\n        vertical-align: top;\n    }\n\n    .dataframe thead th {\n        text-align: right;\n    }\n</style>\n<table border=\"1\" class=\"dataframe\">\n  <thead>\n    <tr style=\"text-align: right;\">\n      <th></th>\n      <th>customer_unique_id</th>\n      <th>payment_value</th>\n    </tr>\n  </thead>\n  <tbody>\n    <tr>\n      <th>94233</th>\n      <td>ffffd2657e2aad2907e67c3e9daecbeb</td>\n      <td>71.56</td>\n    </tr>\n    <tr>\n      <th>94232</th>\n      <td>ffff5962728ec6157033ef9805bacc48</td>\n      <td>133.69</td>\n    </tr>\n  </tbody>\n</table>\n</div>"
     },
     "metadata": {},
     "output_type": "display_data"
    },
    {
     "name": "stdout",
     "output_type": "stream",
     "text": [
      "df2[col_merge_on].shape (94234,)\n",
      "Output of merger n.1 (97417, 19)\n",
      "19 Index(['customer_id', 'customer_unique_id', 'order_status', 'order_id',\n",
      "       'order_purchase_timestamp', 'order_delivered_carrier_date',\n",
      "       'order_estimated_delivery_date', 'review_score', 'livree',\n",
      "       'recency_order_purchase_timestamp',\n",
      "       'recency_order_delivered_carrier_date',\n",
      "       'recency_order_estimated_delivery_date', 'attente', 'attente-jours',\n",
      "       'decalage-prevision', 'decalage-prevision-jours', 'rapidite_livraison',\n",
      "       'recency_crescent', 'payment_value'],\n",
      "      dtype='object')\n"
     ]
    },
    {
     "data": {
      "text/plain": "                        customer_id                customer_unique_id  \\\n0  70bc4d9cf2bbeea3f7b09798370f5884  ffffd2657e2aad2907e67c3e9daecbeb   \n1  832a3b0254347d409512ae92eaf154a6  ffff5962728ec6157033ef9805bacc48   \n\n  order_status                          order_id order_purchase_timestamp  \\\n0    delivered  f79a35da168301ae56922475da21117b      2017-05-02 20:18:45   \n1    delivered  94d3ee0bc2a0af9d4fa47a4d63616e8d      2018-05-02 15:17:41   \n\n  order_delivered_carrier_date order_estimated_delivery_date review_score  \\\n0          2017-05-04 12:05:22           2017-05-26 00:00:00            5   \n1          2018-05-03 16:45:00           2018-05-28 00:00:00            5   \n\n  livree recency_order_purchase_timestamp  \\\n0      1                              489   \n1      1                              124   \n\n  recency_order_delivered_carrier_date recency_order_estimated_delivery_date  \\\n0                                487.0                                   465   \n1                                123.0                                    98   \n\n           attente attente-jours  decalage-prevision decalage-prevision-jours  \\\n0  1 days 15:46:37           1.0  -22 days +12:05:22                      -22   \n1  1 days 01:27:19           1.0  -25 days +16:45:00                      -25   \n\n  rapidite_livraison recency_crescent payment_value  \n0                121              240         71.56  \n1                124              605        133.69  ",
      "text/html": "<div>\n<style scoped>\n    .dataframe tbody tr th:only-of-type {\n        vertical-align: middle;\n    }\n\n    .dataframe tbody tr th {\n        vertical-align: top;\n    }\n\n    .dataframe thead th {\n        text-align: right;\n    }\n</style>\n<table border=\"1\" class=\"dataframe\">\n  <thead>\n    <tr style=\"text-align: right;\">\n      <th></th>\n      <th>customer_id</th>\n      <th>customer_unique_id</th>\n      <th>order_status</th>\n      <th>order_id</th>\n      <th>order_purchase_timestamp</th>\n      <th>order_delivered_carrier_date</th>\n      <th>order_estimated_delivery_date</th>\n      <th>review_score</th>\n      <th>livree</th>\n      <th>recency_order_purchase_timestamp</th>\n      <th>recency_order_delivered_carrier_date</th>\n      <th>recency_order_estimated_delivery_date</th>\n      <th>attente</th>\n      <th>attente-jours</th>\n      <th>decalage-prevision</th>\n      <th>decalage-prevision-jours</th>\n      <th>rapidite_livraison</th>\n      <th>recency_crescent</th>\n      <th>payment_value</th>\n    </tr>\n  </thead>\n  <tbody>\n    <tr>\n      <th>0</th>\n      <td>70bc4d9cf2bbeea3f7b09798370f5884</td>\n      <td>ffffd2657e2aad2907e67c3e9daecbeb</td>\n      <td>delivered</td>\n      <td>f79a35da168301ae56922475da21117b</td>\n      <td>2017-05-02 20:18:45</td>\n      <td>2017-05-04 12:05:22</td>\n      <td>2017-05-26 00:00:00</td>\n      <td>5</td>\n      <td>1</td>\n      <td>489</td>\n      <td>487.0</td>\n      <td>465</td>\n      <td>1 days 15:46:37</td>\n      <td>1.0</td>\n      <td>-22 days +12:05:22</td>\n      <td>-22</td>\n      <td>121</td>\n      <td>240</td>\n      <td>71.56</td>\n    </tr>\n    <tr>\n      <th>1</th>\n      <td>832a3b0254347d409512ae92eaf154a6</td>\n      <td>ffff5962728ec6157033ef9805bacc48</td>\n      <td>delivered</td>\n      <td>94d3ee0bc2a0af9d4fa47a4d63616e8d</td>\n      <td>2018-05-02 15:17:41</td>\n      <td>2018-05-03 16:45:00</td>\n      <td>2018-05-28 00:00:00</td>\n      <td>5</td>\n      <td>1</td>\n      <td>124</td>\n      <td>123.0</td>\n      <td>98</td>\n      <td>1 days 01:27:19</td>\n      <td>1.0</td>\n      <td>-25 days +16:45:00</td>\n      <td>-25</td>\n      <td>124</td>\n      <td>605</td>\n      <td>133.69</td>\n    </tr>\n  </tbody>\n</table>\n</div>"
     },
     "metadata": {},
     "output_type": "display_data"
    },
    {
     "name": "stdout",
     "output_type": "stream",
     "text": [
      "End of merger 1\n",
      "\n",
      "df_clients_new.head()\n"
     ]
    },
    {
     "data": {
      "text/plain": "                        customer_id                customer_unique_id  \\\n0  70bc4d9cf2bbeea3f7b09798370f5884  ffffd2657e2aad2907e67c3e9daecbeb   \n1  832a3b0254347d409512ae92eaf154a6  ffff5962728ec6157033ef9805bacc48   \n2  27f584b0f1dc4e610065c240f68b6be0  ffff371b4d645b6ecea244b27531430a   \n3  0ecf8e0a08148af0bf313184f167670a  fffea47cd6d3cc0a88bd621562a9d061   \n4  74be082247cd677a147d83ee670e9d53  fffcf5a5ff07b0908bd4e2dbc735a684   \n\n  order_status                          order_id order_purchase_timestamp  \\\n0    delivered  f79a35da168301ae56922475da21117b      2017-05-02 20:18:45   \n1    delivered  94d3ee0bc2a0af9d4fa47a4d63616e8d      2018-05-02 15:17:41   \n2    delivered  fdc45e6c7555e6cb3cc0daca2557dbe1      2017-02-07 15:49:16   \n3    delivered  c71b9252fd7b3b263aaa4cb09319a323      2017-12-10 20:07:56   \n4    delivered  725cf8e9c24e679a8a5a32cb92c9ce1e      2017-06-08 21:00:36   \n\n  order_delivered_carrier_date order_estimated_delivery_date review_score  \\\n0          2017-05-04 12:05:22           2017-05-26 00:00:00            5   \n1          2018-05-03 16:45:00           2018-05-28 00:00:00            5   \n2          2017-02-08 10:04:37           2017-03-24 00:00:00            5   \n3          2017-12-21 16:27:01           2018-01-12 00:00:00            4   \n4          2017-06-23 13:03:27           2017-08-02 00:00:00            5   \n\n  livree recency_order_purchase_timestamp  \\\n0      1                              489   \n1      1                              124   \n2      1                              573   \n3      1                              267   \n4      1                              452   \n\n  recency_order_delivered_carrier_date recency_order_estimated_delivery_date  \\\n0                                487.0                                   465   \n1                                123.0                                    98   \n2                                572.0                                   528   \n3                                256.0                                   234   \n4                                437.0                                   397   \n\n            attente attente-jours  decalage-prevision  \\\n0   1 days 15:46:37           1.0  -22 days +12:05:22   \n1   1 days 01:27:19           1.0  -25 days +16:45:00   \n2   0 days 18:15:21           0.0  -44 days +10:04:37   \n3  10 days 20:19:05          10.0  -22 days +16:27:01   \n4  14 days 16:02:51          14.0  -40 days +13:03:27   \n\n  decalage-prevision-jours rapidite_livraison recency_crescent payment_value  \n0                      -22                121              240         71.56  \n1                      -25                124              605        133.69  \n2                      -44                143              156        112.46  \n3                      -22                121              462         84.58  \n4                      -40                139              277       2067.42  ",
      "text/html": "<div>\n<style scoped>\n    .dataframe tbody tr th:only-of-type {\n        vertical-align: middle;\n    }\n\n    .dataframe tbody tr th {\n        vertical-align: top;\n    }\n\n    .dataframe thead th {\n        text-align: right;\n    }\n</style>\n<table border=\"1\" class=\"dataframe\">\n  <thead>\n    <tr style=\"text-align: right;\">\n      <th></th>\n      <th>customer_id</th>\n      <th>customer_unique_id</th>\n      <th>order_status</th>\n      <th>order_id</th>\n      <th>order_purchase_timestamp</th>\n      <th>order_delivered_carrier_date</th>\n      <th>order_estimated_delivery_date</th>\n      <th>review_score</th>\n      <th>livree</th>\n      <th>recency_order_purchase_timestamp</th>\n      <th>recency_order_delivered_carrier_date</th>\n      <th>recency_order_estimated_delivery_date</th>\n      <th>attente</th>\n      <th>attente-jours</th>\n      <th>decalage-prevision</th>\n      <th>decalage-prevision-jours</th>\n      <th>rapidite_livraison</th>\n      <th>recency_crescent</th>\n      <th>payment_value</th>\n    </tr>\n  </thead>\n  <tbody>\n    <tr>\n      <th>0</th>\n      <td>70bc4d9cf2bbeea3f7b09798370f5884</td>\n      <td>ffffd2657e2aad2907e67c3e9daecbeb</td>\n      <td>delivered</td>\n      <td>f79a35da168301ae56922475da21117b</td>\n      <td>2017-05-02 20:18:45</td>\n      <td>2017-05-04 12:05:22</td>\n      <td>2017-05-26 00:00:00</td>\n      <td>5</td>\n      <td>1</td>\n      <td>489</td>\n      <td>487.0</td>\n      <td>465</td>\n      <td>1 days 15:46:37</td>\n      <td>1.0</td>\n      <td>-22 days +12:05:22</td>\n      <td>-22</td>\n      <td>121</td>\n      <td>240</td>\n      <td>71.56</td>\n    </tr>\n    <tr>\n      <th>1</th>\n      <td>832a3b0254347d409512ae92eaf154a6</td>\n      <td>ffff5962728ec6157033ef9805bacc48</td>\n      <td>delivered</td>\n      <td>94d3ee0bc2a0af9d4fa47a4d63616e8d</td>\n      <td>2018-05-02 15:17:41</td>\n      <td>2018-05-03 16:45:00</td>\n      <td>2018-05-28 00:00:00</td>\n      <td>5</td>\n      <td>1</td>\n      <td>124</td>\n      <td>123.0</td>\n      <td>98</td>\n      <td>1 days 01:27:19</td>\n      <td>1.0</td>\n      <td>-25 days +16:45:00</td>\n      <td>-25</td>\n      <td>124</td>\n      <td>605</td>\n      <td>133.69</td>\n    </tr>\n    <tr>\n      <th>2</th>\n      <td>27f584b0f1dc4e610065c240f68b6be0</td>\n      <td>ffff371b4d645b6ecea244b27531430a</td>\n      <td>delivered</td>\n      <td>fdc45e6c7555e6cb3cc0daca2557dbe1</td>\n      <td>2017-02-07 15:49:16</td>\n      <td>2017-02-08 10:04:37</td>\n      <td>2017-03-24 00:00:00</td>\n      <td>5</td>\n      <td>1</td>\n      <td>573</td>\n      <td>572.0</td>\n      <td>528</td>\n      <td>0 days 18:15:21</td>\n      <td>0.0</td>\n      <td>-44 days +10:04:37</td>\n      <td>-44</td>\n      <td>143</td>\n      <td>156</td>\n      <td>112.46</td>\n    </tr>\n    <tr>\n      <th>3</th>\n      <td>0ecf8e0a08148af0bf313184f167670a</td>\n      <td>fffea47cd6d3cc0a88bd621562a9d061</td>\n      <td>delivered</td>\n      <td>c71b9252fd7b3b263aaa4cb09319a323</td>\n      <td>2017-12-10 20:07:56</td>\n      <td>2017-12-21 16:27:01</td>\n      <td>2018-01-12 00:00:00</td>\n      <td>4</td>\n      <td>1</td>\n      <td>267</td>\n      <td>256.0</td>\n      <td>234</td>\n      <td>10 days 20:19:05</td>\n      <td>10.0</td>\n      <td>-22 days +16:27:01</td>\n      <td>-22</td>\n      <td>121</td>\n      <td>462</td>\n      <td>84.58</td>\n    </tr>\n    <tr>\n      <th>4</th>\n      <td>74be082247cd677a147d83ee670e9d53</td>\n      <td>fffcf5a5ff07b0908bd4e2dbc735a684</td>\n      <td>delivered</td>\n      <td>725cf8e9c24e679a8a5a32cb92c9ce1e</td>\n      <td>2017-06-08 21:00:36</td>\n      <td>2017-06-23 13:03:27</td>\n      <td>2017-08-02 00:00:00</td>\n      <td>5</td>\n      <td>1</td>\n      <td>452</td>\n      <td>437.0</td>\n      <td>397</td>\n      <td>14 days 16:02:51</td>\n      <td>14.0</td>\n      <td>-40 days +13:03:27</td>\n      <td>-40</td>\n      <td>139</td>\n      <td>277</td>\n      <td>2067.42</td>\n    </tr>\n  </tbody>\n</table>\n</div>"
     },
     "metadata": {},
     "output_type": "display_data"
    },
    {
     "data": {
      "text/plain": "'df_clients_new.shape'"
     },
     "metadata": {},
     "output_type": "display_data"
    },
    {
     "data": {
      "text/plain": "(97417, 19)"
     },
     "metadata": {},
     "output_type": "display_data"
    },
    {
     "name": "stdout",
     "output_type": "stream",
     "text": [
      "df_clients_new2.head()\n"
     ]
    },
    {
     "data": {
      "text/plain": "                        customer_id                customer_unique_id  \\\n0  70bc4d9cf2bbeea3f7b09798370f5884  ffffd2657e2aad2907e67c3e9daecbeb   \n1  832a3b0254347d409512ae92eaf154a6  ffff5962728ec6157033ef9805bacc48   \n2  27f584b0f1dc4e610065c240f68b6be0  ffff371b4d645b6ecea244b27531430a   \n3  0ecf8e0a08148af0bf313184f167670a  fffea47cd6d3cc0a88bd621562a9d061   \n4  74be082247cd677a147d83ee670e9d53  fffcf5a5ff07b0908bd4e2dbc735a684   \n\n  order_status                          order_id order_purchase_timestamp  \\\n0    delivered  f79a35da168301ae56922475da21117b      2017-05-02 20:18:45   \n1    delivered  94d3ee0bc2a0af9d4fa47a4d63616e8d      2018-05-02 15:17:41   \n2    delivered  fdc45e6c7555e6cb3cc0daca2557dbe1      2017-02-07 15:49:16   \n3    delivered  c71b9252fd7b3b263aaa4cb09319a323      2017-12-10 20:07:56   \n4    delivered  725cf8e9c24e679a8a5a32cb92c9ce1e      2017-06-08 21:00:36   \n\n  order_delivered_carrier_date order_estimated_delivery_date review_score  \\\n0          2017-05-04 12:05:22           2017-05-26 00:00:00            5   \n1          2018-05-03 16:45:00           2018-05-28 00:00:00            5   \n2          2017-02-08 10:04:37           2017-03-24 00:00:00            5   \n3          2017-12-21 16:27:01           2018-01-12 00:00:00            4   \n4          2017-06-23 13:03:27           2017-08-02 00:00:00            5   \n\n  livree recency_order_purchase_timestamp  \\\n0      1                              489   \n1      1                              124   \n2      1                              573   \n3      1                              267   \n4      1                              452   \n\n  recency_order_delivered_carrier_date recency_order_estimated_delivery_date  \\\n0                                487.0                                   465   \n1                                123.0                                    98   \n2                                572.0                                   528   \n3                                256.0                                   234   \n4                                437.0                                   397   \n\n            attente attente-jours  decalage-prevision  \\\n0   1 days 15:46:37           1.0  -22 days +12:05:22   \n1   1 days 01:27:19           1.0  -25 days +16:45:00   \n2   0 days 18:15:21           0.0  -44 days +10:04:37   \n3  10 days 20:19:05          10.0  -22 days +16:27:01   \n4  14 days 16:02:51          14.0  -40 days +13:03:27   \n\n  decalage-prevision-jours rapidite_livraison recency_crescent payment_value  \n0                      -22                121              240         71.56  \n1                      -25                124              605        133.69  \n2                      -44                143              156        112.46  \n3                      -22                121              462         84.58  \n4                      -40                139              277       2067.42  ",
      "text/html": "<div>\n<style scoped>\n    .dataframe tbody tr th:only-of-type {\n        vertical-align: middle;\n    }\n\n    .dataframe tbody tr th {\n        vertical-align: top;\n    }\n\n    .dataframe thead th {\n        text-align: right;\n    }\n</style>\n<table border=\"1\" class=\"dataframe\">\n  <thead>\n    <tr style=\"text-align: right;\">\n      <th></th>\n      <th>customer_id</th>\n      <th>customer_unique_id</th>\n      <th>order_status</th>\n      <th>order_id</th>\n      <th>order_purchase_timestamp</th>\n      <th>order_delivered_carrier_date</th>\n      <th>order_estimated_delivery_date</th>\n      <th>review_score</th>\n      <th>livree</th>\n      <th>recency_order_purchase_timestamp</th>\n      <th>recency_order_delivered_carrier_date</th>\n      <th>recency_order_estimated_delivery_date</th>\n      <th>attente</th>\n      <th>attente-jours</th>\n      <th>decalage-prevision</th>\n      <th>decalage-prevision-jours</th>\n      <th>rapidite_livraison</th>\n      <th>recency_crescent</th>\n      <th>payment_value</th>\n    </tr>\n  </thead>\n  <tbody>\n    <tr>\n      <th>0</th>\n      <td>70bc4d9cf2bbeea3f7b09798370f5884</td>\n      <td>ffffd2657e2aad2907e67c3e9daecbeb</td>\n      <td>delivered</td>\n      <td>f79a35da168301ae56922475da21117b</td>\n      <td>2017-05-02 20:18:45</td>\n      <td>2017-05-04 12:05:22</td>\n      <td>2017-05-26 00:00:00</td>\n      <td>5</td>\n      <td>1</td>\n      <td>489</td>\n      <td>487.0</td>\n      <td>465</td>\n      <td>1 days 15:46:37</td>\n      <td>1.0</td>\n      <td>-22 days +12:05:22</td>\n      <td>-22</td>\n      <td>121</td>\n      <td>240</td>\n      <td>71.56</td>\n    </tr>\n    <tr>\n      <th>1</th>\n      <td>832a3b0254347d409512ae92eaf154a6</td>\n      <td>ffff5962728ec6157033ef9805bacc48</td>\n      <td>delivered</td>\n      <td>94d3ee0bc2a0af9d4fa47a4d63616e8d</td>\n      <td>2018-05-02 15:17:41</td>\n      <td>2018-05-03 16:45:00</td>\n      <td>2018-05-28 00:00:00</td>\n      <td>5</td>\n      <td>1</td>\n      <td>124</td>\n      <td>123.0</td>\n      <td>98</td>\n      <td>1 days 01:27:19</td>\n      <td>1.0</td>\n      <td>-25 days +16:45:00</td>\n      <td>-25</td>\n      <td>124</td>\n      <td>605</td>\n      <td>133.69</td>\n    </tr>\n    <tr>\n      <th>2</th>\n      <td>27f584b0f1dc4e610065c240f68b6be0</td>\n      <td>ffff371b4d645b6ecea244b27531430a</td>\n      <td>delivered</td>\n      <td>fdc45e6c7555e6cb3cc0daca2557dbe1</td>\n      <td>2017-02-07 15:49:16</td>\n      <td>2017-02-08 10:04:37</td>\n      <td>2017-03-24 00:00:00</td>\n      <td>5</td>\n      <td>1</td>\n      <td>573</td>\n      <td>572.0</td>\n      <td>528</td>\n      <td>0 days 18:15:21</td>\n      <td>0.0</td>\n      <td>-44 days +10:04:37</td>\n      <td>-44</td>\n      <td>143</td>\n      <td>156</td>\n      <td>112.46</td>\n    </tr>\n    <tr>\n      <th>3</th>\n      <td>0ecf8e0a08148af0bf313184f167670a</td>\n      <td>fffea47cd6d3cc0a88bd621562a9d061</td>\n      <td>delivered</td>\n      <td>c71b9252fd7b3b263aaa4cb09319a323</td>\n      <td>2017-12-10 20:07:56</td>\n      <td>2017-12-21 16:27:01</td>\n      <td>2018-01-12 00:00:00</td>\n      <td>4</td>\n      <td>1</td>\n      <td>267</td>\n      <td>256.0</td>\n      <td>234</td>\n      <td>10 days 20:19:05</td>\n      <td>10.0</td>\n      <td>-22 days +16:27:01</td>\n      <td>-22</td>\n      <td>121</td>\n      <td>462</td>\n      <td>84.58</td>\n    </tr>\n    <tr>\n      <th>4</th>\n      <td>74be082247cd677a147d83ee670e9d53</td>\n      <td>fffcf5a5ff07b0908bd4e2dbc735a684</td>\n      <td>delivered</td>\n      <td>725cf8e9c24e679a8a5a32cb92c9ce1e</td>\n      <td>2017-06-08 21:00:36</td>\n      <td>2017-06-23 13:03:27</td>\n      <td>2017-08-02 00:00:00</td>\n      <td>5</td>\n      <td>1</td>\n      <td>452</td>\n      <td>437.0</td>\n      <td>397</td>\n      <td>14 days 16:02:51</td>\n      <td>14.0</td>\n      <td>-40 days +13:03:27</td>\n      <td>-40</td>\n      <td>139</td>\n      <td>277</td>\n      <td>2067.42</td>\n    </tr>\n  </tbody>\n</table>\n</div>"
     },
     "metadata": {},
     "output_type": "display_data"
    },
    {
     "data": {
      "text/plain": "'df_clients_new2.shape'"
     },
     "metadata": {},
     "output_type": "display_data"
    },
    {
     "data": {
      "text/plain": "(94234, 19)"
     },
     "metadata": {},
     "output_type": "display_data"
    }
   ],
   "source": [
    "l_df_all = [df_clients, df_clients_sum]\n",
    "\n",
    "l_merge = [[[0, ['customer_id', 'customer_unique_id', 'order_status',\n",
    "                 'order_id', 'order_purchase_timestamp',\n",
    "                 'order_delivered_carrier_date',\n",
    "                 'order_estimated_delivery_date', 'review_score',\n",
    "                 'livree', 'recency_order_purchase_timestamp',\n",
    "                 'recency_order_delivered_carrier_date',\n",
    "                 'recency_order_estimated_delivery_date', 'attente',\n",
    "                 'attente-jours', 'decalage-prevision',\n",
    "                 'decalage-prevision-jours', 'rapidite_livraison',\n",
    "                 'recency_crescent']], # dernier df commandes avec\n",
    "                                       # les commandes ordonnées\n",
    "                                       # par date de livraison\n",
    "                                       # et la date de la derniere\n",
    "                                       # commande par client\n",
    "            [1, ['customer_unique_id', 'payment_value']],\n",
    "            'customer_unique_id']]\n",
    "\n",
    "df_clients_new = create_df_from_two_dfs_join(l_df_all, l_merge, 'left')\n",
    "\n",
    "print('df_clients_new.head()')\n",
    "display(df_clients_new.head())\n",
    "display('df_clients_new.shape', df_clients_new.shape)\n",
    "\n",
    "df_clients_new2 = \\\n",
    "    df_clients_new.drop_duplicates(subset='customer_unique_id')\n",
    "\n",
    "print('df_clients_new2.head()')\n",
    "display(df_clients_new2.head())\n",
    "display('df_clients_new2.shape', df_clients_new2.shape)"
   ],
   "metadata": {
    "collapsed": false,
    "pycharm": {
     "name": "#%%\n"
    }
   }
  },
  {
   "cell_type": "code",
   "execution_count": 217,
   "outputs": [
    {
     "name": "stdout",
     "output_type": "stream",
     "text": [
      "1 mergers to do.\n",
      "\n",
      "\n",
      "merger n. 0 (customer_unique_id)\n",
      "DF1: 18\n",
      "18 Index(['customer_id', 'customer_unique_id', 'order_status',\n",
      "       'order_purchase_timestamp', 'order_delivered_carrier_date',\n",
      "       'order_estimated_delivery_date', 'review_score', 'livree',\n",
      "       'recency_order_purchase_timestamp',\n",
      "       'recency_order_delivered_carrier_date',\n",
      "       'recency_order_estimated_delivery_date', 'attente', 'attente-jours',\n",
      "       'decalage-prevision', 'decalage-prevision-jours', 'rapidite_livraison',\n",
      "       'recency_crescent', 'payment_value'],\n",
      "      dtype='object')\n",
      "df1.shape before dropna on customer_unique_id: (94234, 18)\n",
      "df1.shape after dropna on customer_unique_id: (94234, 18)\n"
     ]
    },
    {
     "data": {
      "text/plain": "                        customer_id                customer_unique_id  \\\n0  70bc4d9cf2bbeea3f7b09798370f5884  ffffd2657e2aad2907e67c3e9daecbeb   \n1  832a3b0254347d409512ae92eaf154a6  ffff5962728ec6157033ef9805bacc48   \n\n  order_status order_purchase_timestamp order_delivered_carrier_date  \\\n0    delivered      2017-05-02 20:18:45          2017-05-04 12:05:22   \n1    delivered      2018-05-02 15:17:41          2018-05-03 16:45:00   \n\n  order_estimated_delivery_date review_score livree  \\\n0           2017-05-26 00:00:00            5      1   \n1           2018-05-28 00:00:00            5      1   \n\n  recency_order_purchase_timestamp recency_order_delivered_carrier_date  \\\n0                              489                                487.0   \n1                              124                                123.0   \n\n  recency_order_estimated_delivery_date          attente attente-jours  \\\n0                                   465  1 days 15:46:37           1.0   \n1                                    98  1 days 01:27:19           1.0   \n\n   decalage-prevision decalage-prevision-jours rapidite_livraison  \\\n0  -22 days +12:05:22                      -22                121   \n1  -25 days +16:45:00                      -25                124   \n\n  recency_crescent payment_value  \n0              240         71.56  \n1              605        133.69  ",
      "text/html": "<div>\n<style scoped>\n    .dataframe tbody tr th:only-of-type {\n        vertical-align: middle;\n    }\n\n    .dataframe tbody tr th {\n        vertical-align: top;\n    }\n\n    .dataframe thead th {\n        text-align: right;\n    }\n</style>\n<table border=\"1\" class=\"dataframe\">\n  <thead>\n    <tr style=\"text-align: right;\">\n      <th></th>\n      <th>customer_id</th>\n      <th>customer_unique_id</th>\n      <th>order_status</th>\n      <th>order_purchase_timestamp</th>\n      <th>order_delivered_carrier_date</th>\n      <th>order_estimated_delivery_date</th>\n      <th>review_score</th>\n      <th>livree</th>\n      <th>recency_order_purchase_timestamp</th>\n      <th>recency_order_delivered_carrier_date</th>\n      <th>recency_order_estimated_delivery_date</th>\n      <th>attente</th>\n      <th>attente-jours</th>\n      <th>decalage-prevision</th>\n      <th>decalage-prevision-jours</th>\n      <th>rapidite_livraison</th>\n      <th>recency_crescent</th>\n      <th>payment_value</th>\n    </tr>\n  </thead>\n  <tbody>\n    <tr>\n      <th>0</th>\n      <td>70bc4d9cf2bbeea3f7b09798370f5884</td>\n      <td>ffffd2657e2aad2907e67c3e9daecbeb</td>\n      <td>delivered</td>\n      <td>2017-05-02 20:18:45</td>\n      <td>2017-05-04 12:05:22</td>\n      <td>2017-05-26 00:00:00</td>\n      <td>5</td>\n      <td>1</td>\n      <td>489</td>\n      <td>487.0</td>\n      <td>465</td>\n      <td>1 days 15:46:37</td>\n      <td>1.0</td>\n      <td>-22 days +12:05:22</td>\n      <td>-22</td>\n      <td>121</td>\n      <td>240</td>\n      <td>71.56</td>\n    </tr>\n    <tr>\n      <th>1</th>\n      <td>832a3b0254347d409512ae92eaf154a6</td>\n      <td>ffff5962728ec6157033ef9805bacc48</td>\n      <td>delivered</td>\n      <td>2018-05-02 15:17:41</td>\n      <td>2018-05-03 16:45:00</td>\n      <td>2018-05-28 00:00:00</td>\n      <td>5</td>\n      <td>1</td>\n      <td>124</td>\n      <td>123.0</td>\n      <td>98</td>\n      <td>1 days 01:27:19</td>\n      <td>1.0</td>\n      <td>-25 days +16:45:00</td>\n      <td>-25</td>\n      <td>124</td>\n      <td>605</td>\n      <td>133.69</td>\n    </tr>\n  </tbody>\n</table>\n</div>"
     },
     "metadata": {},
     "output_type": "display_data"
    },
    {
     "name": "stdout",
     "output_type": "stream",
     "text": [
      "df1[col_merge_on].shape (94234,)\n",
      "DF2: 2\n",
      "2 Index(['customer_unique_id', 'order_id'], dtype='object')\n",
      "(94234, 2)\n",
      "df2.shape before dropna on customer_unique_id: (94234, 2)\n",
      "df2.shape after dropna on customer_unique_id: (94234, 2)\n"
     ]
    },
    {
     "data": {
      "text/plain": "                     customer_unique_id order_id\n94233  ffffd2657e2aad2907e67c3e9daecbeb        1\n94232  ffff5962728ec6157033ef9805bacc48        1",
      "text/html": "<div>\n<style scoped>\n    .dataframe tbody tr th:only-of-type {\n        vertical-align: middle;\n    }\n\n    .dataframe tbody tr th {\n        vertical-align: top;\n    }\n\n    .dataframe thead th {\n        text-align: right;\n    }\n</style>\n<table border=\"1\" class=\"dataframe\">\n  <thead>\n    <tr style=\"text-align: right;\">\n      <th></th>\n      <th>customer_unique_id</th>\n      <th>order_id</th>\n    </tr>\n  </thead>\n  <tbody>\n    <tr>\n      <th>94233</th>\n      <td>ffffd2657e2aad2907e67c3e9daecbeb</td>\n      <td>1</td>\n    </tr>\n    <tr>\n      <th>94232</th>\n      <td>ffff5962728ec6157033ef9805bacc48</td>\n      <td>1</td>\n    </tr>\n  </tbody>\n</table>\n</div>"
     },
     "metadata": {},
     "output_type": "display_data"
    },
    {
     "name": "stdout",
     "output_type": "stream",
     "text": [
      "df2[col_merge_on].shape (94234,)\n",
      "Output of merger n.1 (94234, 19)\n",
      "19 Index(['customer_id', 'customer_unique_id', 'order_status',\n",
      "       'order_purchase_timestamp', 'order_delivered_carrier_date',\n",
      "       'order_estimated_delivery_date', 'review_score', 'livree',\n",
      "       'recency_order_purchase_timestamp',\n",
      "       'recency_order_delivered_carrier_date',\n",
      "       'recency_order_estimated_delivery_date', 'attente', 'attente-jours',\n",
      "       'decalage-prevision', 'decalage-prevision-jours', 'rapidite_livraison',\n",
      "       'recency_crescent', 'payment_value', 'order_id'],\n",
      "      dtype='object')\n"
     ]
    },
    {
     "data": {
      "text/plain": "                        customer_id                customer_unique_id  \\\n0  70bc4d9cf2bbeea3f7b09798370f5884  ffffd2657e2aad2907e67c3e9daecbeb   \n1  832a3b0254347d409512ae92eaf154a6  ffff5962728ec6157033ef9805bacc48   \n\n  order_status order_purchase_timestamp order_delivered_carrier_date  \\\n0    delivered      2017-05-02 20:18:45          2017-05-04 12:05:22   \n1    delivered      2018-05-02 15:17:41          2018-05-03 16:45:00   \n\n  order_estimated_delivery_date review_score livree  \\\n0           2017-05-26 00:00:00            5      1   \n1           2018-05-28 00:00:00            5      1   \n\n  recency_order_purchase_timestamp recency_order_delivered_carrier_date  \\\n0                              489                                487.0   \n1                              124                                123.0   \n\n  recency_order_estimated_delivery_date          attente attente-jours  \\\n0                                   465  1 days 15:46:37           1.0   \n1                                    98  1 days 01:27:19           1.0   \n\n   decalage-prevision decalage-prevision-jours rapidite_livraison  \\\n0  -22 days +12:05:22                      -22                121   \n1  -25 days +16:45:00                      -25                124   \n\n  recency_crescent payment_value order_id  \n0              240         71.56        1  \n1              605        133.69        1  ",
      "text/html": "<div>\n<style scoped>\n    .dataframe tbody tr th:only-of-type {\n        vertical-align: middle;\n    }\n\n    .dataframe tbody tr th {\n        vertical-align: top;\n    }\n\n    .dataframe thead th {\n        text-align: right;\n    }\n</style>\n<table border=\"1\" class=\"dataframe\">\n  <thead>\n    <tr style=\"text-align: right;\">\n      <th></th>\n      <th>customer_id</th>\n      <th>customer_unique_id</th>\n      <th>order_status</th>\n      <th>order_purchase_timestamp</th>\n      <th>order_delivered_carrier_date</th>\n      <th>order_estimated_delivery_date</th>\n      <th>review_score</th>\n      <th>livree</th>\n      <th>recency_order_purchase_timestamp</th>\n      <th>recency_order_delivered_carrier_date</th>\n      <th>recency_order_estimated_delivery_date</th>\n      <th>attente</th>\n      <th>attente-jours</th>\n      <th>decalage-prevision</th>\n      <th>decalage-prevision-jours</th>\n      <th>rapidite_livraison</th>\n      <th>recency_crescent</th>\n      <th>payment_value</th>\n      <th>order_id</th>\n    </tr>\n  </thead>\n  <tbody>\n    <tr>\n      <th>0</th>\n      <td>70bc4d9cf2bbeea3f7b09798370f5884</td>\n      <td>ffffd2657e2aad2907e67c3e9daecbeb</td>\n      <td>delivered</td>\n      <td>2017-05-02 20:18:45</td>\n      <td>2017-05-04 12:05:22</td>\n      <td>2017-05-26 00:00:00</td>\n      <td>5</td>\n      <td>1</td>\n      <td>489</td>\n      <td>487.0</td>\n      <td>465</td>\n      <td>1 days 15:46:37</td>\n      <td>1.0</td>\n      <td>-22 days +12:05:22</td>\n      <td>-22</td>\n      <td>121</td>\n      <td>240</td>\n      <td>71.56</td>\n      <td>1</td>\n    </tr>\n    <tr>\n      <th>1</th>\n      <td>832a3b0254347d409512ae92eaf154a6</td>\n      <td>ffff5962728ec6157033ef9805bacc48</td>\n      <td>delivered</td>\n      <td>2018-05-02 15:17:41</td>\n      <td>2018-05-03 16:45:00</td>\n      <td>2018-05-28 00:00:00</td>\n      <td>5</td>\n      <td>1</td>\n      <td>124</td>\n      <td>123.0</td>\n      <td>98</td>\n      <td>1 days 01:27:19</td>\n      <td>1.0</td>\n      <td>-25 days +16:45:00</td>\n      <td>-25</td>\n      <td>124</td>\n      <td>605</td>\n      <td>133.69</td>\n      <td>1</td>\n    </tr>\n  </tbody>\n</table>\n</div>"
     },
     "metadata": {},
     "output_type": "display_data"
    },
    {
     "name": "stdout",
     "output_type": "stream",
     "text": [
      "End of merger 1\n",
      "\n"
     ]
    },
    {
     "data": {
      "text/plain": "'head'"
     },
     "metadata": {},
     "output_type": "display_data"
    },
    {
     "data": {
      "text/plain": "                        customer_id                customer_unique_id  \\\n0  70bc4d9cf2bbeea3f7b09798370f5884  ffffd2657e2aad2907e67c3e9daecbeb   \n1  832a3b0254347d409512ae92eaf154a6  ffff5962728ec6157033ef9805bacc48   \n2  27f584b0f1dc4e610065c240f68b6be0  ffff371b4d645b6ecea244b27531430a   \n3  0ecf8e0a08148af0bf313184f167670a  fffea47cd6d3cc0a88bd621562a9d061   \n4  74be082247cd677a147d83ee670e9d53  fffcf5a5ff07b0908bd4e2dbc735a684   \n\n  order_status order_purchase_timestamp order_delivered_carrier_date  \\\n0    delivered      2017-05-02 20:18:45          2017-05-04 12:05:22   \n1    delivered      2018-05-02 15:17:41          2018-05-03 16:45:00   \n2    delivered      2017-02-07 15:49:16          2017-02-08 10:04:37   \n3    delivered      2017-12-10 20:07:56          2017-12-21 16:27:01   \n4    delivered      2017-06-08 21:00:36          2017-06-23 13:03:27   \n\n  order_estimated_delivery_date review_score livree  \\\n0           2017-05-26 00:00:00            5      1   \n1           2018-05-28 00:00:00            5      1   \n2           2017-03-24 00:00:00            5      1   \n3           2018-01-12 00:00:00            4      1   \n4           2017-08-02 00:00:00            5      1   \n\n  recency_order_purchase_timestamp recency_order_delivered_carrier_date  \\\n0                              489                                487.0   \n1                              124                                123.0   \n2                              573                                572.0   \n3                              267                                256.0   \n4                              452                                437.0   \n\n  recency_order_estimated_delivery_date           attente attente-jours  \\\n0                                   465   1 days 15:46:37           1.0   \n1                                    98   1 days 01:27:19           1.0   \n2                                   528   0 days 18:15:21           0.0   \n3                                   234  10 days 20:19:05          10.0   \n4                                   397  14 days 16:02:51          14.0   \n\n   decalage-prevision decalage-prevision-jours rapidite_livraison  \\\n0  -22 days +12:05:22                      -22                121   \n1  -25 days +16:45:00                      -25                124   \n2  -44 days +10:04:37                      -44                143   \n3  -22 days +16:27:01                      -22                121   \n4  -40 days +13:03:27                      -40                139   \n\n  recency_crescent payment_value orders  \n0              240         71.56      1  \n1              605        133.69      1  \n2              156        112.46      1  \n3              462         84.58      1  \n4              277       2067.42      1  ",
      "text/html": "<div>\n<style scoped>\n    .dataframe tbody tr th:only-of-type {\n        vertical-align: middle;\n    }\n\n    .dataframe tbody tr th {\n        vertical-align: top;\n    }\n\n    .dataframe thead th {\n        text-align: right;\n    }\n</style>\n<table border=\"1\" class=\"dataframe\">\n  <thead>\n    <tr style=\"text-align: right;\">\n      <th></th>\n      <th>customer_id</th>\n      <th>customer_unique_id</th>\n      <th>order_status</th>\n      <th>order_purchase_timestamp</th>\n      <th>order_delivered_carrier_date</th>\n      <th>order_estimated_delivery_date</th>\n      <th>review_score</th>\n      <th>livree</th>\n      <th>recency_order_purchase_timestamp</th>\n      <th>recency_order_delivered_carrier_date</th>\n      <th>recency_order_estimated_delivery_date</th>\n      <th>attente</th>\n      <th>attente-jours</th>\n      <th>decalage-prevision</th>\n      <th>decalage-prevision-jours</th>\n      <th>rapidite_livraison</th>\n      <th>recency_crescent</th>\n      <th>payment_value</th>\n      <th>orders</th>\n    </tr>\n  </thead>\n  <tbody>\n    <tr>\n      <th>0</th>\n      <td>70bc4d9cf2bbeea3f7b09798370f5884</td>\n      <td>ffffd2657e2aad2907e67c3e9daecbeb</td>\n      <td>delivered</td>\n      <td>2017-05-02 20:18:45</td>\n      <td>2017-05-04 12:05:22</td>\n      <td>2017-05-26 00:00:00</td>\n      <td>5</td>\n      <td>1</td>\n      <td>489</td>\n      <td>487.0</td>\n      <td>465</td>\n      <td>1 days 15:46:37</td>\n      <td>1.0</td>\n      <td>-22 days +12:05:22</td>\n      <td>-22</td>\n      <td>121</td>\n      <td>240</td>\n      <td>71.56</td>\n      <td>1</td>\n    </tr>\n    <tr>\n      <th>1</th>\n      <td>832a3b0254347d409512ae92eaf154a6</td>\n      <td>ffff5962728ec6157033ef9805bacc48</td>\n      <td>delivered</td>\n      <td>2018-05-02 15:17:41</td>\n      <td>2018-05-03 16:45:00</td>\n      <td>2018-05-28 00:00:00</td>\n      <td>5</td>\n      <td>1</td>\n      <td>124</td>\n      <td>123.0</td>\n      <td>98</td>\n      <td>1 days 01:27:19</td>\n      <td>1.0</td>\n      <td>-25 days +16:45:00</td>\n      <td>-25</td>\n      <td>124</td>\n      <td>605</td>\n      <td>133.69</td>\n      <td>1</td>\n    </tr>\n    <tr>\n      <th>2</th>\n      <td>27f584b0f1dc4e610065c240f68b6be0</td>\n      <td>ffff371b4d645b6ecea244b27531430a</td>\n      <td>delivered</td>\n      <td>2017-02-07 15:49:16</td>\n      <td>2017-02-08 10:04:37</td>\n      <td>2017-03-24 00:00:00</td>\n      <td>5</td>\n      <td>1</td>\n      <td>573</td>\n      <td>572.0</td>\n      <td>528</td>\n      <td>0 days 18:15:21</td>\n      <td>0.0</td>\n      <td>-44 days +10:04:37</td>\n      <td>-44</td>\n      <td>143</td>\n      <td>156</td>\n      <td>112.46</td>\n      <td>1</td>\n    </tr>\n    <tr>\n      <th>3</th>\n      <td>0ecf8e0a08148af0bf313184f167670a</td>\n      <td>fffea47cd6d3cc0a88bd621562a9d061</td>\n      <td>delivered</td>\n      <td>2017-12-10 20:07:56</td>\n      <td>2017-12-21 16:27:01</td>\n      <td>2018-01-12 00:00:00</td>\n      <td>4</td>\n      <td>1</td>\n      <td>267</td>\n      <td>256.0</td>\n      <td>234</td>\n      <td>10 days 20:19:05</td>\n      <td>10.0</td>\n      <td>-22 days +16:27:01</td>\n      <td>-22</td>\n      <td>121</td>\n      <td>462</td>\n      <td>84.58</td>\n      <td>1</td>\n    </tr>\n    <tr>\n      <th>4</th>\n      <td>74be082247cd677a147d83ee670e9d53</td>\n      <td>fffcf5a5ff07b0908bd4e2dbc735a684</td>\n      <td>delivered</td>\n      <td>2017-06-08 21:00:36</td>\n      <td>2017-06-23 13:03:27</td>\n      <td>2017-08-02 00:00:00</td>\n      <td>5</td>\n      <td>1</td>\n      <td>452</td>\n      <td>437.0</td>\n      <td>397</td>\n      <td>14 days 16:02:51</td>\n      <td>14.0</td>\n      <td>-40 days +13:03:27</td>\n      <td>-40</td>\n      <td>139</td>\n      <td>277</td>\n      <td>2067.42</td>\n      <td>1</td>\n    </tr>\n  </tbody>\n</table>\n</div>"
     },
     "metadata": {},
     "output_type": "display_data"
    },
    {
     "data": {
      "text/plain": "'tail'"
     },
     "metadata": {},
     "output_type": "display_data"
    },
    {
     "data": {
      "text/plain": "                            customer_id                customer_unique_id  \\\n94229  47227568b10f5f58a524a75507e6992c  0004aac84e0df4da2b147fca70cf8255   \n94230  914991f0c02ef0843c0e7010c819d642  0000f6ccb0745a6a4b88665a16c9f078   \n94231  9b3932a6253894a02c1df9d19004239f  0000f46a3911fa3c0805444483337064   \n94232  4cb282e167ae9234755102258dd52ee8  0000b849f77a49e4a4ce2b2a4ca5be3f   \n94233  fadbb3709178fc513abc1b2670aa1ad2  0000366f3b9a7992bf8c76cfdf3221e2   \n\n      order_status order_purchase_timestamp order_delivered_carrier_date  \\\n94229    delivered      2017-11-14 19:45:42          2017-11-16 19:52:10   \n94230    delivered      2017-10-12 20:29:41          2017-10-13 20:08:19   \n94231    delivered      2017-03-10 21:05:03          2017-03-13 12:58:30   \n94232    delivered      2018-05-07 11:11:27          2018-05-09 12:18:00   \n94233    delivered      2018-05-10 10:56:27          2018-05-12 08:18:00   \n\n      order_estimated_delivery_date review_score livree  \\\n94229           2017-12-05 00:00:00            5      1   \n94230           2017-11-13 00:00:00            4      1   \n94231           2017-04-07 00:00:00            3      1   \n94232           2018-05-15 00:00:00            4      1   \n94233           2018-05-21 00:00:00            5      1   \n\n      recency_order_purchase_timestamp recency_order_delivered_carrier_date  \\\n94229                              293                                291.0   \n94230                              326                                325.0   \n94231                              542                                539.0   \n94232                              119                                117.0   \n94233                              116                                114.0   \n\n      recency_order_estimated_delivery_date          attente attente-jours  \\\n94229                                   272  2 days 00:06:28           2.0   \n94230                                   294  0 days 23:38:38           0.0   \n94231                                   514  2 days 15:53:27           2.0   \n94232                                   111  2 days 01:06:33           2.0   \n94233                                   105  1 days 21:21:33           1.0   \n\n       decalage-prevision decalage-prevision-jours rapidite_livraison  \\\n94229  -19 days +19:52:10                      -19                118   \n94230  -31 days +20:08:19                      -31                130   \n94231  -25 days +12:58:30                      -25                124   \n94232   -6 days +12:18:00                       -6                105   \n94233   -9 days +08:18:00                       -9                108   \n\n      recency_crescent payment_value orders  \n94229              436        196.89      1  \n94230              403         43.62      1  \n94231              187         86.22      1  \n94232              610         27.19      1  \n94233              613         141.9      1  ",
      "text/html": "<div>\n<style scoped>\n    .dataframe tbody tr th:only-of-type {\n        vertical-align: middle;\n    }\n\n    .dataframe tbody tr th {\n        vertical-align: top;\n    }\n\n    .dataframe thead th {\n        text-align: right;\n    }\n</style>\n<table border=\"1\" class=\"dataframe\">\n  <thead>\n    <tr style=\"text-align: right;\">\n      <th></th>\n      <th>customer_id</th>\n      <th>customer_unique_id</th>\n      <th>order_status</th>\n      <th>order_purchase_timestamp</th>\n      <th>order_delivered_carrier_date</th>\n      <th>order_estimated_delivery_date</th>\n      <th>review_score</th>\n      <th>livree</th>\n      <th>recency_order_purchase_timestamp</th>\n      <th>recency_order_delivered_carrier_date</th>\n      <th>recency_order_estimated_delivery_date</th>\n      <th>attente</th>\n      <th>attente-jours</th>\n      <th>decalage-prevision</th>\n      <th>decalage-prevision-jours</th>\n      <th>rapidite_livraison</th>\n      <th>recency_crescent</th>\n      <th>payment_value</th>\n      <th>orders</th>\n    </tr>\n  </thead>\n  <tbody>\n    <tr>\n      <th>94229</th>\n      <td>47227568b10f5f58a524a75507e6992c</td>\n      <td>0004aac84e0df4da2b147fca70cf8255</td>\n      <td>delivered</td>\n      <td>2017-11-14 19:45:42</td>\n      <td>2017-11-16 19:52:10</td>\n      <td>2017-12-05 00:00:00</td>\n      <td>5</td>\n      <td>1</td>\n      <td>293</td>\n      <td>291.0</td>\n      <td>272</td>\n      <td>2 days 00:06:28</td>\n      <td>2.0</td>\n      <td>-19 days +19:52:10</td>\n      <td>-19</td>\n      <td>118</td>\n      <td>436</td>\n      <td>196.89</td>\n      <td>1</td>\n    </tr>\n    <tr>\n      <th>94230</th>\n      <td>914991f0c02ef0843c0e7010c819d642</td>\n      <td>0000f6ccb0745a6a4b88665a16c9f078</td>\n      <td>delivered</td>\n      <td>2017-10-12 20:29:41</td>\n      <td>2017-10-13 20:08:19</td>\n      <td>2017-11-13 00:00:00</td>\n      <td>4</td>\n      <td>1</td>\n      <td>326</td>\n      <td>325.0</td>\n      <td>294</td>\n      <td>0 days 23:38:38</td>\n      <td>0.0</td>\n      <td>-31 days +20:08:19</td>\n      <td>-31</td>\n      <td>130</td>\n      <td>403</td>\n      <td>43.62</td>\n      <td>1</td>\n    </tr>\n    <tr>\n      <th>94231</th>\n      <td>9b3932a6253894a02c1df9d19004239f</td>\n      <td>0000f46a3911fa3c0805444483337064</td>\n      <td>delivered</td>\n      <td>2017-03-10 21:05:03</td>\n      <td>2017-03-13 12:58:30</td>\n      <td>2017-04-07 00:00:00</td>\n      <td>3</td>\n      <td>1</td>\n      <td>542</td>\n      <td>539.0</td>\n      <td>514</td>\n      <td>2 days 15:53:27</td>\n      <td>2.0</td>\n      <td>-25 days +12:58:30</td>\n      <td>-25</td>\n      <td>124</td>\n      <td>187</td>\n      <td>86.22</td>\n      <td>1</td>\n    </tr>\n    <tr>\n      <th>94232</th>\n      <td>4cb282e167ae9234755102258dd52ee8</td>\n      <td>0000b849f77a49e4a4ce2b2a4ca5be3f</td>\n      <td>delivered</td>\n      <td>2018-05-07 11:11:27</td>\n      <td>2018-05-09 12:18:00</td>\n      <td>2018-05-15 00:00:00</td>\n      <td>4</td>\n      <td>1</td>\n      <td>119</td>\n      <td>117.0</td>\n      <td>111</td>\n      <td>2 days 01:06:33</td>\n      <td>2.0</td>\n      <td>-6 days +12:18:00</td>\n      <td>-6</td>\n      <td>105</td>\n      <td>610</td>\n      <td>27.19</td>\n      <td>1</td>\n    </tr>\n    <tr>\n      <th>94233</th>\n      <td>fadbb3709178fc513abc1b2670aa1ad2</td>\n      <td>0000366f3b9a7992bf8c76cfdf3221e2</td>\n      <td>delivered</td>\n      <td>2018-05-10 10:56:27</td>\n      <td>2018-05-12 08:18:00</td>\n      <td>2018-05-21 00:00:00</td>\n      <td>5</td>\n      <td>1</td>\n      <td>116</td>\n      <td>114.0</td>\n      <td>105</td>\n      <td>1 days 21:21:33</td>\n      <td>1.0</td>\n      <td>-9 days +08:18:00</td>\n      <td>-9</td>\n      <td>108</td>\n      <td>613</td>\n      <td>141.9</td>\n      <td>1</td>\n    </tr>\n  </tbody>\n</table>\n</div>"
     },
     "metadata": {},
     "output_type": "display_data"
    },
    {
     "data": {
      "text/plain": "Index(['customer_id', 'customer_unique_id', 'order_status',\n       'order_purchase_timestamp', 'order_delivered_carrier_date',\n       'order_estimated_delivery_date', 'review_score', 'livree',\n       'recency_order_purchase_timestamp',\n       'recency_order_delivered_carrier_date',\n       'recency_order_estimated_delivery_date', 'attente', 'attente-jours',\n       'decalage-prevision', 'decalage-prevision-jours', 'rapidite_livraison',\n       'recency_crescent', 'payment_value', 'orders'],\n      dtype='object')"
     },
     "metadata": {},
     "output_type": "display_data"
    },
    {
     "data": {
      "text/plain": "(94234, 19)"
     },
     "metadata": {},
     "output_type": "display_data"
    }
   ],
   "source": [
    "l_df_all = [df_clients_new2, df_clients_count]\n",
    "# for i in l_df_all:\n",
    "#     # print(str(i))\n",
    "#     display(i.columns, i.head(1))\n",
    "\n",
    "l_merge = [[[0, ['customer_id', 'customer_unique_id', 'order_status',\n",
    "                'order_purchase_timestamp',\n",
    "                'order_delivered_carrier_date',\n",
    "                'order_estimated_delivery_date', 'review_score',\n",
    "                'livree', 'recency_order_purchase_timestamp',\n",
    "                'recency_order_delivered_carrier_date',\n",
    "                'recency_order_estimated_delivery_date', 'attente',\n",
    "                'attente-jours', 'decalage-prevision',\n",
    "                'decalage-prevision-jours', 'rapidite_livraison',\n",
    "                'recency_crescent', 'payment_value']],\n",
    "                [1, ['customer_unique_id', 'order_id'],\n",
    "                 'customer_unique_id'], 'customer_unique_id']]\n",
    "\n",
    "df_all2 = create_df_from_two_dfs_join(l_df_all, l_merge, 'left')\n",
    "df_all2 = df_all2.rename(columns={'order_id': 'orders'})\n",
    "\n",
    "display('head', df_all2.head(), 'tail', df_all2.tail())\n",
    "\n",
    "display(df_all2.columns)\n",
    "display(df_all2.shape)\n"
   ],
   "metadata": {
    "collapsed": false,
    "pycharm": {
     "name": "#%%\n"
    }
   }
  },
  {
   "cell_type": "code",
   "execution_count": 218,
   "outputs": [],
   "source": [
    "def create_x_matrix_da_df(df):\n",
    "    lista_nomi_colonne_per_matrice_x_matrix = df.columns\n",
    "    print('lista_nomi_colonne_per_matrice_x_matrix',\n",
    "          lista_nomi_colonne_per_matrice_x_matrix)\n",
    "\n",
    "    l_tmp = df[lista_nomi_colonne_per_matrice_x_matrix[0]].shape[0]\n",
    "    # nombre de valeurs pour l'initialisation de tmp\n",
    "\n",
    "    tmp = np.empty(l_tmp, dtype=object).reshape(l_tmp, 1)\n",
    "    # print(tmp[:5])\n",
    "    inst_x = []\n",
    "    l_ind_x_incr = 0\n",
    "\n",
    "    num_cols_x_matrix \\\n",
    "        = len(lista_nomi_colonne_per_matrice_x_matrix)\n",
    "\n",
    "    for i in lista_nomi_colonne_per_matrice_x_matrix:\n",
    "        # 2. Dentro la lista delle istanze ...\n",
    "        l_ind_x_incr += 1\n",
    "        x = df[i].to_numpy()\n",
    "        x = x.reshape(x.shape[0], 1)\n",
    "        if l_ind_x_incr != 1:\n",
    "            print(\"\\nind %i\" % l_ind_x_incr)\n",
    "            print(\"tmp.shape prima: %s\" % str(tmp.shape))\n",
    "            tmp = np.hstack([tmp, x])\n",
    "            print(\"tmp.shape dopo: %s\" % str(tmp.shape))\n",
    "            # print(tmp[:5])\n",
    "        else:\n",
    "            print(\"TMP tmp.shape prima: %s\" % str(tmp.shape))\n",
    "            tmp = x\n",
    "            print(\"tmp.shape dopo: %s\" % str(tmp.shape))\n",
    "\n",
    "    if l_ind_x_incr != len(lista_nomi_colonne_per_matrice_x_matrix):\n",
    "        print('not all columns included - %s VS %s'\n",
    "              % (l_ind_x_incr,\n",
    "                 len(lista_nomi_colonne_per_matrice_x_matrix)))\n",
    "\n",
    "    x_matrix = tmp\n",
    "    print(\"x_matrix.shape: %s\" % str(x_matrix.shape))\n",
    "\n",
    "    with pd.option_context('mode.use_inf_as_null', True):\n",
    "        x_matrix = pd.DataFrame(x_matrix).dropna(axis=0,\n",
    "                                                 how='any').to_numpy()\n",
    "\n",
    "    scaler = preprocessing.StandardScaler().fit(x_matrix)\n",
    "    x_matrix_scaled = scaler.transform(x_matrix)\n",
    "\n",
    "    print('Shape after dropna:', x_matrix_scaled.shape)\n",
    "\n",
    "    return x_matrix_scaled, scaler, x_matrix"
   ],
   "metadata": {
    "collapsed": false,
    "pycharm": {
     "name": "#%%\n"
    }
   }
  },
  {
   "cell_type": "markdown",
   "source": [
    "# 2. Calcul de la stabilité de la segmentation\n",
    "### Calcul de la stabilité de la segmentation. Création des intervalles temporels ###"
   ],
   "metadata": {
    "collapsed": false,
    "pycharm": {
     "name": "#%% md\n"
    }
   }
  },
  {
   "cell_type": "code",
   "execution_count": 219,
   "outputs": [
    {
     "name": "stdout",
     "output_type": "stream",
     "text": [
      "9\n"
     ]
    }
   ],
   "source": [
    "df_time_limits = []\n",
    "time_limits = []\n",
    "# least_recent_date = df_commandes_livrees['order_purchase_timestamp'].min()\n",
    "least_recent_date = \\\n",
    "    df_commandes_livrees['order_purchase_timestamp'].min() \\\n",
    "    + datetime.timedelta(days=120)\n",
    "# un_an_apres = (least_recent_date + datetime.timedelta(days=365))\n",
    "un_an_apres = (least_recent_date + datetime.timedelta(days=365))\n",
    "\n",
    "def clients_sur_periode(df_commandes, start_date, end_date):\n",
    "    df_commandes['order_purchase_timestamp'] \\\n",
    "        = pd.to_datetime(df_commandes['order_purchase_timestamp'])\n",
    "    df_commandes = df_commandes.loc[\n",
    "                            (df_commandes['order_purchase_timestamp']\n",
    "                                >=start_date)].loc[\n",
    "                                df_commandes['order_purchase_timestamp']\n",
    "                                <end_date]\n",
    "\n",
    "    return df_commandes\n",
    "\n",
    "df_time_limits.append(clients_sur_periode(df_all2,\n",
    "                                          least_recent_date,\n",
    "                                          un_an_apres))\n",
    "time_limits.append([least_recent_date,\n",
    "                    un_an_apres])\n",
    "\n",
    "for m in range(1, 9):\n",
    "    lim1 = least_recent_date + datetime.timedelta(days=30*m)\n",
    "    lim2 = un_an_apres + datetime.timedelta(days=30*m)\n",
    "    df_time_limits.append(clients_sur_periode(df_all2,\n",
    "                                              lim1, lim2))\n",
    "    time_limits.append([lim1, lim2])\n",
    "\n",
    "print(len(df_time_limits))\n"
   ],
   "metadata": {
    "collapsed": false,
    "pycharm": {
     "name": "#%%\n"
    }
   }
  },
  {
   "cell_type": "markdown",
   "source": [
    "# Calcul de l'ARI"
   ],
   "metadata": {
    "collapsed": false,
    "pycharm": {
     "name": "#%% md\n"
    }
   }
  },
  {
   "cell_type": "code",
   "execution_count": 220,
   "outputs": [
    {
     "name": "stdout",
     "output_type": "stream",
     "text": [
      "time_limits[n_df] [Timestamp('2017-01-02 21:15:19'), Timestamp('2018-01-02 21:15:19')]\n",
      "lista_nomi_colonne_per_matrice_x_matrix Index(['orders', 'review_score', 'payment_value', 'attente-jours',\n",
      "       'decalage-prevision-jours', 'rapidite_livraison'],\n",
      "      dtype='object')\n",
      "TMP tmp.shape prima: (42556, 1)\n",
      "tmp.shape dopo: (42556, 1)\n",
      "\n",
      "ind 2\n",
      "tmp.shape prima: (42556, 1)\n",
      "tmp.shape dopo: (42556, 2)\n",
      "\n",
      "ind 3\n",
      "tmp.shape prima: (42556, 2)\n",
      "tmp.shape dopo: (42556, 3)\n",
      "\n",
      "ind 4\n",
      "tmp.shape prima: (42556, 3)\n",
      "tmp.shape dopo: (42556, 4)\n",
      "\n",
      "ind 5\n",
      "tmp.shape prima: (42556, 4)\n",
      "tmp.shape dopo: (42556, 5)\n",
      "\n",
      "ind 6\n",
      "tmp.shape prima: (42556, 5)\n",
      "tmp.shape dopo: (42556, 6)\n",
      "x_matrix.shape: (42556, 6)\n",
      "Shape after dropna: (42556, 6)\n",
      "model.labels [1 3 1 ... 1 3 5]\n",
      "[1]\n",
      "time_limits[n_df] [Timestamp('2017-02-01 21:15:19'), Timestamp('2018-02-01 21:15:19')]\n",
      "lista_nomi_colonne_per_matrice_x_matrix Index(['orders', 'review_score', 'payment_value', 'attente-jours',\n",
      "       'decalage-prevision-jours', 'rapidite_livraison'],\n",
      "      dtype='object')\n",
      "TMP tmp.shape prima: (48637, 1)\n",
      "tmp.shape dopo: (48637, 1)\n",
      "\n",
      "ind 2\n",
      "tmp.shape prima: (48637, 1)\n",
      "tmp.shape dopo: (48637, 2)\n",
      "\n",
      "ind 3\n",
      "tmp.shape prima: (48637, 2)\n",
      "tmp.shape dopo: (48637, 3)\n",
      "\n",
      "ind 4\n",
      "tmp.shape prima: (48637, 3)\n",
      "tmp.shape dopo: (48637, 4)\n",
      "\n",
      "ind 5\n",
      "tmp.shape prima: (48637, 4)\n",
      "tmp.shape dopo: (48637, 5)\n",
      "\n",
      "ind 6\n",
      "tmp.shape prima: (48637, 5)\n",
      "tmp.shape dopo: (48637, 6)\n",
      "x_matrix.shape: (48637, 6)\n",
      "Shape after dropna: (48637, 6)\n",
      "pred [1 3 1 ... 1 3 5]\n",
      "ARI score entre le modèle 0 (période 02-01-2017 --- 02-01-2018) et le modèle M1 (période 01-02-2017 --- 01-02-2018) : 0.871\n",
      "\n",
      "[1, 0.8714986678709244]\n",
      "time_limits[n_df] [Timestamp('2017-03-03 21:15:19'), Timestamp('2018-03-03 21:15:19')]\n",
      "lista_nomi_colonne_per_matrice_x_matrix Index(['orders', 'review_score', 'payment_value', 'attente-jours',\n",
      "       'decalage-prevision-jours', 'rapidite_livraison'],\n",
      "      dtype='object')\n",
      "TMP tmp.shape prima: (53695, 1)\n",
      "tmp.shape dopo: (53695, 1)\n",
      "\n",
      "ind 2\n",
      "tmp.shape prima: (53695, 1)\n",
      "tmp.shape dopo: (53695, 2)\n",
      "\n",
      "ind 3\n",
      "tmp.shape prima: (53695, 2)\n",
      "tmp.shape dopo: (53695, 3)\n",
      "\n",
      "ind 4\n",
      "tmp.shape prima: (53695, 3)\n",
      "tmp.shape dopo: (53695, 4)\n",
      "\n",
      "ind 5\n",
      "tmp.shape prima: (53695, 4)\n",
      "tmp.shape dopo: (53695, 5)\n",
      "\n",
      "ind 6\n",
      "tmp.shape prima: (53695, 5)\n",
      "tmp.shape dopo: (53695, 6)\n",
      "x_matrix.shape: (53695, 6)\n",
      "Shape after dropna: (53695, 6)\n",
      "pred [1 1 0 ... 1 3 5]\n",
      "ARI score entre le modèle 0 (période 02-01-2017 --- 02-01-2018) et le modèle M2 (période 03-03-2017 --- 03-03-2018) : 0.888\n",
      "\n",
      "[1, 0.8714986678709244, 0.8881200762283435]\n",
      "time_limits[n_df] [Timestamp('2017-04-02 21:15:19'), Timestamp('2018-04-02 21:15:19')]\n",
      "lista_nomi_colonne_per_matrice_x_matrix Index(['orders', 'review_score', 'payment_value', 'attente-jours',\n",
      "       'decalage-prevision-jours', 'rapidite_livraison'],\n",
      "      dtype='object')\n",
      "TMP tmp.shape prima: (57946, 1)\n",
      "tmp.shape dopo: (57946, 1)\n",
      "\n",
      "ind 2\n",
      "tmp.shape prima: (57946, 1)\n",
      "tmp.shape dopo: (57946, 2)\n",
      "\n",
      "ind 3\n",
      "tmp.shape prima: (57946, 2)\n",
      "tmp.shape dopo: (57946, 3)\n",
      "\n",
      "ind 4\n",
      "tmp.shape prima: (57946, 3)\n",
      "tmp.shape dopo: (57946, 4)\n",
      "\n",
      "ind 5\n",
      "tmp.shape prima: (57946, 4)\n",
      "tmp.shape dopo: (57946, 5)\n",
      "\n",
      "ind 6\n",
      "tmp.shape prima: (57946, 5)\n",
      "tmp.shape dopo: (57946, 6)\n",
      "x_matrix.shape: (57946, 6)\n",
      "Shape after dropna: (57946, 6)\n",
      "pred [1 1 0 ... 5 1 3]\n",
      "ARI score entre le modèle 0 (période 02-01-2017 --- 02-01-2018) et le modèle M3 (période 02-04-2017 --- 02-04-2018) : 0.937\n",
      "\n",
      "[1, 0.8714986678709244, 0.8881200762283435, 0.9374856670917472]\n",
      "time_limits[n_df] [Timestamp('2017-05-02 21:15:19'), Timestamp('2018-05-02 21:15:19')]\n",
      "lista_nomi_colonne_per_matrice_x_matrix Index(['orders', 'review_score', 'payment_value', 'attente-jours',\n",
      "       'decalage-prevision-jours', 'rapidite_livraison'],\n",
      "      dtype='object')\n",
      "TMP tmp.shape prima: (62328, 1)\n",
      "tmp.shape dopo: (62328, 1)\n",
      "\n",
      "ind 2\n",
      "tmp.shape prima: (62328, 1)\n",
      "tmp.shape dopo: (62328, 2)\n",
      "\n",
      "ind 3\n",
      "tmp.shape prima: (62328, 2)\n",
      "tmp.shape dopo: (62328, 3)\n",
      "\n",
      "ind 4\n",
      "tmp.shape prima: (62328, 3)\n",
      "tmp.shape dopo: (62328, 4)\n",
      "\n",
      "ind 5\n",
      "tmp.shape prima: (62328, 4)\n",
      "tmp.shape dopo: (62328, 5)\n",
      "\n",
      "ind 6\n",
      "tmp.shape prima: (62328, 5)\n",
      "tmp.shape dopo: (62328, 6)\n",
      "x_matrix.shape: (62328, 6)\n",
      "Shape after dropna: (62328, 6)\n",
      "pred [1 1 0 ... 6 1 3]\n",
      "ARI score entre le modèle 0 (période 02-01-2017 --- 02-01-2018) et le modèle M4 (période 02-05-2017 --- 02-05-2018) : 0.937\n",
      "\n",
      "[1, 0.8714986678709244, 0.8881200762283435, 0.9374856670917472, 0.9373416177031928]\n",
      "time_limits[n_df] [Timestamp('2017-06-01 21:15:19'), Timestamp('2018-06-01 21:15:19')]\n",
      "lista_nomi_colonne_per_matrice_x_matrix Index(['orders', 'review_score', 'payment_value', 'attente-jours',\n",
      "       'decalage-prevision-jours', 'rapidite_livraison'],\n",
      "      dtype='object')\n",
      "TMP tmp.shape prima: (65245, 1)\n",
      "tmp.shape dopo: (65245, 1)\n",
      "\n",
      "ind 2\n",
      "tmp.shape prima: (65245, 1)\n",
      "tmp.shape dopo: (65245, 2)\n",
      "\n",
      "ind 3\n",
      "tmp.shape prima: (65245, 2)\n",
      "tmp.shape dopo: (65245, 3)\n",
      "\n",
      "ind 4\n",
      "tmp.shape prima: (65245, 3)\n",
      "tmp.shape dopo: (65245, 4)\n",
      "\n",
      "ind 5\n",
      "tmp.shape prima: (65245, 4)\n",
      "tmp.shape dopo: (65245, 5)\n",
      "\n",
      "ind 6\n",
      "tmp.shape prima: (65245, 5)\n",
      "tmp.shape dopo: (65245, 6)\n",
      "x_matrix.shape: (65245, 6)\n",
      "Shape after dropna: (65245, 6)\n",
      "pred [1 1 0 ... 3 6 6]\n",
      "ARI score entre le modèle 0 (période 02-01-2017 --- 02-01-2018) et le modèle M5 (période 01-06-2017 --- 01-06-2018) : 0.908\n",
      "\n",
      "[1, 0.8714986678709244, 0.8881200762283435, 0.9374856670917472, 0.9373416177031928, 0.9080322305134377]\n",
      "time_limits[n_df] [Timestamp('2017-07-01 21:15:19'), Timestamp('2018-07-01 21:15:19')]\n",
      "lista_nomi_colonne_per_matrice_x_matrix Index(['orders', 'review_score', 'payment_value', 'attente-jours',\n",
      "       'decalage-prevision-jours', 'rapidite_livraison'],\n",
      "      dtype='object')\n",
      "TMP tmp.shape prima: (68168, 1)\n",
      "tmp.shape dopo: (68168, 1)\n",
      "\n",
      "ind 2\n",
      "tmp.shape prima: (68168, 1)\n",
      "tmp.shape dopo: (68168, 2)\n",
      "\n",
      "ind 3\n",
      "tmp.shape prima: (68168, 2)\n",
      "tmp.shape dopo: (68168, 3)\n",
      "\n",
      "ind 4\n",
      "tmp.shape prima: (68168, 3)\n",
      "tmp.shape dopo: (68168, 4)\n",
      "\n",
      "ind 5\n",
      "tmp.shape prima: (68168, 4)\n",
      "tmp.shape dopo: (68168, 5)\n",
      "\n",
      "ind 6\n",
      "tmp.shape prima: (68168, 5)\n",
      "tmp.shape dopo: (68168, 6)\n",
      "x_matrix.shape: (68168, 6)\n",
      "Shape after dropna: (68168, 6)\n",
      "pred [1 1 5 ... 3 6 6]\n",
      "ARI score entre le modèle 0 (période 02-01-2017 --- 02-01-2018) et le modèle M6 (période 01-07-2017 --- 01-07-2018) : 0.877\n",
      "\n",
      "[1, 0.8714986678709244, 0.8881200762283435, 0.9374856670917472, 0.9373416177031928, 0.9080322305134377, 0.877378871498472]\n",
      "time_limits[n_df] [Timestamp('2017-07-31 21:15:19'), Timestamp('2018-07-31 21:15:19')]\n",
      "lista_nomi_colonne_per_matrice_x_matrix Index(['orders', 'review_score', 'payment_value', 'attente-jours',\n",
      "       'decalage-prevision-jours', 'rapidite_livraison'],\n",
      "      dtype='object')\n",
      "TMP tmp.shape prima: (70336, 1)\n",
      "tmp.shape dopo: (70336, 1)\n",
      "\n",
      "ind 2\n",
      "tmp.shape prima: (70336, 1)\n",
      "tmp.shape dopo: (70336, 2)\n",
      "\n",
      "ind 3\n",
      "tmp.shape prima: (70336, 2)\n",
      "tmp.shape dopo: (70336, 3)\n",
      "\n",
      "ind 4\n",
      "tmp.shape prima: (70336, 3)\n",
      "tmp.shape dopo: (70336, 4)\n",
      "\n",
      "ind 5\n",
      "tmp.shape prima: (70336, 4)\n",
      "tmp.shape dopo: (70336, 5)\n",
      "\n",
      "ind 6\n",
      "tmp.shape prima: (70336, 5)\n",
      "tmp.shape dopo: (70336, 6)\n",
      "x_matrix.shape: (70336, 6)\n",
      "Shape after dropna: (70336, 6)\n",
      "pred [1 1 5 ... 3 6 6]\n",
      "ARI score entre le modèle 0 (période 02-01-2017 --- 02-01-2018) et le modèle M7 (période 31-07-2017 --- 31-07-2018) : 0.847\n",
      "\n",
      "[1, 0.8714986678709244, 0.8881200762283435, 0.9374856670917472, 0.9373416177031928, 0.9080322305134377, 0.877378871498472, 0.8474467407614495]\n",
      "time_limits[n_df] [Timestamp('2017-08-30 21:15:19'), Timestamp('2018-08-30 21:15:19')]\n",
      "lista_nomi_colonne_per_matrice_x_matrix Index(['orders', 'review_score', 'payment_value', 'attente-jours',\n",
      "       'decalage-prevision-jours', 'rapidite_livraison'],\n",
      "      dtype='object')\n",
      "TMP tmp.shape prima: (72694, 1)\n",
      "tmp.shape dopo: (72694, 1)\n",
      "\n",
      "ind 2\n",
      "tmp.shape prima: (72694, 1)\n",
      "tmp.shape dopo: (72694, 2)\n",
      "\n",
      "ind 3\n",
      "tmp.shape prima: (72694, 2)\n",
      "tmp.shape dopo: (72694, 3)\n",
      "\n",
      "ind 4\n",
      "tmp.shape prima: (72694, 3)\n",
      "tmp.shape dopo: (72694, 4)\n",
      "\n",
      "ind 5\n",
      "tmp.shape prima: (72694, 4)\n",
      "tmp.shape dopo: (72694, 5)\n",
      "\n",
      "ind 6\n",
      "tmp.shape prima: (72694, 5)\n",
      "tmp.shape dopo: (72694, 6)\n",
      "x_matrix.shape: (72694, 6)\n",
      "Shape after dropna: (72694, 6)\n",
      "pred [1 1 5 ... 3 6 6]\n",
      "ARI score entre le modèle 0 (période 02-01-2017 --- 02-01-2018) et le modèle M8 (période 30-08-2017 --- 30-08-2018) : 0.805\n",
      "\n",
      "[1, 0.8714986678709244, 0.8881200762283435, 0.9374856670917472, 0.9373416177031928, 0.9080322305134377, 0.877378871498472, 0.8474467407614495, 0.8049989583990472]\n"
     ]
    }
   ],
   "source": [
    "ari = []\n",
    "\n",
    "for n_df in range(len(df_time_limits)):\n",
    "    n_clusters = 7\n",
    "\n",
    "    df_sur_periode = df_time_limits[n_df]\n",
    "    print('time_limits[n_df]', time_limits[n_df])\n",
    "    # ind_df =  df_time_limits.index(df)\n",
    "\n",
    "    df_commandes_stability \\\n",
    "        = df_sur_periode[['orders', 'review_score', 'payment_value',\n",
    "                          'attente-jours', 'decalage-prevision-jours',\n",
    "                          'rapidite_livraison']]\n",
    "\n",
    "    x_matrix, scaler, x_matrix_not_scaled = create_x_matrix_da_df(df_commandes_stability)\n",
    "\n",
    "    x_matrix = pd.DataFrame(x_matrix).dropna().to_numpy()\n",
    "\n",
    "    if n_df == 0:\n",
    "        model = KMeans(n_clusters=n_clusters,\n",
    "                       init='k-means++').fit(x_matrix)\n",
    "        print('model.labels', model.labels_)\n",
    "\n",
    "        scaler0 = scaler\n",
    "\n",
    "        ari.append(1)\n",
    "\n",
    "    else:\n",
    "        model2 = KMeans(n_clusters=n_clusters,\n",
    "                        init='k-means++').fit(x_matrix)\n",
    "        labels_true = model2.labels_\n",
    "        pred = model.predict(x_matrix)\n",
    "        # labels_pred = pred.labels_\n",
    "        print('pred', pred)\n",
    "\n",
    "        ari_n = adjusted_rand_score(labels_true, pred)\n",
    "        ari.append(ari_n)\n",
    "\n",
    "        now_ts = datetime.datetime.strptime(\"2018-09-03 23:59:00\",\n",
    "                                            \"%Y-%m-%d %H:%M:%S\")\n",
    "        # fin du jour de la derniere commande livrée\n",
    "        data_1 = datetime.datetime.strptime(str(time_limits[0][0]),\n",
    "                                            \"%Y-%m-%d %H:%M:%S\")\n",
    "        data_1 = data_1.strftime('%d-%m-%Y')\n",
    "        data_2 = datetime.datetime.strptime(str(time_limits[0][1]),\n",
    "                                            \"%Y-%m-%d %H:%M:%S\")\n",
    "        # fin du jour de la derniere commande livrée\n",
    "        data_2 = data_2.strftime('%d-%m-%Y')\n",
    "        data_3 = datetime.datetime.strptime(str(time_limits[n_df][0]),\n",
    "                                            \"%Y-%m-%d %H:%M:%S\")\n",
    "        data_3 = data_3.strftime('%d-%m-%Y')\n",
    "        data_4 = datetime.datetime.strptime(str(time_limits[n_df][1]),\n",
    "                                            \"%Y-%m-%d %H:%M:%S\")\n",
    "        # fin du jour de la derniere commande livrée\n",
    "        data_4 = data_4.strftime('%d-%m-%Y')\n",
    "\n",
    "        print(f'ARI score entre le modèle 0 (période %s --- %s) '\n",
    "              f'et le modèle M{+n_df} (période %s --- %s) : %.3f\\n'\n",
    "              % (data_1, data_2, data_3, data_4, ari_n))\n",
    "\n",
    "    print(ari)\n"
   ],
   "metadata": {
    "collapsed": false,
    "pycharm": {
     "name": "#%%\n"
    }
   }
  },
  {
   "cell_type": "markdown",
   "source": [
    "# Plot\n"
   ],
   "metadata": {
    "collapsed": false,
    "pycharm": {
     "name": "#%% md\n"
    }
   }
  },
  {
   "cell_type": "code",
   "execution_count": 221,
   "outputs": [
    {
     "data": {
      "text/plain": "<Figure size 432x288 with 1 Axes>",
      "image/png": "[encoded data removed]"
     },
     "metadata": {
      "needs_background": "light"
     },
     "output_type": "display_data"
    }
   ],
   "source": [
    "# ari = [1, 0.8202653224199385, 0.8416286144334483, 0.7894026408170359, 0.8742871351760084, 0.9488983261694727, 0.9261008104931284, 0.885678036573105, 0.8469975958807768]\n",
    "x = range(len(ari))\n",
    "\n",
    "plt.plot(x, ari)\n",
    "plt.grid()\n",
    "namefig = \"stabilite_%s.pdf\" % ( n_clusters )\n",
    "plt.savefig(namefig, bbox_inches='tight', pad_inches=1.5)  # pdf"
   ],
   "metadata": {
    "collapsed": false,
    "pycharm": {
     "name": "#%%\n"
    }
   }
  },
  {
   "cell_type": "code",
   "execution_count": 222,
   "outputs": [],
   "source": [
    "#Apres soutenance"
   ],
   "metadata": {
    "collapsed": false,
    "pycharm": {
     "name": "#%%\n"
    }
   }
  },
  {
   "cell_type": "code",
   "execution_count": 229,
   "outputs": [
    {
     "name": "stdout",
     "output_type": "stream",
     "text": [
      "time_limits[n_df] [Timestamp('2017-01-02 21:15:19'), Timestamp('2018-01-02 21:15:19')]\n",
      "lista_nomi_colonne_per_matrice_x_matrix Index(['orders', 'review_score', 'payment_value', 'attente-jours',\n",
      "       'decalage-prevision-jours', 'rapidite_livraison'],\n",
      "      dtype='object')\n",
      "TMP tmp.shape prima: (42556, 1)\n",
      "tmp.shape dopo: (42556, 1)\n",
      "\n",
      "ind 2\n",
      "tmp.shape prima: (42556, 1)\n",
      "tmp.shape dopo: (42556, 2)\n",
      "\n",
      "ind 3\n",
      "tmp.shape prima: (42556, 2)\n",
      "tmp.shape dopo: (42556, 3)\n",
      "\n",
      "ind 4\n",
      "tmp.shape prima: (42556, 3)\n",
      "tmp.shape dopo: (42556, 4)\n",
      "\n",
      "ind 5\n",
      "tmp.shape prima: (42556, 4)\n",
      "tmp.shape dopo: (42556, 5)\n",
      "\n",
      "ind 6\n",
      "tmp.shape prima: (42556, 5)\n",
      "tmp.shape dopo: (42556, 6)\n",
      "x_matrix.shape: (42556, 6)\n",
      "Shape after dropna: (42556, 6)\n",
      "model.labels [3 1 3 ... 3 1 4]\n",
      "[1]\n",
      "time_limits[n_df] [Timestamp('2017-02-01 21:15:19'), Timestamp('2018-02-01 21:15:19')]\n",
      "lista_nomi_colonne_per_matrice_x_matrix Index(['orders', 'review_score', 'payment_value', 'attente-jours',\n",
      "       'decalage-prevision-jours', 'rapidite_livraison'],\n",
      "      dtype='object')\n",
      "TMP tmp.shape prima: (48637, 1)\n",
      "tmp.shape dopo: (48637, 1)\n",
      "\n",
      "ind 2\n",
      "tmp.shape prima: (48637, 1)\n",
      "tmp.shape dopo: (48637, 2)\n",
      "\n",
      "ind 3\n",
      "tmp.shape prima: (48637, 2)\n",
      "tmp.shape dopo: (48637, 3)\n",
      "\n",
      "ind 4\n",
      "tmp.shape prima: (48637, 3)\n",
      "tmp.shape dopo: (48637, 4)\n",
      "\n",
      "ind 5\n",
      "tmp.shape prima: (48637, 4)\n",
      "tmp.shape dopo: (48637, 5)\n",
      "\n",
      "ind 6\n",
      "tmp.shape prima: (48637, 5)\n",
      "tmp.shape dopo: (48637, 6)\n",
      "x_matrix.shape: (48637, 6)\n",
      "Shape after dropna: (48637, 6)\n",
      "ARI score (concept 1) entre le modèle 0 (période 02-01-2017 --- 02-01-2018) et le modèle M1 (période 01-02-2017 --- 01-02-2018) : 0.873\n",
      "\n",
      "[1, 0.8732517256043684]\n",
      "time_limits[n_df] [Timestamp('2017-03-03 21:15:19'), Timestamp('2018-03-03 21:15:19')]\n",
      "lista_nomi_colonne_per_matrice_x_matrix Index(['orders', 'review_score', 'payment_value', 'attente-jours',\n",
      "       'decalage-prevision-jours', 'rapidite_livraison'],\n",
      "      dtype='object')\n",
      "TMP tmp.shape prima: (53695, 1)\n",
      "tmp.shape dopo: (53695, 1)\n",
      "\n",
      "ind 2\n",
      "tmp.shape prima: (53695, 1)\n",
      "tmp.shape dopo: (53695, 2)\n",
      "\n",
      "ind 3\n",
      "tmp.shape prima: (53695, 2)\n",
      "tmp.shape dopo: (53695, 3)\n",
      "\n",
      "ind 4\n",
      "tmp.shape prima: (53695, 3)\n",
      "tmp.shape dopo: (53695, 4)\n",
      "\n",
      "ind 5\n",
      "tmp.shape prima: (53695, 4)\n",
      "tmp.shape dopo: (53695, 5)\n",
      "\n",
      "ind 6\n",
      "tmp.shape prima: (53695, 5)\n",
      "tmp.shape dopo: (53695, 6)\n",
      "x_matrix.shape: (53695, 6)\n",
      "Shape after dropna: (53695, 6)\n",
      "ARI score (concept 1) entre le modèle 0 (période 02-01-2017 --- 02-01-2018) et le modèle M2 (période 03-03-2017 --- 03-03-2018) : 0.889\n",
      "\n",
      "[1, 0.8732517256043684, 0.8892500910180371]\n",
      "time_limits[n_df] [Timestamp('2017-04-02 21:15:19'), Timestamp('2018-04-02 21:15:19')]\n",
      "lista_nomi_colonne_per_matrice_x_matrix Index(['orders', 'review_score', 'payment_value', 'attente-jours',\n",
      "       'decalage-prevision-jours', 'rapidite_livraison'],\n",
      "      dtype='object')\n",
      "TMP tmp.shape prima: (57946, 1)\n",
      "tmp.shape dopo: (57946, 1)\n",
      "\n",
      "ind 2\n",
      "tmp.shape prima: (57946, 1)\n",
      "tmp.shape dopo: (57946, 2)\n",
      "\n",
      "ind 3\n",
      "tmp.shape prima: (57946, 2)\n",
      "tmp.shape dopo: (57946, 3)\n",
      "\n",
      "ind 4\n",
      "tmp.shape prima: (57946, 3)\n",
      "tmp.shape dopo: (57946, 4)\n",
      "\n",
      "ind 5\n",
      "tmp.shape prima: (57946, 4)\n",
      "tmp.shape dopo: (57946, 5)\n",
      "\n",
      "ind 6\n",
      "tmp.shape prima: (57946, 5)\n",
      "tmp.shape dopo: (57946, 6)\n",
      "x_matrix.shape: (57946, 6)\n",
      "Shape after dropna: (57946, 6)\n",
      "ARI score (concept 1) entre le modèle 0 (période 02-01-2017 --- 02-01-2018) et le modèle M3 (période 02-04-2017 --- 02-04-2018) : 0.932\n",
      "\n",
      "[1, 0.8732517256043684, 0.8892500910180371, 0.932467045740264]\n",
      "time_limits[n_df] [Timestamp('2017-05-02 21:15:19'), Timestamp('2018-05-02 21:15:19')]\n",
      "lista_nomi_colonne_per_matrice_x_matrix Index(['orders', 'review_score', 'payment_value', 'attente-jours',\n",
      "       'decalage-prevision-jours', 'rapidite_livraison'],\n",
      "      dtype='object')\n",
      "TMP tmp.shape prima: (62328, 1)\n",
      "tmp.shape dopo: (62328, 1)\n",
      "\n",
      "ind 2\n",
      "tmp.shape prima: (62328, 1)\n",
      "tmp.shape dopo: (62328, 2)\n",
      "\n",
      "ind 3\n",
      "tmp.shape prima: (62328, 2)\n",
      "tmp.shape dopo: (62328, 3)\n",
      "\n",
      "ind 4\n",
      "tmp.shape prima: (62328, 3)\n",
      "tmp.shape dopo: (62328, 4)\n",
      "\n",
      "ind 5\n",
      "tmp.shape prima: (62328, 4)\n",
      "tmp.shape dopo: (62328, 5)\n",
      "\n",
      "ind 6\n",
      "tmp.shape prima: (62328, 5)\n",
      "tmp.shape dopo: (62328, 6)\n",
      "x_matrix.shape: (62328, 6)\n",
      "Shape after dropna: (62328, 6)\n",
      "ARI score (concept 1) entre le modèle 0 (période 02-01-2017 --- 02-01-2018) et le modèle M4 (période 02-05-2017 --- 02-05-2018) : 0.931\n",
      "\n",
      "[1, 0.8732517256043684, 0.8892500910180371, 0.932467045740264, 0.9308071359217888]\n",
      "time_limits[n_df] [Timestamp('2017-06-01 21:15:19'), Timestamp('2018-06-01 21:15:19')]\n",
      "lista_nomi_colonne_per_matrice_x_matrix Index(['orders', 'review_score', 'payment_value', 'attente-jours',\n",
      "       'decalage-prevision-jours', 'rapidite_livraison'],\n",
      "      dtype='object')\n",
      "TMP tmp.shape prima: (65245, 1)\n",
      "tmp.shape dopo: (65245, 1)\n",
      "\n",
      "ind 2\n",
      "tmp.shape prima: (65245, 1)\n",
      "tmp.shape dopo: (65245, 2)\n",
      "\n",
      "ind 3\n",
      "tmp.shape prima: (65245, 2)\n",
      "tmp.shape dopo: (65245, 3)\n",
      "\n",
      "ind 4\n",
      "tmp.shape prima: (65245, 3)\n",
      "tmp.shape dopo: (65245, 4)\n",
      "\n",
      "ind 5\n",
      "tmp.shape prima: (65245, 4)\n",
      "tmp.shape dopo: (65245, 5)\n",
      "\n",
      "ind 6\n",
      "tmp.shape prima: (65245, 5)\n",
      "tmp.shape dopo: (65245, 6)\n",
      "x_matrix.shape: (65245, 6)\n",
      "Shape after dropna: (65245, 6)\n",
      "ARI score (concept 1) entre le modèle 0 (période 02-01-2017 --- 02-01-2018) et le modèle M5 (période 01-06-2017 --- 01-06-2018) : 0.905\n",
      "\n",
      "[1, 0.8732517256043684, 0.8892500910180371, 0.932467045740264, 0.9308071359217888, 0.905010373684522]\n",
      "time_limits[n_df] [Timestamp('2017-07-01 21:15:19'), Timestamp('2018-07-01 21:15:19')]\n",
      "lista_nomi_colonne_per_matrice_x_matrix Index(['orders', 'review_score', 'payment_value', 'attente-jours',\n",
      "       'decalage-prevision-jours', 'rapidite_livraison'],\n",
      "      dtype='object')\n",
      "TMP tmp.shape prima: (68168, 1)\n",
      "tmp.shape dopo: (68168, 1)\n",
      "\n",
      "ind 2\n",
      "tmp.shape prima: (68168, 1)\n",
      "tmp.shape dopo: (68168, 2)\n",
      "\n",
      "ind 3\n",
      "tmp.shape prima: (68168, 2)\n",
      "tmp.shape dopo: (68168, 3)\n",
      "\n",
      "ind 4\n",
      "tmp.shape prima: (68168, 3)\n",
      "tmp.shape dopo: (68168, 4)\n",
      "\n",
      "ind 5\n",
      "tmp.shape prima: (68168, 4)\n",
      "tmp.shape dopo: (68168, 5)\n",
      "\n",
      "ind 6\n",
      "tmp.shape prima: (68168, 5)\n",
      "tmp.shape dopo: (68168, 6)\n",
      "x_matrix.shape: (68168, 6)\n",
      "Shape after dropna: (68168, 6)\n",
      "ARI score (concept 1) entre le modèle 0 (période 02-01-2017 --- 02-01-2018) et le modèle M6 (période 01-07-2017 --- 01-07-2018) : 0.872\n",
      "\n",
      "[1, 0.8732517256043684, 0.8892500910180371, 0.932467045740264, 0.9308071359217888, 0.905010373684522, 0.872447542917703]\n",
      "time_limits[n_df] [Timestamp('2017-07-31 21:15:19'), Timestamp('2018-07-31 21:15:19')]\n",
      "lista_nomi_colonne_per_matrice_x_matrix Index(['orders', 'review_score', 'payment_value', 'attente-jours',\n",
      "       'decalage-prevision-jours', 'rapidite_livraison'],\n",
      "      dtype='object')\n",
      "TMP tmp.shape prima: (70336, 1)\n",
      "tmp.shape dopo: (70336, 1)\n",
      "\n",
      "ind 2\n",
      "tmp.shape prima: (70336, 1)\n",
      "tmp.shape dopo: (70336, 2)\n",
      "\n",
      "ind 3\n",
      "tmp.shape prima: (70336, 2)\n",
      "tmp.shape dopo: (70336, 3)\n",
      "\n",
      "ind 4\n",
      "tmp.shape prima: (70336, 3)\n",
      "tmp.shape dopo: (70336, 4)\n",
      "\n",
      "ind 5\n",
      "tmp.shape prima: (70336, 4)\n",
      "tmp.shape dopo: (70336, 5)\n",
      "\n",
      "ind 6\n",
      "tmp.shape prima: (70336, 5)\n",
      "tmp.shape dopo: (70336, 6)\n",
      "x_matrix.shape: (70336, 6)\n",
      "Shape after dropna: (70336, 6)\n",
      "ARI score (concept 1) entre le modèle 0 (période 02-01-2017 --- 02-01-2018) et le modèle M7 (période 31-07-2017 --- 31-07-2018) : 0.846\n",
      "\n",
      "[1, 0.8732517256043684, 0.8892500910180371, 0.932467045740264, 0.9308071359217888, 0.905010373684522, 0.872447542917703, 0.8456719807354313]\n",
      "time_limits[n_df] [Timestamp('2017-08-30 21:15:19'), Timestamp('2018-08-30 21:15:19')]\n",
      "lista_nomi_colonne_per_matrice_x_matrix Index(['orders', 'review_score', 'payment_value', 'attente-jours',\n",
      "       'decalage-prevision-jours', 'rapidite_livraison'],\n",
      "      dtype='object')\n",
      "TMP tmp.shape prima: (72694, 1)\n",
      "tmp.shape dopo: (72694, 1)\n",
      "\n",
      "ind 2\n",
      "tmp.shape prima: (72694, 1)\n",
      "tmp.shape dopo: (72694, 2)\n",
      "\n",
      "ind 3\n",
      "tmp.shape prima: (72694, 2)\n",
      "tmp.shape dopo: (72694, 3)\n",
      "\n",
      "ind 4\n",
      "tmp.shape prima: (72694, 3)\n",
      "tmp.shape dopo: (72694, 4)\n",
      "\n",
      "ind 5\n",
      "tmp.shape prima: (72694, 4)\n",
      "tmp.shape dopo: (72694, 5)\n",
      "\n",
      "ind 6\n",
      "tmp.shape prima: (72694, 5)\n",
      "tmp.shape dopo: (72694, 6)\n",
      "x_matrix.shape: (72694, 6)\n",
      "Shape after dropna: (72694, 6)\n",
      "ARI score (concept 1) entre le modèle 0 (période 02-01-2017 --- 02-01-2018) et le modèle M8 (période 30-08-2017 --- 30-08-2018) : 0.802\n",
      "\n",
      "[1, 0.8732517256043684, 0.8892500910180371, 0.932467045740264, 0.9308071359217888, 0.905010373684522, 0.872447542917703, 0.8456719807354313, 0.8018340850112041]\n"
     ]
    }
   ],
   "source": [
    "ari1 = []\n",
    "\n",
    "for n_df in range(len(df_time_limits)):\n",
    "    n_clusters = 7\n",
    "\n",
    "    df_sur_periode = df_time_limits[n_df]\n",
    "    print('time_limits[n_df]', time_limits[n_df])\n",
    "    # ind_df =  df_time_limits.index(df)\n",
    "\n",
    "    df_commandes_stability \\\n",
    "        = df_sur_periode[['orders', 'review_score', 'payment_value',\n",
    "                          'attente-jours', 'decalage-prevision-jours',\n",
    "                          'rapidite_livraison']]\n",
    "\n",
    "    x_matrix, scaler, x_matrix_not_scaled \\\n",
    "        = create_x_matrix_da_df(df_commandes_stability)\n",
    "\n",
    "    x_matrix = pd.DataFrame(x_matrix).dropna().to_numpy()\n",
    "\n",
    "    if n_df == 0:\n",
    "        model = KMeans(n_clusters=n_clusters,\n",
    "                       init='k-means++').fit(x_matrix)\n",
    "        print('model.labels', model.labels_)\n",
    "\n",
    "        scaler0 = scaler\n",
    "\n",
    "        ari1.append(1)\n",
    "\n",
    "    else:\n",
    "        model2 = KMeans(n_clusters=n_clusters,\n",
    "                        init='k-means++').fit(x_matrix)\n",
    "        labels_true = model2.labels_\n",
    "        pred1 = model.predict(x_matrix)\n",
    "        # labels_pred1 = pred1.labels_\n",
    "        ari_n1 = adjusted_rand_score(labels_true, pred1)\n",
    "        ari1.append(ari_n1)\n",
    "\n",
    "        now_ts = datetime.datetime.strptime(\"2018-09-03 23:59:00\",\n",
    "                                            \"%Y-%m-%d %H:%M:%S\")\n",
    "        # fin du jour de la derniere commande livrée\n",
    "        data_1 = datetime.datetime.strptime(str(time_limits[0][0]),\n",
    "                                            \"%Y-%m-%d %H:%M:%S\")\n",
    "        data_1 = data_1.strftime('%d-%m-%Y')\n",
    "        data_2 = datetime.datetime.strptime(str(time_limits[0][1]),\n",
    "                                            \"%Y-%m-%d %H:%M:%S\")\n",
    "        # fin du jour de la derniere commande livrée\n",
    "        data_2 = data_2.strftime('%d-%m-%Y')\n",
    "        data_3 = datetime.datetime.strptime(str(time_limits[n_df][0]),\n",
    "                                            \"%Y-%m-%d %H:%M:%S\")\n",
    "        data_3 = data_3.strftime('%d-%m-%Y')\n",
    "        data_4 = datetime.datetime.strptime(str(time_limits[n_df][1]),\n",
    "                                            \"%Y-%m-%d %H:%M:%S\")\n",
    "        # fin du jour de la derniere commande livrée\n",
    "        data_4 = data_4.strftime('%d-%m-%Y')\n",
    "\n",
    "        print(f'ARI score (concept 1) entre le modèle 0 (période %s --- %s) '\n",
    "              f'et le modèle M{+n_df} (période %s --- %s) : %.3f\\n'\n",
    "              % (data_1, data_2, data_3, data_4, ari_n1))\n",
    "\n",
    "    print(ari1)"
   ],
   "metadata": {
    "collapsed": false,
    "pycharm": {
     "name": "#%%\n"
    }
   }
  },
  {
   "cell_type": "code",
   "execution_count": 230,
   "outputs": [
    {
     "data": {
      "text/plain": "[<matplotlib.lines.Line2D at 0x143742f70>]"
     },
     "execution_count": 230,
     "metadata": {},
     "output_type": "execute_result"
    },
    {
     "data": {
      "text/plain": "<Figure size 432x288 with 1 Axes>",
      "image/png": "[encoded data removed]"
     },
     "metadata": {
      "needs_background": "light"
     },
     "output_type": "display_data"
    }
   ],
   "source": [
    "x = range(len(ari1))\n",
    "\n",
    "plt.plot(x, ari1)\n",
    "\n",
    "# namefig = \"stabilite_%s.pdf\" % ( n_clusters )\n",
    "# plt.savefig(namefig, bbox_inches='tight', pad_inches=1.5)  # pdf\n"
   ],
   "metadata": {
    "collapsed": false,
    "pycharm": {
     "name": "#%%\n"
    }
   }
  },
  {
   "cell_type": "code",
   "execution_count": 225,
   "outputs": [
    {
     "name": "stdout",
     "output_type": "stream",
     "text": [
      "time_limits[n_df] [Timestamp('2017-01-02 21:15:19'), Timestamp('2018-01-02 21:15:19')]\n",
      "lista_nomi_colonne_per_matrice_x_matrix Index(['orders', 'review_score', 'payment_value', 'attente-jours',\n",
      "       'decalage-prevision-jours', 'rapidite_livraison'],\n",
      "      dtype='object')\n",
      "TMP tmp.shape prima: (42556, 1)\n",
      "tmp.shape dopo: (42556, 1)\n",
      "\n",
      "ind 2\n",
      "tmp.shape prima: (42556, 1)\n",
      "tmp.shape dopo: (42556, 2)\n",
      "\n",
      "ind 3\n",
      "tmp.shape prima: (42556, 2)\n",
      "tmp.shape dopo: (42556, 3)\n",
      "\n",
      "ind 4\n",
      "tmp.shape prima: (42556, 3)\n",
      "tmp.shape dopo: (42556, 4)\n",
      "\n",
      "ind 5\n",
      "tmp.shape prima: (42556, 4)\n",
      "tmp.shape dopo: (42556, 5)\n",
      "\n",
      "ind 6\n",
      "tmp.shape prima: (42556, 5)\n",
      "tmp.shape dopo: (42556, 6)\n",
      "x_matrix.shape: (42556, 6)\n",
      "Shape after dropna: (42556, 6)\n",
      "model.labels [1 5 1 ... 1 5 0]\n",
      "[]\n",
      "time_limits[n_df] [Timestamp('2017-02-01 21:15:19'), Timestamp('2018-02-01 21:15:19')]\n",
      "lista_nomi_colonne_per_matrice_x_matrix Index(['orders', 'review_score', 'payment_value', 'attente-jours',\n",
      "       'decalage-prevision-jours', 'rapidite_livraison'],\n",
      "      dtype='object')\n",
      "TMP tmp.shape prima: (48637, 1)\n",
      "tmp.shape dopo: (48637, 1)\n",
      "\n",
      "ind 2\n",
      "tmp.shape prima: (48637, 1)\n",
      "tmp.shape dopo: (48637, 2)\n",
      "\n",
      "ind 3\n",
      "tmp.shape prima: (48637, 2)\n",
      "tmp.shape dopo: (48637, 3)\n",
      "\n",
      "ind 4\n",
      "tmp.shape prima: (48637, 3)\n",
      "tmp.shape dopo: (48637, 4)\n",
      "\n",
      "ind 5\n",
      "tmp.shape prima: (48637, 4)\n",
      "tmp.shape dopo: (48637, 5)\n",
      "\n",
      "ind 6\n",
      "tmp.shape prima: (48637, 5)\n",
      "tmp.shape dopo: (48637, 6)\n",
      "x_matrix.shape: (48637, 6)\n",
      "Shape after dropna: (48637, 6)\n"
     ]
    },
    {
     "ename": "ValueError",
     "evalue": "Input contains NaN, infinity or a value too large for dtype('float64').",
     "output_type": "error",
     "traceback": [
      "\u001B[0;31m---------------------------------------------------------------------------\u001B[0m",
      "\u001B[0;31mValueError\u001B[0m                                Traceback (most recent call last)",
      "Input \u001B[0;32mIn [225]\u001B[0m, in \u001B[0;36m<cell line: 3>\u001B[0;34m()\u001B[0m\n\u001B[1;32m     29\u001B[0m model2 \u001B[38;5;241m=\u001B[39m KMeans(n_clusters\u001B[38;5;241m=\u001B[39mn_clusters,\n\u001B[1;32m     30\u001B[0m                 init\u001B[38;5;241m=\u001B[39m\u001B[38;5;124m'\u001B[39m\u001B[38;5;124mk-means++\u001B[39m\u001B[38;5;124m'\u001B[39m)\u001B[38;5;241m.\u001B[39mfit(x_matrix)\n\u001B[1;32m     31\u001B[0m labels_true \u001B[38;5;241m=\u001B[39m model2\u001B[38;5;241m.\u001B[39mlabels_\n\u001B[0;32m---> 33\u001B[0m pred2 \u001B[38;5;241m=\u001B[39m \u001B[43mmodel\u001B[49m\u001B[38;5;241;43m.\u001B[39;49m\u001B[43mpredict\u001B[49m\u001B[43m(\u001B[49m\u001B[43mscaler0\u001B[49m\u001B[38;5;241;43m.\u001B[39;49m\u001B[43mtransform\u001B[49m\u001B[43m(\u001B[49m\u001B[43mx_matrix_not_scaled\u001B[49m\u001B[43m)\u001B[49m\u001B[43m)\u001B[49m\n\u001B[1;32m     34\u001B[0m \u001B[38;5;66;03m# labels_pred = pred.labels_\u001B[39;00m\n\u001B[1;32m     35\u001B[0m \u001B[38;5;28mprint\u001B[39m(\u001B[38;5;124m'\u001B[39m\u001B[38;5;124mpred\u001B[39m\u001B[38;5;124m'\u001B[39m, pred)\n",
      "File \u001B[0;32m~/.conda/envs/pycharm/lib/python3.9/site-packages/sklearn/cluster/_kmeans.py:1330\u001B[0m, in \u001B[0;36mKMeans.predict\u001B[0;34m(self, X, sample_weight)\u001B[0m\n\u001B[1;32m   1308\u001B[0m \u001B[38;5;124;03m\"\"\"Predict the closest cluster each sample in X belongs to.\u001B[39;00m\n\u001B[1;32m   1309\u001B[0m \n\u001B[1;32m   1310\u001B[0m \u001B[38;5;124;03mIn the vector quantization literature, `cluster_centers_` is called\u001B[39;00m\n\u001B[0;32m   (...)\u001B[0m\n\u001B[1;32m   1326\u001B[0m \u001B[38;5;124;03m    Index of the cluster each sample belongs to.\u001B[39;00m\n\u001B[1;32m   1327\u001B[0m \u001B[38;5;124;03m\"\"\"\u001B[39;00m\n\u001B[1;32m   1328\u001B[0m check_is_fitted(\u001B[38;5;28mself\u001B[39m)\n\u001B[0;32m-> 1330\u001B[0m X \u001B[38;5;241m=\u001B[39m \u001B[38;5;28;43mself\u001B[39;49m\u001B[38;5;241;43m.\u001B[39;49m\u001B[43m_check_test_data\u001B[49m\u001B[43m(\u001B[49m\u001B[43mX\u001B[49m\u001B[43m)\u001B[49m\n\u001B[1;32m   1331\u001B[0m x_squared_norms \u001B[38;5;241m=\u001B[39m row_norms(X, squared\u001B[38;5;241m=\u001B[39m\u001B[38;5;28;01mTrue\u001B[39;00m)\n\u001B[1;32m   1332\u001B[0m sample_weight \u001B[38;5;241m=\u001B[39m _check_sample_weight(sample_weight, X, dtype\u001B[38;5;241m=\u001B[39mX\u001B[38;5;241m.\u001B[39mdtype)\n",
      "File \u001B[0;32m~/.conda/envs/pycharm/lib/python3.9/site-packages/sklearn/cluster/_kmeans.py:1007\u001B[0m, in \u001B[0;36mKMeans._check_test_data\u001B[0;34m(self, X)\u001B[0m\n\u001B[1;32m   1006\u001B[0m \u001B[38;5;28;01mdef\u001B[39;00m \u001B[38;5;21m_check_test_data\u001B[39m(\u001B[38;5;28mself\u001B[39m, X):\n\u001B[0;32m-> 1007\u001B[0m     X \u001B[38;5;241m=\u001B[39m \u001B[38;5;28;43mself\u001B[39;49m\u001B[38;5;241;43m.\u001B[39;49m\u001B[43m_validate_data\u001B[49m\u001B[43m(\u001B[49m\n\u001B[1;32m   1008\u001B[0m \u001B[43m        \u001B[49m\u001B[43mX\u001B[49m\u001B[43m,\u001B[49m\n\u001B[1;32m   1009\u001B[0m \u001B[43m        \u001B[49m\u001B[43maccept_sparse\u001B[49m\u001B[38;5;241;43m=\u001B[39;49m\u001B[38;5;124;43m\"\u001B[39;49m\u001B[38;5;124;43mcsr\u001B[39;49m\u001B[38;5;124;43m\"\u001B[39;49m\u001B[43m,\u001B[49m\n\u001B[1;32m   1010\u001B[0m \u001B[43m        \u001B[49m\u001B[43mreset\u001B[49m\u001B[38;5;241;43m=\u001B[39;49m\u001B[38;5;28;43;01mFalse\u001B[39;49;00m\u001B[43m,\u001B[49m\n\u001B[1;32m   1011\u001B[0m \u001B[43m        \u001B[49m\u001B[43mdtype\u001B[49m\u001B[38;5;241;43m=\u001B[39;49m\u001B[43m[\u001B[49m\u001B[43mnp\u001B[49m\u001B[38;5;241;43m.\u001B[39;49m\u001B[43mfloat64\u001B[49m\u001B[43m,\u001B[49m\u001B[43m \u001B[49m\u001B[43mnp\u001B[49m\u001B[38;5;241;43m.\u001B[39;49m\u001B[43mfloat32\u001B[49m\u001B[43m]\u001B[49m\u001B[43m,\u001B[49m\n\u001B[1;32m   1012\u001B[0m \u001B[43m        \u001B[49m\u001B[43morder\u001B[49m\u001B[38;5;241;43m=\u001B[39;49m\u001B[38;5;124;43m\"\u001B[39;49m\u001B[38;5;124;43mC\u001B[39;49m\u001B[38;5;124;43m\"\u001B[39;49m\u001B[43m,\u001B[49m\n\u001B[1;32m   1013\u001B[0m \u001B[43m        \u001B[49m\u001B[43maccept_large_sparse\u001B[49m\u001B[38;5;241;43m=\u001B[39;49m\u001B[38;5;28;43;01mFalse\u001B[39;49;00m\u001B[43m,\u001B[49m\n\u001B[1;32m   1014\u001B[0m \u001B[43m    \u001B[49m\u001B[43m)\u001B[49m\n\u001B[1;32m   1015\u001B[0m     \u001B[38;5;28;01mreturn\u001B[39;00m X\n",
      "File \u001B[0;32m~/.conda/envs/pycharm/lib/python3.9/site-packages/sklearn/base.py:566\u001B[0m, in \u001B[0;36mBaseEstimator._validate_data\u001B[0;34m(self, X, y, reset, validate_separately, **check_params)\u001B[0m\n\u001B[1;32m    564\u001B[0m     \u001B[38;5;28;01mraise\u001B[39;00m \u001B[38;5;167;01mValueError\u001B[39;00m(\u001B[38;5;124m\"\u001B[39m\u001B[38;5;124mValidation should be done on X, y or both.\u001B[39m\u001B[38;5;124m\"\u001B[39m)\n\u001B[1;32m    565\u001B[0m \u001B[38;5;28;01melif\u001B[39;00m \u001B[38;5;129;01mnot\u001B[39;00m no_val_X \u001B[38;5;129;01mand\u001B[39;00m no_val_y:\n\u001B[0;32m--> 566\u001B[0m     X \u001B[38;5;241m=\u001B[39m \u001B[43mcheck_array\u001B[49m\u001B[43m(\u001B[49m\u001B[43mX\u001B[49m\u001B[43m,\u001B[49m\u001B[43m \u001B[49m\u001B[38;5;241;43m*\u001B[39;49m\u001B[38;5;241;43m*\u001B[39;49m\u001B[43mcheck_params\u001B[49m\u001B[43m)\u001B[49m\n\u001B[1;32m    567\u001B[0m     out \u001B[38;5;241m=\u001B[39m X\n\u001B[1;32m    568\u001B[0m \u001B[38;5;28;01melif\u001B[39;00m no_val_X \u001B[38;5;129;01mand\u001B[39;00m \u001B[38;5;129;01mnot\u001B[39;00m no_val_y:\n",
      "File \u001B[0;32m~/.conda/envs/pycharm/lib/python3.9/site-packages/sklearn/utils/validation.py:800\u001B[0m, in \u001B[0;36mcheck_array\u001B[0;34m(array, accept_sparse, accept_large_sparse, dtype, order, copy, force_all_finite, ensure_2d, allow_nd, ensure_min_samples, ensure_min_features, estimator)\u001B[0m\n\u001B[1;32m    794\u001B[0m         \u001B[38;5;28;01mraise\u001B[39;00m \u001B[38;5;167;01mValueError\u001B[39;00m(\n\u001B[1;32m    795\u001B[0m             \u001B[38;5;124m\"\u001B[39m\u001B[38;5;124mFound array with dim \u001B[39m\u001B[38;5;132;01m%d\u001B[39;00m\u001B[38;5;124m. \u001B[39m\u001B[38;5;132;01m%s\u001B[39;00m\u001B[38;5;124m expected <= 2.\u001B[39m\u001B[38;5;124m\"\u001B[39m\n\u001B[1;32m    796\u001B[0m             \u001B[38;5;241m%\u001B[39m (array\u001B[38;5;241m.\u001B[39mndim, estimator_name)\n\u001B[1;32m    797\u001B[0m         )\n\u001B[1;32m    799\u001B[0m     \u001B[38;5;28;01mif\u001B[39;00m force_all_finite:\n\u001B[0;32m--> 800\u001B[0m         \u001B[43m_assert_all_finite\u001B[49m\u001B[43m(\u001B[49m\u001B[43marray\u001B[49m\u001B[43m,\u001B[49m\u001B[43m \u001B[49m\u001B[43mallow_nan\u001B[49m\u001B[38;5;241;43m=\u001B[39;49m\u001B[43mforce_all_finite\u001B[49m\u001B[43m \u001B[49m\u001B[38;5;241;43m==\u001B[39;49m\u001B[43m \u001B[49m\u001B[38;5;124;43m\"\u001B[39;49m\u001B[38;5;124;43mallow-nan\u001B[39;49m\u001B[38;5;124;43m\"\u001B[39;49m\u001B[43m)\u001B[49m\n\u001B[1;32m    802\u001B[0m \u001B[38;5;28;01mif\u001B[39;00m ensure_min_samples \u001B[38;5;241m>\u001B[39m \u001B[38;5;241m0\u001B[39m:\n\u001B[1;32m    803\u001B[0m     n_samples \u001B[38;5;241m=\u001B[39m _num_samples(array)\n",
      "File \u001B[0;32m~/.conda/envs/pycharm/lib/python3.9/site-packages/sklearn/utils/validation.py:114\u001B[0m, in \u001B[0;36m_assert_all_finite\u001B[0;34m(X, allow_nan, msg_dtype)\u001B[0m\n\u001B[1;32m    107\u001B[0m     \u001B[38;5;28;01mif\u001B[39;00m (\n\u001B[1;32m    108\u001B[0m         allow_nan\n\u001B[1;32m    109\u001B[0m         \u001B[38;5;129;01mand\u001B[39;00m np\u001B[38;5;241m.\u001B[39misinf(X)\u001B[38;5;241m.\u001B[39many()\n\u001B[1;32m    110\u001B[0m         \u001B[38;5;129;01mor\u001B[39;00m \u001B[38;5;129;01mnot\u001B[39;00m allow_nan\n\u001B[1;32m    111\u001B[0m         \u001B[38;5;129;01mand\u001B[39;00m \u001B[38;5;129;01mnot\u001B[39;00m np\u001B[38;5;241m.\u001B[39misfinite(X)\u001B[38;5;241m.\u001B[39mall()\n\u001B[1;32m    112\u001B[0m     ):\n\u001B[1;32m    113\u001B[0m         type_err \u001B[38;5;241m=\u001B[39m \u001B[38;5;124m\"\u001B[39m\u001B[38;5;124minfinity\u001B[39m\u001B[38;5;124m\"\u001B[39m \u001B[38;5;28;01mif\u001B[39;00m allow_nan \u001B[38;5;28;01melse\u001B[39;00m \u001B[38;5;124m\"\u001B[39m\u001B[38;5;124mNaN, infinity\u001B[39m\u001B[38;5;124m\"\u001B[39m\n\u001B[0;32m--> 114\u001B[0m         \u001B[38;5;28;01mraise\u001B[39;00m \u001B[38;5;167;01mValueError\u001B[39;00m(\n\u001B[1;32m    115\u001B[0m             msg_err\u001B[38;5;241m.\u001B[39mformat(\n\u001B[1;32m    116\u001B[0m                 type_err, msg_dtype \u001B[38;5;28;01mif\u001B[39;00m msg_dtype \u001B[38;5;129;01mis\u001B[39;00m \u001B[38;5;129;01mnot\u001B[39;00m \u001B[38;5;28;01mNone\u001B[39;00m \u001B[38;5;28;01melse\u001B[39;00m X\u001B[38;5;241m.\u001B[39mdtype\n\u001B[1;32m    117\u001B[0m             )\n\u001B[1;32m    118\u001B[0m         )\n\u001B[1;32m    119\u001B[0m \u001B[38;5;66;03m# for object dtype data, we only check for NaNs (GH-13254)\u001B[39;00m\n\u001B[1;32m    120\u001B[0m \u001B[38;5;28;01melif\u001B[39;00m X\u001B[38;5;241m.\u001B[39mdtype \u001B[38;5;241m==\u001B[39m np\u001B[38;5;241m.\u001B[39mdtype(\u001B[38;5;124m\"\u001B[39m\u001B[38;5;124mobject\u001B[39m\u001B[38;5;124m\"\u001B[39m) \u001B[38;5;129;01mand\u001B[39;00m \u001B[38;5;129;01mnot\u001B[39;00m allow_nan:\n",
      "\u001B[0;31mValueError\u001B[0m: Input contains NaN, infinity or a value too large for dtype('float64')."
     ]
    }
   ],
   "source": [
    "ari2 = []\n",
    "\n",
    "for n_df in range(len(df_time_limits)):\n",
    "    n_clusters = 7\n",
    "\n",
    "    df_sur_periode = df_time_limits[n_df]\n",
    "    print('time_limits[n_df]', time_limits[n_df])\n",
    "    # ind_df =  df_time_limits.index(df)\n",
    "\n",
    "    df_commandes_stability \\\n",
    "        = df_sur_periode[['orders', 'review_score', 'payment_value',\n",
    "                          'attente-jours', 'decalage-prevision-jours',\n",
    "                          'rapidite_livraison']]\n",
    "\n",
    "    x_matrix, scaler, x_matrix_not_scaled = create_x_matrix_da_df(df_commandes_stability)\n",
    "\n",
    "    x_matrix = pd.DataFrame(x_matrix).dropna().to_numpy()\n",
    "\n",
    "    if n_df == 0:\n",
    "        model = KMeans(n_clusters=n_clusters,\n",
    "                       init='k-means++').fit(x_matrix)\n",
    "        print('model.labels', model.labels_)\n",
    "\n",
    "        scaler0 = scaler\n",
    "\n",
    "        ari.append(1)\n",
    "\n",
    "    else:\n",
    "        model2 = KMeans(n_clusters=n_clusters,\n",
    "                        init='k-means++').fit(x_matrix)\n",
    "        labels_true = model2.labels_\n",
    "\n",
    "        pred2 = model.predict(scaler0.transform(x_matrix_not_scaled))\n",
    "        # labels_pred = pred.labels_\n",
    "        print('pred', pred)\n",
    "\n",
    "        ari_n2 = adjusted_rand_score(labels_true, pred2)\n",
    "\n",
    "        ari2.append(ari_n2)\n",
    "\n",
    "        now_ts = datetime.datetime.strptime(\"2018-09-03 23:59:00\",\n",
    "                                            \"%Y-%m-%d %H:%M:%S\")\n",
    "        # fin du jour de la derniere commande livrée\n",
    "        data_1 = datetime.datetime.strptime(str(time_limits[0][0]),\n",
    "                                            \"%Y-%m-%d %H:%M:%S\")\n",
    "        data_1 = data_1.strftime('%d-%m-%Y')\n",
    "        data_2 = datetime.datetime.strptime(str(time_limits[0][1]),\n",
    "                                            \"%Y-%m-%d %H:%M:%S\")\n",
    "        # fin du jour de la derniere commande livrée\n",
    "        data_2 = data_2.strftime('%d-%m-%Y')\n",
    "        data_3 = datetime.datetime.strptime(str(time_limits[n_df][0]),\n",
    "                                            \"%Y-%m-%d %H:%M:%S\")\n",
    "        data_3 = data_3.strftime('%d-%m-%Y')\n",
    "        data_4 = datetime.datetime.strptime(str(time_limits[n_df][1]),\n",
    "                                            \"%Y-%m-%d %H:%M:%S\")\n",
    "        # fin du jour de la derniere commande livrée\n",
    "        data_4 = data_4.strftime('%d-%m-%Y')\n",
    "\n",
    "        print(f'ARI score (concept 2) entre le modèle 0 (période %s --- %s) '\n",
    "              f'et le modèle M{+n_df} (période %s --- %s) : %.3f\\n'\n",
    "              % (data_1, data_2, data_3, data_4, ari_n2))\n",
    "\n",
    "    print(ari2)"
   ],
   "metadata": {
    "collapsed": false,
    "pycharm": {
     "name": "#%%\n"
    }
   }
  },
  {
   "cell_type": "code",
   "execution_count": null,
   "outputs": [],
   "source": [
    "x = range(len(ari2))\n",
    "\n",
    "plt.plot(x, ari2)\n",
    "\n",
    "# namefig = \"stabilite_%s.pdf\" % ( n_clusters )\n",
    "# plt.savefig(namefig, bbox_inches='tight', pad_inches=1.5)  # pdf\n"
   ],
   "metadata": {
    "collapsed": false,
    "pycharm": {
     "name": "#%%\n"
    }
   }
  }
 ],
 "metadata": {
  "colab": {
   "name": "P5_01_nettoyage_et_preparation_df-verifie-15pourcent-numeri-ok.ipynb",
   "provenance": [],
   "collapsed_sections": [],
   "toc_visible": true
  },
  "kernelspec": {
   "display_name": "Python 3 (ipykernel)",
   "language": "python",
   "name": "python3"
  },
  "language_info": {
   "codemirror_mode": {
    "name": "ipython",
    "version": 3
   },
   "file_extension": ".py",
   "mimetype": "text/x-python",
   "name": "python",
   "nbconvert_exporter": "python",
   "pygments_lexer": "ipython3",
   "version": "3.9.7"
  }
 },
 "nbformat": 4,
 "nbformat_minor": 5
}